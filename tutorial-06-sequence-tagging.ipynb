{
 "cells": [
  {
   "cell_type": "code",
   "execution_count": 1,
   "metadata": {},
   "outputs": [],
   "source": [
    "%reload_ext autoreload\n",
    "%autoreload 2\n",
    "%matplotlib inline\n",
    "import os\n",
    "os.environ[\"CUDA_DEVICE_ORDER\"]=\"PCI_BUS_ID\";\n",
    "os.environ[\"CUDA_VISIBLE_DEVICES\"]=\"0\"; "
   ]
  },
  {
   "cell_type": "code",
   "execution_count": 2,
   "metadata": {},
   "outputs": [
    {
     "name": "stderr",
     "output_type": "stream",
     "text": [
      "Using TensorFlow backend.\n"
     ]
    }
   ],
   "source": [
    "import ktrain\n",
    "from ktrain import text"
   ]
  },
  {
   "cell_type": "markdown",
   "metadata": {},
   "source": [
    "# Sequence Tagging\n",
    "\n",
    "Sequence tagging (or sequence labeling) involves classifying words or sequences of words as representing some category or concept of interest.  One example of sequence tagging Named Entity Recognition (NER), where we classify words or sequences of words that represent some entity such as a person, organization, or location.  In this tutorial, we will show how to use *ktrain* to perform sequence tagging in four simple steps.\n",
    "\n",
    "## STEP 1: Load the Data\n",
    "\n",
    "The `entities_from_csv` function can be used to load tagged sentences from a CSV file (or similar formats such as tab-delimited).  We assume the CSV has at three columns where each row represents: 1) the ID of a sentence, 2) a word or token in the sentence, and 3) the label or tag associated with the word.  Here, we are using the Groningen Meaining Bank (GMB) corpus, which is available on Kaggle and can be [downloaded from here](https://www.kaggle.com/abhinavwalia95/entity-annotated-corpus). We will be using the file `ner_data.csv` and will load and preprocess it using the `entities_from_gmb` function.  The output is simlar to data-loading functions used in previous tutorials and includes the training set, validaton set, and an instance of `NERPreprocessor`.  We choose a maximum sequence size (i.e., `maxlen`) of 80 such that longer sentences will be truncated to this length and shorter sentences will be padded.  From the output, we see that the longest sentence is 104.  However, if plotting the distribution of sentence sizes, you will see that most sentences are shorter than 80.  So, we will keep `maxlen=80`."
   ]
  },
  {
   "cell_type": "code",
   "execution_count": 3,
   "metadata": {},
   "outputs": [
    {
     "name": "stdout",
     "output_type": "stream",
     "text": [
      "Number of sentences:  47959\n",
      "Number of words in the dataset:  35178\n",
      "Tags: ['B-org', 'B-tim', 'I-geo', 'B-art', 'B-geo', 'I-art', 'I-tim', 'B-eve', 'B-gpe', 'I-org', 'I-nat', 'B-nat', 'I-eve', 'O', 'I-gpe', 'I-per', 'B-per']\n",
      "Number of Labels:  17\n",
      "Longest sentence: 104 words\n"
     ]
    }
   ],
   "source": [
    "DATAFILE = '/home/amaiya/data/groningen_meaning_bank/ner_dataset.csv'\n",
    "(trn, val, preproc) = text.entities_from_gmb(DATAFILE,\n",
    "                                             sentence_column='Sentence #',\n",
    "                                             word_column='Word',\n",
    "                                             tag_column='Tag', \n",
    "                                             maxlen=80)"
   ]
  },
  {
   "cell_type": "code",
   "execution_count": 4,
   "metadata": {},
   "outputs": [
    {
     "name": "stdout",
     "output_type": "stream",
     "text": [
      "bilstm-crf: Bidirectional LSTM-CRF  (https://arxiv.org/abs/1508.01991)\n"
     ]
    }
   ],
   "source": [
    "text.print_sequence_taggers()"
   ]
  },
  {
   "cell_type": "code",
   "execution_count": 5,
   "metadata": {},
   "outputs": [],
   "source": [
    "model = text.sequence_tagger('bilstm-crf', preproc)"
   ]
  },
  {
   "cell_type": "code",
   "execution_count": 6,
   "metadata": {},
   "outputs": [],
   "source": [
    "learner = ktrain.get_learner(model, train_data=trn, val_data=val, batch_size=512)"
   ]
  },
  {
   "cell_type": "code",
   "execution_count": 7,
   "metadata": {},
   "outputs": [
    {
     "name": "stdout",
     "output_type": "stream",
     "text": [
      "simulating training for different learning rates... this may take a few moments...\n",
      "Epoch 1/3\n",
      "43163/43163 [==============================] - 42s 972us/step - loss: 2.9377 - crf_accuracy: 0.0075\n",
      "Epoch 2/3\n",
      "43163/43163 [==============================] - 39s 892us/step - loss: 0.7381 - crf_accuracy: 0.8245\n",
      "Epoch 3/3\n",
      " 9728/43163 [=====>........................] - ETA: 28s - loss: 18.6677 - crf_accuracy: 0.9039\n",
      "\n",
      "done.\n"
     ]
    },
    {
     "data": {
      "image/png": "[encoded data removed]",
      "text/plain": [
       "<Figure size 432x288 with 1 Axes>"
      ]
     },
     "metadata": {
      "needs_background": "light"
     },
     "output_type": "display_data"
    }
   ],
   "source": [
    "learner.lr_find(max_epochs=3, show_plot=True)"
   ]
  },
  {
   "cell_type": "code",
   "execution_count": 7,
   "metadata": {},
   "outputs": [
    {
     "name": "stdout",
     "output_type": "stream",
     "text": [
      "early_stopping automatically enabled at patience=5\n",
      "reduce_on_plateau automatically enabled at patience=2\n",
      "\n",
      "\n",
      "begin training using triangular learning rate policy with max lr of 0.01...\n",
      "Train on 43163 samples, validate on 4796 samples\n",
      "Epoch 1/1024\n",
      "43163/43163 [==============================] - 45s 1ms/step - loss: 0.3819 - crf_accuracy: 0.9115 - val_loss: 0.0618 - val_crf_accuracy: 0.9833\n",
      "Epoch 2/1024\n",
      "43163/43163 [==============================] - 41s 958us/step - loss: 0.0454 - crf_accuracy: 0.9871 - val_loss: 0.0366 - val_crf_accuracy: 0.9892\n",
      "Epoch 3/1024\n",
      "43163/43163 [==============================] - 41s 949us/step - loss: 0.0288 - crf_accuracy: 0.9912 - val_loss: 0.0307 - val_crf_accuracy: 0.9906\n",
      "Epoch 4/1024\n",
      "43163/43163 [==============================] - 41s 956us/step - loss: 0.0223 - crf_accuracy: 0.9927 - val_loss: 0.0282 - val_crf_accuracy: 0.9907\n",
      "Epoch 5/1024\n",
      "43163/43163 [==============================] - 41s 947us/step - loss: 0.0178 - crf_accuracy: 0.9937 - val_loss: 0.0262 - val_crf_accuracy: 0.9911\n",
      "Epoch 6/1024\n",
      "43163/43163 [==============================] - 40s 932us/step - loss: 0.0145 - crf_accuracy: 0.9942 - val_loss: 0.0257 - val_crf_accuracy: 0.9909\n",
      "Epoch 7/1024\n",
      "43163/43163 [==============================] - 40s 933us/step - loss: 0.0117 - crf_accuracy: 0.9947 - val_loss: 0.0248 - val_crf_accuracy: 0.9910\n",
      "Epoch 8/1024\n",
      "43163/43163 [==============================] - 40s 931us/step - loss: 0.0088 - crf_accuracy: 0.9953 - val_loss: 0.0239 - val_crf_accuracy: 0.9909\n",
      "Epoch 9/1024\n",
      "43163/43163 [==============================] - 41s 939us/step - loss: 0.0063 - crf_accuracy: 0.9956 - val_loss: 0.0235 - val_crf_accuracy: 0.9909\n",
      "Epoch 10/1024\n",
      "43163/43163 [==============================] - 40s 929us/step - loss: 0.0037 - crf_accuracy: 0.9960 - val_loss: 0.0236 - val_crf_accuracy: 0.9908\n",
      "Epoch 11/1024\n",
      "43163/43163 [==============================] - 40s 929us/step - loss: 0.0013 - crf_accuracy: 0.9963 - val_loss: 0.0224 - val_crf_accuracy: 0.9907\n",
      "Epoch 12/1024\n",
      "43163/43163 [==============================] - 41s 952us/step - loss: -0.0012 - crf_accuracy: 0.9965 - val_loss: 0.0217 - val_crf_accuracy: 0.9906\n",
      "Weights from best epoch have been loaded into model.\n"
     ]
    },
    {
     "data": {
      "text/plain": [
       "<keras.callbacks.History at 0x7f323e784ba8>"
      ]
     },
     "execution_count": 7,
     "metadata": {},
     "output_type": "execute_result"
    }
   ],
   "source": [
    "learner.autofit(0.01)"
   ]
  },
  {
   "cell_type": "code",
   "execution_count": 8,
   "metadata": {},
   "outputs": [
    {
     "name": "stdout",
     "output_type": "stream",
     "text": [
      "           precision    recall  f1-score   support\n",
      "\n",
      "      gpe       0.97      0.94      0.95      1613\n",
      "      art       0.36      0.13      0.19        39\n",
      "      geo       0.84      0.87      0.85      3831\n",
      "      tim       0.87      0.85      0.86      2030\n",
      "      org       0.71      0.66      0.69      1972\n",
      "      per       0.76      0.70      0.73      1720\n",
      "      eve       0.47      0.42      0.44        33\n",
      "      nat       0.44      0.50      0.47        16\n",
      "\n",
      "micro avg       0.83      0.81      0.82     11254\n",
      "macro avg       0.83      0.81      0.82     11254\n",
      "\n"
     ]
    }
   ],
   "source": [
    "learner.validate(class_names=preproc.get_classes())"
   ]
  },
  {
   "cell_type": "code",
   "execution_count": 9,
   "metadata": {},
   "outputs": [],
   "source": [
    "predictor = ktrain.get_predictor(learner.model, preproc)"
   ]
  },
  {
   "cell_type": "code",
   "execution_count": 11,
   "metadata": {},
   "outputs": [
    {
     "data": {
      "text/plain": [
       "[('As', 'O'),\n",
       " ('of', 'O'),\n",
       " ('2019', 'B-tim'),\n",
       " (',', 'O'),\n",
       " ('Donald', 'B-per'),\n",
       " ('Trump', 'I-per'),\n",
       " ('is', 'O'),\n",
       " ('still', 'O'),\n",
       " ('the', 'O'),\n",
       " ('President', 'B-per'),\n",
       " ('of', 'O'),\n",
       " ('the', 'O'),\n",
       " ('United', 'B-geo'),\n",
       " ('States', 'I-geo'),\n",
       " ('.', 'O')]"
      ]
     },
     "execution_count": 11,
     "metadata": {},
     "output_type": "execute_result"
    }
   ],
   "source": [
    "predictor.predict('As of 2019, Donald Trump is still the President of the United States.')"
   ]
  },
  {
   "cell_type": "code",
   "execution_count": 12,
   "metadata": {},
   "outputs": [],
   "source": [
    "example = preproc.undo_val(val, val_id=0)"
   ]
  },
  {
   "cell_type": "code",
   "execution_count": 13,
   "metadata": {},
   "outputs": [
    {
     "data": {
      "text/plain": [
       "[('They', 'O'),\n",
       " ('say', 'O'),\n",
       " ('the', 'O'),\n",
       " ('woman', 'O'),\n",
       " ('was', 'O'),\n",
       " ('from', 'O'),\n",
       " ('Tangerang', 'B-geo'),\n",
       " (',', 'O'),\n",
       " ('a', 'O'),\n",
       " ('city', 'O'),\n",
       " ('outside', 'O'),\n",
       " ('of', 'O'),\n",
       " ('Jakarta', 'B-geo'),\n",
       " (',', 'O'),\n",
       " ('and', 'O'),\n",
       " ('that', 'O'),\n",
       " ('she', 'O'),\n",
       " ('lived', 'O'),\n",
       " ('in', 'O'),\n",
       " ('a', 'O'),\n",
       " ('neighborhood', 'O'),\n",
       " ('with', 'O'),\n",
       " ('backyard', 'O'),\n",
       " ('farms', 'O'),\n",
       " ('and', 'O'),\n",
       " ('near', 'O'),\n",
       " ('a', 'O'),\n",
       " ('traditional', 'O'),\n",
       " ('market', 'O'),\n",
       " ('that', 'O'),\n",
       " ('sells', 'O'),\n",
       " ('poultry', 'O'),\n",
       " ('.', 'O')]"
      ]
     },
     "execution_count": 13,
     "metadata": {},
     "output_type": "execute_result"
    }
   ],
   "source": [
    "example"
   ]
  },
  {
   "cell_type": "code",
   "execution_count": 14,
   "metadata": {},
   "outputs": [
    {
     "data": {
      "text/plain": [
       "[('They', 'O'),\n",
       " ('say', 'O'),\n",
       " ('the', 'O'),\n",
       " ('woman', 'O'),\n",
       " ('was', 'O'),\n",
       " ('from', 'O'),\n",
       " ('Tangerang', 'B-geo'),\n",
       " (',', 'O'),\n",
       " ('a', 'O'),\n",
       " ('city', 'O'),\n",
       " ('outside', 'O'),\n",
       " ('of', 'O'),\n",
       " ('Jakarta', 'B-geo'),\n",
       " (',', 'O'),\n",
       " ('and', 'O'),\n",
       " ('that', 'O'),\n",
       " ('she', 'O'),\n",
       " ('lived', 'O'),\n",
       " ('in', 'O'),\n",
       " ('a', 'O'),\n",
       " ('neighborhood', 'O'),\n",
       " ('with', 'O'),\n",
       " ('backyard', 'O'),\n",
       " ('farms', 'O'),\n",
       " ('and', 'O'),\n",
       " ('near', 'O'),\n",
       " ('a', 'O'),\n",
       " ('traditional', 'O'),\n",
       " ('market', 'O'),\n",
       " ('that', 'O'),\n",
       " ('sells', 'O'),\n",
       " ('poultry', 'O'),\n",
       " ('.', 'O')]"
      ]
     },
     "execution_count": 14,
     "metadata": {},
     "output_type": "execute_result"
    }
   ],
   "source": [
    "predictor.predict(\" \".join([x[0] for x in example]))"
   ]
  },
  {
   "cell_type": "code",
   "execution_count": 15,
   "metadata": {},
   "outputs": [],
   "source": [
    "predictor.save('/tmp/mypred')"
   ]
  },
  {
   "cell_type": "code",
   "execution_count": 16,
   "metadata": {},
   "outputs": [],
   "source": [
    "reloaded_predictor = ktrain.load_predictor('/tmp/mypred')"
   ]
  },
  {
   "cell_type": "code",
   "execution_count": 17,
   "metadata": {},
   "outputs": [
    {
     "data": {
      "text/plain": [
       "[('Paul', 'B-per'),\n",
       " ('Newman', 'I-per'),\n",
       " ('is', 'O'),\n",
       " ('my', 'O'),\n",
       " ('favorite', 'O'),\n",
       " ('American', 'B-gpe'),\n",
       " ('actor', 'O'),\n",
       " ('.', 'O')]"
      ]
     },
     "execution_count": 17,
     "metadata": {},
     "output_type": "execute_result"
    }
   ],
   "source": [
    "reloaded_predictor.predict('Paul Newman is my favorite American actor.')"
   ]
  },
  {
   "cell_type": "code",
   "execution_count": null,
   "metadata": {},
   "outputs": [],
   "source": []
  }
 ],
 "metadata": {
  "kernelspec": {
   "display_name": "Python 3",
   "language": "python",
   "name": "python3"
  },
  "language_info": {
   "codemirror_mode": {
    "name": "ipython",
    "version": 3
   },
   "file_extension": ".py",
   "mimetype": "text/x-python",
   "name": "python",
   "nbconvert_exporter": "python",
   "pygments_lexer": "ipython3",
   "version": "3.6.8"
  }
 },
 "nbformat": 4,
 "nbformat_minor": 2
}
