{
 "cells": [
  {
   "cell_type": "code",
   "execution_count": 1,
   "metadata": {},
   "outputs": [],
   "source": [
    "%reload_ext autoreload\n",
    "%autoreload 2\n",
    "%matplotlib inline\n",
    "import os\n",
    "os.environ[\"CUDA_DEVICE_ORDER\"]=\"PCI_BUS_ID\";\n",
    "os.environ[\"CUDA_VISIBLE_DEVICES\"]=\"0\"; "
   ]
  },
  {
   "cell_type": "code",
   "execution_count": 2,
   "metadata": {},
   "outputs": [
    {
     "name": "stderr",
     "output_type": "stream",
     "text": [
      "Using TensorFlow backend.\n"
     ]
    }
   ],
   "source": [
    "import ktrain\n",
    "from ktrain import text"
   ]
  },
  {
   "cell_type": "code",
   "execution_count": 3,
   "metadata": {},
   "outputs": [
    {
     "name": "stdout",
     "output_type": "stream",
     "text": [
      "Number of sentences:  47959\n",
      "Number of words in the dataset:  35178\n",
      "Tags: ['B-gpe', 'B-eve', 'I-geo', 'B-art', 'I-per', 'I-gpe', 'I-org', 'B-nat', 'I-art', 'I-tim', 'B-org', 'B-tim', 'I-eve', 'O', 'B-per', 'I-nat', 'B-geo']\n",
      "Number of Labels:  17\n",
      "Longest sentence: 104 words\n"
     ]
    }
   ],
   "source": [
    "DATAFILE = '/home/amaiya/data/groningen_meaning_bank/ner_dataset.csv'\n",
    "(trn, val, preproc) = text.entities_from_csv(DATAFILE,\n",
    "                                             sentence_column='Sentence #',\n",
    "                                             word_column='Word',\n",
    "                                             tag_column='Tag', \n",
    "                                             maxlen=100)"
   ]
  },
  {
   "cell_type": "code",
   "execution_count": 4,
   "metadata": {},
   "outputs": [
    {
     "name": "stdout",
     "output_type": "stream",
     "text": [
      "bilstm-crf: Bidirectional LSTM-CRF  (https://arxiv.org/abs/1508.01991)\n"
     ]
    }
   ],
   "source": [
    "text.print_sequence_taggers()"
   ]
  },
  {
   "cell_type": "code",
   "execution_count": 5,
   "metadata": {},
   "outputs": [],
   "source": [
    "model = text.sequence_tagger('bilstm-crf', preproc)"
   ]
  },
  {
   "cell_type": "code",
   "execution_count": 6,
   "metadata": {},
   "outputs": [],
   "source": [
    "learner = ktrain.get_learner(model, train_data=trn, val_data=val, batch_size=512)"
   ]
  },
  {
   "cell_type": "code",
   "execution_count": 7,
   "metadata": {},
   "outputs": [
    {
     "name": "stdout",
     "output_type": "stream",
     "text": [
      "simulating training for different learning rates... this may take a few moments...\n",
      "Epoch 1/4\n",
      "43163/43163 [==============================] - 52s 1ms/step - loss: 2.6347 - crf_accuracy: 0.0284\n",
      "Epoch 2/4\n",
      "43163/43163 [==============================] - 49s 1ms/step - loss: 1.3585 - crf_accuracy: 0.7364\n",
      "Epoch 3/4\n",
      "43163/43163 [==============================] - 49s 1ms/step - loss: 0.1420 - crf_accuracy: 0.9679\n",
      "Epoch 4/4\n",
      " 2560/43163 [>.............................] - ETA: 46s - loss: 352.2198 - crf_accuracy: 0.7845\n",
      "\n",
      "done.\n"
     ]
    },
    {
     "data": {
      "image/png": "[encoded data removed]",
      "text/plain": [
       "<Figure size 432x288 with 1 Axes>"
      ]
     },
     "metadata": {
      "needs_background": "light"
     },
     "output_type": "display_data"
    }
   ],
   "source": [
    "learner.lr_find(max_epochs=4, show_plot=True)"
   ]
  },
  {
   "cell_type": "code",
   "execution_count": 8,
   "metadata": {},
   "outputs": [
    {
     "name": "stdout",
     "output_type": "stream",
     "text": [
      "\n",
      "\n",
      "begin training using triangular learning rate policy with max lr of 0.01...\n",
      "Train on 43163 samples, validate on 4796 samples\n",
      "Epoch 1/20\n",
      "43163/43163 [==============================] - 51s 1ms/step - loss: 0.7670 - crf_accuracy: 0.7861 - val_loss: 0.2835 - val_crf_accuracy: 0.8626\n",
      "Epoch 2/20\n",
      "43163/43163 [==============================] - 51s 1ms/step - loss: 0.2316 - crf_accuracy: 0.9219 - val_loss: 0.1794 - val_crf_accuracy: 0.9544\n",
      "Epoch 3/20\n",
      "43163/43163 [==============================] - 51s 1ms/step - loss: 0.1554 - crf_accuracy: 0.9588 - val_loss: 0.1151 - val_crf_accuracy: 0.9683\n",
      "Epoch 4/20\n",
      "43163/43163 [==============================] - 51s 1ms/step - loss: 0.1379 - crf_accuracy: 0.9586 - val_loss: 0.1132 - val_crf_accuracy: 0.9604\n",
      "Epoch 5/20\n",
      "43163/43163 [==============================] - 51s 1ms/step - loss: 0.0868 - crf_accuracy: 0.9724 - val_loss: 0.0692 - val_crf_accuracy: 0.9804\n",
      "Epoch 6/20\n",
      "43163/43163 [==============================] - 51s 1ms/step - loss: 0.0588 - crf_accuracy: 0.9832 - val_loss: 0.0530 - val_crf_accuracy: 0.9854\n",
      "Epoch 7/20\n",
      "43163/43163 [==============================] - 51s 1ms/step - loss: 0.0592 - crf_accuracy: 0.9836 - val_loss: 0.0501 - val_crf_accuracy: 0.9867\n",
      "Epoch 8/20\n",
      "43163/43163 [==============================] - 51s 1ms/step - loss: 0.0433 - crf_accuracy: 0.9882 - val_loss: 0.0439 - val_crf_accuracy: 0.9879\n",
      "Epoch 9/20\n",
      "43163/43163 [==============================] - 51s 1ms/step - loss: 0.0372 - crf_accuracy: 0.9897 - val_loss: 0.0395 - val_crf_accuracy: 0.9889\n",
      "Epoch 10/20\n",
      "43163/43163 [==============================] - 51s 1ms/step - loss: 0.0331 - crf_accuracy: 0.9907 - val_loss: 0.0373 - val_crf_accuracy: 0.9893\n",
      "Epoch 11/20\n",
      "43163/43163 [==============================] - 51s 1ms/step - loss: 0.0304 - crf_accuracy: 0.9913 - val_loss: 0.0347 - val_crf_accuracy: 0.9901\n",
      "Epoch 12/20\n",
      "43163/43163 [==============================] - 51s 1ms/step - loss: 0.0278 - crf_accuracy: 0.9918 - val_loss: 0.0333 - val_crf_accuracy: 0.9904\n",
      "Epoch 13/20\n",
      "43163/43163 [==============================] - 51s 1ms/step - loss: 0.0256 - crf_accuracy: 0.9924 - val_loss: 0.0320 - val_crf_accuracy: 0.9906\n",
      "Epoch 14/20\n",
      "43163/43163 [==============================] - 51s 1ms/step - loss: 0.0240 - crf_accuracy: 0.9928 - val_loss: 0.0311 - val_crf_accuracy: 0.9908\n",
      "Epoch 15/20\n",
      "43163/43163 [==============================] - 51s 1ms/step - loss: 0.0225 - crf_accuracy: 0.9930 - val_loss: 0.0299 - val_crf_accuracy: 0.9911\n",
      "Epoch 16/20\n",
      "43163/43163 [==============================] - 51s 1ms/step - loss: 0.0211 - crf_accuracy: 0.9933 - val_loss: 0.0294 - val_crf_accuracy: 0.9913\n",
      "Epoch 17/20\n",
      "43163/43163 [==============================] - 51s 1ms/step - loss: 0.0201 - crf_accuracy: 0.9934 - val_loss: 0.0284 - val_crf_accuracy: 0.9912\n",
      "Epoch 18/20\n",
      "43163/43163 [==============================] - 51s 1ms/step - loss: 0.0191 - crf_accuracy: 0.9937 - val_loss: 0.0276 - val_crf_accuracy: 0.9914\n",
      "Epoch 19/20\n",
      "43163/43163 [==============================] - 51s 1ms/step - loss: 0.0179 - crf_accuracy: 0.9939 - val_loss: 0.0268 - val_crf_accuracy: 0.9914\n",
      "Epoch 20/20\n",
      "43163/43163 [==============================] - 51s 1ms/step - loss: 0.0171 - crf_accuracy: 0.9940 - val_loss: 0.0265 - val_crf_accuracy: 0.9915\n"
     ]
    },
    {
     "data": {
      "text/plain": [
       "<keras.callbacks.History at 0x7f46c29f9278>"
      ]
     },
     "execution_count": 8,
     "metadata": {},
     "output_type": "execute_result"
    }
   ],
   "source": [
    "learner.autofit(0.01, 20, checkpoint_folder='/tmp/saved_weights')"
   ]
  },
  {
   "cell_type": "code",
   "execution_count": 10,
   "metadata": {},
   "outputs": [
    {
     "name": "stdout",
     "output_type": "stream",
     "text": [
      "\n",
      "\n",
      "begin training using triangular learning rate policy with max lr of 0.01...\n",
      "Train on 43163 samples, validate on 4796 samples\n",
      "Epoch 1/5\n",
      "43163/43163 [==============================] - 51s 1ms/step - loss: 0.0164 - crf_accuracy: 0.9941 - val_loss: 0.0256 - val_crf_accuracy: 0.9917\n",
      "Epoch 2/5\n",
      "43163/43163 [==============================] - 52s 1ms/step - loss: 0.0165 - crf_accuracy: 0.9939 - val_loss: 0.0250 - val_crf_accuracy: 0.9917\n",
      "Epoch 3/5\n",
      "43163/43163 [==============================] - 51s 1ms/step - loss: 0.0149 - crf_accuracy: 0.9942 - val_loss: 0.0246 - val_crf_accuracy: 0.9918\n",
      "Epoch 4/5\n",
      "43163/43163 [==============================] - 51s 1ms/step - loss: 0.0139 - crf_accuracy: 0.9944 - val_loss: 0.0238 - val_crf_accuracy: 0.9919\n",
      "Epoch 5/5\n",
      "43163/43163 [==============================] - 51s 1ms/step - loss: 0.0131 - crf_accuracy: 0.9944 - val_loss: 0.0233 - val_crf_accuracy: 0.9918\n"
     ]
    },
    {
     "data": {
      "text/plain": [
       "<keras.callbacks.History at 0x7f46c2985198>"
      ]
     },
     "execution_count": 10,
     "metadata": {},
     "output_type": "execute_result"
    }
   ],
   "source": [
    "learner.autofit(0.01, 5, checkpoint_folder='/tmp/saved_weights')"
   ]
  },
  {
   "cell_type": "code",
   "execution_count": 12,
   "metadata": {},
   "outputs": [
    {
     "name": "stdout",
     "output_type": "stream",
     "text": [
      "\n",
      "\n",
      "begin training using triangular learning rate policy with max lr of 0.01...\n",
      "Train on 43163 samples, validate on 4796 samples\n",
      "Epoch 1/5\n",
      "43163/43163 [==============================] - 51s 1ms/step - loss: 0.0123 - crf_accuracy: 0.9945 - val_loss: 0.0228 - val_crf_accuracy: 0.9919\n",
      "Epoch 2/5\n",
      "43163/43163 [==============================] - 51s 1ms/step - loss: 0.0114 - crf_accuracy: 0.9946 - val_loss: 0.0219 - val_crf_accuracy: 0.9919\n",
      "Epoch 3/5\n",
      "43163/43163 [==============================] - 51s 1ms/step - loss: 0.0106 - crf_accuracy: 0.9947 - val_loss: 0.0215 - val_crf_accuracy: 0.9919\n",
      "Epoch 4/5\n",
      "43163/43163 [==============================] - 51s 1ms/step - loss: 0.0097 - crf_accuracy: 0.9948 - val_loss: 0.0219 - val_crf_accuracy: 0.9919\n",
      "Epoch 5/5\n",
      "43163/43163 [==============================] - 52s 1ms/step - loss: 0.0089 - crf_accuracy: 0.9949 - val_loss: 0.0213 - val_crf_accuracy: 0.9919\n"
     ]
    },
    {
     "data": {
      "text/plain": [
       "<keras.callbacks.History at 0x7f46c2987588>"
      ]
     },
     "execution_count": 12,
     "metadata": {},
     "output_type": "execute_result"
    }
   ],
   "source": [
    "learner.autofit(0.01, 5, checkpoint_folder='/tmp/saved_weights')"
   ]
  },
  {
   "cell_type": "code",
   "execution_count": 8,
   "metadata": {},
   "outputs": [
    {
     "data": {
      "image/png": "[encoded data removed]",
      "text/plain": [
       "<Figure size 432x288 with 1 Axes>"
      ]
     },
     "metadata": {
      "needs_background": "light"
     },
     "output_type": "display_data"
    }
   ],
   "source": [
    "learner.plot('lr')"
   ]
  },
  {
   "cell_type": "code",
   "execution_count": 13,
   "metadata": {},
   "outputs": [
    {
     "name": "stdout",
     "output_type": "stream",
     "text": [
      "           precision    recall  f1-score   support\n",
      "\n",
      "      org       0.71      0.65      0.68      2020\n",
      "      tim       0.87      0.82      0.84      1991\n",
      "      gpe       0.96      0.95      0.96      1599\n",
      "      geo       0.83      0.87      0.85      3707\n",
      "      per       0.74      0.66      0.70      1736\n",
      "      eve       0.36      0.33      0.34        30\n",
      "      art       0.25      0.14      0.18        28\n",
      "      nat       0.19      0.12      0.15        25\n",
      "\n",
      "micro avg       0.82      0.79      0.81     11136\n",
      "macro avg       0.82      0.79      0.80     11136\n",
      "\n"
     ]
    }
   ],
   "source": [
    "learner.validate(class_names=preproc.get_classes())"
   ]
  },
  {
   "cell_type": "code",
   "execution_count": 10,
   "metadata": {},
   "outputs": [
    {
     "name": "stdout",
     "output_type": "stream",
     "text": [
      "\n",
      "\n",
      "begin training using triangular learning rate policy with max lr of 0.01...\n",
      "Train on 43163 samples, validate on 4796 samples\n",
      "Epoch 1/4\n",
      "43163/43163 [==============================] - 49s 1ms/step - loss: 0.0201 - crf_accuracy: 0.9939 - val_loss: 0.0301 - val_crf_accuracy: 0.9914\n",
      "Epoch 2/4\n",
      "43163/43163 [==============================] - 49s 1ms/step - loss: 0.0187 - crf_accuracy: 0.9941 - val_loss: 0.0296 - val_crf_accuracy: 0.9915\n",
      "Epoch 3/4\n",
      "43163/43163 [==============================] - 50s 1ms/step - loss: 0.0176 - crf_accuracy: 0.9943 - val_loss: 0.0289 - val_crf_accuracy: 0.9917\n",
      "Epoch 4/4\n",
      "43163/43163 [==============================] - 50s 1ms/step - loss: 0.0165 - crf_accuracy: 0.9945 - val_loss: 0.0284 - val_crf_accuracy: 0.9916\n"
     ]
    },
    {
     "data": {
      "text/plain": [
       "<keras.callbacks.History at 0x7f24097261d0>"
      ]
     },
     "execution_count": 10,
     "metadata": {},
     "output_type": "execute_result"
    }
   ],
   "source": [
    "learner.autofit(0.01, 4, checkpoint_folder='/tmp/saved_weights_2')"
   ]
  },
  {
   "cell_type": "code",
   "execution_count": 12,
   "metadata": {},
   "outputs": [
    {
     "name": "stdout",
     "output_type": "stream",
     "text": [
      "\n",
      "\n",
      "begin training using triangular learning rate policy with max lr of 0.01...\n",
      "Train on 43163 samples, validate on 4796 samples\n",
      "Epoch 1/4\n",
      "43163/43163 [==============================] - 49s 1ms/step - loss: 0.0153 - crf_accuracy: 0.9948 - val_loss: 0.0283 - val_crf_accuracy: 0.9917\n",
      "Epoch 2/4\n",
      "43163/43163 [==============================] - 49s 1ms/step - loss: 0.0145 - crf_accuracy: 0.9949 - val_loss: 0.0277 - val_crf_accuracy: 0.9917\n",
      "Epoch 3/4\n",
      "43163/43163 [==============================] - 50s 1ms/step - loss: 0.0177 - crf_accuracy: 0.9944 - val_loss: 0.0299 - val_crf_accuracy: 0.9914\n",
      "Epoch 4/4\n",
      "43163/43163 [==============================] - 49s 1ms/step - loss: 0.0140 - crf_accuracy: 0.9949 - val_loss: 0.0271 - val_crf_accuracy: 0.9918\n"
     ]
    },
    {
     "data": {
      "text/plain": [
       "<keras.callbacks.History at 0x7f2409728780>"
      ]
     },
     "execution_count": 12,
     "metadata": {},
     "output_type": "execute_result"
    }
   ],
   "source": [
    "learner.autofit(0.01, 4, checkpoint_folder='/tmp/saved_weights_3')"
   ]
  },
  {
   "cell_type": "code",
   "execution_count": 14,
   "metadata": {},
   "outputs": [
    {
     "data": {
      "image/png": "[encoded data removed]",
      "text/plain": [
       "<Figure size 432x288 with 1 Axes>"
      ]
     },
     "metadata": {
      "needs_background": "light"
     },
     "output_type": "display_data"
    }
   ],
   "source": [
    "learner.plot('lr')"
   ]
  },
  {
   "cell_type": "code",
   "execution_count": 13,
   "metadata": {},
   "outputs": [
    {
     "name": "stdout",
     "output_type": "stream",
     "text": [
      "           precision    recall  f1-score   support\n",
      "\n",
      "      tim       0.86      0.80      0.83      2006\n",
      "      org       0.72      0.63      0.67      2023\n",
      "      geo       0.83      0.86      0.85      3791\n",
      "      per       0.72      0.70      0.71      1621\n",
      "      gpe       0.96      0.92      0.94      1598\n",
      "      art       0.18      0.08      0.11        36\n",
      "      eve       0.50      0.37      0.43        35\n",
      "      nat       0.27      0.23      0.25        13\n",
      "\n",
      "micro avg       0.82      0.79      0.80     11123\n",
      "macro avg       0.81      0.79      0.80     11123\n",
      "\n"
     ]
    }
   ],
   "source": [
    "learner.validate(class_names=preproc.get_classes())"
   ]
  },
  {
   "cell_type": "code",
   "execution_count": 10,
   "metadata": {},
   "outputs": [],
   "source": [
    "predictor = ktrain.get_predictor(learner.model, preproc)"
   ]
  },
  {
   "cell_type": "code",
   "execution_count": 11,
   "metadata": {},
   "outputs": [
    {
     "data": {
      "text/plain": [
       "[('In', 'O'),\n",
       " ('the', 'O'),\n",
       " ('United', 'B-geo'),\n",
       " ('States', 'I-geo'),\n",
       " (',', 'O'),\n",
       " ('most', 'O'),\n",
       " ('people', 'O'),\n",
       " ('think', 'O'),\n",
       " ('Barack', 'B-per'),\n",
       " ('Obama', 'I-per'),\n",
       " ('was', 'O'),\n",
       " ('a', 'O'),\n",
       " ('much', 'O'),\n",
       " ('better', 'O'),\n",
       " ('leader', 'O'),\n",
       " ('than', 'O'),\n",
       " ('Donald', 'B-per'),\n",
       " ('Trump', 'I-per'),\n",
       " ('.', 'O')]"
      ]
     },
     "execution_count": 11,
     "metadata": {},
     "output_type": "execute_result"
    }
   ],
   "source": [
    "predictor.predict('During his Presidency, Barack Obama made several visits to Afghanistan.')"
   ]
  },
  {
   "cell_type": "code",
   "execution_count": 27,
   "metadata": {},
   "outputs": [],
   "source": [
    "example = preproc.undo_val(val, val_id=256)"
   ]
  },
  {
   "cell_type": "code",
   "execution_count": 28,
   "metadata": {},
   "outputs": [
    {
     "data": {
      "text/plain": [
       "[('Polish', 'B-gpe'),\n",
       " ('President', 'B-per'),\n",
       " ('Lech', 'I-per'),\n",
       " ('Kaczynski', 'I-per'),\n",
       " ('and', 'O'),\n",
       " ('his', 'O'),\n",
       " ('brother', 'O'),\n",
       " ('Jaroslaw', 'B-geo'),\n",
       " (',', 'O'),\n",
       " ('the', 'O'),\n",
       " ('prime', 'O'),\n",
       " ('minister', 'O'),\n",
       " (',', 'O'),\n",
       " ('have', 'O'),\n",
       " ('vowed', 'O'),\n",
       " ('to', 'O'),\n",
       " ('root', 'O'),\n",
       " ('out', 'O'),\n",
       " ('those', 'O'),\n",
       " ('in', 'O'),\n",
       " ('public', 'O'),\n",
       " ('life', 'O'),\n",
       " ('with', 'O'),\n",
       " ('close', 'O'),\n",
       " ('ties', 'O'),\n",
       " ('to', 'O'),\n",
       " ('the', 'O'),\n",
       " ('communist', 'O'),\n",
       " ('apparatus', 'O'),\n",
       " ('.', 'O')]"
      ]
     },
     "execution_count": 28,
     "metadata": {},
     "output_type": "execute_result"
    }
   ],
   "source": [
    "example"
   ]
  },
  {
   "cell_type": "code",
   "execution_count": 29,
   "metadata": {},
   "outputs": [
    {
     "data": {
      "text/plain": [
       "[('Polish', 'B-gpe'),\n",
       " ('President', 'B-per'),\n",
       " ('Lech', 'I-per'),\n",
       " ('Kaczynski', 'I-per'),\n",
       " ('and', 'O'),\n",
       " ('his', 'O'),\n",
       " ('brother', 'O'),\n",
       " ('Jaroslaw', 'B-per'),\n",
       " (',', 'O'),\n",
       " ('the', 'O'),\n",
       " ('prime', 'O'),\n",
       " ('minister', 'O'),\n",
       " (',', 'O'),\n",
       " ('have', 'O'),\n",
       " ('vowed', 'O'),\n",
       " ('to', 'O'),\n",
       " ('root', 'O'),\n",
       " ('out', 'O'),\n",
       " ('those', 'O'),\n",
       " ('in', 'O'),\n",
       " ('public', 'O'),\n",
       " ('life', 'O'),\n",
       " ('with', 'O'),\n",
       " ('close', 'O'),\n",
       " ('ties', 'O'),\n",
       " ('to', 'O'),\n",
       " ('the', 'O'),\n",
       " ('communist', 'O'),\n",
       " ('apparatus', 'O'),\n",
       " ('.', 'O')]"
      ]
     },
     "execution_count": 29,
     "metadata": {},
     "output_type": "execute_result"
    }
   ],
   "source": [
    "predictor.predict(\" \".join([x[0] for x in example]))"
   ]
  },
  {
   "cell_type": "code",
   "execution_count": 30,
   "metadata": {},
   "outputs": [],
   "source": [
    "predictor.save('/tmp/mypred')"
   ]
  },
  {
   "cell_type": "code",
   "execution_count": 31,
   "metadata": {},
   "outputs": [],
   "source": [
    "reloaded_predictor = ktrain.load_predictor('/tmp/mypred')"
   ]
  },
  {
   "cell_type": "code",
   "execution_count": 34,
   "metadata": {},
   "outputs": [
    {
     "data": {
      "text/plain": [
       "[('Paul', 'B-per'),\n",
       " ('Newman', 'I-per'),\n",
       " ('is', 'O'),\n",
       " ('my', 'O'),\n",
       " ('favorite', 'O'),\n",
       " ('American', 'B-gpe'),\n",
       " ('actor', 'O'),\n",
       " ('.', 'O')]"
      ]
     },
     "execution_count": 34,
     "metadata": {},
     "output_type": "execute_result"
    }
   ],
   "source": [
    "reloaded_predictor.predict('Paul Newman is my favorite American actor.')"
   ]
  },
  {
   "cell_type": "code",
   "execution_count": null,
   "metadata": {},
   "outputs": [],
   "source": []
  }
 ],
 "metadata": {
  "kernelspec": {
   "display_name": "Python 3",
   "language": "python",
   "name": "python3"
  },
  "language_info": {
   "codemirror_mode": {
    "name": "ipython",
    "version": 3
   },
   "file_extension": ".py",
   "mimetype": "text/x-python",
   "name": "python",
   "nbconvert_exporter": "python",
   "pygments_lexer": "ipython3",
   "version": "3.6.8"
  }
 },
 "nbformat": 4,
 "nbformat_minor": 2
}
