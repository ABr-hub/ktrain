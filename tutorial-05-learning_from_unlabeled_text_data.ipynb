{
 "cells": [
  {
   "cell_type": "code",
   "execution_count": 1,
   "metadata": {},
   "outputs": [],
   "source": [
    "%reload_ext autoreload\n",
    "%autoreload 2\n",
    "%matplotlib inline\n",
    "import os\n",
    "import numpy as np\n",
    "import pandas as pd\n",
    "pd.set_option('display.max_colwidth', -1)"
   ]
  },
  {
   "cell_type": "code",
   "execution_count": 2,
   "metadata": {},
   "outputs": [
    {
     "name": "stderr",
     "output_type": "stream",
     "text": [
      "Using TensorFlow backend.\n"
     ]
    },
    {
     "name": "stdout",
     "output_type": "stream",
     "text": [
      "using Keras version: 2.2.4\n"
     ]
    },
    {
     "data": {
      "text/plain": [
       "'0.6.0'"
      ]
     },
     "execution_count": 2,
     "metadata": {},
     "output_type": "execute_result"
    }
   ],
   "source": [
    "import ktrain\n",
    "ktrain.__version__"
   ]
  },
  {
   "cell_type": "markdown",
   "metadata": {},
   "source": [
    "# Learning from Unlabeled Text Data\n",
    "\n",
    "Unlabeled, unstructured text or document data abound, and it is often necessary to \"make sense\" of these data for various applications.  Examples include:\n",
    "- *exploratory analysis of text data*:  discovering relevant information for which one may not have even known to look by providing rich overviews of the informatation space  \n",
    "- *building training sets for text classification*:  identifying positive and negative example documents to train a [text classifier](https://en.wikipedia.org/wiki/Document_classification). \n",
    "- *document recommender system*:  recommending semantically similar documents given a specific document of interest.\n",
    "\n",
    "Each of these examples involve **learning from unlabeled text data**.  In this notebook, we will show you how to accomplish the above with minimal coding using *ktrain*.    The *ktrain* library is an open-source, augmented ML library build around Keras and scikit-learn.  It can be installed with `pip3 install ktrain` and is [available on GitHub](https://github.com/amaiya/ktrain).\n",
    "\n",
    "We will use the well-known [20-newsgroup dataset](http://qwone.com/~jason/20Newsgroups/) for this demonstration."
   ]
  },
  {
   "cell_type": "markdown",
   "metadata": {},
   "source": [
    "## Get Raw Document Data"
   ]
  },
  {
   "cell_type": "code",
   "execution_count": 3,
   "metadata": {},
   "outputs": [],
   "source": [
    "# #dtic\n",
    "# maxlen = 5000 # truncate documents to 5000 words\n",
    "# docs = []\n",
    "# for idx, filename in enumerate(ktrain.text.extract_filenames('/home/amaiya/data/publicDTIC_Text/')):\n",
    "#     if idx % 2000 == 0: print(idx)\n",
    "#     with open(filename, 'r') as f:\n",
    "#         text = f.read()\n",
    "#         text = \" \".join(text.split()[:maxlen])\n",
    "#         docs.append(text)"
   ]
  },
  {
   "cell_type": "code",
   "execution_count": 4,
   "metadata": {},
   "outputs": [],
   "source": [
    "# 20newsgroups\n",
    "from sklearn.datasets import fetch_20newsgroups\n",
    "\n",
    "# we only want to keep the body of the documents!\n",
    "remove = ('headers', 'footers', 'quotes')\n",
    "\n",
    "# fetch train and test data\n",
    "newsgroups_train = fetch_20newsgroups(subset='train', remove=remove)\n",
    "newsgroups_test = fetch_20newsgroups(subset='test', remove=remove)\n",
    "\n",
    "# a list of 18,846 cleaned news in string format\n",
    "# only keep letters & make them all lower case\n",
    "texts = [' '.join(filter(str.isalpha, raw.lower().split())) for raw in\n",
    "        newsgroups_train.data + newsgroups_test.data]\n",
    "targets = [target for target in list(newsgroups_train.target) + list(newsgroups_test.target)]\n",
    "categories = [newsgroups_train.target_names[target] for target in targets]"
   ]
  },
  {
   "cell_type": "markdown",
   "metadata": {},
   "source": [
    "## Train an LDA Topic Model to Discover Topics"
   ]
  },
  {
   "cell_type": "code",
   "execution_count": 5,
   "metadata": {},
   "outputs": [
    {
     "name": "stdout",
     "output_type": "stream",
     "text": [
      "preprocessing texts...\n",
      "fitting model...\n",
      "iteration: 1 of max_iter: 5\n",
      "iteration: 2 of max_iter: 5\n",
      "iteration: 3 of max_iter: 5\n",
      "iteration: 4 of max_iter: 5\n",
      "iteration: 5 of max_iter: 5\n",
      "done.\n",
      "CPU times: user 6min 53s, sys: 18min 51s, total: 25min 44s\n",
      "Wall time: 53.2 s\n"
     ]
    }
   ],
   "source": [
    "%%time\n",
    "tm = ktrain.text.get_topic_model(texts, n_topics=40, n_features=10000)"
   ]
  },
  {
   "cell_type": "markdown",
   "metadata": {},
   "source": [
    "#### Pre-compute Document-Topic matrix\n",
    "We will pre-compute the document-topic matrix.  Each document is represented as a probability distribution over the topics.\n",
    "We will also filter out documents whose maximum topic probability is less than 0.25 in order to consider the most representative documents for each topic.  This may help to improve clarity of visualizations by removing \"unfocused\" documents. "
   ]
  },
  {
   "cell_type": "code",
   "execution_count": 6,
   "metadata": {},
   "outputs": [
    {
     "name": "stdout",
     "output_type": "stream",
     "text": [
      "done.\n",
      "CPU times: user 36.1 s, sys: 1min 34s, total: 2min 10s\n",
      "Wall time: 5.65 s\n"
     ]
    }
   ],
   "source": [
    "%%time\n",
    "tm.build(texts, threshold=0.25)"
   ]
  },
  {
   "cell_type": "markdown",
   "metadata": {},
   "source": [
    "Since the `build` method prunes documents based on threshold, we should prune the original data in a similar way for consistency.  This can be accomplished with the `filter` method. "
   ]
  },
  {
   "cell_type": "code",
   "execution_count": 7,
   "metadata": {},
   "outputs": [],
   "source": [
    "texts = tm.filter(texts)\n",
    "categories = tm.filter(categories)"
   ]
  },
  {
   "cell_type": "markdown",
   "metadata": {},
   "source": [
    "This is useful, for example, if you want to display the newsgroup category in a visualization of documents and topics."
   ]
  },
  {
   "cell_type": "markdown",
   "metadata": {},
   "source": [
    "## Inspecting Topics\n",
    "Let's take a look at the discovered topics by document count."
   ]
  },
  {
   "cell_type": "code",
   "execution_count": 8,
   "metadata": {},
   "outputs": [
    {
     "name": "stdout",
     "output_type": "stream",
     "text": [
      "topic:5 | count:6202 | just think like people know good really going make want\n",
      "topic:1 | count:1915 | use image program using available version window run graphics display\n",
      "topic:11 | count:1184 | drive card disk hard scsi know use serial does apple\n",
      "topic:26 | count:1068 | god jesus believe people does bible christian say christians man\n",
      "topic:0 | count:1014 | game team games play hockey players player year won lost\n",
      "topic:19 | count:858 | people government armenian said president armenians turkish united did rights\n",
      "topic:12 | count:606 | space high water launch energy air solar years low earth\n",
      "topic:28 | count:463 | used phone data use new number private access using systems\n",
      "topic:7 | count:392 | does question know right questions discussion group answer certain set\n",
      "topic:4 | count:317 | car new model thanks price engine video cars does like\n",
      "topic:24 | count:89 | gun use drug cause law tax food laws free body\n",
      "topic:34 | count:85 | key chip government encryption clipper security law keys algorithm message\n",
      "topic:16 | count:76 | power new looking apr supply appreciate sound battery dod brand\n",
      "topic:31 | count:76 | information computer research science university send scientific conference national center\n",
      "topic:35 | count:75 | san fan league steve new year york city texas base\n",
      "topic:21 | count:72 | book church called said mary catholic read did early definitely\n",
      "topic:17 | count:67 | list mail ftp anonymous article news email faq site new\n",
      "topic:36 | count:66 | la gm vs van win nj shots bos period det\n",
      "topic:22 | count:59 | db light speed ground switch clutch clock green low circuit\n",
      "topic:27 | count:53 | jews israel jewish israeli arab muslims palestinian peace arabs land\n",
      "topic:33 | count:46 | windows dos software font printer print fonts driver microsoft laser\n",
      "topic:39 | count:41 | thank health patients insurance disease vitamin treatment doctor pain doctors\n",
      "topic:25 | count:38 | double weapon training banks arm smith iran surrender single gordon\n",
      "topic:13 | count:30 | university homosexual professor men sex homosexuality sexual state gay male\n",
      "topic:8 | count:26 | available source april white john mark jim group options option\n",
      "topic:23 | count:26 | mac ibm info pc ii usa fast mode dec quadra\n",
      "topic:15 | count:22 | file section entry command files try character echo entries rules\n",
      "topic:32 | count:11 | sell good excellent condition used noise cross normal son dark\n",
      "topic:6 | count:9 | annual app amazing comics silver incredible animal hulk presents wolverine\n",
      "topic:3 | count:7 | bike left ride turn road weight riding japanese shift rider\n",
      "topic:29 | count:6 | memory total plug bank simms megs vram booklet simm mbyte\n",
      "topic:2 | count:5 | fbi asking batf koresh control children gas agents come compound\n",
      "topic:38 | count:5 | medical page study number cancer volume health risk aids april\n",
      "topic:9 | count:4 | david address books issue germany german magazine richard nazi race\n",
      "topic:18 | count:3 | files adl utility bullock neutral wire document glad flow expose\n",
      "topic:30 | count:2 | days planning humans adam genesis bringing alternate sega bull lucifer\n",
      "topic:37 | count:1 | appeared era prince proving ezekiel closing swiss tyre thyroid leaning\n"
     ]
    }
   ],
   "source": [
    "tm.print_topics(show_counts=True)"
   ]
  },
  {
   "cell_type": "markdown",
   "metadata": {},
   "source": [
    "The topic with the most documents appears to be conversational questions, replies, and comments that aren't focused on a particular subject.  Other topics are focused on specific domains (e.g., topic 27 with label \"*jews israel jewish israeli arab muslims palestinian peace arabs land*\")."
   ]
  },
  {
   "cell_type": "markdown",
   "metadata": {},
   "source": [
    "#### Examining a Sample Topic"
   ]
  },
  {
   "cell_type": "markdown",
   "metadata": {},
   "source": [
    "Let's look at the topic probabilities for the document most relevant to topic 26, which appears to be about Christianity and religion:"
   ]
  },
  {
   "cell_type": "code",
   "execution_count": 9,
   "metadata": {},
   "outputs": [
    {
     "data": {
      "text/plain": [
       "array([0.00105053, 0.06334099, 0.00105098, 0.00105042, 0.00105048,\n",
       "       0.00105193, 0.00105042, 0.00105283, 0.00105069, 0.00105042,\n",
       "       0.00105042, 0.00105094, 0.00105097, 0.00105056, 0.00105042,\n",
       "       0.00105045, 0.00105049, 0.01033958, 0.00105042, 0.00105152,\n",
       "       0.00105042, 0.0010509 , 0.01004638, 0.00105048, 0.00105112,\n",
       "       0.00105042, 0.86602134, 0.01347644, 0.00105148, 0.00105042,\n",
       "       0.00105042, 0.0010506 , 0.00105042, 0.00105043, 0.00105059,\n",
       "       0.00105048, 0.00105042, 0.00105042, 0.00105068, 0.00105068])"
      ]
     },
     "execution_count": 9,
     "metadata": {},
     "output_type": "execute_result"
    }
   ],
   "source": [
    "tm.get_doctopics(topic_ids=[26])[0]"
   ]
  },
  {
   "cell_type": "markdown",
   "metadata": {},
   "source": [
    "It's topic probability for the topic in question (Christianity) is **86.6%**, as can be seen in the array (sixth row - second column)."
   ]
  },
  {
   "cell_type": "code",
   "execution_count": 10,
   "metadata": {},
   "outputs": [
    {
     "data": {
      "text/plain": [
       "0.8660213401727025"
      ]
     },
     "execution_count": 10,
     "metadata": {},
     "output_type": "execute_result"
    }
   ],
   "source": [
    "tm.get_doctopics(topic_ids=[26])[0][26]"
   ]
  },
  {
   "cell_type": "markdown",
   "metadata": {},
   "source": [
    "Let's examine this document as a sanity check to make sure it is pertains to this topic:"
   ]
  },
  {
   "cell_type": "code",
   "execution_count": 11,
   "metadata": {},
   "outputs": [
    {
     "data": {
      "text/plain": [
       "('no matter how it is to suggest that a common moral system created by mankind is it is not contrary to reason to suggest that a common moral system created by mankind is in for the bible to be of any use to mankind as a moral it must be interpreted by mankind and a workable moral system created for everyday the jewish talmud is the result of centuries of biblical scholars analysing every word of the torah to understand the morality behind the children of israel were given a very strict set of judicial and ceremonial laws to follow and yet this was clearly not enough to cover every instance of moral dilemma in their for a the situation is no it seems to me that the only code of morality that we have from the christian god is that which is contained in the bible we can see from the diverse opinions in the christian newsgroups is not there may well be an absolute morality defined by the god for mankind to follow but it seems that we only have a subset simply because the concept was written down by this leads to the problem of defining morality for our if we take the divine morality then we have a code of practice which may be interpreted in many different ways an consider the immolation of heretics in the fifteenth century and the interpretation of the bible which allows a man to do that to another man under the precept to administer if we take an agnostic morality then we have a code of practice that can be modified to suit society all the danger that this we could take the basis of the morality and this to create and justify a code of morality which suits the society we live in and enables the people to live righteously many christian and philosophers have whatever the driving force behind the definition of morality for our i think the important aspect is the on',\n",
       " 444,\n",
       " 0.8660213401727025,\n",
       " 26)"
      ]
     },
     "execution_count": 11,
     "metadata": {},
     "output_type": "execute_result"
    }
   ],
   "source": [
    "tm.get_docs(topic_ids=[26])[0]"
   ]
  },
  {
   "cell_type": "markdown",
   "metadata": {},
   "source": [
    "Looks right to me.  Note that the `get_docs` method returns a list of tuples of the form:\n",
    "`(text, doc_id, probability_score, topic_id)`\n",
    "\n",
    "... where \n",
    "- `text` is the raw text of the document\n",
    "- `doc_id` is an index into the array returned by `get_doctopics`\n",
    "- `topic_id` is the index of the topic in the range of `range(n_topics)`\n",
    "- `probability_score` is the relevance of this document to the topic represented by `topic_id`\n",
    "\n",
    "Within each `topic_id`, the tuples are sorted in desceding order by `probability_score`.  Hence, the first item is the most relevant document to the selected topic (`topic_id=26`).  \n",
    "\n",
    "Next, let's examine a set of topics that seem to be related to the same larger theme.\n"
   ]
  },
  {
   "cell_type": "markdown",
   "metadata": {},
   "source": [
    "#### Examining Technology-Related Topics\n",
    "\n",
    "We will examine a series of topics that appear to be about technology.  For each topic, we will first examine the topic label using `tm.topics` and then view the top document pertaining to that topic using `get_docs`.  \n",
    "\n",
    "A topic about **cryptography**:"
   ]
  },
  {
   "cell_type": "code",
   "execution_count": 12,
   "metadata": {},
   "outputs": [
    {
     "data": {
      "text/plain": [
       "'key chip government encryption clipper security law keys algorithm message'"
      ]
     },
     "execution_count": 12,
     "metadata": {},
     "output_type": "execute_result"
    }
   ],
   "source": [
    "tm.topics[34]"
   ]
  },
  {
   "cell_type": "code",
   "execution_count": 13,
   "metadata": {},
   "outputs": [
    {
     "data": {
      "text/plain": [
       "('description of skipjack mostly chip structure the clipper chip contains a classified block encryption algorithm called the algorithm uses bit keys with for the and has rounds of scrambling with for the it supports all des modes of throughput is mbits a an family key that is common to all chips a serial number an secret key that unlocks all messages encrypted with the chip the key k and message stream m digitized are then fed into the clipper chip to produce two the encrypted message and a law enforcement three it looks like each bits of input gives you bits of bits bits bits n f bits bits do you really need to transmit all bits each or do you only transmit the bits of wiretap block at the all would be really obnoxious for applications like cellular phones even regular phones over how do the des modes interact with the do the various feedback modes only apply to the message or also to the wiretap if the wiretap block is only transmitted at the does it get incorporated into everything through feedback but not during ecb does the clipper chip check the wiretap block does the block have to be present at since the receiving chip know the it presumably check the validity of so limited to checking the of the wiretap and maybe checking the serial number for reasonableness some sort of structure that lets it recognize a valid in that can you replace the wiretap block with a different wiretap presumably an old valid one to avoid attracting chip do so you postprocess the regular people can do one with their own serial number and a dummy paranoid people can use someone serial on the other if i could think of that solution so presumably the nsa could too have they done something to block like use message encryption really',\n",
       " 592,\n",
       " 0.558866939133724,\n",
       " 34)"
      ]
     },
     "execution_count": 13,
     "metadata": {},
     "output_type": "execute_result"
    }
   ],
   "source": [
    "tm.get_docs([34])[0]"
   ]
  },
  {
   "cell_type": "markdown",
   "metadata": {},
   "source": [
    "A topic about **Microsoft Windows**:"
   ]
  },
  {
   "cell_type": "code",
   "execution_count": 14,
   "metadata": {},
   "outputs": [
    {
     "data": {
      "text/plain": [
       "'windows dos software font printer print fonts driver microsoft laser'"
      ]
     },
     "execution_count": 14,
     "metadata": {},
     "output_type": "execute_result"
    }
   ],
   "source": [
    "tm.topics[33]"
   ]
  },
  {
   "cell_type": "code",
   "execution_count": 15,
   "metadata": {},
   "outputs": [
    {
     "data": {
      "text/plain": [
       "('software publishing superbase windows ocr system readright for windows ocr system readright for dos unregistered zortech bit compiler with multiscope windows whitewater resource library source code commonview windows applications framework for borland spontaneous assembly library with source code microsoft macro assembly microsoft windows sdk documentation microsoft foxpro wordperfect toolkit kedwell software databoss c code generator kedwell installboss installation generator liant software windows application framework with source code ibm toolkit cbtree library with source code symantec timeline for windows timeslip timesheet professional for windows',\n",
       " 93,\n",
       " 0.5940832459912094,\n",
       " 33)"
      ]
     },
     "execution_count": 15,
     "metadata": {},
     "output_type": "execute_result"
    }
   ],
   "source": [
    "tm.get_docs([33])[0]"
   ]
  },
  {
   "cell_type": "markdown",
   "metadata": {},
   "source": [
    "A topic about **computer hardware**:"
   ]
  },
  {
   "cell_type": "code",
   "execution_count": 16,
   "metadata": {},
   "outputs": [
    {
     "data": {
      "text/plain": [
       "'drive card disk hard scsi know use serial does apple'"
      ]
     },
     "execution_count": 16,
     "metadata": {},
     "output_type": "execute_result"
    }
   ],
   "source": [
    "tm.topics[11]"
   ]
  },
  {
   "cell_type": "code",
   "execution_count": 17,
   "metadata": {},
   "outputs": [
    {
     "data": {
      "text/plain": [
       "('here is my gateway micronics isa ram ide hd drive ide hd drive adaptec scsi with scsi bios enabled seagate scsi drive when i boot up i get the adaptec bios but it says something scsi bios not and i get to the seagate i go into phoenixbios remove the entry for drive and i can access the is there a way to get two ide drives and the seagate at the same i have but it just hangs the',\n",
       " 3243,\n",
       " 0.8519254747730485,\n",
       " 11)"
      ]
     },
     "execution_count": 17,
     "metadata": {},
     "output_type": "execute_result"
    }
   ],
   "source": [
    "tm.get_docs([11])[0]"
   ]
  },
  {
   "cell_type": "markdown",
   "metadata": {},
   "source": [
    "A topic about **Apple Macs**:"
   ]
  },
  {
   "cell_type": "code",
   "execution_count": 18,
   "metadata": {},
   "outputs": [
    {
     "data": {
      "text/plain": [
       "'mac ibm info pc ii usa fast mode dec quadra'"
      ]
     },
     "execution_count": 18,
     "metadata": {},
     "output_type": "execute_result"
    }
   ],
   "source": [
    "tm.topics[23]"
   ]
  },
  {
   "cell_type": "code",
   "execution_count": 19,
   "metadata": {},
   "outputs": [
    {
     "data": {
      "text/plain": [
       "('all this shows is that you know much about a controler range is indeed and that is all you have right about scsi a controller with burst note the increase in the mac quadra uses this version of so it does some pc use this set up with burst or fast with burst and with burst by your own data the scsi is twice as fast as is correct with a controller chip can reach which is indeed faster than of is all these scsi facts have been posted to this newsgroup in my mac ibm info sheet by ftp on in the as should be but may still be part of this problem is both mac and ibm pc are inconsiant about what scsi is though it is well documented that the quadra has a chip an apple salesperson said uses a fast at a burst it does is maximum synchronous and quadra uses ansynchronous scsi which is it seems that mac and ibm see interface and think when it maybe a interface driven in the machine by a controller chip in mode is much faster then true can',\n",
       " 6,\n",
       " 0.5495197635790885,\n",
       " 23)"
      ]
     },
     "execution_count": 19,
     "metadata": {},
     "output_type": "execute_result"
    }
   ],
   "source": [
    "tm.get_docs([23])[0]"
   ]
  },
  {
   "cell_type": "markdown",
   "metadata": {},
   "source": [
    "## Visualizing Topics"
   ]
  },
  {
   "cell_type": "markdown",
   "metadata": {},
   "source": [
    "Let's combine these technology-related documents into a set of positive examples of technology-focused posts and visualize them.  To do so, we must represent each document as probability distribution over topics.  We will also compile the original newsgroup categories for each document, so that they can be included in the visualization. (This is why we invoked the `filter` method earler.)"
   ]
  },
  {
   "cell_type": "code",
   "execution_count": 20,
   "metadata": {},
   "outputs": [],
   "source": [
    "tech_topics = [11, 23, 33, 34]\n",
    "tech_probs = tm.get_doctopics(topic_ids=tech_topics)\n",
    "doc_ids = [doc[1] for doc in tm.get_docs(topic_ids=tech_topics)]\n",
    "newsgroup_categories = [categories[doc_id] for doc_id in doc_ids]"
   ]
  },
  {
   "cell_type": "code",
   "execution_count": 21,
   "metadata": {},
   "outputs": [
    {
     "name": "stdout",
     "output_type": "stream",
     "text": [
      "reducing to 2 dimensions...[t-SNE] Computing 91 nearest neighbors...\n",
      "[t-SNE] Indexed 1341 samples in 0.002s...\n",
      "[t-SNE] Computed neighbors for 1341 samples in 0.116s...\n",
      "[t-SNE] Computed conditional probabilities for sample 1000 / 1341\n",
      "[t-SNE] Computed conditional probabilities for sample 1341 / 1341\n",
      "[t-SNE] Mean sigma: 0.073910\n",
      "[t-SNE] KL divergence after 250 iterations with early exaggeration: 70.887177\n",
      "[t-SNE] KL divergence after 1000 iterations: 1.186863\n",
      "done.\n"
     ]
    },
    {
     "data": {
      "text/html": [
       "\n",
       "    <div class=\"bk-root\">\n",
       "        <a href=\"https://bokeh.pydata.org\" target=\"_blank\" class=\"bk-logo bk-logo-small bk-logo-notebook\"></a>\n",
       "        <span id=\"1001\">Loading BokehJS ...</span>\n",
       "    </div>"
      ]
     },
     "metadata": {},
     "output_type": "display_data"
    },
    {
     "data": {
      "application/javascript": [
       "\n",
       "(function(root) {\n",
       "  function now() {\n",
       "    return new Date();\n",
       "  }\n",
       "\n",
       "  var force = true;\n",
       "\n",
       "  if (typeof root._bokeh_onload_callbacks === \"undefined\" || force === true) {\n",
       "    root._bokeh_onload_callbacks = [];\n",
       "    root._bokeh_is_loading = undefined;\n",
       "  }\n",
       "\n",
       "  var JS_MIME_TYPE = 'application/javascript';\n",
       "  var HTML_MIME_TYPE = 'text/html';\n",
       "  var EXEC_MIME_TYPE = 'application/vnd.bokehjs_exec.v0+json';\n",
       "  var CLASS_NAME = 'output_bokeh rendered_html';\n",
       "\n",
       "  /**\n",
       "   * Render data to the DOM node\n",
       "   */\n",
       "  function render(props, node) {\n",
       "    var script = document.createElement(\"script\");\n",
       "    node.appendChild(script);\n",
       "  }\n",
       "\n",
       "  /**\n",
       "   * Handle when an output is cleared or removed\n",
       "   */\n",
       "  function handleClearOutput(event, handle) {\n",
       "    var cell = handle.cell;\n",
       "\n",
       "    var id = cell.output_area._bokeh_element_id;\n",
       "    var server_id = cell.output_area._bokeh_server_id;\n",
       "    // Clean up Bokeh references\n",
       "    if (id != null && id in Bokeh.index) {\n",
       "      Bokeh.index[id].model.document.clear();\n",
       "      delete Bokeh.index[id];\n",
       "    }\n",
       "\n",
       "    if (server_id !== undefined) {\n",
       "      // Clean up Bokeh references\n",
       "      var cmd = \"from bokeh.io.state import curstate; print(curstate().uuid_to_server['\" + server_id + \"'].get_sessions()[0].document.roots[0]._id)\";\n",
       "      cell.notebook.kernel.execute(cmd, {\n",
       "        iopub: {\n",
       "          output: function(msg) {\n",
       "            var id = msg.content.text.trim();\n",
       "            if (id in Bokeh.index) {\n",
       "              Bokeh.index[id].model.document.clear();\n",
       "              delete Bokeh.index[id];\n",
       "            }\n",
       "          }\n",
       "        }\n",
       "      });\n",
       "      // Destroy server and session\n",
       "      var cmd = \"import bokeh.io.notebook as ion; ion.destroy_server('\" + server_id + \"')\";\n",
       "      cell.notebook.kernel.execute(cmd);\n",
       "    }\n",
       "  }\n",
       "\n",
       "  /**\n",
       "   * Handle when a new output is added\n",
       "   */\n",
       "  function handleAddOutput(event, handle) {\n",
       "    var output_area = handle.output_area;\n",
       "    var output = handle.output;\n",
       "\n",
       "    // limit handleAddOutput to display_data with EXEC_MIME_TYPE content only\n",
       "    if ((output.output_type != \"display_data\") || (!output.data.hasOwnProperty(EXEC_MIME_TYPE))) {\n",
       "      return\n",
       "    }\n",
       "\n",
       "    var toinsert = output_area.element.find(\".\" + CLASS_NAME.split(' ')[0]);\n",
       "\n",
       "    if (output.metadata[EXEC_MIME_TYPE][\"id\"] !== undefined) {\n",
       "      toinsert[toinsert.length - 1].firstChild.textContent = output.data[JS_MIME_TYPE];\n",
       "      // store reference to embed id on output_area\n",
       "      output_area._bokeh_element_id = output.metadata[EXEC_MIME_TYPE][\"id\"];\n",
       "    }\n",
       "    if (output.metadata[EXEC_MIME_TYPE][\"server_id\"] !== undefined) {\n",
       "      var bk_div = document.createElement(\"div\");\n",
       "      bk_div.innerHTML = output.data[HTML_MIME_TYPE];\n",
       "      var script_attrs = bk_div.children[0].attributes;\n",
       "      for (var i = 0; i < script_attrs.length; i++) {\n",
       "        toinsert[toinsert.length - 1].firstChild.setAttribute(script_attrs[i].name, script_attrs[i].value);\n",
       "      }\n",
       "      // store reference to server id on output_area\n",
       "      output_area._bokeh_server_id = output.metadata[EXEC_MIME_TYPE][\"server_id\"];\n",
       "    }\n",
       "  }\n",
       "\n",
       "  function register_renderer(events, OutputArea) {\n",
       "\n",
       "    function append_mime(data, metadata, element) {\n",
       "      // create a DOM node to render to\n",
       "      var toinsert = this.create_output_subarea(\n",
       "        metadata,\n",
       "        CLASS_NAME,\n",
       "        EXEC_MIME_TYPE\n",
       "      );\n",
       "      this.keyboard_manager.register_events(toinsert);\n",
       "      // Render to node\n",
       "      var props = {data: data, metadata: metadata[EXEC_MIME_TYPE]};\n",
       "      render(props, toinsert[toinsert.length - 1]);\n",
       "      element.append(toinsert);\n",
       "      return toinsert\n",
       "    }\n",
       "\n",
       "    /* Handle when an output is cleared or removed */\n",
       "    events.on('clear_output.CodeCell', handleClearOutput);\n",
       "    events.on('delete.Cell', handleClearOutput);\n",
       "\n",
       "    /* Handle when a new output is added */\n",
       "    events.on('output_added.OutputArea', handleAddOutput);\n",
       "\n",
       "    /**\n",
       "     * Register the mime type and append_mime function with output_area\n",
       "     */\n",
       "    OutputArea.prototype.register_mime_type(EXEC_MIME_TYPE, append_mime, {\n",
       "      /* Is output safe? */\n",
       "      safe: true,\n",
       "      /* Index of renderer in `output_area.display_order` */\n",
       "      index: 0\n",
       "    });\n",
       "  }\n",
       "\n",
       "  // register the mime type if in Jupyter Notebook environment and previously unregistered\n",
       "  if (root.Jupyter !== undefined) {\n",
       "    var events = require('base/js/events');\n",
       "    var OutputArea = require('notebook/js/outputarea').OutputArea;\n",
       "\n",
       "    if (OutputArea.prototype.mime_types().indexOf(EXEC_MIME_TYPE) == -1) {\n",
       "      register_renderer(events, OutputArea);\n",
       "    }\n",
       "  }\n",
       "\n",
       "  \n",
       "  if (typeof (root._bokeh_timeout) === \"undefined\" || force === true) {\n",
       "    root._bokeh_timeout = Date.now() + 5000;\n",
       "    root._bokeh_failed_load = false;\n",
       "  }\n",
       "\n",
       "  var NB_LOAD_WARNING = {'data': {'text/html':\n",
       "     \"<div style='background-color: #fdd'>\\n\"+\n",
       "     \"<p>\\n\"+\n",
       "     \"BokehJS does not appear to have successfully loaded. If loading BokehJS from CDN, this \\n\"+\n",
       "     \"may be due to a slow or bad network connection. Possible fixes:\\n\"+\n",
       "     \"</p>\\n\"+\n",
       "     \"<ul>\\n\"+\n",
       "     \"<li>re-rerun `output_notebook()` to attempt to load from CDN again, or</li>\\n\"+\n",
       "     \"<li>use INLINE resources instead, as so:</li>\\n\"+\n",
       "     \"</ul>\\n\"+\n",
       "     \"<code>\\n\"+\n",
       "     \"from bokeh.resources import INLINE\\n\"+\n",
       "     \"output_notebook(resources=INLINE)\\n\"+\n",
       "     \"</code>\\n\"+\n",
       "     \"</div>\"}};\n",
       "\n",
       "  function display_loaded() {\n",
       "    var el = document.getElementById(\"1001\");\n",
       "    if (el != null) {\n",
       "      el.textContent = \"BokehJS is loading...\";\n",
       "    }\n",
       "    if (root.Bokeh !== undefined) {\n",
       "      if (el != null) {\n",
       "        el.textContent = \"BokehJS \" + root.Bokeh.version + \" successfully loaded.\";\n",
       "      }\n",
       "    } else if (Date.now() < root._bokeh_timeout) {\n",
       "      setTimeout(display_loaded, 100)\n",
       "    }\n",
       "  }\n",
       "\n",
       "\n",
       "  function run_callbacks() {\n",
       "    try {\n",
       "      root._bokeh_onload_callbacks.forEach(function(callback) {\n",
       "        if (callback != null)\n",
       "          callback();\n",
       "      });\n",
       "    } finally {\n",
       "      delete root._bokeh_onload_callbacks\n",
       "    }\n",
       "    console.debug(\"Bokeh: all callbacks have finished\");\n",
       "  }\n",
       "\n",
       "  function load_libs(css_urls, js_urls, callback) {\n",
       "    if (css_urls == null) css_urls = [];\n",
       "    if (js_urls == null) js_urls = [];\n",
       "\n",
       "    root._bokeh_onload_callbacks.push(callback);\n",
       "    if (root._bokeh_is_loading > 0) {\n",
       "      console.debug(\"Bokeh: BokehJS is being loaded, scheduling callback at\", now());\n",
       "      return null;\n",
       "    }\n",
       "    if (js_urls == null || js_urls.length === 0) {\n",
       "      run_callbacks();\n",
       "      return null;\n",
       "    }\n",
       "    console.debug(\"Bokeh: BokehJS not loaded, scheduling load and callback at\", now());\n",
       "    root._bokeh_is_loading = css_urls.length + js_urls.length;\n",
       "\n",
       "    function on_load() {\n",
       "      root._bokeh_is_loading--;\n",
       "      if (root._bokeh_is_loading === 0) {\n",
       "        console.debug(\"Bokeh: all BokehJS libraries/stylesheets loaded\");\n",
       "        run_callbacks()\n",
       "      }\n",
       "    }\n",
       "\n",
       "    function on_error() {\n",
       "      console.error(\"failed to load \" + url);\n",
       "    }\n",
       "\n",
       "    for (var i = 0; i < css_urls.length; i++) {\n",
       "      var url = css_urls[i];\n",
       "      const element = document.createElement(\"link\");\n",
       "      element.onload = on_load;\n",
       "      element.onerror = on_error;\n",
       "      element.rel = \"stylesheet\";\n",
       "      element.type = \"text/css\";\n",
       "      element.href = url;\n",
       "      console.debug(\"Bokeh: injecting link tag for BokehJS stylesheet: \", url);\n",
       "      document.body.appendChild(element);\n",
       "    }\n",
       "\n",
       "    for (var i = 0; i < js_urls.length; i++) {\n",
       "      var url = js_urls[i];\n",
       "      var element = document.createElement('script');\n",
       "      element.onload = on_load;\n",
       "      element.onerror = on_error;\n",
       "      element.async = false;\n",
       "      element.src = url;\n",
       "      console.debug(\"Bokeh: injecting script tag for BokehJS library: \", url);\n",
       "      document.head.appendChild(element);\n",
       "    }\n",
       "  };var element = document.getElementById(\"1001\");\n",
       "  if (element == null) {\n",
       "    console.error(\"Bokeh: ERROR: autoload.js configured with elementid '1001' but no matching script tag was found. \")\n",
       "    return false;\n",
       "  }\n",
       "\n",
       "  function inject_raw_css(css) {\n",
       "    const element = document.createElement(\"style\");\n",
       "    element.appendChild(document.createTextNode(css));\n",
       "    document.body.appendChild(element);\n",
       "  }\n",
       "\n",
       "  var js_urls = [\"https://cdn.pydata.org/bokeh/release/bokeh-1.3.4.min.js\", \"https://cdn.pydata.org/bokeh/release/bokeh-widgets-1.3.4.min.js\", \"https://cdn.pydata.org/bokeh/release/bokeh-tables-1.3.4.min.js\", \"https://cdn.pydata.org/bokeh/release/bokeh-gl-1.3.4.min.js\"];\n",
       "  var css_urls = [];\n",
       "\n",
       "  var inline_js = [\n",
       "    function(Bokeh) {\n",
       "      Bokeh.set_log_level(\"info\");\n",
       "    },\n",
       "    \n",
       "    function(Bokeh) {\n",
       "      \n",
       "    },\n",
       "    function(Bokeh) {} // ensure no trailing comma for IE\n",
       "  ];\n",
       "\n",
       "  function run_inline_js() {\n",
       "    \n",
       "    if ((root.Bokeh !== undefined) || (force === true)) {\n",
       "      for (var i = 0; i < inline_js.length; i++) {\n",
       "        inline_js[i].call(root, root.Bokeh);\n",
       "      }if (force === true) {\n",
       "        display_loaded();\n",
       "      }} else if (Date.now() < root._bokeh_timeout) {\n",
       "      setTimeout(run_inline_js, 100);\n",
       "    } else if (!root._bokeh_failed_load) {\n",
       "      console.log(\"Bokeh: BokehJS failed to load within specified timeout.\");\n",
       "      root._bokeh_failed_load = true;\n",
       "    } else if (force !== true) {\n",
       "      var cell = $(document.getElementById(\"1001\")).parents('.cell').data().cell;\n",
       "      cell.output_area.append_execute_result(NB_LOAD_WARNING)\n",
       "    }\n",
       "\n",
       "  }\n",
       "\n",
       "  if (root._bokeh_is_loading === 0) {\n",
       "    console.debug(\"Bokeh: BokehJS loaded, going straight to plotting\");\n",
       "    run_inline_js();\n",
       "  } else {\n",
       "    load_libs(css_urls, js_urls, function() {\n",
       "      console.debug(\"Bokeh: BokehJS plotting callback run at\", now());\n",
       "      run_inline_js();\n",
       "    });\n",
       "  }\n",
       "}(window));"
      ],
      "application/vnd.bokehjs_load.v0+json": "\n(function(root) {\n  function now() {\n    return new Date();\n  }\n\n  var force = true;\n\n  if (typeof root._bokeh_onload_callbacks === \"undefined\" || force === true) {\n    root._bokeh_onload_callbacks = [];\n    root._bokeh_is_loading = undefined;\n  }\n\n  \n\n  \n  if (typeof (root._bokeh_timeout) === \"undefined\" || force === true) {\n    root._bokeh_timeout = Date.now() + 5000;\n    root._bokeh_failed_load = false;\n  }\n\n  var NB_LOAD_WARNING = {'data': {'text/html':\n     \"<div style='background-color: #fdd'>\\n\"+\n     \"<p>\\n\"+\n     \"BokehJS does not appear to have successfully loaded. If loading BokehJS from CDN, this \\n\"+\n     \"may be due to a slow or bad network connection. Possible fixes:\\n\"+\n     \"</p>\\n\"+\n     \"<ul>\\n\"+\n     \"<li>re-rerun `output_notebook()` to attempt to load from CDN again, or</li>\\n\"+\n     \"<li>use INLINE resources instead, as so:</li>\\n\"+\n     \"</ul>\\n\"+\n     \"<code>\\n\"+\n     \"from bokeh.resources import INLINE\\n\"+\n     \"output_notebook(resources=INLINE)\\n\"+\n     \"</code>\\n\"+\n     \"</div>\"}};\n\n  function display_loaded() {\n    var el = document.getElementById(\"1001\");\n    if (el != null) {\n      el.textContent = \"BokehJS is loading...\";\n    }\n    if (root.Bokeh !== undefined) {\n      if (el != null) {\n        el.textContent = \"BokehJS \" + root.Bokeh.version + \" successfully loaded.\";\n      }\n    } else if (Date.now() < root._bokeh_timeout) {\n      setTimeout(display_loaded, 100)\n    }\n  }\n\n\n  function run_callbacks() {\n    try {\n      root._bokeh_onload_callbacks.forEach(function(callback) {\n        if (callback != null)\n          callback();\n      });\n    } finally {\n      delete root._bokeh_onload_callbacks\n    }\n    console.debug(\"Bokeh: all callbacks have finished\");\n  }\n\n  function load_libs(css_urls, js_urls, callback) {\n    if (css_urls == null) css_urls = [];\n    if (js_urls == null) js_urls = [];\n\n    root._bokeh_onload_callbacks.push(callback);\n    if (root._bokeh_is_loading > 0) {\n      console.debug(\"Bokeh: BokehJS is being loaded, scheduling callback at\", now());\n      return null;\n    }\n    if (js_urls == null || js_urls.length === 0) {\n      run_callbacks();\n      return null;\n    }\n    console.debug(\"Bokeh: BokehJS not loaded, scheduling load and callback at\", now());\n    root._bokeh_is_loading = css_urls.length + js_urls.length;\n\n    function on_load() {\n      root._bokeh_is_loading--;\n      if (root._bokeh_is_loading === 0) {\n        console.debug(\"Bokeh: all BokehJS libraries/stylesheets loaded\");\n        run_callbacks()\n      }\n    }\n\n    function on_error() {\n      console.error(\"failed to load \" + url);\n    }\n\n    for (var i = 0; i < css_urls.length; i++) {\n      var url = css_urls[i];\n      const element = document.createElement(\"link\");\n      element.onload = on_load;\n      element.onerror = on_error;\n      element.rel = \"stylesheet\";\n      element.type = \"text/css\";\n      element.href = url;\n      console.debug(\"Bokeh: injecting link tag for BokehJS stylesheet: \", url);\n      document.body.appendChild(element);\n    }\n\n    for (var i = 0; i < js_urls.length; i++) {\n      var url = js_urls[i];\n      var element = document.createElement('script');\n      element.onload = on_load;\n      element.onerror = on_error;\n      element.async = false;\n      element.src = url;\n      console.debug(\"Bokeh: injecting script tag for BokehJS library: \", url);\n      document.head.appendChild(element);\n    }\n  };var element = document.getElementById(\"1001\");\n  if (element == null) {\n    console.error(\"Bokeh: ERROR: autoload.js configured with elementid '1001' but no matching script tag was found. \")\n    return false;\n  }\n\n  function inject_raw_css(css) {\n    const element = document.createElement(\"style\");\n    element.appendChild(document.createTextNode(css));\n    document.body.appendChild(element);\n  }\n\n  var js_urls = [\"https://cdn.pydata.org/bokeh/release/bokeh-1.3.4.min.js\", \"https://cdn.pydata.org/bokeh/release/bokeh-widgets-1.3.4.min.js\", \"https://cdn.pydata.org/bokeh/release/bokeh-tables-1.3.4.min.js\", \"https://cdn.pydata.org/bokeh/release/bokeh-gl-1.3.4.min.js\"];\n  var css_urls = [];\n\n  var inline_js = [\n    function(Bokeh) {\n      Bokeh.set_log_level(\"info\");\n    },\n    \n    function(Bokeh) {\n      \n    },\n    function(Bokeh) {} // ensure no trailing comma for IE\n  ];\n\n  function run_inline_js() {\n    \n    if ((root.Bokeh !== undefined) || (force === true)) {\n      for (var i = 0; i < inline_js.length; i++) {\n        inline_js[i].call(root, root.Bokeh);\n      }if (force === true) {\n        display_loaded();\n      }} else if (Date.now() < root._bokeh_timeout) {\n      setTimeout(run_inline_js, 100);\n    } else if (!root._bokeh_failed_load) {\n      console.log(\"Bokeh: BokehJS failed to load within specified timeout.\");\n      root._bokeh_failed_load = true;\n    } else if (force !== true) {\n      var cell = $(document.getElementById(\"1001\")).parents('.cell').data().cell;\n      cell.output_area.append_execute_result(NB_LOAD_WARNING)\n    }\n\n  }\n\n  if (root._bokeh_is_loading === 0) {\n    console.debug(\"Bokeh: BokehJS loaded, going straight to plotting\");\n    run_inline_js();\n  } else {\n    load_libs(css_urls, js_urls, function() {\n      console.debug(\"Bokeh: BokehJS plotting callback run at\", now());\n      run_inline_js();\n    });\n  }\n}(window));"
     },
     "metadata": {},
     "output_type": "display_data"
    },
    {
     "data": {
      "text/html": [
       "\n",
       "\n",
       "\n",
       "\n",
       "\n",
       "\n",
       "  <div class=\"bk-root\" id=\"81504d0a-bdaa-4919-953c-b45d233eceee\" data-root-id=\"1004\"></div>\n"
      ]
     },
     "metadata": {},
     "output_type": "display_data"
    },
    {
     "data": {
      "application/javascript": [
       "(function(root) {\n",
       "  function embed_document(root) {\n",
       "    \n",
       "  var docs_json = {\"a78775fe-f14c-41f0-8642-399ed3a25b37\":{\"roots\":{\"references\":[{\"attributes\":{\"below\":[{\"id\":\"1015\",\"type\":\"LinearAxis\"}],\"center\":[{\"id\":\"1019\",\"type\":\"Grid\"},{\"id\":\"1024\",\"type\":\"Grid\"}],\"left\":[{\"id\":\"1020\",\"type\":\"LinearAxis\"}],\"plot_height\":700,\"plot_width\":700,\"renderers\":[{\"id\":\"1040\",\"type\":\"GlyphRenderer\"}],\"title\":{\"id\":\"1005\",\"type\":\"Title\"},\"toolbar\":{\"id\":\"1030\",\"type\":\"Toolbar\"},\"x_range\":{\"id\":\"1007\",\"type\":\"DataRange1d\"},\"x_scale\":{\"id\":\"1011\",\"type\":\"LinearScale\"},\"y_range\":{\"id\":\"1009\",\"type\":\"DataRange1d\"},\"y_scale\":{\"id\":\"1013\",\"type\":\"LinearScale\"}},\"id\":\"1004\",\"subtype\":\"Figure\",\"type\":\"Plot\"},{\"attributes\":{\"dimension\":1,\"ticker\":{\"id\":\"1021\",\"type\":\"BasicTicker\"}},\"id\":\"1024\",\"type\":\"Grid\"},{\"attributes\":{\"active_drag\":\"auto\",\"active_inspect\":\"auto\",\"active_multi\":null,\"active_scroll\":\"auto\",\"active_tap\":\"auto\",\"tools\":[{\"id\":\"1003\",\"type\":\"HoverTool\"},{\"id\":\"1025\",\"type\":\"SaveTool\"},{\"id\":\"1026\",\"type\":\"PanTool\"},{\"id\":\"1027\",\"type\":\"WheelZoomTool\"},{\"id\":\"1028\",\"type\":\"BoxZoomTool\"},{\"id\":\"1029\",\"type\":\"ResetTool\"}]},\"id\":\"1030\",\"type\":\"Toolbar\"},{\"attributes\":{},\"id\":\"1043\",\"type\":\"BasicTickFormatter\"},{\"attributes\":{\"callback\":null,\"data\":{\"cat\":[\"comp.sys.ibm.pc.hardware\",\"misc.forsale\",\"misc.forsale\",\"comp.sys.ibm.pc.hardware\",\"comp.sys.mac.hardware\",\"misc.forsale\",\"comp.sys.ibm.pc.hardware\",\"misc.forsale\",\"comp.sys.ibm.pc.hardware\",\"misc.forsale\",\"comp.sys.ibm.pc.hardware\",\"comp.sys.ibm.pc.hardware\",\"comp.sys.ibm.pc.hardware\",\"comp.sys.ibm.pc.hardware\",\"comp.sys.ibm.pc.hardware\",\"misc.forsale\",\"comp.sys.ibm.pc.hardware\",\"comp.sys.ibm.pc.hardware\",\"comp.sys.ibm.pc.hardware\",\"comp.sys.ibm.pc.hardware\",\"misc.forsale\",\"comp.sys.ibm.pc.hardware\",\"comp.sys.ibm.pc.hardware\",\"comp.sys.mac.hardware\",\"comp.sys.ibm.pc.hardware\",\"comp.sys.mac.hardware\",\"misc.forsale\",\"misc.forsale\",\"comp.sys.ibm.pc.hardware\",\"comp.sys.ibm.pc.hardware\",\"comp.sys.ibm.pc.hardware\",\"misc.forsale\",\"comp.sys.mac.hardware\",\"comp.sys.mac.hardware\",\"comp.sys.mac.hardware\",\"misc.forsale\",\"comp.sys.ibm.pc.hardware\",\"comp.sys.ibm.pc.hardware\",\"misc.forsale\",\"comp.sys.mac.hardware\",\"comp.sys.ibm.pc.hardware\",\"comp.sys.mac.hardware\",\"misc.forsale\",\"misc.forsale\",\"comp.sys.ibm.pc.hardware\",\"comp.sys.mac.hardware\",\"comp.sys.mac.hardware\",\"comp.sys.ibm.pc.hardware\",\"misc.forsale\",\"comp.sys.mac.hardware\",\"comp.sys.ibm.pc.hardware\",\"comp.graphics\",\"misc.forsale\",\"comp.sys.ibm.pc.hardware\",\"comp.sys.mac.hardware\",\"comp.sys.ibm.pc.hardware\",\"misc.forsale\",\"misc.forsale\",\"comp.sys.ibm.pc.hardware\",\"comp.sys.mac.hardware\",\"misc.forsale\",\"comp.sys.ibm.pc.hardware\",\"comp.sys.ibm.pc.hardware\",\"comp.sys.mac.hardware\",\"comp.sys.mac.hardware\",\"comp.sys.ibm.pc.hardware\",\"comp.windows.x\",\"comp.sys.mac.hardware\",\"misc.forsale\",\"comp.sys.mac.hardware\",\"comp.sys.mac.hardware\",\"comp.sys.mac.hardware\",\"comp.sys.mac.hardware\",\"misc.forsale\",\"comp.os.ms-windows.misc\",\"comp.sys.ibm.pc.hardware\",\"comp.sys.ibm.pc.hardware\",\"misc.forsale\",\"comp.sys.mac.hardware\",\"comp.sys.mac.hardware\",\"comp.sys.ibm.pc.hardware\",\"comp.sys.mac.hardware\",\"sci.electronics\",\"comp.sys.ibm.pc.hardware\",\"comp.graphics\",\"comp.sys.mac.hardware\",\"comp.sys.mac.hardware\",\"comp.sys.ibm.pc.hardware\",\"misc.forsale\",\"comp.sys.ibm.pc.hardware\",\"comp.sys.ibm.pc.hardware\",\"misc.forsale\",\"misc.forsale\",\"comp.sys.mac.hardware\",\"comp.sys.mac.hardware\",\"comp.sys.ibm.pc.hardware\",\"misc.forsale\",\"comp.sys.ibm.pc.hardware\",\"misc.forsale\",\"sci.electronics\",\"comp.sys.ibm.pc.hardware\",\"misc.forsale\",\"misc.forsale\",\"comp.sys.mac.hardware\",\"comp.sys.mac.hardware\",\"comp.sys.ibm.pc.hardware\",\"comp.sys.ibm.pc.hardware\",\"comp.sys.ibm.pc.hardware\",\"comp.sys.ibm.pc.hardware\",\"comp.sys.mac.hardware\",\"comp.sys.ibm.pc.hardware\",\"comp.sys.ibm.pc.hardware\",\"misc.forsale\",\"comp.sys.mac.hardware\",\"comp.os.ms-windows.misc\",\"comp.sys.ibm.pc.hardware\",\"comp.sys.ibm.pc.hardware\",\"misc.forsale\",\"comp.sys.ibm.pc.hardware\",\"comp.sys.mac.hardware\",\"comp.sys.ibm.pc.hardware\",\"comp.sys.ibm.pc.hardware\",\"comp.windows.x\",\"comp.sys.ibm.pc.hardware\",\"comp.sys.mac.hardware\",\"comp.sys.ibm.pc.hardware\",\"comp.sys.mac.hardware\",\"comp.sys.ibm.pc.hardware\",\"comp.sys.mac.hardware\",\"comp.sys.ibm.pc.hardware\",\"misc.forsale\",\"comp.sys.ibm.pc.hardware\",\"comp.sys.mac.hardware\",\"comp.sys.ibm.pc.hardware\",\"misc.forsale\",\"comp.sys.mac.hardware\",\"misc.forsale\",\"comp.sys.mac.hardware\",\"comp.sys.ibm.pc.hardware\",\"comp.sys.mac.hardware\",\"comp.sys.mac.hardware\",\"comp.sys.ibm.pc.hardware\",\"comp.sys.ibm.pc.hardware\",\"comp.sys.ibm.pc.hardware\",\"misc.forsale\",\"comp.sys.ibm.pc.hardware\",\"comp.sys.ibm.pc.hardware\",\"comp.sys.ibm.pc.hardware\",\"comp.sys.ibm.pc.hardware\",\"comp.sys.mac.hardware\",\"misc.forsale\",\"comp.sys.ibm.pc.hardware\",\"comp.sys.ibm.pc.hardware\",\"sci.electronics\",\"misc.forsale\",\"comp.sys.ibm.pc.hardware\",\"comp.sys.ibm.pc.hardware\",\"comp.sys.mac.hardware\",\"comp.sys.ibm.pc.hardware\",\"comp.sys.ibm.pc.hardware\",\"comp.sys.ibm.pc.hardware\",\"comp.sys.ibm.pc.hardware\",\"comp.sys.ibm.pc.hardware\",\"misc.forsale\",\"misc.forsale\",\"misc.forsale\",\"comp.sys.ibm.pc.hardware\",\"comp.sys.ibm.pc.hardware\",\"misc.forsale\",\"comp.sys.ibm.pc.hardware\",\"comp.sys.ibm.pc.hardware\",\"misc.forsale\",\"comp.sys.mac.hardware\",\"misc.forsale\",\"comp.sys.mac.hardware\",\"comp.sys.ibm.pc.hardware\",\"misc.forsale\",\"misc.forsale\",\"misc.forsale\",\"comp.sys.ibm.pc.hardware\",\"comp.sys.ibm.pc.hardware\",\"comp.sys.ibm.pc.hardware\",\"comp.sys.ibm.pc.hardware\",\"comp.sys.ibm.pc.hardware\",\"comp.sys.mac.hardware\",\"comp.sys.mac.hardware\",\"comp.sys.ibm.pc.hardware\",\"misc.forsale\",\"comp.sys.ibm.pc.hardware\",\"misc.forsale\",\"comp.sys.mac.hardware\",\"comp.sys.mac.hardware\",\"comp.os.ms-windows.misc\",\"misc.forsale\",\"misc.forsale\",\"comp.sys.ibm.pc.hardware\",\"comp.sys.mac.hardware\",\"misc.forsale\",\"comp.sys.mac.hardware\",\"comp.sys.ibm.pc.hardware\",\"comp.sys.ibm.pc.hardware\",\"comp.sys.ibm.pc.hardware\",\"misc.forsale\",\"comp.sys.ibm.pc.hardware\",\"comp.sys.ibm.pc.hardware\",\"comp.windows.x\",\"comp.sys.mac.hardware\",\"comp.sys.mac.hardware\",\"comp.sys.ibm.pc.hardware\",\"comp.sys.ibm.pc.hardware\",\"comp.sys.ibm.pc.hardware\",\"comp.sys.ibm.pc.hardware\",\"comp.sys.mac.hardware\",\"comp.sys.mac.hardware\",\"comp.sys.mac.hardware\",\"comp.sys.ibm.pc.hardware\",\"comp.sys.ibm.pc.hardware\",\"sci.electronics\",\"comp.sys.ibm.pc.hardware\",\"comp.sys.ibm.pc.hardware\",\"comp.sys.ibm.pc.hardware\",\"comp.sys.ibm.pc.hardware\",\"misc.forsale\",\"comp.sys.mac.hardware\",\"comp.os.ms-windows.misc\",\"comp.sys.ibm.pc.hardware\",\"comp.sys.ibm.pc.hardware\",\"comp.sys.mac.hardware\",\"misc.forsale\",\"comp.sys.ibm.pc.hardware\",\"comp.sys.mac.hardware\",\"comp.sys.mac.hardware\",\"comp.sys.ibm.pc.hardware\",\"sci.electronics\",\"misc.forsale\",\"comp.sys.ibm.pc.hardware\",\"misc.forsale\",\"comp.sys.ibm.pc.hardware\",\"sci.electronics\",\"comp.sys.ibm.pc.hardware\",\"comp.os.ms-windows.misc\",\"misc.forsale\",\"misc.forsale\",\"comp.sys.mac.hardware\",\"comp.sys.mac.hardware\",\"comp.sys.mac.hardware\",\"comp.sys.ibm.pc.hardware\",\"comp.sys.ibm.pc.hardware\",\"misc.forsale\",\"comp.sys.ibm.pc.hardware\",\"comp.sys.mac.hardware\",\"rec.motorcycles\",\"misc.forsale\",\"sci.electronics\",\"comp.sys.mac.hardware\",\"comp.sys.mac.hardware\",\"comp.os.ms-windows.misc\",\"comp.sys.ibm.pc.hardware\",\"comp.sys.ibm.pc.hardware\",\"comp.sys.ibm.pc.hardware\",\"comp.graphics\",\"comp.sys.ibm.pc.hardware\",\"comp.sys.ibm.pc.hardware\",\"comp.sys.ibm.pc.hardware\",\"comp.sys.mac.hardware\",\"comp.sys.mac.hardware\",\"comp.sys.mac.hardware\",\"comp.sys.ibm.pc.hardware\",\"misc.forsale\",\"misc.forsale\",\"comp.sys.mac.hardware\",\"comp.sys.mac.hardware\",\"sci.electronics\",\"comp.os.ms-windows.misc\",\"misc.forsale\",\"comp.sys.mac.hardware\",\"misc.forsale\",\"comp.sys.ibm.pc.hardware\",\"comp.os.ms-windows.misc\",\"comp.sys.ibm.pc.hardware\",\"comp.sys.ibm.pc.hardware\",\"comp.sys.ibm.pc.hardware\",\"comp.sys.mac.hardware\",\"misc.forsale\",\"comp.sys.mac.hardware\",\"comp.sys.ibm.pc.hardware\",\"comp.sys.mac.hardware\",\"comp.sys.mac.hardware\",\"misc.forsale\",\"comp.sys.mac.hardware\",\"comp.sys.mac.hardware\",\"comp.sys.ibm.pc.hardware\",\"comp.sys.ibm.pc.hardware\",\"comp.sys.ibm.pc.hardware\",\"comp.sys.mac.hardware\",\"comp.sys.mac.hardware\",\"misc.forsale\",\"comp.os.ms-windows.misc\",\"comp.sys.ibm.pc.hardware\",\"comp.sys.mac.hardware\",\"comp.sys.mac.hardware\",\"comp.sys.mac.hardware\",\"comp.sys.mac.hardware\",\"misc.forsale\",\"comp.sys.ibm.pc.hardware\",\"comp.sys.ibm.pc.hardware\",\"comp.os.ms-windows.misc\",\"comp.sys.mac.hardware\",\"comp.sys.ibm.pc.hardware\",\"comp.sys.mac.hardware\",\"comp.sys.mac.hardware\",\"comp.sys.ibm.pc.hardware\",\"comp.sys.ibm.pc.hardware\",\"comp.sys.mac.hardware\",\"comp.sys.ibm.pc.hardware\",\"comp.sys.ibm.pc.hardware\",\"comp.graphics\",\"comp.os.ms-windows.misc\",\"comp.sys.ibm.pc.hardware\",\"comp.sys.mac.hardware\",\"comp.sys.mac.hardware\",\"comp.windows.x\",\"sci.electronics\",\"misc.forsale\",\"comp.sys.ibm.pc.hardware\",\"comp.sys.ibm.pc.hardware\",\"comp.sys.ibm.pc.hardware\",\"comp.sys.ibm.pc.hardware\",\"comp.sys.ibm.pc.hardware\",\"misc.forsale\",\"comp.sys.mac.hardware\",\"comp.windows.x\",\"comp.sys.ibm.pc.hardware\",\"misc.forsale\",\"comp.sys.ibm.pc.hardware\",\"sci.electronics\",\"comp.sys.ibm.pc.hardware\",\"misc.forsale\",\"comp.sys.ibm.pc.hardware\",\"comp.sys.ibm.pc.hardware\",\"misc.forsale\",\"comp.sys.ibm.pc.hardware\",\"comp.sys.ibm.pc.hardware\",\"comp.sys.ibm.pc.hardware\",\"comp.sys.mac.hardware\",\"misc.forsale\",\"comp.sys.ibm.pc.hardware\",\"misc.forsale\",\"misc.forsale\",\"comp.sys.ibm.pc.hardware\",\"comp.sys.ibm.pc.hardware\",\"comp.sys.mac.hardware\",\"misc.forsale\",\"comp.sys.mac.hardware\",\"misc.forsale\",\"comp.sys.mac.hardware\",\"comp.sys.ibm.pc.hardware\",\"misc.forsale\",\"comp.sys.mac.hardware\",\"misc.forsale\",\"comp.graphics\",\"sci.electronics\",\"comp.windows.x\",\"misc.forsale\",\"misc.forsale\",\"comp.sys.ibm.pc.hardware\",\"sci.electronics\",\"comp.sys.ibm.pc.hardware\",\"comp.sys.mac.hardware\",\"comp.sys.mac.hardware\",\"comp.sys.mac.hardware\",\"comp.sys.mac.hardware\",\"comp.sys.ibm.pc.hardware\",\"comp.sys.ibm.pc.hardware\",\"comp.sys.ibm.pc.hardware\",\"comp.sys.ibm.pc.hardware\",\"comp.sys.ibm.pc.hardware\",\"misc.forsale\",\"misc.forsale\",\"comp.sys.ibm.pc.hardware\",\"comp.sys.ibm.pc.hardware\",\"comp.sys.ibm.pc.hardware\",\"comp.sys.ibm.pc.hardware\",\"comp.sys.mac.hardware\",\"comp.sys.mac.hardware\",\"comp.sys.ibm.pc.hardware\",\"comp.sys.mac.hardware\",\"comp.sys.mac.hardware\",\"comp.sys.ibm.pc.hardware\",\"comp.sys.mac.hardware\",\"comp.sys.mac.hardware\",\"misc.forsale\",\"misc.forsale\",\"comp.sys.mac.hardware\",\"comp.sys.ibm.pc.hardware\",\"comp.os.ms-windows.misc\",\"comp.sys.ibm.pc.hardware\",\"comp.sys.mac.hardware\",\"comp.sys.mac.hardware\",\"comp.sys.mac.hardware\",\"misc.forsale\",\"comp.sys.mac.hardware\",\"comp.sys.mac.hardware\",\"comp.sys.ibm.pc.hardware\",\"comp.sys.ibm.pc.hardware\",\"comp.sys.mac.hardware\",\"misc.forsale\",\"comp.sys.mac.hardware\",\"comp.sys.ibm.pc.hardware\",\"misc.forsale\",\"misc.forsale\",\"misc.forsale\",\"comp.os.ms-windows.misc\",\"comp.sys.ibm.pc.hardware\",\"comp.sys.ibm.pc.hardware\",\"comp.sys.mac.hardware\",\"comp.sys.ibm.pc.hardware\",\"comp.os.ms-windows.misc\",\"comp.sys.ibm.pc.hardware\",\"comp.sys.ibm.pc.hardware\",\"comp.sys.ibm.pc.hardware\",\"comp.sys.ibm.pc.hardware\",\"comp.sys.ibm.pc.hardware\",\"comp.sys.mac.hardware\",\"comp.sys.mac.hardware\",\"comp.sys.mac.hardware\",\"comp.sys.mac.hardware\",\"comp.sys.mac.hardware\",\"sci.electronics\",\"comp.sys.ibm.pc.hardware\",\"comp.sys.mac.hardware\",\"comp.sys.ibm.pc.hardware\",\"misc.forsale\",\"comp.sys.ibm.pc.hardware\",\"comp.sys.mac.hardware\",\"comp.sys.ibm.pc.hardware\",\"comp.sys.ibm.pc.hardware\",\"misc.forsale\",\"comp.os.ms-windows.misc\",\"comp.sys.ibm.pc.hardware\",\"comp.sys.mac.hardware\",\"comp.sys.ibm.pc.hardware\",\"comp.sys.ibm.pc.hardware\",\"comp.sys.ibm.pc.hardware\",\"comp.sys.mac.hardware\",\"comp.sys.ibm.pc.hardware\",\"comp.windows.x\",\"comp.sys.ibm.pc.hardware\",\"comp.sys.mac.hardware\",\"comp.sys.ibm.pc.hardware\",\"comp.sys.ibm.pc.hardware\",\"comp.os.ms-windows.misc\",\"comp.sys.ibm.pc.hardware\",\"comp.sys.mac.hardware\",\"comp.sys.ibm.pc.hardware\",\"comp.sys.mac.hardware\",\"comp.sys.ibm.pc.hardware\",\"comp.sys.ibm.pc.hardware\",\"comp.sys.ibm.pc.hardware\",\"comp.sys.mac.hardware\",\"comp.sys.mac.hardware\",\"misc.forsale\",\"comp.sys.ibm.pc.hardware\",\"comp.sys.ibm.pc.hardware\",\"comp.sys.ibm.pc.hardware\",\"comp.sys.mac.hardware\",\"comp.sys.ibm.pc.hardware\",\"comp.sys.mac.hardware\",\"comp.sys.ibm.pc.hardware\",\"comp.sys.ibm.pc.hardware\",\"misc.forsale\",\"comp.sys.ibm.pc.hardware\",\"misc.forsale\",\"comp.sys.mac.hardware\",\"misc.forsale\",\"comp.sys.ibm.pc.hardware\",\"comp.sys.ibm.pc.hardware\",\"comp.sys.ibm.pc.hardware\",\"comp.sys.mac.hardware\",\"comp.sys.mac.hardware\",\"comp.os.ms-windows.misc\",\"comp.sys.ibm.pc.hardware\",\"comp.sys.ibm.pc.hardware\",\"sci.electronics\",\"comp.sys.ibm.pc.hardware\",\"misc.forsale\",\"misc.forsale\",\"misc.forsale\",\"comp.sys.mac.hardware\",\"comp.sys.ibm.pc.hardware\",\"comp.os.ms-windows.misc\",\"comp.sys.ibm.pc.hardware\",\"misc.forsale\",\"comp.sys.ibm.pc.hardware\",\"comp.sys.mac.hardware\",\"comp.sys.ibm.pc.hardware\",\"sci.electronics\",\"comp.sys.mac.hardware\",\"comp.sys.mac.hardware\",\"comp.sys.ibm.pc.hardware\",\"comp.sys.ibm.pc.hardware\",\"comp.sys.mac.hardware\",\"comp.sys.mac.hardware\",\"comp.sys.ibm.pc.hardware\",\"comp.sys.mac.hardware\",\"comp.sys.mac.hardware\",\"misc.forsale\",\"comp.sys.mac.hardware\",\"comp.sys.ibm.pc.hardware\",\"comp.sys.ibm.pc.hardware\",\"comp.sys.ibm.pc.hardware\",\"comp.sys.mac.hardware\",\"comp.sys.mac.hardware\",\"comp.sys.ibm.pc.hardware\",\"misc.forsale\",\"misc.forsale\",\"comp.sys.ibm.pc.hardware\",\"comp.sys.mac.hardware\",\"comp.os.ms-windows.misc\",\"comp.sys.mac.hardware\",\"misc.forsale\",\"comp.sys.ibm.pc.hardware\",\"comp.sys.ibm.pc.hardware\",\"misc.forsale\",\"comp.os.ms-windows.misc\",\"comp.sys.mac.hardware\",\"comp.sys.mac.hardware\",\"comp.sys.mac.hardware\",\"comp.sys.ibm.pc.hardware\",\"comp.sys.ibm.pc.hardware\",\"comp.sys.mac.hardware\",\"comp.sys.mac.hardware\",\"comp.sys.mac.hardware\",\"comp.sys.mac.hardware\",\"comp.sys.ibm.pc.hardware\",\"comp.graphics\",\"comp.sys.ibm.pc.hardware\",\"comp.sys.ibm.pc.hardware\",\"comp.sys.ibm.pc.hardware\",\"comp.sys.ibm.pc.hardware\",\"comp.sys.mac.hardware\",\"comp.sys.mac.hardware\",\"comp.sys.mac.hardware\",\"comp.sys.ibm.pc.hardware\",\"rec.sport.baseball\",\"comp.sys.ibm.pc.hardware\",\"comp.sys.ibm.pc.hardware\",\"comp.graphics\",\"comp.sys.ibm.pc.hardware\",\"comp.sys.ibm.pc.hardware\",\"comp.sys.mac.hardware\",\"comp.sys.ibm.pc.hardware\",\"comp.sys.mac.hardware\",\"comp.sys.ibm.pc.hardware\",\"comp.sys.ibm.pc.hardware\",\"misc.forsale\",\"comp.sys.ibm.pc.hardware\",\"comp.sys.mac.hardware\",\"comp.sys.mac.hardware\",\"comp.sys.mac.hardware\",\"comp.sys.mac.hardware\",\"comp.sys.mac.hardware\",\"comp.sys.mac.hardware\",\"comp.sys.ibm.pc.hardware\",\"misc.forsale\",\"comp.sys.ibm.pc.hardware\",\"misc.forsale\",\"misc.forsale\",\"misc.forsale\",\"comp.sys.ibm.pc.hardware\",\"comp.graphics\",\"comp.sys.mac.hardware\",\"comp.sys.mac.hardware\",\"comp.sys.ibm.pc.hardware\",\"comp.sys.ibm.pc.hardware\",\"comp.sys.ibm.pc.hardware\",\"comp.sys.mac.hardware\",\"comp.sys.mac.hardware\",\"misc.forsale\",\"comp.sys.ibm.pc.hardware\",\"comp.sys.ibm.pc.hardware\",\"comp.sys.ibm.pc.hardware\",\"comp.sys.ibm.pc.hardware\",\"comp.sys.mac.hardware\",\"comp.sys.ibm.pc.hardware\",\"comp.sys.ibm.pc.hardware\",\"comp.sys.ibm.pc.hardware\",\"comp.os.ms-windows.misc\",\"comp.sys.mac.hardware\",\"comp.os.ms-windows.misc\",\"misc.forsale\",\"comp.sys.ibm.pc.hardware\",\"comp.os.ms-windows.misc\",\"comp.sys.ibm.pc.hardware\",\"comp.sys.ibm.pc.hardware\",\"comp.os.ms-windows.misc\",\"comp.sys.ibm.pc.hardware\",\"comp.sys.mac.hardware\",\"comp.sys.ibm.pc.hardware\",\"comp.sys.ibm.pc.hardware\",\"comp.sys.ibm.pc.hardware\",\"sci.electronics\",\"comp.sys.ibm.pc.hardware\",\"misc.forsale\",\"comp.sys.ibm.pc.hardware\",\"sci.electronics\",\"misc.forsale\",\"comp.sys.mac.hardware\",\"comp.sys.ibm.pc.hardware\",\"comp.sys.ibm.pc.hardware\",\"comp.sys.ibm.pc.hardware\",\"comp.sys.mac.hardware\",\"misc.forsale\",\"comp.sys.ibm.pc.hardware\",\"comp.sys.ibm.pc.hardware\",\"comp.sys.ibm.pc.hardware\",\"comp.sys.ibm.pc.hardware\",\"comp.sys.mac.hardware\",\"comp.os.ms-windows.misc\",\"misc.forsale\",\"comp.sys.mac.hardware\",\"misc.forsale\",\"misc.forsale\",\"comp.sys.mac.hardware\",\"misc.forsale\",\"comp.os.ms-windows.misc\",\"comp.sys.mac.hardware\",\"misc.forsale\",\"comp.sys.ibm.pc.hardware\",\"comp.os.ms-windows.misc\",\"comp.sys.mac.hardware\",\"comp.sys.mac.hardware\",\"comp.sys.ibm.pc.hardware\",\"comp.sys.ibm.pc.hardware\",\"comp.sys.ibm.pc.hardware\",\"comp.sys.mac.hardware\",\"comp.graphics\",\"comp.sys.ibm.pc.hardware\",\"comp.sys.mac.hardware\",\"comp.sys.ibm.pc.hardware\",\"comp.os.ms-windows.misc\",\"comp.sys.ibm.pc.hardware\",\"comp.os.ms-windows.misc\",\"sci.electronics\",\"comp.sys.ibm.pc.hardware\",\"comp.sys.mac.hardware\",\"misc.forsale\",\"comp.graphics\",\"comp.sys.ibm.pc.hardware\",\"misc.forsale\",\"comp.sys.ibm.pc.hardware\",\"comp.sys.mac.hardware\",\"comp.sys.ibm.pc.hardware\",\"comp.sys.mac.hardware\",\"sci.electronics\",\"comp.sys.mac.hardware\",\"comp.sys.mac.hardware\",\"comp.sys.ibm.pc.hardware\",\"misc.forsale\",\"sci.electronics\",\"comp.os.ms-windows.misc\",\"comp.os.ms-windows.misc\",\"comp.sys.ibm.pc.hardware\",\"comp.sys.mac.hardware\",\"comp.os.ms-windows.misc\",\"comp.sys.ibm.pc.hardware\",\"misc.forsale\",\"misc.forsale\",\"comp.sys.ibm.pc.hardware\",\"misc.forsale\",\"comp.sys.ibm.pc.hardware\",\"comp.os.ms-windows.misc\",\"comp.sys.ibm.pc.hardware\",\"comp.sys.mac.hardware\",\"comp.sys.mac.hardware\",\"comp.sys.ibm.pc.hardware\",\"comp.sys.ibm.pc.hardware\",\"comp.sys.ibm.pc.hardware\",\"comp.sys.ibm.pc.hardware\",\"comp.sys.mac.hardware\",\"comp.os.ms-windows.misc\",\"misc.forsale\",\"comp.graphics\",\"comp.sys.mac.hardware\",\"misc.forsale\",\"comp.sys.mac.hardware\",\"comp.sys.mac.hardware\",\"comp.sys.ibm.pc.hardware\",\"comp.graphics\",\"comp.sys.ibm.pc.hardware\",\"comp.sys.mac.hardware\",\"comp.sys.ibm.pc.hardware\",\"comp.sys.mac.hardware\",\"comp.sys.mac.hardware\",\"comp.sys.mac.hardware\",\"comp.sys.ibm.pc.hardware\",\"comp.sys.mac.hardware\",\"comp.sys.ibm.pc.hardware\",\"misc.forsale\",\"comp.sys.mac.hardware\",\"comp.sys.ibm.pc.hardware\",\"comp.sys.ibm.pc.hardware\",\"comp.os.ms-windows.misc\",\"comp.sys.mac.hardware\",\"comp.sys.ibm.pc.hardware\",\"comp.sys.ibm.pc.hardware\",\"comp.sys.mac.hardware\",\"comp.sys.mac.hardware\",\"comp.sys.ibm.pc.hardware\",\"comp.graphics\",\"comp.sys.mac.hardware\",\"comp.sys.ibm.pc.hardware\",\"comp.sys.mac.hardware\",\"comp.sys.mac.hardware\",\"comp.sys.ibm.pc.hardware\",\"comp.sys.ibm.pc.hardware\",\"comp.sys.mac.hardware\",\"comp.sys.ibm.pc.hardware\",\"comp.sys.ibm.pc.hardware\",\"comp.sys.ibm.pc.hardware\",\"misc.forsale\",\"comp.sys.ibm.pc.hardware\",\"comp.sys.mac.hardware\",\"misc.forsale\",\"comp.sys.ibm.pc.hardware\",\"comp.sys.mac.hardware\",\"misc.forsale\",\"comp.sys.mac.hardware\",\"misc.forsale\",\"sci.electronics\",\"misc.forsale\",\"comp.sys.ibm.pc.hardware\",\"comp.sys.ibm.pc.hardware\",\"comp.sys.ibm.pc.hardware\",\"comp.sys.mac.hardware\",\"comp.os.ms-windows.misc\",\"comp.sys.mac.hardware\",\"comp.sys.mac.hardware\",\"misc.forsale\",\"comp.sys.mac.hardware\",\"comp.sys.ibm.pc.hardware\",\"comp.sys.mac.hardware\",\"comp.sys.mac.hardware\",\"comp.os.ms-windows.misc\",\"comp.sys.mac.hardware\",\"comp.os.ms-windows.misc\",\"comp.sys.ibm.pc.hardware\",\"comp.sys.ibm.pc.hardware\",\"comp.sys.mac.hardware\",\"misc.forsale\",\"comp.graphics\",\"comp.sys.mac.hardware\",\"comp.sys.mac.hardware\",\"comp.sys.mac.hardware\",\"comp.sys.ibm.pc.hardware\",\"comp.sys.mac.hardware\",\"comp.sys.mac.hardware\",\"comp.sys.mac.hardware\",\"comp.sys.ibm.pc.hardware\",\"comp.sys.mac.hardware\",\"comp.sys.ibm.pc.hardware\",\"misc.forsale\",\"comp.sys.mac.hardware\",\"comp.windows.x\",\"comp.sys.mac.hardware\",\"comp.sys.mac.hardware\",\"comp.sys.ibm.pc.hardware\",\"misc.forsale\",\"misc.forsale\",\"comp.sys.ibm.pc.hardware\",\"comp.os.ms-windows.misc\",\"misc.forsale\",\"comp.sys.mac.hardware\",\"comp.sys.mac.hardware\",\"comp.sys.ibm.pc.hardware\",\"comp.sys.ibm.pc.hardware\",\"comp.sys.ibm.pc.hardware\",\"comp.os.ms-windows.misc\",\"comp.sys.ibm.pc.hardware\",\"sci.electronics\",\"comp.sys.ibm.pc.hardware\",\"misc.forsale\",\"comp.sys.mac.hardware\",\"comp.sys.ibm.pc.hardware\",\"comp.sys.ibm.pc.hardware\",\"comp.sys.ibm.pc.hardware\",\"comp.sys.ibm.pc.hardware\",\"comp.sys.ibm.pc.hardware\",\"comp.graphics\",\"comp.sys.mac.hardware\",\"sci.electronics\",\"comp.sys.ibm.pc.hardware\",\"comp.sys.mac.hardware\",\"comp.sys.mac.hardware\",\"sci.electronics\",\"misc.forsale\",\"comp.sys.ibm.pc.hardware\",\"comp.sys.mac.hardware\",\"comp.sys.ibm.pc.hardware\",\"misc.forsale\",\"comp.sys.mac.hardware\",\"comp.os.ms-windows.misc\",\"comp.sys.ibm.pc.hardware\",\"comp.sys.ibm.pc.hardware\",\"comp.sys.ibm.pc.hardware\",\"misc.forsale\",\"comp.sys.mac.hardware\",\"comp.sys.mac.hardware\",\"comp.sys.mac.hardware\",\"comp.sys.mac.hardware\",\"comp.os.ms-windows.misc\",\"sci.electronics\",\"comp.sys.mac.hardware\",\"comp.sys.ibm.pc.hardware\",\"comp.sys.ibm.pc.hardware\",\"comp.sys.ibm.pc.hardware\",\"misc.forsale\",\"comp.sys.mac.hardware\",\"comp.sys.mac.hardware\",\"comp.sys.ibm.pc.hardware\",\"comp.graphics\",\"comp.sys.mac.hardware\",\"comp.sys.ibm.pc.hardware\",\"comp.sys.ibm.pc.hardware\",\"comp.sys.ibm.pc.hardware\",\"comp.sys.ibm.pc.hardware\",\"comp.sys.ibm.pc.hardware\",\"sci.electronics\",\"comp.os.ms-windows.misc\",\"misc.forsale\",\"misc.forsale\",\"misc.forsale\",\"comp.sys.ibm.pc.hardware\",\"comp.sys.ibm.pc.hardware\",\"comp.sys.ibm.pc.hardware\",\"comp.sys.ibm.pc.hardware\",\"misc.forsale\",\"comp.sys.ibm.pc.hardware\",\"comp.sys.ibm.pc.hardware\",\"comp.sys.mac.hardware\",\"sci.crypt\",\"comp.os.ms-windows.misc\",\"comp.sys.mac.hardware\",\"comp.sys.ibm.pc.hardware\",\"comp.sys.ibm.pc.hardware\",\"comp.sys.mac.hardware\",\"misc.forsale\",\"comp.sys.mac.hardware\",\"comp.sys.mac.hardware\",\"misc.forsale\",\"comp.sys.ibm.pc.hardware\",\"sci.electronics\",\"comp.sys.ibm.pc.hardware\",\"comp.sys.mac.hardware\",\"misc.forsale\",\"misc.forsale\",\"misc.forsale\",\"comp.os.ms-windows.misc\",\"sci.electronics\",\"comp.sys.ibm.pc.hardware\",\"comp.os.ms-windows.misc\",\"comp.sys.mac.hardware\",\"misc.forsale\",\"comp.sys.ibm.pc.hardware\",\"comp.sys.ibm.pc.hardware\",\"comp.sys.ibm.pc.hardware\",\"comp.sys.mac.hardware\",\"sci.electronics\",\"misc.forsale\",\"misc.forsale\",\"comp.sys.mac.hardware\",\"comp.sys.ibm.pc.hardware\",\"comp.sys.ibm.pc.hardware\",\"rec.autos\",\"comp.sys.mac.hardware\",\"misc.forsale\",\"comp.os.ms-windows.misc\",\"comp.sys.mac.hardware\",\"comp.sys.ibm.pc.hardware\",\"comp.sys.mac.hardware\",\"comp.sys.ibm.pc.hardware\",\"comp.sys.mac.hardware\",\"comp.sys.ibm.pc.hardware\",\"comp.sys.ibm.pc.hardware\",\"comp.sys.mac.hardware\",\"comp.sys.mac.hardware\",\"comp.sys.ibm.pc.hardware\",\"comp.sys.ibm.pc.hardware\",\"comp.sys.ibm.pc.hardware\",\"sci.electronics\",\"comp.sys.mac.hardware\",\"comp.sys.ibm.pc.hardware\",\"comp.sys.mac.hardware\",\"comp.sys.mac.hardware\",\"misc.forsale\",\"misc.forsale\",\"comp.sys.mac.hardware\",\"comp.sys.ibm.pc.hardware\",\"comp.sys.mac.hardware\",\"comp.sys.mac.hardware\",\"rec.motorcycles\",\"comp.windows.x\",\"sci.electronics\",\"comp.sys.mac.hardware\",\"comp.sys.ibm.pc.hardware\",\"comp.sys.ibm.pc.hardware\",\"comp.graphics\",\"comp.sys.ibm.pc.hardware\",\"comp.os.ms-windows.misc\",\"comp.sys.ibm.pc.hardware\",\"comp.sys.mac.hardware\",\"comp.sys.mac.hardware\",\"sci.electronics\",\"comp.graphics\",\"comp.sys.ibm.pc.hardware\",\"comp.os.ms-windows.misc\",\"comp.sys.ibm.pc.hardware\",\"comp.os.ms-windows.misc\",\"comp.sys.ibm.pc.hardware\",\"comp.os.ms-windows.misc\",\"misc.forsale\",\"misc.forsale\",\"comp.sys.mac.hardware\",\"misc.forsale\",\"misc.forsale\",\"comp.sys.ibm.pc.hardware\",\"comp.os.ms-windows.misc\",\"misc.forsale\",\"comp.sys.ibm.pc.hardware\",\"comp.sys.mac.hardware\",\"comp.sys.mac.hardware\",\"comp.sys.mac.hardware\",\"comp.sys.mac.hardware\",\"comp.sys.mac.hardware\",\"comp.sys.mac.hardware\",\"sci.electronics\",\"comp.sys.ibm.pc.hardware\",\"misc.forsale\",\"comp.sys.ibm.pc.hardware\",\"comp.sys.mac.hardware\",\"comp.sys.ibm.pc.hardware\",\"comp.sys.mac.hardware\",\"rec.motorcycles\",\"comp.os.ms-windows.misc\",\"comp.graphics\",\"misc.forsale\",\"comp.sys.ibm.pc.hardware\",\"comp.sys.ibm.pc.hardware\",\"comp.sys.ibm.pc.hardware\",\"misc.forsale\",\"comp.graphics\",\"sci.electronics\",\"comp.sys.ibm.pc.hardware\",\"comp.sys.ibm.pc.hardware\",\"misc.forsale\",\"comp.sys.mac.hardware\",\"comp.sys.ibm.pc.hardware\",\"comp.sys.mac.hardware\",\"misc.forsale\",\"comp.sys.mac.hardware\",\"comp.sys.ibm.pc.hardware\",\"comp.graphics\",\"comp.os.ms-windows.misc\",\"misc.forsale\",\"comp.sys.ibm.pc.hardware\",\"misc.forsale\",\"misc.forsale\",\"comp.sys.mac.hardware\",\"comp.windows.x\",\"comp.sys.mac.hardware\",\"comp.sys.ibm.pc.hardware\",\"comp.sys.mac.hardware\",\"comp.sys.ibm.pc.hardware\",\"comp.sys.ibm.pc.hardware\",\"misc.forsale\",\"comp.sys.ibm.pc.hardware\",\"comp.sys.mac.hardware\",\"misc.forsale\",\"comp.sys.ibm.pc.hardware\",\"sci.electronics\",\"rec.autos\",\"sci.electronics\",\"comp.sys.mac.hardware\",\"comp.sys.mac.hardware\",\"sci.crypt\",\"comp.sys.ibm.pc.hardware\",\"comp.sys.mac.hardware\",\"comp.sys.mac.hardware\",\"comp.sys.ibm.pc.hardware\",\"misc.forsale\",\"comp.sys.mac.hardware\",\"misc.forsale\",\"sci.med\",\"misc.forsale\",\"rec.motorcycles\",\"comp.sys.ibm.pc.hardware\",\"rec.sport.hockey\",\"comp.sys.ibm.pc.hardware\",\"comp.sys.ibm.pc.hardware\",\"comp.sys.mac.hardware\",\"comp.sys.ibm.pc.hardware\",\"comp.os.ms-windows.misc\",\"comp.sys.mac.hardware\",\"comp.windows.x\",\"misc.forsale\",\"misc.forsale\",\"sci.crypt\",\"comp.os.ms-windows.misc\",\"comp.sys.ibm.pc.hardware\",\"comp.sys.ibm.pc.hardware\",\"comp.windows.x\",\"comp.sys.mac.hardware\",\"misc.forsale\",\"sci.electronics\",\"comp.sys.ibm.pc.hardware\",\"misc.forsale\",\"comp.sys.ibm.pc.hardware\",\"comp.sys.ibm.pc.hardware\",\"comp.sys.mac.hardware\",\"misc.forsale\",\"misc.forsale\",\"sci.electronics\",\"comp.sys.ibm.pc.hardware\",\"comp.sys.mac.hardware\",\"comp.sys.ibm.pc.hardware\",\"comp.sys.ibm.pc.hardware\",\"comp.sys.mac.hardware\",\"comp.sys.ibm.pc.hardware\",\"comp.os.ms-windows.misc\",\"comp.sys.ibm.pc.hardware\",\"misc.forsale\",\"misc.forsale\",\"misc.forsale\",\"comp.sys.mac.hardware\",\"comp.sys.ibm.pc.hardware\",\"comp.sys.mac.hardware\",\"comp.sys.mac.hardware\",\"comp.sys.ibm.pc.hardware\",\"comp.os.ms-windows.misc\",\"misc.forsale\",\"sci.electronics\",\"comp.sys.ibm.pc.hardware\",\"comp.sys.mac.hardware\",\"rec.sport.baseball\",\"comp.sys.mac.hardware\",\"sci.crypt\",\"comp.sys.mac.hardware\",\"misc.forsale\",\"sci.electronics\",\"comp.sys.mac.hardware\",\"comp.sys.mac.hardware\",\"comp.sys.ibm.pc.hardware\",\"comp.sys.mac.hardware\",\"misc.forsale\",\"misc.forsale\",\"comp.os.ms-windows.misc\",\"comp.sys.mac.hardware\",\"comp.sys.ibm.pc.hardware\",\"comp.os.ms-windows.misc\",\"sci.electronics\",\"comp.sys.mac.hardware\",\"comp.sys.mac.hardware\",\"misc.forsale\",\"misc.forsale\",\"comp.sys.ibm.pc.hardware\",\"comp.sys.mac.hardware\",\"comp.os.ms-windows.misc\",\"comp.windows.x\",\"comp.sys.ibm.pc.hardware\",\"comp.graphics\",\"comp.sys.mac.hardware\",\"comp.sys.mac.hardware\",\"comp.sys.mac.hardware\",\"comp.os.ms-windows.misc\",\"comp.os.ms-windows.misc\",\"misc.forsale\",\"misc.forsale\",\"comp.sys.mac.hardware\",\"comp.sys.mac.hardware\",\"misc.forsale\",\"comp.sys.mac.hardware\",\"comp.sys.ibm.pc.hardware\",\"comp.sys.ibm.pc.hardware\",\"sci.electronics\",\"misc.forsale\",\"comp.os.ms-windows.misc\",\"misc.forsale\",\"comp.sys.mac.hardware\",\"comp.os.ms-windows.misc\",\"comp.sys.mac.hardware\",\"comp.graphics\",\"comp.sys.mac.hardware\",\"comp.sys.mac.hardware\",\"comp.sys.mac.hardware\",\"comp.sys.mac.hardware\",\"misc.forsale\",\"comp.sys.mac.hardware\",\"misc.forsale\",\"comp.sys.ibm.pc.hardware\",\"misc.forsale\",\"comp.sys.mac.hardware\",\"comp.sys.mac.hardware\",\"comp.sys.mac.hardware\",\"comp.sys.mac.hardware\",\"sci.electronics\",\"comp.sys.ibm.pc.hardware\",\"misc.forsale\",\"misc.forsale\",\"misc.forsale\",\"sci.electronics\",\"sci.electronics\",\"rec.autos\",\"comp.sys.mac.hardware\",\"talk.religion.misc\",\"comp.sys.mac.hardware\",\"comp.sys.mac.hardware\",\"comp.sys.mac.hardware\",\"comp.os.ms-windows.misc\",\"comp.sys.ibm.pc.hardware\",\"comp.sys.mac.hardware\",\"comp.sys.ibm.pc.hardware\",\"rec.motorcycles\",\"comp.sys.mac.hardware\",\"comp.os.ms-windows.misc\",\"comp.sys.ibm.pc.hardware\",\"misc.forsale\",\"comp.sys.ibm.pc.hardware\",\"comp.os.ms-windows.misc\",\"misc.forsale\",\"comp.sys.mac.hardware\",\"misc.forsale\",\"comp.sys.ibm.pc.hardware\",\"misc.forsale\",\"misc.forsale\",\"misc.forsale\",\"misc.forsale\",\"misc.forsale\",\"misc.forsale\",\"comp.os.ms-windows.misc\",\"misc.forsale\",\"comp.sys.ibm.pc.hardware\",\"comp.sys.mac.hardware\",\"misc.forsale\",\"comp.os.ms-windows.misc\",\"rec.motorcycles\",\"comp.os.ms-windows.misc\",\"comp.sys.mac.hardware\",\"misc.forsale\",\"comp.os.ms-windows.misc\",\"comp.graphics\",\"comp.sys.ibm.pc.hardware\",\"comp.sys.mac.hardware\",\"comp.sys.mac.hardware\",\"rec.motorcycles\",\"misc.forsale\",\"comp.os.ms-windows.misc\",\"sci.electronics\",\"misc.forsale\",\"misc.forsale\",\"comp.sys.mac.hardware\",\"misc.forsale\",\"comp.sys.ibm.pc.hardware\",\"comp.os.ms-windows.misc\",\"misc.forsale\",\"comp.sys.mac.hardware\",\"comp.os.ms-windows.misc\",\"comp.os.ms-windows.misc\",\"comp.sys.mac.hardware\",\"comp.sys.ibm.pc.hardware\",\"rec.autos\",\"misc.forsale\",\"comp.sys.mac.hardware\",\"misc.forsale\",\"comp.sys.mac.hardware\",\"comp.sys.mac.hardware\",\"comp.sys.ibm.pc.hardware\",\"comp.os.ms-windows.misc\",\"sci.electronics\",\"comp.sys.ibm.pc.hardware\",\"misc.forsale\",\"comp.graphics\",\"comp.os.ms-windows.misc\",\"comp.sys.ibm.pc.hardware\",\"comp.sys.ibm.pc.hardware\",\"comp.sys.ibm.pc.hardware\",\"comp.graphics\",\"comp.sys.mac.hardware\",\"comp.sys.mac.hardware\",\"rec.sport.hockey\",\"rec.sport.hockey\",\"rec.sport.hockey\",\"rec.sport.hockey\",\"comp.os.ms-windows.misc\",\"comp.sys.ibm.pc.hardware\",\"comp.sys.mac.hardware\",\"comp.sys.ibm.pc.hardware\",\"sci.electronics\",\"comp.os.ms-windows.misc\",\"sci.electronics\",\"comp.sys.mac.hardware\",\"comp.graphics\",\"comp.sys.mac.hardware\",\"sci.electronics\",\"sci.space\",\"rec.sport.baseball\",\"comp.windows.x\",\"comp.sys.mac.hardware\",\"comp.os.ms-windows.misc\",\"sci.electronics\",\"comp.sys.mac.hardware\",\"misc.forsale\",\"comp.os.ms-windows.misc\",\"comp.os.ms-windows.misc\",\"comp.os.ms-windows.misc\",\"comp.os.ms-windows.misc\",\"comp.os.ms-windows.misc\",\"comp.os.ms-windows.misc\",\"misc.forsale\",\"comp.os.ms-windows.misc\",\"misc.forsale\",\"misc.forsale\",\"comp.os.ms-windows.misc\",\"comp.sys.mac.hardware\",\"comp.os.ms-windows.misc\",\"comp.os.ms-windows.misc\",\"sci.electronics\",\"comp.os.ms-windows.misc\",\"comp.os.ms-windows.misc\",\"comp.sys.mac.hardware\",\"comp.os.ms-windows.misc\",\"comp.os.ms-windows.misc\",\"comp.os.ms-windows.misc\",\"comp.graphics\",\"comp.windows.x\",\"misc.forsale\",\"comp.sys.ibm.pc.hardware\",\"misc.forsale\",\"sci.electronics\",\"comp.os.ms-windows.misc\",\"comp.graphics\",\"comp.graphics\",\"comp.graphics\",\"comp.os.ms-windows.misc\",\"misc.forsale\",\"comp.os.ms-windows.misc\",\"comp.os.ms-windows.misc\",\"comp.windows.x\",\"comp.os.ms-windows.misc\",\"comp.os.ms-windows.misc\",\"comp.os.ms-windows.misc\",\"comp.windows.x\",\"comp.os.ms-windows.misc\",\"comp.os.ms-windows.misc\",\"comp.os.ms-windows.misc\",\"misc.forsale\",\"comp.os.ms-windows.misc\",\"sci.crypt\",\"sci.crypt\",\"sci.crypt\",\"sci.crypt\",\"sci.crypt\",\"sci.crypt\",\"sci.crypt\",\"sci.crypt\",\"sci.crypt\",\"sci.crypt\",\"sci.crypt\",\"sci.crypt\",\"sci.crypt\",\"sci.crypt\",\"sci.crypt\",\"sci.crypt\",\"sci.crypt\",\"sci.crypt\",\"sci.crypt\",\"sci.crypt\",\"sci.crypt\",\"sci.crypt\",\"sci.crypt\",\"sci.crypt\",\"sci.crypt\",\"sci.crypt\",\"sci.crypt\",\"sci.crypt\",\"sci.crypt\",\"sci.crypt\",\"sci.crypt\",\"sci.crypt\",\"sci.crypt\",\"sci.crypt\",\"sci.crypt\",\"sci.crypt\",\"sci.crypt\",\"sci.crypt\",\"sci.crypt\",\"alt.atheism\",\"sci.crypt\",\"sci.crypt\",\"sci.crypt\",\"sci.crypt\",\"sci.crypt\",\"sci.crypt\",\"sci.crypt\",\"sci.crypt\",\"sci.crypt\",\"sci.crypt\",\"sci.crypt\",\"sci.crypt\",\"sci.crypt\",\"sci.crypt\",\"sci.crypt\",\"sci.crypt\",\"sci.crypt\",\"sci.crypt\",\"sci.electronics\",\"sci.crypt\",\"sci.crypt\",\"sci.crypt\",\"sci.crypt\",\"sci.crypt\",\"sci.crypt\",\"sci.crypt\",\"sci.crypt\",\"sci.crypt\",\"sci.crypt\",\"sci.crypt\",\"sci.crypt\",\"sci.crypt\",\"sci.crypt\",\"sci.crypt\",\"sci.crypt\",\"sci.crypt\",\"sci.crypt\",\"sci.crypt\",\"sci.crypt\",\"sci.crypt\",\"talk.politics.guns\",\"sci.crypt\",\"sci.crypt\",\"talk.politics.guns\",\"sci.crypt\"],\"fill_color\":[\"#55ff00\",\"#55ff00\",\"#55ff00\",\"#55ff00\",\"#55ff00\",\"#55ff00\",\"#55ff00\",\"#55ff00\",\"#55ff00\",\"#55ff00\",\"#55ff00\",\"#55ff00\",\"#55ff00\",\"#55ff00\",\"#55ff00\",\"#55ff00\",\"#55ff00\",\"#55ff00\",\"#55ff00\",\"#55ff00\",\"#55ff00\",\"#55ff00\",\"#55ff00\",\"#55ff00\",\"#55ff00\",\"#55ff00\",\"#55ff00\",\"#55ff00\",\"#55ff00\",\"#55ff00\",\"#55ff00\",\"#55ff00\",\"#55ff00\",\"#55ff00\",\"#55ff00\",\"#55ff00\",\"#55ff00\",\"#55ff00\",\"#55ff00\",\"#55ff00\",\"#55ff00\",\"#55ff00\",\"#55ff00\",\"#55ff00\",\"#55ff00\",\"#55ff00\",\"#55ff00\",\"#55ff00\",\"#55ff00\",\"#55ff00\",\"#55ff00\",\"#55ff00\",\"#55ff00\",\"#55ff00\",\"#55ff00\",\"#55ff00\",\"#55ff00\",\"#55ff00\",\"#55ff00\",\"#55ff00\",\"#55ff00\",\"#55ff00\",\"#55ff00\",\"#55ff00\",\"#55ff00\",\"#55ff00\",\"#55ff00\",\"#55ff00\",\"#55ff00\",\"#55ff00\",\"#55ff00\",\"#55ff00\",\"#55ff00\",\"#55ff00\",\"#55ff00\",\"#55ff00\",\"#55ff00\",\"#55ff00\",\"#55ff00\",\"#55ff00\",\"#55ff00\",\"#55ff00\",\"#55ff00\",\"#55ff00\",\"#55ff00\",\"#55ff00\",\"#55ff00\",\"#55ff00\",\"#55ff00\",\"#55ff00\",\"#55ff00\",\"#55ff00\",\"#55ff00\",\"#55ff00\",\"#55ff00\",\"#55ff00\",\"#55ff00\",\"#55ff00\",\"#55ff00\",\"#55ff00\",\"#55ff00\",\"#55ff00\",\"#55ff00\",\"#55ff00\",\"#55ff00\",\"#55ff00\",\"#55ff00\",\"#55ff00\",\"#55ff00\",\"#55ff00\",\"#55ff00\",\"#55ff00\",\"#55ff00\",\"#55ff00\",\"#55ff00\",\"#55ff00\",\"#55ff00\",\"#55ff00\",\"#55ff00\",\"#55ff00\",\"#55ff00\",\"#55ff00\",\"#55ff00\",\"#55ff00\",\"#55ff00\",\"#55ff00\",\"#55ff00\",\"#55ff00\",\"#55ff00\",\"#55ff00\",\"#55ff00\",\"#55ff00\",\"#55ff00\",\"#55ff00\",\"#55ff00\",\"#55ff00\",\"#55ff00\",\"#55ff00\",\"#55ff00\",\"#55ff00\",\"#55ff00\",\"#55ff00\",\"#55ff00\",\"#55ff00\",\"#55ff00\",\"#55ff00\",\"#55ff00\",\"#55ff00\",\"#55ff00\",\"#55ff00\",\"#55ff00\",\"#55ff00\",\"#55ff00\",\"#55ff00\",\"#55ff00\",\"#55ff00\",\"#55ff00\",\"#55ff00\",\"#55ff00\",\"#55ff00\",\"#55ff00\",\"#55ff00\",\"#55ff00\",\"#55ff00\",\"#55ff00\",\"#55ff00\",\"#55ff00\",\"#55ff00\",\"#55ff00\",\"#55ff00\",\"#55ff00\",\"#55ff00\",\"#55ff00\",\"#55ff00\",\"#55ff00\",\"#55ff00\",\"#55ff00\",\"#55ff00\",\"#55ff00\",\"#55ff00\",\"#55ff00\",\"#55ff00\",\"#55ff00\",\"#55ff00\",\"#55ff00\",\"#55ff00\",\"#55ff00\",\"#55ff00\",\"#55ff00\",\"#55ff00\",\"#55ff00\",\"#55ff00\",\"#55ff00\",\"#55ff00\",\"#55ff00\",\"#55ff00\",\"#55ff00\",\"#55ff00\",\"#55ff00\",\"#55ff00\",\"#55ff00\",\"#55ff00\",\"#55ff00\",\"#55ff00\",\"#55ff00\",\"#55ff00\",\"#55ff00\",\"#55ff00\",\"#55ff00\",\"#55ff00\",\"#55ff00\",\"#55ff00\",\"#55ff00\",\"#55ff00\",\"#55ff00\",\"#55ff00\",\"#55ff00\",\"#55ff00\",\"#55ff00\",\"#55ff00\",\"#55ff00\",\"#55ff00\",\"#55ff00\",\"#55ff00\",\"#55ff00\",\"#55ff00\",\"#55ff00\",\"#55ff00\",\"#55ff00\",\"#55ff00\",\"#55ff00\",\"#55ff00\",\"#55ff00\",\"#55ff00\",\"#55ff00\",\"#55ff00\",\"#55ff00\",\"#55ff00\",\"#55ff00\",\"#55ff00\",\"#55ff00\",\"#55ff00\",\"#55ff00\",\"#55ff00\",\"#55ff00\",\"#55ff00\",\"#55ff00\",\"#55ff00\",\"#55ff00\",\"#55ff00\",\"#55ff00\",\"#55ff00\",\"#55ff00\",\"#55ff00\",\"#55ff00\",\"#55ff00\",\"#55ff00\",\"#55ff00\",\"#55ff00\",\"#55ff00\",\"#55ff00\",\"#55ff00\",\"#55ff00\",\"#55ff00\",\"#55ff00\",\"#55ff00\",\"#55ff00\",\"#55ff00\",\"#55ff00\",\"#55ff00\",\"#55ff00\",\"#55ff00\",\"#55ff00\",\"#55ff00\",\"#55ff00\",\"#55ff00\",\"#55ff00\",\"#55ff00\",\"#55ff00\",\"#55ff00\",\"#55ff00\",\"#55ff00\",\"#55ff00\",\"#55ff00\",\"#55ff00\",\"#55ff00\",\"#55ff00\",\"#55ff00\",\"#55ff00\",\"#55ff00\",\"#55ff00\",\"#55ff00\",\"#55ff00\",\"#55ff00\",\"#55ff00\",\"#55ff00\",\"#55ff00\",\"#55ff00\",\"#55ff00\",\"#55ff00\",\"#55ff00\",\"#55ff00\",\"#55ff00\",\"#55ff00\",\"#55ff00\",\"#55ff00\",\"#55ff00\",\"#55ff00\",\"#55ff00\",\"#55ff00\",\"#55ff00\",\"#55ff00\",\"#55ff00\",\"#55ff00\",\"#55ff00\",\"#55ff00\",\"#55ff00\",\"#55ff00\",\"#55ff00\",\"#55ff00\",\"#55ff00\",\"#55ff00\",\"#55ff00\",\"#55ff00\",\"#55ff00\",\"#55ff00\",\"#55ff00\",\"#55ff00\",\"#55ff00\",\"#55ff00\",\"#55ff00\",\"#55ff00\",\"#55ff00\",\"#55ff00\",\"#55ff00\",\"#55ff00\",\"#55ff00\",\"#55ff00\",\"#55ff00\",\"#55ff00\",\"#55ff00\",\"#55ff00\",\"#55ff00\",\"#55ff00\",\"#55ff00\",\"#55ff00\",\"#55ff00\",\"#55ff00\",\"#55ff00\",\"#55ff00\",\"#55ff00\",\"#55ff00\",\"#55ff00\",\"#55ff00\",\"#55ff00\",\"#55ff00\",\"#55ff00\",\"#55ff00\",\"#55ff00\",\"#55ff00\",\"#55ff00\",\"#55ff00\",\"#55ff00\",\"#55ff00\",\"#55ff00\",\"#55ff00\",\"#55ff00\",\"#55ff00\",\"#55ff00\",\"#55ff00\",\"#55ff00\",\"#55ff00\",\"#55ff00\",\"#55ff00\",\"#55ff00\",\"#55ff00\",\"#55ff00\",\"#55ff00\",\"#55ff00\",\"#55ff00\",\"#55ff00\",\"#55ff00\",\"#55ff00\",\"#55ff00\",\"#55ff00\",\"#55ff00\",\"#55ff00\",\"#55ff00\",\"#55ff00\",\"#55ff00\",\"#55ff00\",\"#55ff00\",\"#55ff00\",\"#55ff00\",\"#55ff00\",\"#55ff00\",\"#55ff00\",\"#55ff00\",\"#55ff00\",\"#55ff00\",\"#55ff00\",\"#55ff00\",\"#55ff00\",\"#55ff00\",\"#55ff00\",\"#55ff00\",\"#55ff00\",\"#55ff00\",\"#55ff00\",\"#55ff00\",\"#55ff00\",\"#55ff00\",\"#55ff00\",\"#55ff00\",\"#55ff00\",\"#55ff00\",\"#55ff00\",\"#55ff00\",\"#55ff00\",\"#55ff00\",\"#55ff00\",\"#55ff00\",\"#55ff00\",\"#55ff00\",\"#55ff00\",\"#55ff00\",\"#55ff00\",\"#55ff00\",\"#55ff00\",\"#55ff00\",\"#55ff00\",\"#55ff00\",\"#55ff00\",\"#55ff00\",\"#55ff00\",\"#55ff00\",\"#55ff00\",\"#55ff00\",\"#55ff00\",\"#55ff00\",\"#55ff00\",\"#55ff00\",\"#55ff00\",\"#55ff00\",\"#55ff00\",\"#55ff00\",\"#55ff00\",\"#55ff00\",\"#55ff00\",\"#55ff00\",\"#55ff00\",\"#55ff00\",\"#55ff00\",\"#55ff00\",\"#55ff00\",\"#55ff00\",\"#55ff00\",\"#55ff00\",\"#55ff00\",\"#55ff00\",\"#55ff00\",\"#55ff00\",\"#55ff00\",\"#55ff00\",\"#55ff00\",\"#55ff00\",\"#55ff00\",\"#55ff00\",\"#55ff00\",\"#55ff00\",\"#55ff00\",\"#55ff00\",\"#55ff00\",\"#55ff00\",\"#55ff00\",\"#55ff00\",\"#55ff00\",\"#55ff00\",\"#55ff00\",\"#55ff00\",\"#55ff00\",\"#55ff00\",\"#55ff00\",\"#55ff00\",\"#55ff00\",\"#55ff00\",\"#55ff00\",\"#55ff00\",\"#55ff00\",\"#55ff00\",\"#55ff00\",\"#55ff00\",\"#55ff00\",\"#55ff00\",\"#55ff00\",\"#55ff00\",\"#55ff00\",\"#55ff00\",\"#55ff00\",\"#55ff00\",\"#55ff00\",\"#55ff00\",\"#55ff00\",\"#55ff00\",\"#55ff00\",\"#55ff00\",\"#55ff00\",\"#55ff00\",\"#55ff00\",\"#55ff00\",\"#55ff00\",\"#55ff00\",\"#55ff00\",\"#55ff00\",\"#55ff00\",\"#55ff00\",\"#55ff00\",\"#55ff00\",\"#55ff00\",\"#55ff00\",\"#55ff00\",\"#55ff00\",\"#55ff00\",\"#55ff00\",\"#55ff00\",\"#55ff00\",\"#55ff00\",\"#55ff00\",\"#55ff00\",\"#55ff00\",\"#55ff00\",\"#55ff00\",\"#55ff00\",\"#55ff00\",\"#55ff00\",\"#55ff00\",\"#55ff00\",\"#55ff00\",\"#55ff00\",\"#55ff00\",\"#55ff00\",\"#55ff00\",\"#55ff00\",\"#55ff00\",\"#55ff00\",\"#55ff00\",\"#55ff00\",\"#55ff00\",\"#55ff00\",\"#55ff00\",\"#55ff00\",\"#55ff00\",\"#55ff00\",\"#55ff00\",\"#55ff00\",\"#55ff00\",\"#55ff00\",\"#55ff00\",\"#55ff00\",\"#55ff00\",\"#55ff00\",\"#55ff00\",\"#55ff00\",\"#55ff00\",\"#55ff00\",\"#55ff00\",\"#55ff00\",\"#55ff00\",\"#55ff00\",\"#55ff00\",\"#55ff00\",\"#55ff00\",\"#55ff00\",\"#55ff00\",\"#55ff00\",\"#55ff00\",\"#55ff00\",\"#55ff00\",\"#55ff00\",\"#55ff00\",\"#55ff00\",\"#55ff00\",\"#55ff00\",\"#55ff00\",\"#55ff00\",\"#55ff00\",\"#55ff00\",\"#55ff00\",\"#55ff00\",\"#55ff00\",\"#55ff00\",\"#55ff00\",\"#55ff00\",\"#55ff00\",\"#55ff00\",\"#55ff00\",\"#55ff00\",\"#55ff00\",\"#55ff00\",\"#55ff00\",\"#55ff00\",\"#55ff00\",\"#55ff00\",\"#55ff00\",\"#55ff00\",\"#55ff00\",\"#55ff00\",\"#55ff00\",\"#55ff00\",\"#55ff00\",\"#55ff00\",\"#55ff00\",\"#55ff00\",\"#55ff00\",\"#55ff00\",\"#55ff00\",\"#55ff00\",\"#55ff00\",\"#55ff00\",\"#55ff00\",\"#55ff00\",\"#55ff00\",\"#55ff00\",\"#55ff00\",\"#55ff00\",\"#55ff00\",\"#55ff00\",\"#55ff00\",\"#55ff00\",\"#55ff00\",\"#55ff00\",\"#55ff00\",\"#55ff00\",\"#55ff00\",\"#55ff00\",\"#55ff00\",\"#55ff00\",\"#55ff00\",\"#55ff00\",\"#55ff00\",\"#55ff00\",\"#55ff00\",\"#55ff00\",\"#55ff00\",\"#55ff00\",\"#55ff00\",\"#55ff00\",\"#55ff00\",\"#55ff00\",\"#55ff00\",\"#55ff00\",\"#55ff00\",\"#55ff00\",\"#55ff00\",\"#55ff00\",\"#55ff00\",\"#55ff00\",\"#55ff00\",\"#55ff00\",\"#55ff00\",\"#55ff00\",\"#55ff00\",\"#55ff00\",\"#55ff00\",\"#55ff00\",\"#55ff00\",\"#55ff00\",\"#55ff00\",\"#55ff00\",\"#55ff00\",\"#55ff00\",\"#55ff00\",\"#55ff00\",\"#55ff00\",\"#55ff00\",\"#55ff00\",\"#55ff00\",\"#55ff00\",\"#55ff00\",\"#55ff00\",\"#55ff00\",\"#55ff00\",\"#55ff00\",\"#55ff00\",\"#55ff00\",\"#55ff00\",\"#55ff00\",\"#55ff00\",\"#55ff00\",\"#55ff00\",\"#55ff00\",\"#55ff00\",\"#55ff00\",\"#55ff00\",\"#55ff00\",\"#55ff00\",\"#55ff00\",\"#55ff00\",\"#55ff00\",\"#55ff00\",\"#55ff00\",\"#55ff00\",\"#55ff00\",\"#55ff00\",\"#55ff00\",\"#55ff00\",\"#55ff00\",\"#55ff00\",\"#55ff00\",\"#55ff00\",\"#55ff00\",\"#55ff00\",\"#55ff00\",\"#55ff00\",\"#55ff00\",\"#55ff00\",\"#55ff00\",\"#55ff00\",\"#55ff00\",\"#55ff00\",\"#55ff00\",\"#55ff00\",\"#55ff00\",\"#55ff00\",\"#55ff00\",\"#55ff00\",\"#55ff00\",\"#55ff00\",\"#55ff00\",\"#55ff00\",\"#55ff00\",\"#55ff00\",\"#55ff00\",\"#55ff00\",\"#55ff00\",\"#55ff00\",\"#55ff00\",\"#55ff00\",\"#55ff00\",\"#55ff00\",\"#55ff00\",\"#55ff00\",\"#55ff00\",\"#55ff00\",\"#55ff00\",\"#55ff00\",\"#55ff00\",\"#55ff00\",\"#55ff00\",\"#55ff00\",\"#55ff00\",\"#55ff00\",\"#55ff00\",\"#55ff00\",\"#55ff00\",\"#55ff00\",\"#55ff00\",\"#55ff00\",\"#55ff00\",\"#55ff00\",\"#55ff00\",\"#55ff00\",\"#55ff00\",\"#55ff00\",\"#55ff00\",\"#55ff00\",\"#55ff00\",\"#55ff00\",\"#55ff00\",\"#55ff00\",\"#55ff00\",\"#55ff00\",\"#55ff00\",\"#55ff00\",\"#55ff00\",\"#55ff00\",\"#55ff00\",\"#55ff00\",\"#55ff00\",\"#55ff00\",\"#55ff00\",\"#55ff00\",\"#55ff00\",\"#55ff00\",\"#55ff00\",\"#55ff00\",\"#55ff00\",\"#55ff00\",\"#55ff00\",\"#55ff00\",\"#55ff00\",\"#55ff00\",\"#55ff00\",\"#55ff00\",\"#55ff00\",\"#55ff00\",\"#55ff00\",\"#55ff00\",\"#55ff00\",\"#55ff00\",\"#55ff00\",\"#55ff00\",\"#55ff00\",\"#55ff00\",\"#55ff00\",\"#55ff00\",\"#55ff00\",\"#55ff00\",\"#55ff00\",\"#55ff00\",\"#55ff00\",\"#55ff00\",\"#55ff00\",\"#55ff00\",\"#55ff00\",\"#55ff00\",\"#55ff00\",\"#55ff00\",\"#55ff00\",\"#55ff00\",\"#55ff00\",\"#55ff00\",\"#55ff00\",\"#55ff00\",\"#55ff00\",\"#55ff00\",\"#55ff00\",\"#55ff00\",\"#55ff00\",\"#55ff00\",\"#55ff00\",\"#55ff00\",\"#55ff00\",\"#55ff00\",\"#55ff00\",\"#55ff00\",\"#55ff00\",\"#55ff00\",\"#55ff00\",\"#55ff00\",\"#55ff00\",\"#55ff00\",\"#55ff00\",\"#55ff00\",\"#55ff00\",\"#55ff00\",\"#55ff00\",\"#55ff00\",\"#55ff00\",\"#55ff00\",\"#55ff00\",\"#55ff00\",\"#55ff00\",\"#55ff00\",\"#55ff00\",\"#55ff00\",\"#55ff00\",\"#55ff00\",\"#55ff00\",\"#55ff00\",\"#55ff00\",\"#55ff00\",\"#55ff00\",\"#55ff00\",\"#55ff00\",\"#55ff00\",\"#55ff00\",\"#55ff00\",\"#55ff00\",\"#55ff00\",\"#55ff00\",\"#55ff00\",\"#55ff00\",\"#55ff00\",\"#55ff00\",\"#55ff00\",\"#55ff00\",\"#55ff00\",\"#55ff00\",\"#55ff00\",\"#55ff00\",\"#55ff00\",\"#55ff00\",\"#55ff00\",\"#55ff00\",\"#55ff00\",\"#55ff00\",\"#55ff00\",\"#55ff00\",\"#55ff00\",\"#55ff00\",\"#55ff00\",\"#55ff00\",\"#55ff00\",\"#55ff00\",\"#55ff00\",\"#55ff00\",\"#55ff00\",\"#55ff00\",\"#55ff00\",\"#55ff00\",\"#55ff00\",\"#55ff00\",\"#55ff00\",\"#55ff00\",\"#55ff00\",\"#55ff00\",\"#55ff00\",\"#55ff00\",\"#55ff00\",\"#55ff00\",\"#55ff00\",\"#55ff00\",\"#55ff00\",\"#55ff00\",\"#55ff00\",\"#55ff00\",\"#55ff00\",\"#55ff00\",\"#55ff00\",\"#55ff00\",\"#55ff00\",\"#55ff00\",\"#55ff00\",\"#55ff00\",\"#55ff00\",\"#55ff00\",\"#55ff00\",\"#55ff00\",\"#55ff00\",\"#55ff00\",\"#55ff00\",\"#55ff00\",\"#55ff00\",\"#55ff00\",\"#55ff00\",\"#55ff00\",\"#55ff00\",\"#55ff00\",\"#55ff00\",\"#55ff00\",\"#55ff00\",\"#55ff00\",\"#55ff00\",\"#55ff00\",\"#55ff00\",\"#55ff00\",\"#55ff00\",\"#55ff00\",\"#55ff00\",\"#55ff00\",\"#55ff00\",\"#55ff00\",\"#55ff00\",\"#55ff00\",\"#55ff00\",\"#55ff00\",\"#55ff00\",\"#55ff00\",\"#55ff00\",\"#55ff00\",\"#55ff00\",\"#55ff00\",\"#55ff00\",\"#55ff00\",\"#55ff00\",\"#55ff00\",\"#55ff00\",\"#55ff00\",\"#55ff00\",\"#55ff00\",\"#55ff00\",\"#55ff00\",\"#55ff00\",\"#55ff00\",\"#55ff00\",\"#55ff00\",\"#55ff00\",\"#55ff00\",\"#55ff00\",\"#55ff00\",\"#55ff00\",\"#55ff00\",\"#55ff00\",\"#55ff00\",\"#55ff00\",\"#55ff00\",\"#55ff00\",\"#55ff00\",\"#55ff00\",\"#55ff00\",\"#55ff00\",\"#55ff00\",\"#55ff00\",\"#55ff00\",\"#55ff00\",\"#55ff00\",\"#55ff00\",\"#55ff00\",\"#55ff00\",\"#55ff00\",\"#55ff00\",\"#55ff00\",\"#55ff00\",\"#55ff00\",\"#55ff00\",\"#55ff00\",\"#55ff00\",\"#55ff00\",\"#55ff00\",\"#55ff00\",\"#55ff00\",\"#55ff00\",\"#55ff00\",\"#55ff00\",\"#55ff00\",\"#55ff00\",\"#55ff00\",\"#55ff00\",\"#55ff00\",\"#55ff00\",\"#55ff00\",\"#55ff00\",\"#55ff00\",\"#55ff00\",\"#55ff00\",\"#55ff00\",\"#55ff00\",\"#55ff00\",\"#55ff00\",\"#55ff00\",\"#55ff00\",\"#55ff00\",\"#55ff00\",\"#55ff00\",\"#55ff00\",\"#55ff00\",\"#55ff00\",\"#55ff00\",\"#55ff00\",\"#55ff00\",\"#55ff00\",\"#55ff00\",\"#55ff00\",\"#55ff00\",\"#55ff00\",\"#55ff00\",\"#55ff00\",\"#55ff00\",\"#55ff00\",\"#55ff00\",\"#55ff00\",\"#55ff00\",\"#55ff00\",\"#55ff00\",\"#55ff00\",\"#55ff00\",\"#55ff00\",\"#55ff00\",\"#55ff00\",\"#55ff00\",\"#55ff00\",\"#55ff00\",\"#55ff00\",\"#55ff00\",\"#55ff00\",\"#55ff00\",\"#55ff00\",\"#55ff00\",\"#55ff00\",\"#55ff00\",\"#55ff00\",\"#55ff00\",\"#55ff00\",\"#55ff00\",\"#55ff00\",\"#55ff00\",\"#55ff00\",\"#55ff00\",\"#55ff00\",\"#55ff00\",\"#55ff00\",\"#55ff00\",\"#55ff00\",\"#55ff00\",\"#55ff00\",\"#55ff00\",\"#55ff00\",\"#55ff00\",\"#55ff00\",\"#55ff00\",\"#55ff00\",\"#55ff00\",\"#55ff00\",\"#55ff00\",\"#55ff00\",\"#55ff00\",\"#55ff00\",\"#55ff00\",\"#55ff00\",\"#55ff00\",\"#55ff00\",\"#55ff00\",\"#55ff00\",\"#55ff00\",\"#55ff00\",\"#55ff00\",\"#55ff00\",\"#55ff00\",\"#55ff00\",\"#55ff00\",\"#55ff00\",\"#55ff00\",\"#55ff00\",\"#55ff00\",\"#55ff00\",\"#55ff00\",\"#55ff00\",\"#55ff00\",\"#55ff00\",\"#55ff00\",\"#55ff00\",\"#55ff00\",\"#55ff00\",\"#55ff00\",\"#55ff00\",\"#55ff00\",\"#55ff00\",\"#55ff00\",\"#55ff00\",\"#55ff00\",\"#55ff00\",\"#55ff00\",\"#55ff00\",\"#55ff00\",\"#55ff00\",\"#55ff00\",\"#55ff00\",\"#55ff00\",\"#55ff00\",\"#55ff00\",\"#55ff00\",\"#55ff00\",\"#55ff00\",\"#55ff00\",\"#55ff00\",\"#55ff00\",\"#55ff00\",\"#55ff00\",\"#55ff00\",\"#55ff00\",\"#55ff00\",\"#55ff00\",\"#55ff00\",\"#55ff00\",\"#55ff00\",\"#55ff00\",\"#55ff00\",\"#55ff00\",\"#55ff00\",\"#55ff00\",\"#55ff00\",\"#55ff00\",\"#55ff00\",\"#55ff00\",\"#55ff00\",\"#55ff00\",\"#55ff00\",\"#55ff00\",\"#55ff00\",\"#55ff00\",\"#55ff00\",\"#55ff00\",\"#55ff00\",\"#55ff00\",\"#55ff00\",\"#55ff00\",\"#55ff00\",\"#55ff00\",\"#55ff00\",\"#55ff00\",\"#55ff00\",\"#55ff00\",\"#55ff00\",\"#0084ff\",\"#0084ff\",\"#0084ff\",\"#0084ff\",\"#0084ff\",\"#0084ff\",\"#0084ff\",\"#0084ff\",\"#0084ff\",\"#0084ff\",\"#0084ff\",\"#0084ff\",\"#0084ff\",\"#0084ff\",\"#0084ff\",\"#0084ff\",\"#0084ff\",\"#0084ff\",\"#0084ff\",\"#0084ff\",\"#0084ff\",\"#0084ff\",\"#0084ff\",\"#0084ff\",\"#0084ff\",\"#0084ff\",\"#f900fa\",\"#f900fa\",\"#f900fa\",\"#f900fa\",\"#f900fa\",\"#f900fa\",\"#f900fa\",\"#f900fa\",\"#f900fa\",\"#f900fa\",\"#f900fa\",\"#f900fa\",\"#f900fa\",\"#f900fa\",\"#f900fa\",\"#f900fa\",\"#f900fa\",\"#f900fa\",\"#f900fa\",\"#f900fa\",\"#f900fa\",\"#f900fa\",\"#f900fa\",\"#f900fa\",\"#f900fa\",\"#f900fa\",\"#f900fa\",\"#f900fa\",\"#f900fa\",\"#f900fa\",\"#f900fa\",\"#f900fa\",\"#f900fa\",\"#f900fa\",\"#f900fa\",\"#f900fa\",\"#f900fa\",\"#f900fa\",\"#f900fa\",\"#f900fa\",\"#f900fa\",\"#f900fa\",\"#f900fa\",\"#f900fa\",\"#f900fa\",\"#f900fa\",\"#ff00d9\",\"#ff00d9\",\"#ff00d9\",\"#ff00d9\",\"#ff00d9\",\"#ff00d9\",\"#ff00d9\",\"#ff00d9\",\"#ff00d9\",\"#ff00d9\",\"#ff00d9\",\"#ff00d9\",\"#ff00d9\",\"#ff00d9\",\"#ff00d9\",\"#ff00d9\",\"#ff00d9\",\"#ff00d9\",\"#ff00d9\",\"#ff00d9\",\"#ff00d9\",\"#ff00d9\",\"#ff00d9\",\"#ff00d9\",\"#ff00d9\",\"#ff00d9\",\"#ff00d9\",\"#ff00d9\",\"#ff00d9\",\"#ff00d9\",\"#ff00d9\",\"#ff00d9\",\"#ff00d9\",\"#ff00d9\",\"#ff00d9\",\"#ff00d9\",\"#ff00d9\",\"#ff00d9\",\"#ff00d9\",\"#ff00d9\",\"#ff00d9\",\"#ff00d9\",\"#ff00d9\",\"#ff00d9\",\"#ff00d9\",\"#ff00d9\",\"#ff00d9\",\"#ff00d9\",\"#ff00d9\",\"#ff00d9\",\"#ff00d9\",\"#ff00d9\",\"#ff00d9\",\"#ff00d9\",\"#ff00d9\",\"#ff00d9\",\"#ff00d9\",\"#ff00d9\",\"#ff00d9\",\"#ff00d9\",\"#ff00d9\",\"#ff00d9\",\"#ff00d9\",\"#ff00d9\",\"#ff00d9\",\"#ff00d9\",\"#ff00d9\",\"#ff00d9\",\"#ff00d9\",\"#ff00d9\",\"#ff00d9\",\"#ff00d9\",\"#ff00d9\",\"#ff00d9\",\"#ff00d9\",\"#ff00d9\",\"#ff00d9\",\"#ff00d9\",\"#ff00d9\",\"#ff00d9\",\"#ff00d9\",\"#ff00d9\",\"#ff00d9\",\"#ff00d9\",\"#ff00d9\"],\"topic\":[\"drive card disk hard scsi know use serial does apple\",\"drive card disk hard scsi know use serial does apple\",\"drive card disk hard scsi know use serial does apple\",\"drive card disk hard scsi know use serial does apple\",\"drive card disk hard scsi know use serial does apple\",\"drive card disk hard scsi know use serial does apple\",\"drive card disk hard scsi know use serial does apple\",\"drive card disk hard scsi know use serial does apple\",\"drive card disk hard scsi know use serial does apple\",\"drive card disk hard scsi know use serial does apple\",\"drive card disk hard scsi know use serial does apple\",\"drive card disk hard scsi know use serial does apple\",\"drive card disk hard scsi know use serial does apple\",\"drive card disk hard scsi know use serial does apple\",\"drive card disk hard scsi know use serial does apple\",\"drive card disk hard scsi know use serial does apple\",\"drive card disk hard scsi know use serial does apple\",\"drive card disk hard scsi know use serial does apple\",\"drive card disk hard scsi know use serial does apple\",\"drive card disk hard scsi know use serial does apple\",\"drive card disk hard scsi know use serial does apple\",\"drive card disk hard scsi know use serial does apple\",\"drive card disk hard scsi know use serial does apple\",\"drive card disk hard scsi know use serial does apple\",\"drive card disk hard scsi know use serial does apple\",\"drive card disk hard scsi know use serial does apple\",\"drive card disk hard scsi know use serial does apple\",\"drive card disk hard scsi know use serial does apple\",\"drive card disk hard scsi know use serial does apple\",\"drive card disk hard scsi know use serial does apple\",\"drive card disk hard scsi know use serial does apple\",\"drive card disk hard scsi know use serial does apple\",\"drive card disk hard scsi know use serial does apple\",\"drive card disk hard scsi know use serial does apple\",\"drive card disk hard scsi know use serial does apple\",\"drive card disk hard scsi know use serial does apple\",\"drive card disk hard scsi know use serial does apple\",\"drive card disk hard scsi know use serial does apple\",\"drive card disk hard scsi know use serial does apple\",\"drive card disk hard scsi know use serial does apple\",\"drive card disk hard scsi know use serial does apple\",\"drive card disk hard scsi know use serial does apple\",\"drive card disk hard scsi know use serial does apple\",\"drive card disk hard scsi know use serial does apple\",\"drive card disk hard scsi know use serial does apple\",\"drive card disk hard scsi know use serial does apple\",\"drive card disk hard scsi know use serial does apple\",\"drive card disk hard scsi know use serial does apple\",\"drive card disk hard scsi know use serial does apple\",\"drive card disk hard scsi know use serial does apple\",\"drive card disk hard scsi know use serial does apple\",\"drive card disk hard scsi know use serial does apple\",\"drive card disk hard scsi know use serial does apple\",\"drive card disk hard scsi know use serial does apple\",\"drive card disk hard scsi know use serial does apple\",\"drive card disk hard scsi know use serial does apple\",\"drive card disk hard scsi know use serial does apple\",\"drive card disk hard scsi know use serial does apple\",\"drive card disk hard scsi know use serial does apple\",\"drive card disk hard scsi know use serial does apple\",\"drive card disk hard scsi know use serial does apple\",\"drive card disk hard scsi know use serial does apple\",\"drive card disk hard scsi know use serial does apple\",\"drive card disk hard scsi know use serial does apple\",\"drive card disk hard scsi know use serial does apple\",\"drive card disk hard scsi know use serial does apple\",\"drive card disk hard scsi know use serial does apple\",\"drive card disk hard scsi know use serial does apple\",\"drive card disk hard scsi know use serial does apple\",\"drive card disk hard scsi know use serial does apple\",\"drive card disk hard scsi know use serial does apple\",\"drive card disk hard scsi know use serial does apple\",\"drive card disk hard scsi know use serial does apple\",\"drive card disk hard scsi know use serial does apple\",\"drive card disk hard scsi know use serial does apple\",\"drive card disk hard scsi know use serial does apple\",\"drive card disk hard scsi know use serial does apple\",\"drive card disk hard scsi know use serial does apple\",\"drive card disk hard scsi know use serial does apple\",\"drive card disk hard scsi know use serial does apple\",\"drive card disk hard scsi know use serial does apple\",\"drive card disk hard scsi know use serial does apple\",\"drive card disk hard scsi know use serial does apple\",\"drive card disk hard scsi know use serial does apple\",\"drive card disk hard scsi know use serial does apple\",\"drive card disk hard scsi know use serial does apple\",\"drive card disk hard scsi know use serial does apple\",\"drive card disk hard scsi know use serial does apple\",\"drive card disk hard scsi know use serial does apple\",\"drive card disk hard scsi know use serial does apple\",\"drive card disk hard scsi know use serial does apple\",\"drive card disk hard scsi know use serial does apple\",\"drive card disk hard scsi know use serial does apple\",\"drive card disk hard scsi know use serial does apple\",\"drive card disk hard scsi know use serial does apple\",\"drive card disk hard scsi know use serial does apple\",\"drive card disk hard scsi know use serial does apple\",\"drive card disk hard scsi know use serial does apple\",\"drive card disk hard scsi know use serial does apple\",\"drive card disk hard scsi know use serial does apple\",\"drive card disk hard scsi know use serial does apple\",\"drive card disk hard scsi know use serial does apple\",\"drive card disk hard scsi know use serial does apple\",\"drive card disk hard scsi know use serial does apple\",\"drive card disk hard scsi know use serial does apple\",\"drive card disk hard scsi know use serial does apple\",\"drive card disk hard scsi know use serial does apple\",\"drive card disk hard scsi know use serial does apple\",\"drive card disk hard scsi know use serial does apple\",\"drive card disk hard scsi know use serial does apple\",\"drive card disk hard scsi know use serial does apple\",\"drive card disk hard scsi know use serial does apple\",\"drive card disk hard scsi know use serial does apple\",\"drive card disk hard scsi know use serial does apple\",\"drive card disk hard scsi know use serial does apple\",\"drive card disk hard scsi know use serial does apple\",\"drive card disk hard scsi know use serial does apple\",\"drive card disk hard scsi know use serial does apple\",\"drive card disk hard scsi know use serial does apple\",\"drive card disk hard scsi know use serial does apple\",\"drive card disk hard scsi know use serial does apple\",\"drive card disk hard scsi know use serial does apple\",\"drive card disk hard scsi know use serial does apple\",\"drive card disk hard scsi know use serial does apple\",\"drive card disk hard scsi know use serial does apple\",\"drive card disk hard scsi know use serial does apple\",\"drive card disk hard scsi know use serial does apple\",\"drive card disk hard scsi know use serial does apple\",\"drive card disk hard scsi know use serial does apple\",\"drive card disk hard scsi know use serial does apple\",\"drive card disk hard scsi know use serial does apple\",\"drive card disk hard scsi know use serial does apple\",\"drive card disk hard scsi know use serial does apple\",\"drive card disk hard scsi know use serial does apple\",\"drive card disk hard scsi know use serial does apple\",\"drive card disk hard scsi know use serial does apple\",\"drive card disk hard scsi know use serial does apple\",\"drive card disk hard scsi know use serial does apple\",\"drive card disk hard scsi know use serial does apple\",\"drive card disk hard scsi know use serial does apple\",\"drive card disk hard scsi know use serial does apple\",\"drive card disk hard scsi know use serial does apple\",\"drive card disk hard scsi know use serial does apple\",\"drive card disk hard scsi know use serial does apple\",\"drive card disk hard scsi know use serial does apple\",\"drive card disk hard scsi know use serial does apple\",\"drive card disk hard scsi know use serial does apple\",\"drive card disk hard scsi know use serial does apple\",\"drive card disk hard scsi know use serial does apple\",\"drive card disk hard scsi know use serial does apple\",\"drive card disk hard scsi know use serial does apple\",\"drive card disk hard scsi know use serial does apple\",\"drive card disk hard scsi know use serial does apple\",\"drive card disk hard scsi know use serial does apple\",\"drive card disk hard scsi know use serial does apple\",\"drive card disk hard scsi know use serial does apple\",\"drive card disk hard scsi know use serial does apple\",\"drive card disk hard scsi know use serial does apple\",\"drive card disk hard scsi know use serial does apple\",\"drive card disk hard scsi know use serial does apple\",\"drive card disk hard scsi know use serial does apple\",\"drive card disk hard scsi know use serial does apple\",\"drive card disk hard scsi know use serial does apple\",\"drive card disk hard scsi know use serial does apple\",\"drive card disk hard scsi know use serial does apple\",\"drive card disk hard scsi know use serial does apple\",\"drive card disk hard scsi know use serial does apple\",\"drive card disk hard scsi know use serial does apple\",\"drive card disk hard scsi know use serial does apple\",\"drive card disk hard scsi know use serial does apple\",\"drive card disk hard scsi know use serial does apple\",\"drive card disk hard scsi know use serial does apple\",\"drive card disk hard scsi know use serial does apple\",\"drive card disk hard scsi know use serial does apple\",\"drive card disk hard scsi know use serial does apple\",\"drive card disk hard scsi know use serial does apple\",\"drive card disk hard scsi know use serial does apple\",\"drive card disk hard scsi know use serial does apple\",\"drive card disk hard scsi know use serial does apple\",\"drive card disk hard scsi know use serial does apple\",\"drive card disk hard scsi know use serial does apple\",\"drive card disk hard scsi know use serial does apple\",\"drive card disk hard scsi know use serial does apple\",\"drive card disk hard scsi know use serial does apple\",\"drive card disk hard scsi know use serial does apple\",\"drive card disk hard scsi know use serial does apple\",\"drive card disk hard scsi know use serial does apple\",\"drive card disk hard scsi know use serial does apple\",\"drive card disk hard scsi know use serial does apple\",\"drive card disk hard scsi know use serial does apple\",\"drive card disk hard scsi know use serial does apple\",\"drive card disk hard scsi know use serial does apple\",\"drive card disk hard scsi know use serial does apple\",\"drive card disk hard scsi know use serial does apple\",\"drive card disk hard scsi know use serial does apple\",\"drive card disk hard scsi know use serial does apple\",\"drive card disk hard scsi know use serial does apple\",\"drive card disk hard scsi know use serial does apple\",\"drive card disk hard scsi know use serial does apple\",\"drive card disk hard scsi know use serial does apple\",\"drive card disk hard scsi know use serial does apple\",\"drive card disk hard scsi know use serial does apple\",\"drive card disk hard scsi know use serial does apple\",\"drive card disk hard scsi know use serial does apple\",\"drive card disk hard scsi know use serial does apple\",\"drive card disk hard scsi know use serial does apple\",\"drive card disk hard scsi know use serial does apple\",\"drive card disk hard scsi know use serial does apple\",\"drive card disk hard scsi know use serial does apple\",\"drive card disk hard scsi know use serial does apple\",\"drive card disk hard scsi know use serial does apple\",\"drive card disk hard scsi know use serial does apple\",\"drive card disk hard scsi know use serial does apple\",\"drive card disk hard scsi know use serial does apple\",\"drive card disk hard scsi know use serial does apple\",\"drive card disk hard scsi know use serial does apple\",\"drive card disk hard scsi know use serial does apple\",\"drive card disk hard scsi know use serial does apple\",\"drive card disk hard scsi know use serial does apple\",\"drive card disk hard scsi know use serial does apple\",\"drive card disk hard scsi know use serial does apple\",\"drive card disk hard scsi know use serial does apple\",\"drive card disk hard scsi know use serial does apple\",\"drive card disk hard scsi know use serial does apple\",\"drive card disk hard scsi know use serial does apple\",\"drive card disk hard scsi know use serial does apple\",\"drive card disk hard scsi know use serial does apple\",\"drive card disk hard scsi know use serial does apple\",\"drive card disk hard scsi know use serial does apple\",\"drive card disk hard scsi know use serial does apple\",\"drive card disk hard scsi know use serial does apple\",\"drive card disk hard scsi know use serial does apple\",\"drive card disk hard scsi know use serial does apple\",\"drive card disk hard scsi know use serial does apple\",\"drive card disk hard scsi know use serial does apple\",\"drive card disk hard scsi know use serial does apple\",\"drive card disk hard scsi know use serial does apple\",\"drive card disk hard scsi know use serial does apple\",\"drive card disk hard scsi know use serial does apple\",\"drive card disk hard scsi know use serial does apple\",\"drive card disk hard scsi know use serial does apple\",\"drive card disk hard scsi know use serial does apple\",\"drive card disk hard scsi know use serial does apple\",\"drive card disk hard scsi know use serial does apple\",\"drive card disk hard scsi know use serial does apple\",\"drive card disk hard scsi know use serial does apple\",\"drive card disk hard scsi know use serial does apple\",\"drive card disk hard scsi know use serial does apple\",\"drive card disk hard scsi know use serial does apple\",\"drive card disk hard scsi know use serial does apple\",\"drive card disk hard scsi know use serial does apple\",\"drive card disk hard scsi know use serial does apple\",\"drive card disk hard scsi know use serial does apple\",\"drive card disk hard scsi know use serial does apple\",\"drive card disk hard scsi know use serial does apple\",\"drive card disk hard scsi know use serial does apple\",\"drive card disk hard scsi know use serial does apple\",\"drive card disk hard scsi know use serial does apple\",\"drive card disk hard scsi know use serial does apple\",\"drive card disk hard scsi know use serial does apple\",\"drive card disk hard scsi know use serial does apple\",\"drive card disk hard scsi know use serial does apple\",\"drive card disk hard scsi know use serial does apple\",\"drive card disk hard scsi know use serial does apple\",\"drive card disk hard scsi know use serial does apple\",\"drive card disk hard scsi know use serial does apple\",\"drive card disk hard scsi know use serial does apple\",\"drive card disk hard scsi know use serial does apple\",\"drive card disk hard scsi know use serial does apple\",\"drive card disk hard scsi know use serial does apple\",\"drive card disk hard scsi know use serial does apple\",\"drive card disk hard scsi know use serial does apple\",\"drive card disk hard scsi know use serial does apple\",\"drive card disk hard scsi know use serial does apple\",\"drive card disk hard scsi know use serial does apple\",\"drive card disk hard scsi know use serial does apple\",\"drive card disk hard scsi know use serial does apple\",\"drive card disk hard scsi know use serial does apple\",\"drive card disk hard scsi know use serial does apple\",\"drive card disk hard scsi know use serial does apple\",\"drive card disk hard scsi know use serial does apple\",\"drive card disk hard scsi know use serial does apple\",\"drive card disk hard scsi know use serial does apple\",\"drive card disk hard scsi know use serial does apple\",\"drive card disk hard scsi know use serial does apple\",\"drive card disk hard scsi know use serial does apple\",\"drive card disk hard scsi know use serial does apple\",\"drive card disk hard scsi know use serial does apple\",\"drive card disk hard scsi know use serial does apple\",\"drive card disk hard scsi know use serial does apple\",\"drive card disk hard scsi know use serial does apple\",\"drive card disk hard scsi know use serial does apple\",\"drive card disk hard scsi know use serial does apple\",\"drive card disk hard scsi know use serial does apple\",\"drive card disk hard scsi know use serial does apple\",\"drive card disk hard scsi know use serial does apple\",\"drive card disk hard scsi know use serial does apple\",\"drive card disk hard scsi know use serial does apple\",\"drive card disk hard scsi know use serial does apple\",\"drive card disk hard scsi know use serial does apple\",\"drive card disk hard scsi know use serial does apple\",\"drive card disk hard scsi know use serial does apple\",\"drive card disk hard scsi know use serial does apple\",\"drive card disk hard scsi know use serial does apple\",\"drive card disk hard scsi know use serial does apple\",\"drive card disk hard scsi know use serial does apple\",\"drive card disk hard scsi know use serial does apple\",\"drive card disk hard scsi know use serial does apple\",\"drive card disk hard scsi know use serial does apple\",\"drive card disk hard scsi know use serial does apple\",\"drive card disk hard scsi know use serial does apple\",\"drive card disk hard scsi know use serial does apple\",\"drive card disk hard scsi know use serial does apple\",\"drive card disk hard scsi know use serial does apple\",\"drive card disk hard scsi know use serial does apple\",\"drive card disk hard scsi know use serial does apple\",\"drive card disk hard scsi know use serial does apple\",\"drive card disk hard scsi know use serial does apple\",\"drive card disk hard scsi know use serial does apple\",\"drive card disk hard scsi know use serial does apple\",\"drive card disk hard scsi know use serial does apple\",\"drive card disk hard scsi know use serial does apple\",\"drive card disk hard scsi know use serial does apple\",\"drive card disk hard scsi know use serial does apple\",\"drive card disk hard scsi know use serial does apple\",\"drive card disk hard scsi know use serial does apple\",\"drive card disk hard scsi know use serial does apple\",\"drive card disk hard scsi know use serial does apple\",\"drive card disk hard scsi know use serial does apple\",\"drive card disk hard scsi know use serial does apple\",\"drive card disk hard scsi know use serial does apple\",\"drive card disk hard scsi know use serial does apple\",\"drive card disk hard scsi know use serial does apple\",\"drive card disk hard scsi know use serial does apple\",\"drive card disk hard scsi know use serial does apple\",\"drive card disk hard scsi know use serial does apple\",\"drive card disk hard scsi know use serial does apple\",\"drive card disk hard scsi know use serial does apple\",\"drive card disk hard scsi know use serial does apple\",\"drive card disk hard scsi know use serial does apple\",\"drive card disk hard scsi know use serial does apple\",\"drive card disk hard scsi know use serial does apple\",\"drive card disk hard scsi know use serial does apple\",\"drive card disk hard scsi know use serial does apple\",\"drive card disk hard scsi know use serial does apple\",\"drive card disk hard scsi know use serial does apple\",\"drive card disk hard scsi know use serial does apple\",\"drive card disk hard scsi know use serial does apple\",\"drive card disk hard scsi know use serial does apple\",\"drive card disk hard scsi know use serial does apple\",\"drive card disk hard scsi know use serial does apple\",\"drive card disk hard scsi know use serial does apple\",\"drive card disk hard scsi know use serial does apple\",\"drive card disk hard scsi know use serial does apple\",\"drive card disk hard scsi know use serial does apple\",\"drive card disk hard scsi know use serial does apple\",\"drive card disk hard scsi know use serial does apple\",\"drive card disk hard scsi know use serial does apple\",\"drive card disk hard scsi know use serial does apple\",\"drive card disk hard scsi know use serial does apple\",\"drive card disk hard scsi know use serial does apple\",\"drive card disk hard scsi know use serial does apple\",\"drive card disk hard scsi know use serial does apple\",\"drive card disk hard scsi know use serial does apple\",\"drive card disk hard scsi know use serial does apple\",\"drive card disk hard scsi know use serial does apple\",\"drive card disk hard scsi know use serial does apple\",\"drive card disk hard scsi know use serial does apple\",\"drive card disk hard scsi know use serial does apple\",\"drive card disk hard scsi know use serial does apple\",\"drive card disk hard scsi know use serial does apple\",\"drive card disk hard scsi know use serial does apple\",\"drive card disk hard scsi know use serial does apple\",\"drive card disk hard scsi know use serial does apple\",\"drive card disk hard scsi know use serial does apple\",\"drive card disk hard scsi know use serial does apple\",\"drive card disk hard scsi know use serial does apple\",\"drive card disk hard scsi know use serial does apple\",\"drive card disk hard scsi know use serial does apple\",\"drive card disk hard scsi know use serial does apple\",\"drive card disk hard scsi know use serial does apple\",\"drive card disk hard scsi know use serial does apple\",\"drive card disk hard scsi know use serial does apple\",\"drive card disk hard scsi know use serial does apple\",\"drive card disk hard scsi know use serial does apple\",\"drive card disk hard scsi know use serial does apple\",\"drive card disk hard scsi know use serial does apple\",\"drive card disk hard scsi know use serial does apple\",\"drive card disk hard scsi know use serial does apple\",\"drive card disk hard scsi know use serial does apple\",\"drive card disk hard scsi know use serial does apple\",\"drive card disk hard scsi know use serial does apple\",\"drive card disk hard scsi know use serial does apple\",\"drive card disk hard scsi know use serial does apple\",\"drive card disk hard scsi know use serial does apple\",\"drive card disk hard scsi know use serial does apple\",\"drive card disk hard scsi know use serial does apple\",\"drive card disk hard scsi know use serial does apple\",\"drive card disk hard scsi know use serial does apple\",\"drive card disk hard scsi know use serial does apple\",\"drive card disk hard scsi know use serial does apple\",\"drive card disk hard scsi know use serial does apple\",\"drive card disk hard scsi know use serial does apple\",\"drive card disk hard scsi know use serial does apple\",\"drive card disk hard scsi know use serial does apple\",\"drive card disk hard scsi know use serial does apple\",\"drive card disk hard scsi know use serial does apple\",\"drive card disk hard scsi know use serial does apple\",\"drive card disk hard scsi know use serial does apple\",\"drive card disk hard scsi know use serial does apple\",\"drive card disk hard scsi know use serial does apple\",\"drive card disk hard scsi know use serial does apple\",\"drive card disk hard scsi know use serial does apple\",\"drive card disk hard scsi know use serial does apple\",\"drive card disk hard scsi know use serial does apple\",\"drive card disk hard scsi know use serial does apple\",\"drive card disk hard scsi know use serial does apple\",\"drive card disk hard scsi know use serial does apple\",\"drive card disk hard scsi know use serial does apple\",\"drive card disk hard scsi know use serial does apple\",\"drive card disk hard scsi know use serial does apple\",\"drive card disk hard scsi know use serial does apple\",\"drive card disk hard scsi know use serial does apple\",\"drive card disk hard scsi know use serial does apple\",\"drive card disk hard scsi know use serial does apple\",\"drive card disk hard scsi know use serial does apple\",\"drive card disk hard scsi know use serial does apple\",\"drive card disk hard scsi know use serial does apple\",\"drive card disk hard scsi know use serial does apple\",\"drive card disk hard scsi know use serial does apple\",\"drive card disk hard scsi know use serial does apple\",\"drive card disk hard scsi know use serial does apple\",\"drive card disk hard scsi know use serial does apple\",\"drive card disk hard scsi know use serial does apple\",\"drive card disk hard scsi know use serial does apple\",\"drive card disk hard scsi know use serial does apple\",\"drive card disk hard scsi know use serial does apple\",\"drive card disk hard scsi know use serial does apple\",\"drive card disk hard scsi know use serial does apple\",\"drive card disk hard scsi know use serial does apple\",\"drive card disk hard scsi know use serial does apple\",\"drive card disk hard scsi know use serial does apple\",\"drive card disk hard scsi know use serial does apple\",\"drive card disk hard scsi know use serial does apple\",\"drive card disk hard scsi know use serial does apple\",\"drive card disk hard scsi know use serial does apple\",\"drive card disk hard scsi know use serial does apple\",\"drive card disk hard scsi know use serial does apple\",\"drive card disk hard scsi know use serial does apple\",\"drive card disk hard scsi know use serial does apple\",\"drive card disk hard scsi know use serial does apple\",\"drive card disk hard scsi know use serial does apple\",\"drive card disk hard scsi know use serial does apple\",\"drive card disk hard scsi know use serial does apple\",\"drive card disk hard scsi know use serial does apple\",\"drive card disk hard scsi know use serial does apple\",\"drive card disk hard scsi know use serial does apple\",\"drive card disk hard scsi know use serial does apple\",\"drive card disk hard scsi know use serial does apple\",\"drive card disk hard scsi know use serial does apple\",\"drive card disk hard scsi know use serial does apple\",\"drive card disk hard scsi know use serial does apple\",\"drive card disk hard scsi know use serial does apple\",\"drive card disk hard scsi know use serial does apple\",\"drive card disk hard scsi know use serial does apple\",\"drive card disk hard scsi know use serial does apple\",\"drive card disk hard scsi know use serial does apple\",\"drive card disk hard scsi know use serial does apple\",\"drive card disk hard scsi know use serial does apple\",\"drive card disk hard scsi know use serial does apple\",\"drive card disk hard scsi know use serial does apple\",\"drive card disk hard scsi know use serial does apple\",\"drive card disk hard scsi know use serial does apple\",\"drive card disk hard scsi know use serial does apple\",\"drive card disk hard scsi know use serial does apple\",\"drive card disk hard scsi know use serial does apple\",\"drive card disk hard scsi know use serial does apple\",\"drive card disk hard scsi know use serial does apple\",\"drive card disk hard scsi know use serial does apple\",\"drive card disk hard scsi know use serial does apple\",\"drive card disk hard scsi know use serial does apple\",\"drive card disk hard scsi know use serial does apple\",\"drive card disk hard scsi know use serial does apple\",\"drive card disk hard scsi know use serial does apple\",\"drive card disk hard scsi know use serial does apple\",\"drive card disk hard scsi know use serial does apple\",\"drive card disk hard scsi know use serial does apple\",\"drive card disk hard scsi know use serial does apple\",\"drive card disk hard scsi know use serial does apple\",\"drive card disk hard scsi know use serial does apple\",\"drive card disk hard scsi know use serial does apple\",\"drive card disk hard scsi know use serial does apple\",\"drive card disk hard scsi know use serial does apple\",\"drive card disk hard scsi know use serial does apple\",\"drive card disk hard scsi know use serial does apple\",\"drive card disk hard scsi know use serial does apple\",\"drive card disk hard scsi know use serial does apple\",\"drive card disk hard scsi know use serial does apple\",\"drive card disk hard scsi know use serial does apple\",\"drive card disk hard scsi know use serial does apple\",\"drive card disk hard scsi know use serial does apple\",\"drive card disk hard scsi know use serial does apple\",\"drive card disk hard scsi know use serial does apple\",\"drive card disk hard scsi know use serial does apple\",\"drive card disk hard scsi know use serial does apple\",\"drive card disk hard scsi know use serial does apple\",\"drive card disk hard scsi know use serial does apple\",\"drive card disk hard scsi know use serial does apple\",\"drive card disk hard scsi know use serial does apple\",\"drive card disk hard scsi know use serial does apple\",\"drive card disk hard scsi know use serial does apple\",\"drive card disk hard scsi know use serial does apple\",\"drive card disk hard scsi know use serial does apple\",\"drive card disk hard scsi know use serial does apple\",\"drive card disk hard scsi know use serial does apple\",\"drive card disk hard scsi know use serial does apple\",\"drive card disk hard scsi know use serial does apple\",\"drive card disk hard scsi know use serial does apple\",\"drive card disk hard scsi know use serial does apple\",\"drive card disk hard scsi know use serial does apple\",\"drive card disk hard scsi know use serial does apple\",\"drive card disk hard scsi know use serial does apple\",\"drive card disk hard scsi know use serial does apple\",\"drive card disk hard scsi know use serial does apple\",\"drive card disk hard scsi know use serial does apple\",\"drive card disk hard scsi know use serial does apple\",\"drive card disk hard scsi know use serial does apple\",\"drive card disk hard scsi know use serial does apple\",\"drive card disk hard scsi know use serial does apple\",\"drive card disk hard scsi know use serial does apple\",\"drive card disk hard scsi know use serial does apple\",\"drive card disk hard scsi know use serial does apple\",\"drive card disk hard scsi know use serial does apple\",\"drive card disk hard scsi know use serial does apple\",\"drive card disk hard scsi know use serial does apple\",\"drive card disk hard scsi know use serial does apple\",\"drive card disk hard scsi know use serial does apple\",\"drive card disk hard scsi know use serial does apple\",\"drive card disk hard scsi know use serial does apple\",\"drive card disk hard scsi know use serial does apple\",\"drive card disk hard scsi know use serial does apple\",\"drive card disk hard scsi know use serial does apple\",\"drive card disk hard scsi know use serial does apple\",\"drive card disk hard scsi know use serial does apple\",\"drive card disk hard scsi know use serial does apple\",\"drive card disk hard scsi know use serial does apple\",\"drive card disk hard scsi know use serial does apple\",\"drive card disk hard scsi know use serial does apple\",\"drive card disk hard scsi know use serial does apple\",\"drive card disk hard scsi know use serial does apple\",\"drive card disk hard scsi know use serial does apple\",\"drive card disk hard scsi know use serial does apple\",\"drive card disk hard scsi know use serial does apple\",\"drive card disk hard scsi know use serial does apple\",\"drive card disk hard scsi know use serial does apple\",\"drive card disk hard scsi know use serial does apple\",\"drive card disk hard scsi know use serial does apple\",\"drive card disk hard scsi know use serial does apple\",\"drive card disk hard scsi know use serial does apple\",\"drive card disk hard scsi know use serial does apple\",\"drive card disk hard scsi know use serial does apple\",\"drive card disk hard scsi know use serial does apple\",\"drive card disk hard scsi know use serial does apple\",\"drive card disk hard scsi know use serial does apple\",\"drive card disk hard scsi know use serial does apple\",\"drive card disk hard scsi know use serial does apple\",\"drive card disk hard scsi know use serial does apple\",\"drive card disk hard scsi know use serial does apple\",\"drive card disk hard scsi know use serial does apple\",\"drive card disk hard scsi know use serial does apple\",\"drive card disk hard scsi know use serial does apple\",\"drive card disk hard scsi know use serial does apple\",\"drive card disk hard scsi know use serial does apple\",\"drive card disk hard scsi know use serial does apple\",\"drive card disk hard scsi know use serial does apple\",\"drive card disk hard scsi know use serial does apple\",\"drive card disk hard scsi know use serial does apple\",\"drive card disk hard scsi know use serial does apple\",\"drive card disk hard scsi know use serial does apple\",\"drive card disk hard scsi know use serial does apple\",\"drive card disk hard scsi know use serial does apple\",\"drive card disk hard scsi know use serial does apple\",\"drive card disk hard scsi know use serial does apple\",\"drive card disk hard scsi know use serial does apple\",\"drive card disk hard scsi know use serial does apple\",\"drive card disk hard scsi know use serial does apple\",\"drive card disk hard scsi know use serial does apple\",\"drive card disk hard scsi know use serial does apple\",\"drive card disk hard scsi know use serial does apple\",\"drive card disk hard scsi know use serial does apple\",\"drive card disk hard scsi know use serial does apple\",\"drive card disk hard scsi know use serial does apple\",\"drive card disk hard scsi know use serial does apple\",\"drive card disk hard scsi know use serial does apple\",\"drive card disk hard scsi know use serial does apple\",\"drive card disk hard scsi know use serial does apple\",\"drive card disk hard scsi know use serial does apple\",\"drive card disk hard scsi know use serial does apple\",\"drive card disk hard scsi know use serial does apple\",\"drive card disk hard scsi know use serial does apple\",\"drive card disk hard scsi know use serial does apple\",\"drive card disk hard scsi know use serial does apple\",\"drive card disk hard scsi know use serial does apple\",\"drive card disk hard scsi know use serial does apple\",\"drive card disk hard scsi know use serial does apple\",\"drive card disk hard scsi know use serial does apple\",\"drive card disk hard scsi know use serial does apple\",\"drive card disk hard scsi know use serial does apple\",\"drive card disk hard scsi know use serial does apple\",\"drive card disk hard scsi know use serial does apple\",\"drive card disk hard scsi know use serial does apple\",\"drive card disk hard scsi know use serial does apple\",\"drive card disk hard scsi know use serial does apple\",\"drive card disk hard scsi know use serial does apple\",\"drive card disk hard scsi know use serial does apple\",\"drive card disk hard scsi know use serial does apple\",\"drive card disk hard scsi know use serial does apple\",\"drive card disk hard scsi know use serial does apple\",\"drive card disk hard scsi know use serial does apple\",\"drive card disk hard scsi know use serial does apple\",\"drive card disk hard scsi know use serial does apple\",\"drive card disk hard scsi know use serial does apple\",\"drive card disk hard scsi know use serial does apple\",\"drive card disk hard scsi know use serial does apple\",\"drive card disk hard scsi know use serial does apple\",\"drive card disk hard scsi know use serial does apple\",\"drive card disk hard scsi know use serial does apple\",\"drive card disk hard scsi know use serial does apple\",\"drive card disk hard scsi know use serial does apple\",\"drive card disk hard scsi know use serial does apple\",\"drive card disk hard scsi know use serial does apple\",\"drive card disk hard scsi know use serial does apple\",\"drive card disk hard scsi know use serial does apple\",\"drive card disk hard scsi know use serial does apple\",\"drive card disk hard scsi know use serial does apple\",\"drive card disk hard scsi know use serial does apple\",\"drive card disk hard scsi know use serial does apple\",\"drive card disk hard scsi know use serial does apple\",\"drive card disk hard scsi know use serial does apple\",\"drive card disk hard scsi know use serial does apple\",\"drive card disk hard scsi know use serial does apple\",\"drive card disk hard scsi know use serial does apple\",\"drive card disk hard scsi know use serial does apple\",\"drive card disk hard scsi know use serial does apple\",\"drive card disk hard scsi know use serial does apple\",\"drive card disk hard scsi know use serial does apple\",\"drive card disk hard scsi know use serial does apple\",\"drive card disk hard scsi know use serial does apple\",\"drive card disk hard scsi know use serial does apple\",\"drive card disk hard scsi know use serial does apple\",\"drive card disk hard scsi know use serial does apple\",\"drive card disk hard scsi know use serial does apple\",\"drive card disk hard scsi know use serial does apple\",\"drive card disk hard scsi know use serial does apple\",\"drive card disk hard scsi know use serial does apple\",\"drive card disk hard scsi know use serial does apple\",\"drive card disk hard scsi know use serial does apple\",\"drive card disk hard scsi know use serial does apple\",\"drive card disk hard scsi know use serial does apple\",\"drive card disk hard scsi know use serial does apple\",\"drive card disk hard scsi know use serial does apple\",\"drive card disk hard scsi know use serial does apple\",\"drive card disk hard scsi know use serial does apple\",\"drive card disk hard scsi know use serial does apple\",\"drive card disk hard scsi know use serial does apple\",\"drive card disk hard scsi know use serial does apple\",\"drive card disk hard scsi know use serial does apple\",\"drive card disk hard scsi know use serial does apple\",\"drive card disk hard scsi know use serial does apple\",\"drive card disk hard scsi know use serial does apple\",\"drive card disk hard scsi know use serial does apple\",\"drive card disk hard scsi know use serial does apple\",\"drive card disk hard scsi know use serial does apple\",\"drive card disk hard scsi know use serial does apple\",\"drive card disk hard scsi know use serial does apple\",\"drive card disk hard scsi know use serial does apple\",\"drive card disk hard scsi know use serial does apple\",\"drive card disk hard scsi know use serial does apple\",\"drive card disk hard scsi know use serial does apple\",\"drive card disk hard scsi know use serial does apple\",\"drive card disk hard scsi know use serial does apple\",\"drive card disk hard scsi know use serial does apple\",\"drive card disk hard scsi know use serial does apple\",\"drive card disk hard scsi know use serial does apple\",\"drive card disk hard scsi know use serial does apple\",\"drive card disk hard scsi know use serial does apple\",\"drive card disk hard scsi know use serial does apple\",\"drive card disk hard scsi know use serial does apple\",\"drive card disk hard scsi know use serial does apple\",\"drive card disk hard scsi know use serial does apple\",\"drive card disk hard scsi know use serial does apple\",\"drive card disk hard scsi know use serial does apple\",\"drive card disk hard scsi know use serial does apple\",\"drive card disk hard scsi know use serial does apple\",\"drive card disk hard scsi know use serial does apple\",\"drive card disk hard scsi know use serial does apple\",\"drive card disk hard scsi know use serial does apple\",\"drive card disk hard scsi know use serial does apple\",\"drive card disk hard scsi know use serial does apple\",\"drive card disk hard scsi know use serial does apple\",\"drive card disk hard scsi know use serial does apple\",\"drive card disk hard scsi know use serial does apple\",\"drive card disk hard scsi know use serial does apple\",\"drive card disk hard scsi know use serial does apple\",\"drive card disk hard scsi know use serial does apple\",\"drive card disk hard scsi know use serial does apple\",\"drive card disk hard scsi know use serial does apple\",\"drive card disk hard scsi know use serial does apple\",\"drive card disk hard scsi know use serial does apple\",\"drive card disk hard scsi know use serial does apple\",\"drive card disk hard scsi know use serial does apple\",\"drive card disk hard scsi know use serial does apple\",\"drive card disk hard scsi know use serial does apple\",\"drive card disk hard scsi know use serial does apple\",\"drive card disk hard scsi know use serial does apple\",\"drive card disk hard scsi know use serial does apple\",\"drive card disk hard scsi know use serial does apple\",\"drive card disk hard scsi know use serial does apple\",\"drive card disk hard scsi know use serial does apple\",\"drive card disk hard scsi know use serial does apple\",\"drive card disk hard scsi know use serial does apple\",\"drive card disk hard scsi know use serial does apple\",\"drive card disk hard scsi know use serial does apple\",\"drive card disk hard scsi know use serial does apple\",\"drive card disk hard scsi know use serial does apple\",\"drive card disk hard scsi know use serial does apple\",\"drive card disk hard scsi know use serial does apple\",\"drive card disk hard scsi know use serial does apple\",\"drive card disk hard scsi know use serial does apple\",\"drive card disk hard scsi know use serial does apple\",\"drive card disk hard scsi know use serial does apple\",\"drive card disk hard scsi know use serial does apple\",\"drive card disk hard scsi know use serial does apple\",\"drive card disk hard scsi know use serial does apple\",\"drive card disk hard scsi know use serial does apple\",\"drive card disk hard scsi know use serial does apple\",\"drive card disk hard scsi know use serial does apple\",\"drive card disk hard scsi know use serial does apple\",\"drive card disk hard scsi know use serial does apple\",\"drive card disk hard scsi know use serial does apple\",\"drive card disk hard scsi know use serial does apple\",\"drive card disk hard scsi know use serial does apple\",\"drive card disk hard scsi know use serial does apple\",\"drive card disk hard scsi know use serial does apple\",\"drive card disk hard scsi know use serial does apple\",\"drive card disk hard scsi know use serial does apple\",\"drive card disk hard scsi know use serial does apple\",\"drive card disk hard scsi know use serial does apple\",\"drive card disk hard scsi know use serial does apple\",\"drive card disk hard scsi know use serial does apple\",\"drive card disk hard scsi know use serial does apple\",\"drive card disk hard scsi know use serial does apple\",\"drive card disk hard scsi know use serial does apple\",\"drive card disk hard scsi know use serial does apple\",\"drive card disk hard scsi know use serial does apple\",\"drive card disk hard scsi know use serial does apple\",\"drive card disk hard scsi know use serial does apple\",\"drive card disk hard scsi know use serial does apple\",\"drive card disk hard scsi know use serial does apple\",\"drive card disk hard scsi know use serial does apple\",\"drive card disk hard scsi know use serial does apple\",\"drive card disk hard scsi know use serial does apple\",\"drive card disk hard scsi know use serial does apple\",\"drive card disk hard scsi know use serial does apple\",\"drive card disk hard scsi know use serial does apple\",\"drive card disk hard scsi know use serial does apple\",\"drive card disk hard scsi know use serial does apple\",\"drive card disk hard scsi know use serial does apple\",\"drive card disk hard scsi know use serial does apple\",\"drive card disk hard scsi know use serial does apple\",\"drive card disk hard scsi know use serial does apple\",\"drive card disk hard scsi know use serial does apple\",\"drive card disk hard scsi know use serial does apple\",\"drive card disk hard scsi know use serial does apple\",\"drive card disk hard scsi know use serial does apple\",\"drive card disk hard scsi know use serial does apple\",\"drive card disk hard scsi know use serial does apple\",\"drive card disk hard scsi know use serial does apple\",\"drive card disk hard scsi know use serial does apple\",\"drive card disk hard scsi know use serial does apple\",\"drive card disk hard scsi know use serial does apple\",\"drive card disk hard scsi know use serial does apple\",\"drive card disk hard scsi know use serial does apple\",\"drive card disk hard scsi know use serial does apple\",\"drive card disk hard scsi know use serial does apple\",\"drive card disk hard scsi know use serial does apple\",\"drive card disk hard scsi know use serial does apple\",\"drive card disk hard scsi know use serial does apple\",\"drive card disk hard scsi know use serial does apple\",\"drive card disk hard scsi know use serial does apple\",\"drive card disk hard scsi know use serial does apple\",\"drive card disk hard scsi know use serial does apple\",\"drive card disk hard scsi know use serial does apple\",\"drive card disk hard scsi know use serial does apple\",\"drive card disk hard scsi know use serial does apple\",\"drive card disk hard scsi know use serial does apple\",\"drive card disk hard scsi know use serial does apple\",\"drive card disk hard scsi know use serial does apple\",\"drive card disk hard scsi know use serial does apple\",\"drive card disk hard scsi know use serial does apple\",\"drive card disk hard scsi know use serial does apple\",\"drive card disk hard scsi know use serial does apple\",\"drive card disk hard scsi know use serial does apple\",\"drive card disk hard scsi know use serial does apple\",\"drive card disk hard scsi know use serial does apple\",\"drive card disk hard scsi know use serial does apple\",\"drive card disk hard scsi know use serial does apple\",\"drive card disk hard scsi know use serial does apple\",\"drive card disk hard scsi know use serial does apple\",\"drive card disk hard scsi know use serial does apple\",\"drive card disk hard scsi know use serial does apple\",\"drive card disk hard scsi know use serial does apple\",\"drive card disk hard scsi know use serial does apple\",\"drive card disk hard scsi know use serial does apple\",\"drive card disk hard scsi know use serial does apple\",\"drive card disk hard scsi know use serial does apple\",\"drive card disk hard scsi know use serial does apple\",\"drive card disk hard scsi know use serial does apple\",\"drive card disk hard scsi know use serial does apple\",\"drive card disk hard scsi know use serial does apple\",\"drive card disk hard scsi know use serial does apple\",\"drive card disk hard scsi know use serial does apple\",\"drive card disk hard scsi know use serial does apple\",\"drive card disk hard scsi know use serial does apple\",\"drive card disk hard scsi know use serial does apple\",\"drive card disk hard scsi know use serial does apple\",\"drive card disk hard scsi know use serial does apple\",\"drive card disk hard scsi know use serial does apple\",\"drive card disk hard scsi know use serial does apple\",\"drive card disk hard scsi know use serial does apple\",\"drive card disk hard scsi know use serial does apple\",\"drive card disk hard scsi know use serial does apple\",\"drive card disk hard scsi know use serial does apple\",\"drive card disk hard scsi know use serial does apple\",\"drive card disk hard scsi know use serial does apple\",\"drive card disk hard scsi know use serial does apple\",\"drive card disk hard scsi know use serial does apple\",\"drive card disk hard scsi know use serial does apple\",\"drive card disk hard scsi know use serial does apple\",\"drive card disk hard scsi know use serial does apple\",\"drive card disk hard scsi know use serial does apple\",\"drive card disk hard scsi know use serial does apple\",\"drive card disk hard scsi know use serial does apple\",\"drive card disk hard scsi know use serial does apple\",\"drive card disk hard scsi know use serial does apple\",\"drive card disk hard scsi know use serial does apple\",\"drive card disk hard scsi know use serial does apple\",\"drive card disk hard scsi know use serial does apple\",\"drive card disk hard scsi know use serial does apple\",\"drive card disk hard scsi know use serial does apple\",\"drive card disk hard scsi know use serial does apple\",\"drive card disk hard scsi know use serial does apple\",\"drive card disk hard scsi know use serial does apple\",\"drive card disk hard scsi know use serial does apple\",\"drive card disk hard scsi know use serial does apple\",\"drive card disk hard scsi know use serial does apple\",\"drive card disk hard scsi know use serial does apple\",\"drive card disk hard scsi know use serial does apple\",\"drive card disk hard scsi know use serial does apple\",\"drive card disk hard scsi know use serial does apple\",\"drive card disk hard scsi know use serial does apple\",\"drive card disk hard scsi know use serial does apple\",\"drive card disk hard scsi know use serial does apple\",\"drive card disk hard scsi know use serial does apple\",\"drive card disk hard scsi know use serial does apple\",\"drive card disk hard scsi know use serial does apple\",\"drive card disk hard scsi know use serial does apple\",\"drive card disk hard scsi know use serial does apple\",\"drive card disk hard scsi know use serial does apple\",\"drive card disk hard scsi know use serial does apple\",\"drive card disk hard scsi know use serial does apple\",\"drive card disk hard scsi know use serial does apple\",\"drive card disk hard scsi know use serial does apple\",\"drive card disk hard scsi know use serial does apple\",\"drive card disk hard scsi know use serial does apple\",\"drive card disk hard scsi know use serial does apple\",\"drive card disk hard scsi know use serial does apple\",\"drive card disk hard scsi know use serial does apple\",\"drive card disk hard scsi know use serial does apple\",\"drive card disk hard scsi know use serial does apple\",\"drive card disk hard scsi know use serial does apple\",\"drive card disk hard scsi know use serial does apple\",\"drive card disk hard scsi know use serial does apple\",\"drive card disk hard scsi know use serial does apple\",\"drive card disk hard scsi know use serial does apple\",\"drive card disk hard scsi know use serial does apple\",\"drive card disk hard scsi know use serial does apple\",\"drive card disk hard scsi know use serial does apple\",\"drive card disk hard scsi know use serial does apple\",\"drive card disk hard scsi know use serial does apple\",\"drive card disk hard scsi know use serial does apple\",\"drive card disk hard scsi know use serial does apple\",\"drive card disk hard scsi know use serial does apple\",\"drive card disk hard scsi know use serial does apple\",\"drive card disk hard scsi know use serial does apple\",\"drive card disk hard scsi know use serial does apple\",\"drive card disk hard scsi know use serial does apple\",\"drive card disk hard scsi know use serial does apple\",\"drive card disk hard scsi know use serial does apple\",\"drive card disk hard scsi know use serial does apple\",\"drive card disk hard scsi know use serial does apple\",\"drive card disk hard scsi know use serial does apple\",\"drive card disk hard scsi know use serial does apple\",\"drive card disk hard scsi know use serial does apple\",\"drive card disk hard scsi know use serial does apple\",\"drive card disk hard scsi know use serial does apple\",\"drive card disk hard scsi know use serial does apple\",\"drive card disk hard scsi know use serial does apple\",\"drive card disk hard scsi know use serial does apple\",\"drive card disk hard scsi know use serial does apple\",\"drive card disk hard scsi know use serial does apple\",\"drive card disk hard scsi know use serial does apple\",\"drive card disk hard scsi know use serial does apple\",\"drive card disk hard scsi know use serial does apple\",\"drive card disk hard scsi know use serial does apple\",\"drive card disk hard scsi know use serial does apple\",\"drive card disk hard scsi know use serial does apple\",\"drive card disk hard scsi know use serial does apple\",\"drive card disk hard scsi know use serial does apple\",\"drive card disk hard scsi know use serial does apple\",\"drive card disk hard scsi know use serial does apple\",\"drive card disk hard scsi know use serial does apple\",\"drive card disk hard scsi know use serial does apple\",\"drive card disk hard scsi know use serial does apple\",\"drive card disk hard scsi know use serial does apple\",\"drive card disk hard scsi know use serial does apple\",\"drive card disk hard scsi know use serial does apple\",\"drive card disk hard scsi know use serial does apple\",\"drive card disk hard scsi know use serial does apple\",\"drive card disk hard scsi know use serial does apple\",\"drive card disk hard scsi know use serial does apple\",\"drive card disk hard scsi know use serial does apple\",\"drive card disk hard scsi know use serial does apple\",\"drive card disk hard scsi know use serial does apple\",\"drive card disk hard scsi know use serial does apple\",\"drive card disk hard scsi know use serial does apple\",\"drive card disk hard scsi know use serial does apple\",\"drive card disk hard scsi know use serial does apple\",\"drive card disk hard scsi know use serial does apple\",\"drive card disk hard scsi know use serial does apple\",\"drive card disk hard scsi know use serial does apple\",\"drive card disk hard scsi know use serial does apple\",\"drive card disk hard scsi know use serial does apple\",\"drive card disk hard scsi know use serial does apple\",\"drive card disk hard scsi know use serial does apple\",\"drive card disk hard scsi know use serial does apple\",\"drive card disk hard scsi know use serial does apple\",\"drive card disk hard scsi know use serial does apple\",\"drive card disk hard scsi know use serial does apple\",\"drive card disk hard scsi know use serial does apple\",\"drive card disk hard scsi know use serial does apple\",\"drive card disk hard scsi know use serial does apple\",\"drive card disk hard scsi know use serial does apple\",\"drive card disk hard scsi know use serial does apple\",\"drive card disk hard scsi know use serial does apple\",\"drive card disk hard scsi know use serial does apple\",\"drive card disk hard scsi know use serial does apple\",\"drive card disk hard scsi know use serial does apple\",\"drive card disk hard scsi know use serial does apple\",\"drive card disk hard scsi know use serial does apple\",\"drive card disk hard scsi know use serial does apple\",\"drive card disk hard scsi know use serial does apple\",\"drive card disk hard scsi know use serial does apple\",\"drive card disk hard scsi know use serial does apple\",\"drive card disk hard scsi know use serial does apple\",\"drive card disk hard scsi know use serial does apple\",\"drive card disk hard scsi know use serial does apple\",\"drive card disk hard scsi know use serial does apple\",\"drive card disk hard scsi know use serial does apple\",\"drive card disk hard scsi know use serial does apple\",\"drive card disk hard scsi know use serial does apple\",\"drive card disk hard scsi know use serial does apple\",\"drive card disk hard scsi know use serial does apple\",\"drive card disk hard scsi know use serial does apple\",\"drive card disk hard scsi know use serial does apple\",\"drive card disk hard scsi know use serial does apple\",\"drive card disk hard scsi know use serial does apple\",\"drive card disk hard scsi know use serial does apple\",\"drive card disk hard scsi know use serial does apple\",\"drive card disk hard scsi know use serial does apple\",\"drive card disk hard scsi know use serial does apple\",\"drive card disk hard scsi know use serial does apple\",\"drive card disk hard scsi know use serial does apple\",\"drive card disk hard scsi know use serial does apple\",\"drive card disk hard scsi know use serial does apple\",\"drive card disk hard scsi know use serial does apple\",\"drive card disk hard scsi know use serial does apple\",\"drive card disk hard scsi know use serial does apple\",\"drive card disk hard scsi know use serial does apple\",\"drive card disk hard scsi know use serial does apple\",\"drive card disk hard scsi know use serial does apple\",\"drive card disk hard scsi know use serial does apple\",\"drive card disk hard scsi know use serial does apple\",\"drive card disk hard scsi know use serial does apple\",\"drive card disk hard scsi know use serial does apple\",\"drive card disk hard scsi know use serial does apple\",\"drive card disk hard scsi know use serial does apple\",\"drive card disk hard scsi know use serial does apple\",\"drive card disk hard scsi know use serial does apple\",\"drive card disk hard scsi know use serial does apple\",\"drive card disk hard scsi know use serial does apple\",\"drive card disk hard scsi know use serial does apple\",\"drive card disk hard scsi know use serial does apple\",\"drive card disk hard scsi know use serial does apple\",\"drive card disk hard scsi know use serial does apple\",\"drive card disk hard scsi know use serial does apple\",\"drive card disk hard scsi know use serial does apple\",\"drive card disk hard scsi know use serial does apple\",\"drive card disk hard scsi know use serial does apple\",\"drive card disk hard scsi know use serial does apple\",\"drive card disk hard scsi know use serial does apple\",\"drive card disk hard scsi know use serial does apple\",\"drive card disk hard scsi know use serial does apple\",\"drive card disk hard scsi know use serial does apple\",\"drive card disk hard scsi know use serial does apple\",\"drive card disk hard scsi know use serial does apple\",\"drive card disk hard scsi know use serial does apple\",\"drive card disk hard scsi know use serial does apple\",\"drive card disk hard scsi know use serial does apple\",\"drive card disk hard scsi know use serial does apple\",\"drive card disk hard scsi know use serial does apple\",\"drive card disk hard scsi know use serial does apple\",\"drive card disk hard scsi know use serial does apple\",\"drive card disk hard scsi know use serial does apple\",\"drive card disk hard scsi know use serial does apple\",\"drive card disk hard scsi know use serial does apple\",\"drive card disk hard scsi know use serial does apple\",\"drive card disk hard scsi know use serial does apple\",\"drive card disk hard scsi know use serial does apple\",\"drive card disk hard scsi know use serial does apple\",\"drive card disk hard scsi know use serial does apple\",\"drive card disk hard scsi know use serial does apple\",\"drive card disk hard scsi know use serial does apple\",\"drive card disk hard scsi know use serial does apple\",\"drive card disk hard scsi know use serial does apple\",\"drive card disk hard scsi know use serial does apple\",\"drive card disk hard scsi know use serial does apple\",\"drive card disk hard scsi know use serial does apple\",\"drive card disk hard scsi know use serial does apple\",\"drive card disk hard scsi know use serial does apple\",\"drive card disk hard scsi know use serial does apple\",\"drive card disk hard scsi know use serial does apple\",\"drive card disk hard scsi know use serial does apple\",\"drive card disk hard scsi know use serial does apple\",\"drive card disk hard scsi know use serial does apple\",\"drive card disk hard scsi know use serial does apple\",\"drive card disk hard scsi know use serial does apple\",\"drive card disk hard scsi know use serial does apple\",\"drive card disk hard scsi know use serial does apple\",\"drive card disk hard scsi know use serial does apple\",\"drive card disk hard scsi know use serial does apple\",\"drive card disk hard scsi know use serial does apple\",\"drive card disk hard scsi know use serial does apple\",\"drive card disk hard scsi know use serial does apple\",\"drive card disk hard scsi know use serial does apple\",\"drive card disk hard scsi know use serial does apple\",\"drive card disk hard scsi know use serial does apple\",\"drive card disk hard scsi know use serial does apple\",\"drive card disk hard scsi know use serial does apple\",\"drive card disk hard scsi know use serial does apple\",\"drive card disk hard scsi know use serial does apple\",\"drive card disk hard scsi know use serial does apple\",\"drive card disk hard scsi know use serial does apple\",\"drive card disk hard scsi know use serial does apple\",\"drive card disk hard scsi know use serial does apple\",\"drive card disk hard scsi know use serial does apple\",\"drive card disk hard scsi know use serial does apple\",\"drive card disk hard scsi know use serial does apple\",\"drive card disk hard scsi know use serial does apple\",\"drive card disk hard scsi know use serial does apple\",\"drive card disk hard scsi know use serial does apple\",\"drive card disk hard scsi know use serial does apple\",\"drive card disk hard scsi know use serial does apple\",\"drive card disk hard scsi know use serial does apple\",\"drive card disk hard scsi know use serial does apple\",\"drive card disk hard scsi know use serial does apple\",\"drive card disk hard scsi know use serial does apple\",\"drive card disk hard scsi know use serial does apple\",\"drive card disk hard scsi know use serial does apple\",\"drive card disk hard scsi know use serial does apple\",\"drive card disk hard scsi know use serial does apple\",\"drive card disk hard scsi know use serial does apple\",\"drive card disk hard scsi know use serial does apple\",\"drive card disk hard scsi know use serial does apple\",\"drive card disk hard scsi know use serial does apple\",\"drive card disk hard scsi know use serial does apple\",\"drive card disk hard scsi know use serial does apple\",\"drive card disk hard scsi know use serial does apple\",\"drive card disk hard scsi know use serial does apple\",\"drive card disk hard scsi know use serial does apple\",\"drive card disk hard scsi know use serial does apple\",\"drive card disk hard scsi know use serial does apple\",\"drive card disk hard scsi know use serial does apple\",\"drive card disk hard scsi know use serial does apple\",\"drive card disk hard scsi know use serial does apple\",\"drive card disk hard scsi know use serial does apple\",\"drive card disk hard scsi know use serial does apple\",\"drive card disk hard scsi know use serial does apple\",\"drive card disk hard scsi know use serial does apple\",\"drive card disk hard scsi know use serial does apple\",\"drive card disk hard scsi know use serial does apple\",\"drive card disk hard scsi know use serial does apple\",\"drive card disk hard scsi know use serial does apple\",\"drive card disk hard scsi know use serial does apple\",\"drive card disk hard scsi know use serial does apple\",\"drive card disk hard scsi know use serial does apple\",\"drive card disk hard scsi know use serial does apple\",\"drive card disk hard scsi know use serial does apple\",\"drive card disk hard scsi know use serial does apple\",\"drive card disk hard scsi know use serial does apple\",\"drive card disk hard scsi know use serial does apple\",\"drive card disk hard scsi know use serial does apple\",\"drive card disk hard scsi know use serial does apple\",\"drive card disk hard scsi know use serial does apple\",\"drive card disk hard scsi know use serial does apple\",\"drive card disk hard scsi know use serial does apple\",\"drive card disk hard scsi know use serial does apple\",\"drive card disk hard scsi know use serial does apple\",\"drive card disk hard scsi know use serial does apple\",\"drive card disk hard scsi know use serial does apple\",\"drive card disk hard scsi know use serial does apple\",\"drive card disk hard scsi know use serial does apple\",\"drive card disk hard scsi know use serial does apple\",\"drive card disk hard scsi know use serial does apple\",\"drive card disk hard scsi know use serial does apple\",\"drive card disk hard scsi know use serial does apple\",\"drive card disk hard scsi know use serial does apple\",\"drive card disk hard scsi know use serial does apple\",\"drive card disk hard scsi know use serial does apple\",\"drive card disk hard scsi know use serial does apple\",\"drive card disk hard scsi know use serial does apple\",\"drive card disk hard scsi know use serial does apple\",\"drive card disk hard scsi know use serial does apple\",\"drive card disk hard scsi know use serial does apple\",\"drive card disk hard scsi know use serial does apple\",\"drive card disk hard scsi know use serial does apple\",\"drive card disk hard scsi know use serial does apple\",\"drive card disk hard scsi know use serial does apple\",\"drive card disk hard scsi know use serial does apple\",\"drive card disk hard scsi know use serial does apple\",\"drive card disk hard scsi know use serial does apple\",\"drive card disk hard scsi know use serial does apple\",\"drive card disk hard scsi know use serial does apple\",\"drive card disk hard scsi know use serial does apple\",\"drive card disk hard scsi know use serial does apple\",\"drive card disk hard scsi know use serial does apple\",\"drive card disk hard scsi know use serial does apple\",\"drive card disk hard scsi know use serial does apple\",\"drive card disk hard scsi know use serial does apple\",\"drive card disk hard scsi know use serial does apple\",\"drive card disk hard scsi know use serial does apple\",\"drive card disk hard scsi know use serial does apple\",\"drive card disk hard scsi know use serial does apple\",\"drive card disk hard scsi know use serial does apple\",\"drive card disk hard scsi know use serial does apple\",\"drive card disk hard scsi know use serial does apple\",\"drive card disk hard scsi know use serial does apple\",\"drive card disk hard scsi know use serial does apple\",\"drive card disk hard scsi know use serial does apple\",\"drive card disk hard scsi know use serial does apple\",\"drive card disk hard scsi know use serial does apple\",\"drive card disk hard scsi know use serial does apple\",\"drive card disk hard scsi know use serial does apple\",\"drive card disk hard scsi know use serial does apple\",\"drive card disk hard scsi know use serial does apple\",\"drive card disk hard scsi know use serial does apple\",\"drive card disk hard scsi know use serial does apple\",\"drive card disk hard scsi know use serial does apple\",\"drive card disk hard scsi know use serial does apple\",\"drive card disk hard scsi know use serial does apple\",\"drive card disk hard scsi know use serial does apple\",\"drive card disk hard scsi know use serial does apple\",\"drive card disk hard scsi know use serial does apple\",\"drive card disk hard scsi know use serial does apple\",\"drive card disk hard scsi know use serial does apple\",\"drive card disk hard scsi know use serial does apple\",\"drive card disk hard scsi know use serial does apple\",\"drive card disk hard scsi know use serial does apple\",\"drive card disk hard scsi know use serial does apple\",\"drive card disk hard scsi know use serial does apple\",\"drive card disk hard scsi know use serial does apple\",\"drive card disk hard scsi know use serial does apple\",\"drive card disk hard scsi know use serial does apple\",\"drive card disk hard scsi know use serial does apple\",\"mac ibm info pc ii usa fast mode dec quadra\",\"mac ibm info pc ii usa fast mode dec quadra\",\"mac ibm info pc ii usa fast mode dec quadra\",\"mac ibm info pc ii usa fast mode dec quadra\",\"mac ibm info pc ii usa fast mode dec quadra\",\"mac ibm info pc ii usa fast mode dec quadra\",\"mac ibm info pc ii usa fast mode dec quadra\",\"mac ibm info pc ii usa fast mode dec quadra\",\"mac ibm info pc ii usa fast mode dec quadra\",\"mac ibm info pc ii usa fast mode dec quadra\",\"mac ibm info pc ii usa fast mode dec quadra\",\"mac ibm info pc ii usa fast mode dec quadra\",\"mac ibm info pc ii usa fast mode dec quadra\",\"mac ibm info pc ii usa fast mode dec quadra\",\"mac ibm info pc ii usa fast mode dec quadra\",\"mac ibm info pc ii usa fast mode dec quadra\",\"mac ibm info pc ii usa fast mode dec quadra\",\"mac ibm info pc ii usa fast mode dec quadra\",\"mac ibm info pc ii usa fast mode dec quadra\",\"mac ibm info pc ii usa fast mode dec quadra\",\"mac ibm info pc ii usa fast mode dec quadra\",\"mac ibm info pc ii usa fast mode dec quadra\",\"mac ibm info pc ii usa fast mode dec quadra\",\"mac ibm info pc ii usa fast mode dec quadra\",\"mac ibm info pc ii usa fast mode dec quadra\",\"mac ibm info pc ii usa fast mode dec quadra\",\"windows dos software font printer print fonts driver microsoft laser\",\"windows dos software font printer print fonts driver microsoft laser\",\"windows dos software font printer print fonts driver microsoft laser\",\"windows dos software font printer print fonts driver microsoft laser\",\"windows dos software font printer print fonts driver microsoft laser\",\"windows dos software font printer print fonts driver microsoft laser\",\"windows dos software font printer print fonts driver microsoft laser\",\"windows dos software font printer print fonts driver microsoft laser\",\"windows dos software font printer print fonts driver microsoft laser\",\"windows dos software font printer print fonts driver microsoft laser\",\"windows dos software font printer print fonts driver microsoft laser\",\"windows dos software font printer print fonts driver microsoft laser\",\"windows dos software font printer print fonts driver microsoft laser\",\"windows dos software font printer print fonts driver microsoft laser\",\"windows dos software font printer print fonts driver microsoft laser\",\"windows dos software font printer print fonts driver microsoft laser\",\"windows dos software font printer print fonts driver microsoft laser\",\"windows dos software font printer print fonts driver microsoft laser\",\"windows dos software font printer print fonts driver microsoft laser\",\"windows dos software font printer print fonts driver microsoft laser\",\"windows dos software font printer print fonts driver microsoft laser\",\"windows dos software font printer print fonts driver microsoft laser\",\"windows dos software font printer print fonts driver microsoft laser\",\"windows dos software font printer print fonts driver microsoft laser\",\"windows dos software font printer print fonts driver microsoft laser\",\"windows dos software font printer print fonts driver microsoft laser\",\"windows dos software font printer print fonts driver microsoft laser\",\"windows dos software font printer print fonts driver microsoft laser\",\"windows dos software font printer print fonts driver microsoft laser\",\"windows dos software font printer print fonts driver microsoft laser\",\"windows dos software font printer print fonts driver microsoft laser\",\"windows dos software font printer print fonts driver microsoft laser\",\"windows dos software font printer print fonts driver microsoft laser\",\"windows dos software font printer print fonts driver microsoft laser\",\"windows dos software font printer print fonts driver microsoft laser\",\"windows dos software font printer print fonts driver microsoft laser\",\"windows dos software font printer print fonts driver microsoft laser\",\"windows dos software font printer print fonts driver microsoft laser\",\"windows dos software font printer print fonts driver microsoft laser\",\"windows dos software font printer print fonts driver microsoft laser\",\"windows dos software font printer print fonts driver microsoft laser\",\"windows dos software font printer print fonts driver microsoft laser\",\"windows dos software font printer print fonts driver microsoft laser\",\"windows dos software font printer print fonts driver microsoft laser\",\"windows dos software font printer print fonts driver microsoft laser\",\"windows dos software font printer print fonts driver microsoft laser\",\"key chip government encryption clipper security law keys algorithm message\",\"key chip government encryption clipper security law keys algorithm message\",\"key chip government encryption clipper security law keys algorithm message\",\"key chip government encryption clipper security law keys algorithm message\",\"key chip government encryption clipper security law keys algorithm message\",\"key chip government encryption clipper security law keys algorithm message\",\"key chip government encryption clipper security law keys algorithm message\",\"key chip government encryption clipper security law keys algorithm message\",\"key chip government encryption clipper security law keys algorithm message\",\"key chip government encryption clipper security law keys algorithm message\",\"key chip government encryption clipper security law keys algorithm message\",\"key chip government encryption clipper security law keys algorithm message\",\"key chip government encryption clipper security law keys algorithm message\",\"key chip government encryption clipper security law keys algorithm message\",\"key chip government encryption clipper security law keys algorithm message\",\"key chip government encryption clipper security law keys algorithm message\",\"key chip government encryption clipper security law keys algorithm message\",\"key chip government encryption clipper security law keys algorithm message\",\"key chip government encryption clipper security law keys algorithm message\",\"key chip government encryption clipper security law keys algorithm message\",\"key chip government encryption clipper security law keys algorithm message\",\"key chip government encryption clipper security law keys algorithm message\",\"key chip government encryption clipper security law keys algorithm message\",\"key chip government encryption clipper security law keys algorithm message\",\"key chip government encryption clipper security law keys algorithm message\",\"key chip government encryption clipper security law keys algorithm message\",\"key chip government encryption clipper security law keys algorithm message\",\"key chip government encryption clipper security law keys algorithm message\",\"key chip government encryption clipper security law keys algorithm message\",\"key chip government encryption clipper security law keys algorithm message\",\"key chip government encryption clipper security law keys algorithm message\",\"key chip government encryption clipper security law keys algorithm message\",\"key chip government encryption clipper security law keys algorithm message\",\"key chip government encryption clipper security law keys algorithm message\",\"key chip government encryption clipper security law keys algorithm message\",\"key chip government encryption clipper security law keys algorithm message\",\"key chip government encryption clipper security law keys algorithm message\",\"key chip government encryption clipper security law keys algorithm message\",\"key chip government encryption clipper security law keys algorithm message\",\"key chip government encryption clipper security law keys algorithm message\",\"key chip government encryption clipper security law keys algorithm message\",\"key chip government encryption clipper security law keys algorithm message\",\"key chip government encryption clipper security law keys algorithm message\",\"key chip government encryption clipper security law keys algorithm message\",\"key chip government encryption clipper security law keys algorithm message\",\"key chip government encryption clipper security law keys algorithm message\",\"key chip government encryption clipper security law keys algorithm message\",\"key chip government encryption clipper security law keys algorithm message\",\"key chip government encryption clipper security law keys algorithm message\",\"key chip government encryption clipper security law keys algorithm message\",\"key chip government encryption clipper security law keys algorithm message\",\"key chip government encryption clipper security law keys algorithm message\",\"key chip government encryption clipper security law keys algorithm message\",\"key chip government encryption clipper security law keys algorithm message\",\"key chip government encryption clipper security law keys algorithm message\",\"key chip government encryption clipper security law keys algorithm message\",\"key chip government encryption clipper security law keys algorithm message\",\"key chip government encryption clipper security law keys algorithm message\",\"key chip government encryption clipper security law keys algorithm message\",\"key chip government encryption clipper security law keys algorithm message\",\"key chip government encryption clipper security law keys algorithm message\",\"key chip government encryption clipper security law keys algorithm message\",\"key chip government encryption clipper security law keys algorithm message\",\"key chip government encryption clipper security law keys algorithm message\",\"key chip government encryption clipper security law keys algorithm message\",\"key chip government encryption clipper security law keys algorithm message\",\"key chip government encryption clipper security law keys algorithm message\",\"key chip government encryption clipper security law keys algorithm message\",\"key chip government encryption clipper security law keys algorithm message\",\"key chip government encryption clipper security law keys algorithm message\",\"key chip government encryption clipper security law keys algorithm message\",\"key chip government encryption clipper security law keys algorithm message\",\"key chip government encryption clipper security law keys algorithm message\",\"key chip government encryption clipper security law keys algorithm message\",\"key chip government encryption clipper security law keys algorithm message\",\"key chip government encryption clipper security law keys algorithm message\",\"key chip government encryption clipper security law keys algorithm message\",\"key chip government encryption clipper security law keys algorithm message\",\"key chip government encryption clipper security law keys algorithm message\",\"key chip government encryption clipper security law keys algorithm message\",\"key chip government encryption clipper security law keys algorithm message\",\"key chip government encryption clipper security law keys algorithm message\",\"key chip government encryption clipper security law keys algorithm message\",\"key chip government encryption clipper security law keys algorithm message\",\"key chip government encryption clipper security law keys algorithm message\"],\"x\":{\"__ndarray__\":\"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\",\"dtype\":\"float32\",\"shape\":[1341]},\"y\":{\"__ndarray__\":\"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\",\"dtype\":\"float32\",\"shape\":[1341]}},\"selected\":{\"id\":\"1048\",\"type\":\"Selection\"},\"selection_policy\":{\"id\":\"1049\",\"type\":\"UnionRenderers\"}},\"id\":\"1002\",\"type\":\"ColumnDataSource\"},{\"attributes\":{},\"id\":\"1025\",\"type\":\"SaveTool\"},{\"attributes\":{\"callback\":null,\"tooltips\":[[\"index\",\"$index\"],[\"(x,y)\",\"($x,$y)\"],[\"topic\",\"@topic\"],[\"cat\",\"@cat\"]]},\"id\":\"1003\",\"type\":\"HoverTool\"},{\"attributes\":{},\"id\":\"1026\",\"type\":\"PanTool\"},{\"attributes\":{\"overlay\":{\"id\":\"1047\",\"type\":\"BoxAnnotation\"}},\"id\":\"1028\",\"type\":\"BoxZoomTool\"},{\"attributes\":{},\"id\":\"1029\",\"type\":\"ResetTool\"},{\"attributes\":{\"data_source\":{\"id\":\"1002\",\"type\":\"ColumnDataSource\"},\"glyph\":{\"id\":\"1038\",\"type\":\"Circle\"},\"hover_glyph\":null,\"muted_glyph\":null,\"nonselection_glyph\":{\"id\":\"1039\",\"type\":\"Circle\"},\"selection_glyph\":null,\"view\":{\"id\":\"1041\",\"type\":\"CDSView\"}},\"id\":\"1040\",\"type\":\"GlyphRenderer\"},{\"attributes\":{\"fill_alpha\":{\"value\":0.1},\"fill_color\":{\"value\":\"#1f77b4\"},\"line_alpha\":{\"value\":0.1},\"line_color\":{\"value\":\"#1f77b4\"},\"size\":{\"units\":\"screen\",\"value\":5},\"x\":{\"field\":\"x\"},\"y\":{\"field\":\"y\"}},\"id\":\"1039\",\"type\":\"Circle\"},{\"attributes\":{},\"id\":\"1027\",\"type\":\"WheelZoomTool\"},{\"attributes\":{\"text\":\"Document Visualization\"},\"id\":\"1005\",\"type\":\"Title\"},{\"attributes\":{\"fill_color\":{\"field\":\"fill_color\"},\"line_color\":{\"value\":\"#1f77b4\"},\"size\":{\"units\":\"screen\",\"value\":5},\"x\":{\"field\":\"x\"},\"y\":{\"field\":\"y\"}},\"id\":\"1038\",\"type\":\"Circle\"},{\"attributes\":{\"callback\":null},\"id\":\"1007\",\"type\":\"DataRange1d\"},{\"attributes\":{\"callback\":null},\"id\":\"1009\",\"type\":\"DataRange1d\"},{\"attributes\":{\"source\":{\"id\":\"1002\",\"type\":\"ColumnDataSource\"}},\"id\":\"1041\",\"type\":\"CDSView\"},{\"attributes\":{},\"id\":\"1011\",\"type\":\"LinearScale\"},{\"attributes\":{},\"id\":\"1045\",\"type\":\"BasicTickFormatter\"},{\"attributes\":{},\"id\":\"1013\",\"type\":\"LinearScale\"},{\"attributes\":{\"bottom_units\":\"screen\",\"fill_alpha\":{\"value\":0.5},\"fill_color\":{\"value\":\"lightgrey\"},\"left_units\":\"screen\",\"level\":\"overlay\",\"line_alpha\":{\"value\":1.0},\"line_color\":{\"value\":\"black\"},\"line_dash\":[4,4],\"line_width\":{\"value\":2},\"render_mode\":\"css\",\"right_units\":\"screen\",\"top_units\":\"screen\"},\"id\":\"1047\",\"type\":\"BoxAnnotation\"},{\"attributes\":{\"formatter\":{\"id\":\"1045\",\"type\":\"BasicTickFormatter\"},\"ticker\":{\"id\":\"1016\",\"type\":\"BasicTicker\"}},\"id\":\"1015\",\"type\":\"LinearAxis\"},{\"attributes\":{},\"id\":\"1048\",\"type\":\"Selection\"},{\"attributes\":{},\"id\":\"1016\",\"type\":\"BasicTicker\"},{\"attributes\":{},\"id\":\"1049\",\"type\":\"UnionRenderers\"},{\"attributes\":{\"ticker\":{\"id\":\"1016\",\"type\":\"BasicTicker\"}},\"id\":\"1019\",\"type\":\"Grid\"},{\"attributes\":{\"formatter\":{\"id\":\"1043\",\"type\":\"BasicTickFormatter\"},\"ticker\":{\"id\":\"1021\",\"type\":\"BasicTicker\"}},\"id\":\"1020\",\"type\":\"LinearAxis\"},{\"attributes\":{},\"id\":\"1021\",\"type\":\"BasicTicker\"}],\"root_ids\":[\"1004\"]},\"title\":\"Bokeh Application\",\"version\":\"1.3.4\"}};\n",
       "  var render_items = [{\"docid\":\"a78775fe-f14c-41f0-8642-399ed3a25b37\",\"roots\":{\"1004\":\"81504d0a-bdaa-4919-953c-b45d233eceee\"}}];\n",
       "  root.Bokeh.embed.embed_items_notebook(docs_json, render_items);\n",
       "\n",
       "  }\n",
       "  if (root.Bokeh !== undefined) {\n",
       "    embed_document(root);\n",
       "  } else {\n",
       "    var attempts = 0;\n",
       "    var timer = setInterval(function(root) {\n",
       "      if (root.Bokeh !== undefined) {\n",
       "        embed_document(root);\n",
       "        clearInterval(timer);\n",
       "      }\n",
       "      attempts++;\n",
       "      if (attempts > 100) {\n",
       "        console.log(\"Bokeh: ERROR: Unable to run BokehJS code because BokehJS library is missing\");\n",
       "        clearInterval(timer);\n",
       "      }\n",
       "    }, 10, root)\n",
       "  }\n",
       "})(window);"
      ],
      "application/vnd.bokehjs_exec.v0+json": ""
     },
     "metadata": {
      "application/vnd.bokehjs_exec.v0+json": {
       "id": "1004"
      }
     },
     "output_type": "display_data"
    }
   ],
   "source": [
    "tm.visualize_documents(doc_topics=tech_probs, extra_info={'cat': newsgroup_categories})"
   ]
  },
  {
   "cell_type": "markdown",
   "metadata": {},
   "source": [
    "If hovering over these points, you'll see that the cryptography-related documents are off to the right and deemed less similar to the rest of the documents related to Windows, Macs, and computer hardware.  This agrees with intuition. \n",
    "\n",
    "To keep things more narrowly focused, let's remove the cryptography documents from the set before proceeding to the next section."
   ]
  },
  {
   "cell_type": "code",
   "execution_count": 22,
   "metadata": {},
   "outputs": [],
   "source": [
    "tech_topics = [11, 23, 33]\n",
    "tech_probs = tm.get_doctopics(topic_ids=tech_topics)\n",
    "tech_texts = tm.get_texts(topic_ids=tech_topics)"
   ]
  },
  {
   "cell_type": "markdown",
   "metadata": {},
   "source": [
    "## Scoring Documents by Similarity\n",
    "\n",
    "Once you've identified a set of documents that are interesting to your use case, you may want to identify additional documents that are semantically similar to this set.  Here, suppose we wanted to identify new documents that are related to computer technology.  We can accomplish this with the `find` method.  The `find` method compiles a list of seed documents based on supplied `topic_ids` or `doc_ids` and scores new documents based on their similarity to the seed documents. Internally, this is accomplished by training a rudimentary [One-Class classifier](https://en.wikipedia.org/wiki/One-class_classification).  While this classifier can be used as is, it may be more useful to use the `find` method to help compile a training set for a traditinal binary classifier."
   ]
  },
  {
   "cell_type": "code",
   "execution_count": 23,
   "metadata": {},
   "outputs": [],
   "source": [
    "tm.train_scorer(topic_ids=tech_topics)"
   ]
  },
  {
   "cell_type": "markdown",
   "metadata": {},
   "source": [
    "We can now invoke the `scorer` method to measure the degree to which new documents are similar to our technology-related topics.  Let's use `scorer` to measure the similarity of the remaining documents in the corpus. Note that, although we are applying the scorer to documents within the set corpus used to train the topic model, this is not required. Our `scorer` can be applied to any arbitrary set of documents.\n",
    "\n",
    "Let's retrieve the text associated with all documents **not** associated with topid_ids 11, 23, and 33."
   ]
  },
  {
   "cell_type": "code",
   "execution_count": 24,
   "metadata": {},
   "outputs": [],
   "source": [
    "other_topics = [i for i in range(tm.n_topics) if i not in tech_topics]\n",
    "other_texts = [d[0] for d in tm.get_docs(topic_ids=other_topics)]"
   ]
  },
  {
   "cell_type": "markdown",
   "metadata": {},
   "source": [
    "Let's score these documents and place into a Pandas dataframe."
   ]
  },
  {
   "cell_type": "code",
   "execution_count": 25,
   "metadata": {},
   "outputs": [],
   "source": [
    "# score documents based on similarity\n",
    "other_scores = tm.score(other_texts)"
   ]
  },
  {
   "cell_type": "code",
   "execution_count": 26,
   "metadata": {},
   "outputs": [
    {
     "name": "stdout",
     "output_type": "stream",
     "text": [
      "Top Inliers (or Most Similar to Our Technology-Related Topics\n",
      "\t\tNumber of Predicted Inliners: 130\n"
     ]
    },
    {
     "data": {
      "text/html": [
       "<div>\n",
       "<style scoped>\n",
       "    .dataframe tbody tr th:only-of-type {\n",
       "        vertical-align: middle;\n",
       "    }\n",
       "\n",
       "    .dataframe tbody tr th {\n",
       "        vertical-align: top;\n",
       "    }\n",
       "\n",
       "    .dataframe thead th {\n",
       "        text-align: right;\n",
       "    }\n",
       "</style>\n",
       "<table border=\"1\" class=\"dataframe\">\n",
       "  <thead>\n",
       "    <tr style=\"text-align: right;\">\n",
       "      <th></th>\n",
       "      <th>Prediction</th>\n",
       "      <th>Score</th>\n",
       "      <th>Text</th>\n",
       "    </tr>\n",
       "  </thead>\n",
       "  <tbody>\n",
       "    <tr>\n",
       "      <th>0</th>\n",
       "      <td>1</td>\n",
       "      <td>0.209006</td>\n",
       "      <td>my cousin got a second internal ide drive seagate can look up the model number if and been to help him install got a vested since busted and i have to use his until i get mine already has a seagate ide hd i forget the model number i can find i seem to get the bloody thing managed to get or the other drive up the other but not both the same whenever i the thing hangs during bootup gets past the system the ide instruction says it supports two i think configured the cmos the plugged in i even learned about the relationship that two hds are supposed to have pcs were into and i think i configured the jumpers one is the the new one is the many thanks in this is practically an emergency have papers to do on this thing for barnes suranet operations voice fax i speak for suranet and they speak for been told by our local computer guru that you do this unless you perform a low level format on your existing hard drive and set your system up for two hard drives from the i took him at his and i have not tried to find out any more about because not going to back everything up just to add another if anyone knows for sure what the scoop i would like to know thanks in advance bill willis do not do a low level format on an ide drive unless you have the executable for doing so supplied by the these are available from or mail but the mail version costs a nominal in addition to the jumper on an ide drive there is also another jumper to indicate whether a slave is get it the cabling is not an issue as long as pin goes to pin goes to pin no twisting or swapping on an ide be sure of pin on all three components do not make assumptions are ok but assumptions are if the cable and jumpers are and the cmos setup is then you may have to do an fdisk followed by a high level i have never personally found this but perhaps there is something gone wrong with the data on the probably not but i understand your predicament you will probably throw salt over your wear funny clothes and do a spooky sounding chant while dancing around the room if someone said it might good luck</td>\n",
       "    </tr>\n",
       "    <tr>\n",
       "      <th>1</th>\n",
       "      <td>1</td>\n",
       "      <td>0.193166</td>\n",
       "      <td>about two months ago i purchased the adaptec driver for use with a at the time this seemed the thing to do as the documentation i had with my adaptec scsi controller said that this is the driver to be used with since then i have learn that this driver is out of date in a major way and that adaptec have an upgrade deal for going to the next driver think called or i too fussed about this until i upgraded by drive from a sony to a sony i now find that the will not i assume it is not being handled correctly by the should i chase adaptec for an if so does anyone know their fax any assistance regards everything else works certainly seems that sony have caught up with the rest with the</td>\n",
       "    </tr>\n",
       "    <tr>\n",
       "      <th>2</th>\n",
       "      <td>1</td>\n",
       "      <td>0.192934</td>\n",
       "      <td>a few posts somebody mentioned that the duo might crash if it has the wrong kind of ram in my duo crashes sometimes after and i am wondering if there is any software which will tell me whether or not i have the right kind of ram i had thought that the problem was the battery thanks in</td>\n",
       "    </tr>\n",
       "    <tr>\n",
       "      <th>3</th>\n",
       "      <td>1</td>\n",
       "      <td>0.172741</td>\n",
       "      <td>does support the graphics accelerator board in the sun thanks in</td>\n",
       "    </tr>\n",
       "    <tr>\n",
       "      <th>4</th>\n",
       "      <td>1</td>\n",
       "      <td>0.172680</td>\n",
       "      <td>hi another of those type been given an oldish phillips televideo terminal type without a but no problem so when i dismantled i discovered that it is really just a standard rgb monitor with built in software phillips kindly labelled the circuit board with the rgb so i connected it up as a monitor and he presto it worked sort the problem is that i have no idea where to connect the sync the display rolls but does change modes only to cga but useful for my any of you wonderful people any knowledge of phillips tried phillips in the uk and a very helpful guy told me that he has had several enquiries of this but phillips computer is now under the auspices of dec least in the dec said sorry phillips make it any what is it a uk support dealer said so any</td>\n",
       "    </tr>\n",
       "  </tbody>\n",
       "</table>\n",
       "</div>"
      ],
      "text/plain": [
       "   Prediction     Score  \\\n",
       "0  1           0.209006   \n",
       "1  1           0.193166   \n",
       "2  1           0.192934   \n",
       "3  1           0.172741   \n",
       "4  1           0.172680   \n",
       "\n",
       "                                                                                                                                                                                                                                                                                                                                                                                                                                                                                                                                                                                                                                                                                                                                                                                                                                                                                                                                                                                                                                                                                                                                                                                                                                                                                                                                                                                                                                                                                                                                                                                                                                                                                                                                                                                                                                                                                                                                                                                                                                                                                                                                                      Text  \n",
       "0  my cousin got a second internal ide drive seagate can look up the model number if and been to help him install got a vested since busted and i have to use his until i get mine already has a seagate ide hd i forget the model number i can find i seem to get the bloody thing managed to get or the other drive up the other but not both the same whenever i the thing hangs during bootup gets past the system the ide instruction says it supports two i think configured the cmos the plugged in i even learned about the relationship that two hds are supposed to have pcs were into and i think i configured the jumpers one is the the new one is the many thanks in this is practically an emergency have papers to do on this thing for barnes suranet operations voice fax i speak for suranet and they speak for been told by our local computer guru that you do this unless you perform a low level format on your existing hard drive and set your system up for two hard drives from the i took him at his and i have not tried to find out any more about because not going to back everything up just to add another if anyone knows for sure what the scoop i would like to know thanks in advance bill willis do not do a low level format on an ide drive unless you have the executable for doing so supplied by the these are available from or mail but the mail version costs a nominal in addition to the jumper on an ide drive there is also another jumper to indicate whether a slave is get it the cabling is not an issue as long as pin goes to pin goes to pin no twisting or swapping on an ide be sure of pin on all three components do not make assumptions are ok but assumptions are if the cable and jumpers are and the cmos setup is then you may have to do an fdisk followed by a high level i have never personally found this but perhaps there is something gone wrong with the data on the probably not but i understand your predicament you will probably throw salt over your wear funny clothes and do a spooky sounding chant while dancing around the room if someone said it might good luck  \n",
       "1  about two months ago i purchased the adaptec driver for use with a at the time this seemed the thing to do as the documentation i had with my adaptec scsi controller said that this is the driver to be used with since then i have learn that this driver is out of date in a major way and that adaptec have an upgrade deal for going to the next driver think called or i too fussed about this until i upgraded by drive from a sony to a sony i now find that the will not i assume it is not being handled correctly by the should i chase adaptec for an if so does anyone know their fax any assistance regards everything else works certainly seems that sony have caught up with the rest with the                                                                                                                                                                                                                                                                                                                                                                                                                                                                                                                                                                                                                                                                                                                                                                                                                                                                                                                                                                                                                                                                                                                                                                                                                                                                                                                                                                                                                                          \n",
       "2  a few posts somebody mentioned that the duo might crash if it has the wrong kind of ram in my duo crashes sometimes after and i am wondering if there is any software which will tell me whether or not i have the right kind of ram i had thought that the problem was the battery thanks in                                                                                                                                                                                                                                                                                                                                                                                                                                                                                                                                                                                                                                                                                                                                                                                                                                                                                                                                                                                                                                                                                                                                                                                                                                                                                                                                                                                                                                                                                                                                                                                                                                                                                                                                                                                                                                                            \n",
       "3  does support the graphics accelerator board in the sun thanks in                                                                                                                                                                                                                                                                                                                                                                                                                                                                                                                                                                                                                                                                                                                                                                                                                                                                                                                                                                                                                                                                                                                                                                                                                                                                                                                                                                                                                                                                                                                                                                                                                                                                                                                                                                                                                                                                                                                                                                                                                                                                                         \n",
       "4  hi another of those type been given an oldish phillips televideo terminal type without a but no problem so when i dismantled i discovered that it is really just a standard rgb monitor with built in software phillips kindly labelled the circuit board with the rgb so i connected it up as a monitor and he presto it worked sort the problem is that i have no idea where to connect the sync the display rolls but does change modes only to cga but useful for my any of you wonderful people any knowledge of phillips tried phillips in the uk and a very helpful guy told me that he has had several enquiries of this but phillips computer is now under the auspices of dec least in the dec said sorry phillips make it any what is it a uk support dealer said so any                                                                                                                                                                                                                                                                                                                                                                                                                                                                                                                                                                                                                                                                                                                                                                                                                                                                                                                                                                                                                                                                                                                                                                                                                                                                                                                                                                      "
      ]
     },
     "execution_count": 26,
     "metadata": {},
     "output_type": "execute_result"
    }
   ],
   "source": [
    "# display results in Pandas dataframe\n",
    "other_preds = [int(score > 0) for score in other_scores]\n",
    "data = sorted(list(zip(other_preds, other_scores, other_texts)), key=lambda item:item[1], reverse=True)\n",
    "print('Top Inliers (or Most Similar to Our Technology-Related Topics')\n",
    "print('\\t\\tNumber of Predicted Inliners: %s' % sum(other_preds))\n",
    "df = pd.DataFrame(data, columns=['Prediction', 'Score', 'Text'])\n",
    "df.head()"
   ]
  },
  {
   "cell_type": "markdown",
   "metadata": {},
   "source": [
    "As you can see, we see we've found additional technology-related posts in the dataset.\n",
    "\n",
    "Our `scorer` assigns a score to each document, where  higher scores indicate a  higher degree of similarity to technology-related seed docments.  The `scorer` implements a decision function to make binary decisions on similarity such that documents with positive scores are deemed as similar and negative scores are deemed dissimilar. We've used this to create  a prediction of 1 for similar and 0 for dissimilar.  This identifies 130 documents as similar.   The `scorer`, however, employs a One-Class classifier, which tends to be more strict.  That is, there are likely documents with negative scores close to zero that are also similar.  Let's look at these."
   ]
  },
  {
   "cell_type": "code",
   "execution_count": 27,
   "metadata": {},
   "outputs": [
    {
     "data": {
      "text/html": [
       "<div>\n",
       "<style scoped>\n",
       "    .dataframe tbody tr th:only-of-type {\n",
       "        vertical-align: middle;\n",
       "    }\n",
       "\n",
       "    .dataframe tbody tr th {\n",
       "        vertical-align: top;\n",
       "    }\n",
       "\n",
       "    .dataframe thead th {\n",
       "        text-align: right;\n",
       "    }\n",
       "</style>\n",
       "<table border=\"1\" class=\"dataframe\">\n",
       "  <thead>\n",
       "    <tr style=\"text-align: right;\">\n",
       "      <th></th>\n",
       "      <th>Prediction</th>\n",
       "      <th>Score</th>\n",
       "      <th>Text</th>\n",
       "    </tr>\n",
       "  </thead>\n",
       "  <tbody>\n",
       "    <tr>\n",
       "      <th>130</th>\n",
       "      <td>0</td>\n",
       "      <td>-0.001667</td>\n",
       "      <td>i am trying to compile a chart for windows and dos performance of local bus video card so if you have a and one of the local bus video cards please email me your winbench and in please give me winmark score at and i will post the chart if enough response if tseng vlb cl vlb based local bus ati ultra pro vlb orchid celsius vlb agx based vlb they matox mga based video cards</td>\n",
       "    </tr>\n",
       "    <tr>\n",
       "      <th>131</th>\n",
       "      <td>0</td>\n",
       "      <td>-0.001815</td>\n",
       "      <td>this may be a simple question we have a number of which we use to link to a mainframe using novell lan workplace for dos windows to make life easier for us we are thinking of using windows for workgroups to allow file sharing across our pc now does anyone know if it is possible to use and lan workplace for dos at the same ie can i access a file on another pc while being logged on to the mainframe at the same any help well</td>\n",
       "    </tr>\n",
       "    <tr>\n",
       "      <th>132</th>\n",
       "      <td>0</td>\n",
       "      <td>-0.002140</td>\n",
       "      <td>i have recently picked up a page scanner by the name of ii model the software for it was made for windows and will not work with the newwer does any one out there kow were i could find the company that made this beast say and the name gms a division of does anyone know if these companies still exist and if they do they have an email if anyone knows of a programme that is able to access this</td>\n",
       "    </tr>\n",
       "    <tr>\n",
       "      <th>133</th>\n",
       "      <td>0</td>\n",
       "      <td>-0.003871</td>\n",
       "      <td>hello i have a problem with my micro solutions sometimes it sometimes it i will either start a or start a tape and at about percent i get an error either saying the tape is bad or the has aborted for an unknown if i turn everything off and wait a half hour it works is it because the tape backup is too has anyone had similar</td>\n",
       "    </tr>\n",
       "    <tr>\n",
       "      <th>134</th>\n",
       "      <td>0</td>\n",
       "      <td>-0.006398</td>\n",
       "      <td>i have just added a panasonic dot matrix printer to a i installed the appropriate windows printer driver one specifically for this but unable to persuade the poxy thing to print what appears to be happening is that the truetype fonts get printed my experiments show that all graphic images example a line drawing from corel print graphicsworkshop for windows happily prints gifs ms notepad and ms write will print correctly providing the in the text are printer when i print truetype some lines appear to be printed in the wrong if i change the text font to a printer the problem is i have tried using printer drivers for printers which the namely epsom and ibm proprinter and the same problem if there is some kind soul who can tell me just what the hell is going i would be most</td>\n",
       "    </tr>\n",
       "  </tbody>\n",
       "</table>\n",
       "</div>"
      ],
      "text/plain": [
       "     Prediction     Score  \\\n",
       "130  0          -0.001667   \n",
       "131  0          -0.001815   \n",
       "132  0          -0.002140   \n",
       "133  0          -0.003871   \n",
       "134  0          -0.006398   \n",
       "\n",
       "                                                                                                                                                                                                                                                                                                                                                                                                                                                                                                                                                                                                                                                                                                                                                                                                             Text  \n",
       "130  i am trying to compile a chart for windows and dos performance of local bus video card so if you have a and one of the local bus video cards please email me your winbench and in please give me winmark score at and i will post the chart if enough response if tseng vlb cl vlb based local bus ati ultra pro vlb orchid celsius vlb agx based vlb they matox mga based video cards                                                                                                                                                                                                                                                                                                                                                                                                                        \n",
       "131  this may be a simple question we have a number of which we use to link to a mainframe using novell lan workplace for dos windows to make life easier for us we are thinking of using windows for workgroups to allow file sharing across our pc now does anyone know if it is possible to use and lan workplace for dos at the same ie can i access a file on another pc while being logged on to the mainframe at the same any help well                                                                                                                                                                                                                                                                                                                                                                     \n",
       "132  i have recently picked up a page scanner by the name of ii model the software for it was made for windows and will not work with the newwer does any one out there kow were i could find the company that made this beast say and the name gms a division of does anyone know if these companies still exist and if they do they have an email if anyone knows of a programme that is able to access this                                                                                                                                                                                                                                                                                                                                                                                                     \n",
       "133  hello i have a problem with my micro solutions sometimes it sometimes it i will either start a or start a tape and at about percent i get an error either saying the tape is bad or the has aborted for an unknown if i turn everything off and wait a half hour it works is it because the tape backup is too has anyone had similar                                                                                                                                                                                                                                                                                                                                                                                                                                                                         \n",
       "134  i have just added a panasonic dot matrix printer to a i installed the appropriate windows printer driver one specifically for this but unable to persuade the poxy thing to print what appears to be happening is that the truetype fonts get printed my experiments show that all graphic images example a line drawing from corel print graphicsworkshop for windows happily prints gifs ms notepad and ms write will print correctly providing the in the text are printer when i print truetype some lines appear to be printed in the wrong if i change the text font to a printer the problem is i have tried using printer drivers for printers which the namely epsom and ibm proprinter and the same problem if there is some kind soul who can tell me just what the hell is going i would be most  "
      ]
     },
     "execution_count": 27,
     "metadata": {},
     "output_type": "execute_result"
    }
   ],
   "source": [
    "df[df.Score <=0].head()"
   ]
  },
  {
   "cell_type": "markdown",
   "metadata": {},
   "source": [
    "As you can see, these documents are also similar and related to technology (albeit slightly different aspects of technology than that of our seed set of documents).  Such negatively-scored documents are useful for identifying so-called informative examples.  Since documents are sorted by score (descending order), we can start at the beginning of the dataframe containing negatively-scored documents and add documents to the positive class until we start seeing negative documents that are **not** related to technology.  These informative negative examples can, then, be added to a negative class for training a traditional binary classsifier.  This process is referred to as [active learning](https://en.wikipedia.org/wiki/Active_learning_(machine_learning)).\n",
    "\n",
    "Documents later in the list are the most dissimilar to technology-related posts and may not be informative as inclusions into a training set.  As you can see in the cell below, sports-related documents are the most dissimilar to technology."
   ]
  },
  {
   "cell_type": "code",
   "execution_count": 29,
   "metadata": {},
   "outputs": [
    {
     "data": {
      "text/html": [
       "<div>\n",
       "<style scoped>\n",
       "    .dataframe tbody tr th:only-of-type {\n",
       "        vertical-align: middle;\n",
       "    }\n",
       "\n",
       "    .dataframe tbody tr th {\n",
       "        vertical-align: top;\n",
       "    }\n",
       "\n",
       "    .dataframe thead th {\n",
       "        text-align: right;\n",
       "    }\n",
       "</style>\n",
       "<table border=\"1\" class=\"dataframe\">\n",
       "  <thead>\n",
       "    <tr style=\"text-align: right;\">\n",
       "      <th></th>\n",
       "      <th>Prediction</th>\n",
       "      <th>Score</th>\n",
       "      <th>Text</th>\n",
       "    </tr>\n",
       "  </thead>\n",
       "  <tbody>\n",
       "    <tr>\n",
       "      <th>13760</th>\n",
       "      <td>0</td>\n",
       "      <td>-3.951539</td>\n",
       "      <td>playoff leaders as of april player team gp g a pts pim pit juneau bos noonan chi mogilny buf neely bos brown stl jagr pit oates bos carson la hunter was stevens nj cullen tor hull stl khristich was linden van racine det shanahan stl sydor la yzerman det bure van coffey det drake det emerson stl van johansson was lapointe que niedermayer nj ramsey pit sandstrom la smehlik buf stevens pit adams van barr nj bellows mon burr det chiasson det craven van dahlquist cal dionne mon felsner stl ferraro nyi francis pit gilmour tor hannan buf heinze bos howe det huddy la king win lafontaine buf lefebvre tor mcsorley la millen la ronning van rucinsky que sakic que sheppard det steen win suter cal sweeney buf tipett pit yawney cal young que barnes win borschevsky tor brunet mon chelios chi ciccarelli det clark tor desjardins mon dipietro mon donnelly la driver nj duchesne que ellett tor elynuik was flatley nyi fleury cal gallant det gill tor granato la gretzky la guerin nj hawerchuk buf holik nj housley win janney stl chi khmylev buf krygier was larmer chi macinnis cal matteau chi mceachern pit mclean van mcrae stl mullen pit muller mon murphy pit murzyn van otto cal pearson tor pivonka was primeau det probert det reichel cal ricci que robitaille la roenick chi samuelsson pit semak nj shannon win shuchuk la sundin que sutter chi taylor la tocchet pit vaske nyi</td>\n",
       "    </tr>\n",
       "    <tr>\n",
       "      <th>13761</th>\n",
       "      <td>0</td>\n",
       "      <td>-3.956802</td>\n",
       "      <td>player team gp g a pts pim pit francis pit oates bos yzerman det coffey det was mogilny buf thomas nyi lapointe que johansson was carson la brown stl fleury cal van flatley nyi macinnis cal ferraro nyi mceachern pit neely bos turgeon nyi bellows mon jagr pit khmylev buf khristich was hawerchuk buf hogue nyi juneau bos pit pit lafontaine buf ramsey pit smehlik buf noonan chi gilmour tor hull stl otto cal reichel cal bure van drake det linden van nieuwendyk cal roberts cal young que buf nj tocchet pit carpenter was pit ronning van suter cal yawney cal adams van chiasson det craven van cullen tor dahlquist cal king win racine det rychel la shanahan stl sheppard det sydor la barnes win emerson stl gill tor granato la gretzky la housley win janney stl king nyi kozlov det sandstrom la shuchuk la vaske nyi damphousse mon elynuik was guerin nj hannan buf holik nj muller mon sakic que semak nj sundin que taglianetti pit tipett pit barasso pit bondra was carney buf cavallini was desjardins mon duchesne que niedermayer nj ricci que ridley was pit blake la borschevsky tor zelepukin nj nyi burr det domi win fedorov det felsner stl howe det huddy la kurri la lefebvre tor lidstrom det lowry stl mcsorley la millen la mironov tor numminen win paslawski cal steen win ysebaert det anderson tor berube cal chelios chi ciccarelli det clark tor dahl cal dipietro mon donnelly la ellett tor gallant det chi kennedy det larmer chi matteau chi mclean van mcrae stl murzyn van musil cal pearson tor primeau det probert det ranheim cal robitaille la roenick chi selanne win shannon win skrudland cal sutter chi taylor la zhitnik la barr nj bourque bos burridge was dionne mon heinze bos leschyshyn que presley buf rucinsky que smolinski bos wood buf brunet mon daniels pit donato bos driver nj gusarov que houlder buf pit kamensky que krygier was loney pit may was miller was odelein mon pivonka was shaw bos straka pit belanger mon chorske nj druce win eagles win errey buf ewen mon foligno tor goulet chi grimson chi hughes bos kovalenko que leeman mon mcllwain tor osbourne tor richer nj roberge mon schneider mon watters la weimer bos andreychuk tor ashton cal babych van baron stl bassen stl baumgartner tor bautin win belfour chi berg tor billington nj blue bos borsato win bozon stl butcher stl cheveldae det conacher la corkum buf diduck van dirk van erickson win essensa win gilbert chi graham chi hardy la hedican stl hrudey la chi johansson cal joseph stl kasatonov nj kennedy win konstantinov det krushelnyski tor lidster van lumme van macoun tor marchment chi miller stl momesso van moog bos muni chi murphy chi murray chi nedved van olausson win pearson que potvin tor quintal stl ramage mon stl rouse tor russell chi ruuttu chi bos chi sandlak van semenov van stern cal van bos terreri nj tkachuk win ulanov win valk van vernon cal wilson stl zezel tor zhamnov win zombo stl albelin nj anderson was audette buf bodger buf brisebois mon nj carbonneau mon cavallini que cote was bos daigneault mon dalgarno nyi daneyko nj douris bos fetisov nj finn que fitzgerald nyi foote que fuhr buf bos haller mon hatcher was healy nyi hextall que hough que iafrate was jennings pit jones was kasparaitis nyi keane mon kimble bos krupp nyi kvartalnov bos leclair mon leach bos lebeau mon ledyard buf loiselle nyi maclean nj malakov nyi may buf mckay nj nicholls nj nolan que norton nyi patterson buf pilon nyi poulin bos roy mon savard mon simon que stapleton pit stastny nj sutton buf nyi tabaracci was vukota nyi wesley bos wolanin que</td>\n",
       "    </tr>\n",
       "    <tr>\n",
       "      <th>13762</th>\n",
       "      <td>0</td>\n",
       "      <td>-4.154509</td>\n",
       "      <td>of adirondack cdi leads first round springfield indians vs providence bruins gm springfield providence gm springfield providence gm providence at springfield gm providence at springfield gm springfield at providence gm providence at springfield gm springfield at providence cd islanders vs adirondack red wings gm adirondack cdi gm cdi at adirondack gm adirondack at cdi gm adirondack at cdi gm cdi at adirondack gm adirondack at cdi gm cdi at adirondack baltimore skipjacks at binghamton rangers gm baltimore at binghamton gm baltimore at binghamton gm binghamton at baltimore gm binghamton at baltimore gm baltimore at binghamton gm binghmaton at baltimore gm baltimore at binghamton utica devils vs rochester americans gm utica at rochester gm utica at rochester gm rochester at utica gm rochester at utica gm utica at rochester gm rochester at utica gm utica at rochester moncton hawks vs st maple leafs gm st moncton gm moncton vs st at halifax gm st at moncton gm st at moncton gm moncton vs st at halifax gm st at moncton gm moncton vs st at halifax cape breton oilers vs fredericton canadiens gm fredericton cape breton gm cape breton at fredericton gm fredericton at cape breton gm fredericton at cape breton gm cape breton at fredericton gm fredericton at cape breton gm cape breton at fredericton</td>\n",
       "    </tr>\n",
       "  </tbody>\n",
       "</table>\n",
       "</div>"
      ],
      "text/plain": [
       "       Prediction     Score  \\\n",
       "13760  0          -3.951539   \n",
       "13761  0          -3.956802   \n",
       "13762  0          -4.154509   \n",
       "\n",
       "                                                                                                                                                                                                                                                                                                                                                                                                                                                                                                                                                                                                                                                                                                                                                                                                                                                                                                                                                                                                                                                                                                                                                                                                                                                                                                                                                                                                                                                                                                                                                                                                                                                                                                                                                                                                                                                                                                                                                                                                                                                                                                                                                                                                                                                                                                                                                                                                                                                                                                                                                                                                                                                                                                                                                                                                                                                                                                                                                                                                                                                                                                                                                                                                                                                                                                                                                                                                                                                                                                                                                                                                                                                                               Text  \n",
       "13760  playoff leaders as of april player team gp g a pts pim pit juneau bos noonan chi mogilny buf neely bos brown stl jagr pit oates bos carson la hunter was stevens nj cullen tor hull stl khristich was linden van racine det shanahan stl sydor la yzerman det bure van coffey det drake det emerson stl van johansson was lapointe que niedermayer nj ramsey pit sandstrom la smehlik buf stevens pit adams van barr nj bellows mon burr det chiasson det craven van dahlquist cal dionne mon felsner stl ferraro nyi francis pit gilmour tor hannan buf heinze bos howe det huddy la king win lafontaine buf lefebvre tor mcsorley la millen la ronning van rucinsky que sakic que sheppard det steen win suter cal sweeney buf tipett pit yawney cal young que barnes win borschevsky tor brunet mon chelios chi ciccarelli det clark tor desjardins mon dipietro mon donnelly la driver nj duchesne que ellett tor elynuik was flatley nyi fleury cal gallant det gill tor granato la gretzky la guerin nj hawerchuk buf holik nj housley win janney stl chi khmylev buf krygier was larmer chi macinnis cal matteau chi mceachern pit mclean van mcrae stl mullen pit muller mon murphy pit murzyn van otto cal pearson tor pivonka was primeau det probert det reichel cal ricci que robitaille la roenick chi samuelsson pit semak nj shannon win shuchuk la sundin que sutter chi taylor la tocchet pit vaske nyi                                                                                                                                                                                                                                                                                                                                                                                                                                                                                                                                                                                                                                                                                                                                                                                                                                                                                                                                                                                                                                                                                                                                                                                                                                                                                                                                                                                                                                                                                                                                                                                                                                                                                                                                                                                                                                                                                                                                                                                                                                                                                                                                                                                                                                                      \n",
       "13761  player team gp g a pts pim pit francis pit oates bos yzerman det coffey det was mogilny buf thomas nyi lapointe que johansson was carson la brown stl fleury cal van flatley nyi macinnis cal ferraro nyi mceachern pit neely bos turgeon nyi bellows mon jagr pit khmylev buf khristich was hawerchuk buf hogue nyi juneau bos pit pit lafontaine buf ramsey pit smehlik buf noonan chi gilmour tor hull stl otto cal reichel cal bure van drake det linden van nieuwendyk cal roberts cal young que buf nj tocchet pit carpenter was pit ronning van suter cal yawney cal adams van chiasson det craven van cullen tor dahlquist cal king win racine det rychel la shanahan stl sheppard det sydor la barnes win emerson stl gill tor granato la gretzky la housley win janney stl king nyi kozlov det sandstrom la shuchuk la vaske nyi damphousse mon elynuik was guerin nj hannan buf holik nj muller mon sakic que semak nj sundin que taglianetti pit tipett pit barasso pit bondra was carney buf cavallini was desjardins mon duchesne que niedermayer nj ricci que ridley was pit blake la borschevsky tor zelepukin nj nyi burr det domi win fedorov det felsner stl howe det huddy la kurri la lefebvre tor lidstrom det lowry stl mcsorley la millen la mironov tor numminen win paslawski cal steen win ysebaert det anderson tor berube cal chelios chi ciccarelli det clark tor dahl cal dipietro mon donnelly la ellett tor gallant det chi kennedy det larmer chi matteau chi mclean van mcrae stl murzyn van musil cal pearson tor primeau det probert det ranheim cal robitaille la roenick chi selanne win shannon win skrudland cal sutter chi taylor la zhitnik la barr nj bourque bos burridge was dionne mon heinze bos leschyshyn que presley buf rucinsky que smolinski bos wood buf brunet mon daniels pit donato bos driver nj gusarov que houlder buf pit kamensky que krygier was loney pit may was miller was odelein mon pivonka was shaw bos straka pit belanger mon chorske nj druce win eagles win errey buf ewen mon foligno tor goulet chi grimson chi hughes bos kovalenko que leeman mon mcllwain tor osbourne tor richer nj roberge mon schneider mon watters la weimer bos andreychuk tor ashton cal babych van baron stl bassen stl baumgartner tor bautin win belfour chi berg tor billington nj blue bos borsato win bozon stl butcher stl cheveldae det conacher la corkum buf diduck van dirk van erickson win essensa win gilbert chi graham chi hardy la hedican stl hrudey la chi johansson cal joseph stl kasatonov nj kennedy win konstantinov det krushelnyski tor lidster van lumme van macoun tor marchment chi miller stl momesso van moog bos muni chi murphy chi murray chi nedved van olausson win pearson que potvin tor quintal stl ramage mon stl rouse tor russell chi ruuttu chi bos chi sandlak van semenov van stern cal van bos terreri nj tkachuk win ulanov win valk van vernon cal wilson stl zezel tor zhamnov win zombo stl albelin nj anderson was audette buf bodger buf brisebois mon nj carbonneau mon cavallini que cote was bos daigneault mon dalgarno nyi daneyko nj douris bos fetisov nj finn que fitzgerald nyi foote que fuhr buf bos haller mon hatcher was healy nyi hextall que hough que iafrate was jennings pit jones was kasparaitis nyi keane mon kimble bos krupp nyi kvartalnov bos leclair mon leach bos lebeau mon ledyard buf loiselle nyi maclean nj malakov nyi may buf mckay nj nicholls nj nolan que norton nyi patterson buf pilon nyi poulin bos roy mon savard mon simon que stapleton pit stastny nj sutton buf nyi tabaracci was vukota nyi wesley bos wolanin que  \n",
       "13762  of adirondack cdi leads first round springfield indians vs providence bruins gm springfield providence gm springfield providence gm providence at springfield gm providence at springfield gm springfield at providence gm providence at springfield gm springfield at providence cd islanders vs adirondack red wings gm adirondack cdi gm cdi at adirondack gm adirondack at cdi gm adirondack at cdi gm cdi at adirondack gm adirondack at cdi gm cdi at adirondack baltimore skipjacks at binghamton rangers gm baltimore at binghamton gm baltimore at binghamton gm binghamton at baltimore gm binghamton at baltimore gm baltimore at binghamton gm binghmaton at baltimore gm baltimore at binghamton utica devils vs rochester americans gm utica at rochester gm utica at rochester gm rochester at utica gm rochester at utica gm utica at rochester gm rochester at utica gm utica at rochester moncton hawks vs st maple leafs gm st moncton gm moncton vs st at halifax gm st at moncton gm st at moncton gm moncton vs st at halifax gm st at moncton gm moncton vs st at halifax cape breton oilers vs fredericton canadiens gm fredericton cape breton gm cape breton at fredericton gm fredericton at cape breton gm fredericton at cape breton gm cape breton at fredericton gm fredericton at cape breton gm cape breton at fredericton                                                                                                                                                                                                                                                                                                                                                                                                                                                                                                                                                                                                                                                                                                                                                                                                                                                                                                                                                                                                                                                                                                                                                                                                                                                                                                                                                                                                                                                                                                                                                                                                                                                                                                                                                                                                                                                                                                                                                                                                                                                                                                                                                                                                                                                                                                                   "
      ]
     },
     "execution_count": 29,
     "metadata": {},
     "output_type": "execute_result"
    }
   ],
   "source": [
    "df[df.Score <=0].tail(3)"
   ]
  },
  {
   "cell_type": "markdown",
   "metadata": {},
   "source": [
    "## Recommending Similar Documents\n",
    "\n",
    "In the previous section, given a set of seed documents, we scored **new** documents based on similarity.  Here, we will reverse this process. Given a **new** document, we will find (or recommend) documents that are semantically similar to it from the set of documents returned by `get_docs()`.\n",
    "\n",
    "We must first train the recommender."
   ]
  },
  {
   "cell_type": "code",
   "execution_count": 30,
   "metadata": {},
   "outputs": [],
   "source": [
    "tm.train_recommender()"
   ]
  },
  {
   "cell_type": "markdown",
   "metadata": {},
   "source": [
    "Now, let's create some text about Christianity and recommend the top 3 newsgroup posts similar to this text."
   ]
  },
  {
   "cell_type": "code",
   "execution_count": 31,
   "metadata": {},
   "outputs": [],
   "source": [
    "rawtext = \"\"\"\n",
    "          Jesus is a religious leader whose life and teachings are recorded in the Bible’s New Testament. \n",
    "          He is a central figure in Christianity and is emulated as the incarnation of God by many Christians \n",
    "          all over the world.\n",
    "          \"\"\""
   ]
  },
  {
   "cell_type": "code",
   "execution_count": 32,
   "metadata": {},
   "outputs": [
    {
     "name": "stdout",
     "output_type": "stream",
     "text": [
      "RESULT #1\n",
      "TEXT:\n",
      "\twitnesses do not believe that christians are required to observe the whether it is on saturday or the sabbath was part of a covenent between god and the israelites and is not required for\n",
      "NEWSGROUP:\n",
      "\ttalk.religion.misc\n",
      "TOPIC:\n",
      "\tgod jesus believe people does bible christian say christians man\n",
      "\n",
      "RESULT #2\n",
      "TEXT:\n",
      "\tthe argument for genealogy being that of mary is very according to luke and when he began his jesus himself was about thirty years of being supposedly the son of the son of aside from the fact that mary is not there are two possible either joseph was her father or he was her clearly this is not a third would be that the son of was her father and just happened to have the name as the man to whom she was but that would seem to be grasping at the most straightforward interpretation is that luke had no intention of tracing genealogy which case he would have named but that he traces her from son the matthew descendant list most definitely traces down from to matthew and to jacob was born the husband of by whom was born who is called there are two apparent the first how to reconcile the two paternal genealogies which diverge with the sons of solomon and the second why is any genealogy of joseph relavent at if joseph had nothing to do with if joseph was not physical then the original poster is quite that claims for messianic heritage are not based on truth but only on whatever divine nature the second problem is in my we assume that joseph was not involved in the conception of jesus in any a holy spirit capable of working a physical conception in mary is also capable of employing the physical agency of seed in this in our materialistic times we interpret viginity and its loss solely in terms of a physical whereas it is really a matter of purity on a much higher level as the important thing is that neither mary nor joseph was conscious of any union between them had not thus the first dedication of half its opening chapter to the genealogy of joseph is quite relevant to the virgin birth to the first question there is an answer that to begin more problems than it it is that the two evangelists are relating the births of two entirely different children of two entirely different sets of except for the names of the parents and the and the birthplace in bethlehem there is no point in common between the two matthew and luke converge in their accounts only thirty years later with the baptism of jesus in rudolf steiner offered his explanation of how these accounts begin with two children and then converge with their accounts of the one jesus of he did not derive his resolution from biblical study or or from other external and the discussion of this could might bring us beyond the limits of appropriateness for this in any the details are described in spiritual guidance of the human being and of gospel of and gospel of whether or not rudolf methods and explanation are accepted as at least this interpretation resolves the apparent contradictions of the two genealogies while leaving the text as for the passing of jewishness through the this was never an issue with no one ever questioned his or the issue of the genealogies has to do with his paternal line of descent from the\n",
      "NEWSGROUP:\n",
      "\tsoc.religion.christian\n",
      "TOPIC:\n",
      "\tgod jesus believe people does bible christian say christians man\n",
      "\n",
      "RESULT #3\n",
      "TEXT:\n",
      "\tyou should remember that in all men and women as paul all of humanity cooperativley reblled against god in all are subject to and the sin is transmitted from generation to\n",
      "NEWSGROUP:\n",
      "\tsoc.religion.christian\n",
      "TOPIC:\n",
      "\tgod jesus believe people does bible christian say christians man\n",
      "\n"
     ]
    }
   ],
   "source": [
    "for i, doc in enumerate(tm.recommend(text=rawtext, n=3)):\n",
    "    print('RESULT #%s'% (i+1))\n",
    "    print('TEXT:\\n\\t%s' % (doc[0]))\n",
    "    print('NEWSGROUP:\\n\\t%s'% (categories[doc[1]]))\n",
    "    print('TOPIC:\\n\\t%s' % (tm.topics[doc[3]]))\n",
    "    print()"
   ]
  },
  {
   "cell_type": "code",
   "execution_count": null,
   "metadata": {},
   "outputs": [],
   "source": []
  },
  {
   "cell_type": "code",
   "execution_count": null,
   "metadata": {},
   "outputs": [],
   "source": []
  }
 ],
 "metadata": {
  "kernelspec": {
   "display_name": "Python 3",
   "language": "python",
   "name": "python3"
  },
  "language_info": {
   "codemirror_mode": {
    "name": "ipython",
    "version": 3
   },
   "file_extension": ".py",
   "mimetype": "text/x-python",
   "name": "python",
   "nbconvert_exporter": "python",
   "pygments_lexer": "ipython3",
   "version": "3.6.8"
  }
 },
 "nbformat": 4,
 "nbformat_minor": 2
}
