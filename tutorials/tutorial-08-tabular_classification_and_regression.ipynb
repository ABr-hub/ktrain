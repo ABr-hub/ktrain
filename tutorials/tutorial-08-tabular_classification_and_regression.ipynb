{
 "cells": [
  {
   "cell_type": "code",
   "execution_count": 1,
   "metadata": {},
   "outputs": [],
   "source": [
    "%reload_ext autoreload\n",
    "%autoreload 2\n",
    "%matplotlib inline\n",
    "import os\n",
    "os.environ[\"CUDA_DEVICE_ORDER\"]=\"PCI_BUS_ID\";\n",
    "os.environ[\"CUDA_VISIBLE_DEVICES\"]=\"0\"\n",
    "\n",
    "import numpy as np\n",
    "import random\n",
    "import tensorflow as tf\n",
    "import pandas as pd\n",
    "pd.set_option('display.max_columns', None)\n",
    "\n",
    "seed_value = 0\n",
    "os.environ['PYTHONHASHSEED']=str(seed_value)\n",
    "random.seed(seed_value)\n",
    "np.random.seed(seed_value)\n",
    "tf.random.set_seed(seed_value)"
   ]
  },
  {
   "cell_type": "code",
   "execution_count": 2,
   "metadata": {},
   "outputs": [],
   "source": [
    "import ktrain\n",
    "from ktrain import tabular"
   ]
  },
  {
   "cell_type": "markdown",
   "metadata": {},
   "source": [
    "# Classification and Regression on Tabular Data in `ktrain`\n",
    "\n",
    "As of v0.19.x, *ktrain* supports classification and regression on \"traditional\" tabular datasets. We will cover two examples in this notebook:\n",
    "- **Part I: Classification**:  predicting which [Titanic passengers survived](https://www.kaggle.com/c/titanic)\n",
    "- **Part II: Regression**:  predicting the age of people from [census data](http://archive.ics.uci.edu/ml/datasets/Census+Income)\n",
    "\n",
    "Let's begin with a demonstration of tabular classfication using the well-studied Titatnic dataset from Kaggle.\n",
    "\n",
    "## Part I:  Classification for Tabular Data\n",
    "\n"
   ]
  },
  {
   "cell_type": "markdown",
   "metadata": {},
   "source": [
    "### Solving the Titanic Kaggle Challenge in `ktrain`\n",
    "\n",
    "This notebook demonstrates using *ktrain* for predicting which passengers survived the Titatnic shipwreck.\n",
    "\n",
    "The dataset can be [downloaded from Kaggle here](https://www.kaggle.com/c/titanic/overview). There is a `train.csv` with labels (i.e., `Survived`) and a `test.csv` with no labels.  We will only use `train.csv` in this notebook.\n",
    "\n",
    "Let's begin by loading the data as a pandas DataFrame and inspecting it."
   ]
  },
  {
   "cell_type": "code",
   "execution_count": 3,
   "metadata": {},
   "outputs": [],
   "source": [
    "train_df = pd.read_csv('data/titanic/train.csv', index_col=0)"
   ]
  },
  {
   "cell_type": "code",
   "execution_count": 4,
   "metadata": {},
   "outputs": [
    {
     "data": {
      "text/html": [
       "<div>\n",
       "<style scoped>\n",
       "    .dataframe tbody tr th:only-of-type {\n",
       "        vertical-align: middle;\n",
       "    }\n",
       "\n",
       "    .dataframe tbody tr th {\n",
       "        vertical-align: top;\n",
       "    }\n",
       "\n",
       "    .dataframe thead th {\n",
       "        text-align: right;\n",
       "    }\n",
       "</style>\n",
       "<table border=\"1\" class=\"dataframe\">\n",
       "  <thead>\n",
       "    <tr style=\"text-align: right;\">\n",
       "      <th></th>\n",
       "      <th>Survived</th>\n",
       "      <th>Pclass</th>\n",
       "      <th>Name</th>\n",
       "      <th>Sex</th>\n",
       "      <th>Age</th>\n",
       "      <th>SibSp</th>\n",
       "      <th>Parch</th>\n",
       "      <th>Ticket</th>\n",
       "      <th>Fare</th>\n",
       "      <th>Cabin</th>\n",
       "      <th>Embarked</th>\n",
       "    </tr>\n",
       "    <tr>\n",
       "      <th>PassengerId</th>\n",
       "      <th></th>\n",
       "      <th></th>\n",
       "      <th></th>\n",
       "      <th></th>\n",
       "      <th></th>\n",
       "      <th></th>\n",
       "      <th></th>\n",
       "      <th></th>\n",
       "      <th></th>\n",
       "      <th></th>\n",
       "      <th></th>\n",
       "    </tr>\n",
       "  </thead>\n",
       "  <tbody>\n",
       "    <tr>\n",
       "      <th>1</th>\n",
       "      <td>0</td>\n",
       "      <td>3</td>\n",
       "      <td>Braund, Mr. Owen Harris</td>\n",
       "      <td>male</td>\n",
       "      <td>22.0</td>\n",
       "      <td>1</td>\n",
       "      <td>0</td>\n",
       "      <td>A/5 21171</td>\n",
       "      <td>7.2500</td>\n",
       "      <td>NaN</td>\n",
       "      <td>S</td>\n",
       "    </tr>\n",
       "    <tr>\n",
       "      <th>2</th>\n",
       "      <td>1</td>\n",
       "      <td>1</td>\n",
       "      <td>Cumings, Mrs. John Bradley (Florence Briggs Th...</td>\n",
       "      <td>female</td>\n",
       "      <td>38.0</td>\n",
       "      <td>1</td>\n",
       "      <td>0</td>\n",
       "      <td>PC 17599</td>\n",
       "      <td>71.2833</td>\n",
       "      <td>C85</td>\n",
       "      <td>C</td>\n",
       "    </tr>\n",
       "    <tr>\n",
       "      <th>3</th>\n",
       "      <td>1</td>\n",
       "      <td>3</td>\n",
       "      <td>Heikkinen, Miss. Laina</td>\n",
       "      <td>female</td>\n",
       "      <td>26.0</td>\n",
       "      <td>0</td>\n",
       "      <td>0</td>\n",
       "      <td>STON/O2. 3101282</td>\n",
       "      <td>7.9250</td>\n",
       "      <td>NaN</td>\n",
       "      <td>S</td>\n",
       "    </tr>\n",
       "    <tr>\n",
       "      <th>4</th>\n",
       "      <td>1</td>\n",
       "      <td>1</td>\n",
       "      <td>Futrelle, Mrs. Jacques Heath (Lily May Peel)</td>\n",
       "      <td>female</td>\n",
       "      <td>35.0</td>\n",
       "      <td>1</td>\n",
       "      <td>0</td>\n",
       "      <td>113803</td>\n",
       "      <td>53.1000</td>\n",
       "      <td>C123</td>\n",
       "      <td>S</td>\n",
       "    </tr>\n",
       "    <tr>\n",
       "      <th>5</th>\n",
       "      <td>0</td>\n",
       "      <td>3</td>\n",
       "      <td>Allen, Mr. William Henry</td>\n",
       "      <td>male</td>\n",
       "      <td>35.0</td>\n",
       "      <td>0</td>\n",
       "      <td>0</td>\n",
       "      <td>373450</td>\n",
       "      <td>8.0500</td>\n",
       "      <td>NaN</td>\n",
       "      <td>S</td>\n",
       "    </tr>\n",
       "  </tbody>\n",
       "</table>\n",
       "</div>"
      ],
      "text/plain": [
       "             Survived  Pclass  \\\n",
       "PassengerId                     \n",
       "1                   0       3   \n",
       "2                   1       1   \n",
       "3                   1       3   \n",
       "4                   1       1   \n",
       "5                   0       3   \n",
       "\n",
       "                                                          Name     Sex   Age  \\\n",
       "PassengerId                                                                    \n",
       "1                                      Braund, Mr. Owen Harris    male  22.0   \n",
       "2            Cumings, Mrs. John Bradley (Florence Briggs Th...  female  38.0   \n",
       "3                                       Heikkinen, Miss. Laina  female  26.0   \n",
       "4                 Futrelle, Mrs. Jacques Heath (Lily May Peel)  female  35.0   \n",
       "5                                     Allen, Mr. William Henry    male  35.0   \n",
       "\n",
       "             SibSp  Parch            Ticket     Fare Cabin Embarked  \n",
       "PassengerId                                                          \n",
       "1                1      0         A/5 21171   7.2500   NaN        S  \n",
       "2                1      0          PC 17599  71.2833   C85        C  \n",
       "3                0      0  STON/O2. 3101282   7.9250   NaN        S  \n",
       "4                1      0            113803  53.1000  C123        S  \n",
       "5                0      0            373450   8.0500   NaN        S  "
      ]
     },
     "execution_count": 4,
     "metadata": {},
     "output_type": "execute_result"
    }
   ],
   "source": [
    "train_df.head()"
   ]
  },
  {
   "cell_type": "markdown",
   "metadata": {},
   "source": [
    "We'll drop the `Name`, `Ticket`, `Cabin` columns, as they seem like they'll be less predictive.  The `Name` and `Cabin` columns are largely unique or near-unique to passengers, for example."
   ]
  },
  {
   "cell_type": "code",
   "execution_count": 5,
   "metadata": {},
   "outputs": [],
   "source": [
    "train_df = train_df.drop('Name', 1)\n",
    "train_df = train_df.drop('Ticket', 1)\n",
    "train_df = train_df.drop('Cabin', 1)"
   ]
  },
  {
   "cell_type": "markdown",
   "metadata": {},
   "source": [
    "*ktrain* will automatically split out a validation set if given only a training set.  But, let's also manually split out a test set that we can evaluate later."
   ]
  },
  {
   "cell_type": "code",
   "execution_count": 6,
   "metadata": {},
   "outputs": [],
   "source": [
    "np.random.seed(42)\n",
    "p = 0.1 # 10% for test set\n",
    "prop = 1-p\n",
    "df = train_df.copy()\n",
    "msk = np.random.rand(len(df)) < prop\n",
    "train_df = df[msk]\n",
    "test_df = df[~msk]"
   ]
  },
  {
   "cell_type": "code",
   "execution_count": 7,
   "metadata": {},
   "outputs": [
    {
     "data": {
      "text/plain": [
       "(799, 8)"
      ]
     },
     "execution_count": 7,
     "metadata": {},
     "output_type": "execute_result"
    }
   ],
   "source": [
    "train_df.shape"
   ]
  },
  {
   "cell_type": "code",
   "execution_count": 8,
   "metadata": {},
   "outputs": [
    {
     "data": {
      "text/plain": [
       "(92, 8)"
      ]
     },
     "execution_count": 8,
     "metadata": {},
     "output_type": "execute_result"
    }
   ],
   "source": [
    "test_df.shape"
   ]
  },
  {
   "cell_type": "markdown",
   "metadata": {},
   "source": [
    "### STEP 1: Load and Preprocess the Data"
   ]
  },
  {
   "cell_type": "code",
   "execution_count": 9,
   "metadata": {},
   "outputs": [
    {
     "name": "stdout",
     "output_type": "stream",
     "text": [
      "processing train: 717 rows x 8 columns\n",
      "\n",
      "The following integer column(s) are being treated as categorical variables:\n",
      "['Pclass', 'SibSp', 'Parch']\n",
      "To treat any of these column(s) as numerical, cast the column to float in DataFrame or CSV\n",
      " and re-run tabular_from* function.\n",
      "\n",
      "processing test: 82 rows x 8 columns\n"
     ]
    }
   ],
   "source": [
    "trn, val, preproc = tabular.tabular_from_df(train_df, label_columns=['Survived'], random_state=42)"
   ]
  },
  {
   "cell_type": "markdown",
   "metadata": {},
   "source": [
    "##### Automated Preprocessing\n",
    "*ktrain* automatically preprocesses the dataset appropriately.  Numerical columns are automatically normalized, missing values are handled, and categorical variables will be vectorized as [entity embeddings](https://arxiv.org/abs/1604.06737) for input to a neural network. \n",
    "\n",
    "##### Auto-generated Features\n",
    "*ktrain* will auto-generate some new features.  For instance, if `Age` is missing for a particular individual, an `Age_na=True` feature will be automatically added.\n",
    "\n",
    "New date features are also automatically added.  This dataset does not have any **date** fields.  If it did, we could populate the `date_columns` parameter to `tabular_from_df` in which case they would be used to auto-generate new features (e.g., `Day`, `Week`, `Is_month_start`, `Is_quarter_end`, etc.) using methods adapted from the **fastai** library.\n",
    "\n",
    "##### Manually-Engineered Features\n",
    "\n",
    "In addition to these auto-generated features, one can also optionally add manually-generated, dataset-specific features to `train_df` **prior** to invoking `tabular_from_df`. For instance, the `Cabin` feature we discared earlier might be used to extract the **deck** associated with each passenger (e.g., **B22** --> **Deck B**)."
   ]
  },
  {
   "cell_type": "markdown",
   "metadata": {},
   "source": [
    "### STEP 2: Create a Model and Wrap in `Learner`\n",
    "\n",
    "*ktrain* uses multilayer perceptrons as the model for tabular datasets. The model can be configured with arguments to `tabular_classifier` (e.g., number and size of hidden layers, dropout values, etc.), but we will leave the defaults here."
   ]
  },
  {
   "cell_type": "code",
   "execution_count": 10,
   "metadata": {},
   "outputs": [
    {
     "name": "stdout",
     "output_type": "stream",
     "text": [
      "mlp: a configurable multilayer perceptron with categorical variable embeddings [https://arxiv.org/abs/1604.06737]\n"
     ]
    }
   ],
   "source": [
    "tabular.print_tabular_classifiers()"
   ]
  },
  {
   "cell_type": "code",
   "execution_count": 11,
   "metadata": {},
   "outputs": [
    {
     "name": "stdout",
     "output_type": "stream",
     "text": [
      "Is Multi-Label? False\n",
      "done.\n"
     ]
    }
   ],
   "source": [
    "model = tabular.tabular_classifier('mlp', trn)"
   ]
  },
  {
   "cell_type": "code",
   "execution_count": 12,
   "metadata": {},
   "outputs": [],
   "source": [
    "learner = ktrain.get_learner(model, train_data=trn, val_data=val, batch_size=32)"
   ]
  },
  {
   "cell_type": "markdown",
   "metadata": {},
   "source": [
    "### STEP 3: Estimate the Learning Rate\n",
    "\n",
    "Based on the plot below, we will choose a learning rate of `1e-3`."
   ]
  },
  {
   "cell_type": "code",
   "execution_count": 13,
   "metadata": {},
   "outputs": [
    {
     "name": "stdout",
     "output_type": "stream",
     "text": [
      "simulating training for different learning rates... this may take a few moments...\n",
      "Train for 22 steps\n",
      "Epoch 1/5\n",
      "22/22 [==============================] - 2s 75ms/step - loss: 1.2811 - accuracy: 0.5109\n",
      "Epoch 2/5\n",
      "22/22 [==============================] - 1s 23ms/step - loss: 1.3566 - accuracy: 0.4949\n",
      "Epoch 3/5\n",
      "22/22 [==============================] - 0s 22ms/step - loss: 1.0720 - accuracy: 0.6832\n",
      "Epoch 4/5\n",
      "22/22 [==============================] - 0s 21ms/step - loss: 1.3512 - accuracy: 0.6847\n",
      "Epoch 5/5\n",
      " 7/22 [========>.....................] - ETA: 0s - loss: 12.2288 - accuracy: 0.6439\n",
      "\n",
      "done.\n",
      "Visually inspect loss plot and select learning rate associated with falling loss\n"
     ]
    },
    {
     "data": {
      "image/png": "[encoded data removed]",
      "text/plain": [
       "<Figure size 432x288 with 1 Axes>"
      ]
     },
     "metadata": {
      "needs_background": "light"
     },
     "output_type": "display_data"
    }
   ],
   "source": [
    "learner.lr_find(show_plot=True, max_epochs=5)"
   ]
  },
  {
   "cell_type": "markdown",
   "metadata": {},
   "source": [
    "### STEP 4: Train the Model"
   ]
  },
  {
   "cell_type": "code",
   "execution_count": 14,
   "metadata": {},
   "outputs": [
    {
     "name": "stdout",
     "output_type": "stream",
     "text": [
      "\n",
      "\n",
      "begin training using onecycle policy with max lr of 0.001...\n",
      "Train for 23 steps, validate for 3 steps\n",
      "Epoch 1/25\n",
      "23/23 [==============================] - 2s 82ms/step - loss: 1.0780 - accuracy: 0.5969 - val_loss: 0.6870 - val_accuracy: 0.4146\n",
      "Epoch 2/25\n",
      "23/23 [==============================] - 1s 25ms/step - loss: 0.8125 - accuracy: 0.7336 - val_loss: 0.7066 - val_accuracy: 0.4024\n",
      "Epoch 3/25\n",
      "23/23 [==============================] - 1s 25ms/step - loss: 0.8703 - accuracy: 0.6848 - val_loss: 0.6956 - val_accuracy: 0.4024\n",
      "Epoch 4/25\n",
      "23/23 [==============================] - 1s 27ms/step - loss: 0.7348 - accuracy: 0.7490 - val_loss: 0.7009 - val_accuracy: 0.4024\n",
      "Epoch 5/25\n",
      "23/23 [==============================] - 1s 27ms/step - loss: 0.7471 - accuracy: 0.7406 - val_loss: 0.7057 - val_accuracy: 0.4024\n",
      "Epoch 6/25\n",
      "23/23 [==============================] - 1s 25ms/step - loss: 0.7364 - accuracy: 0.7378 - val_loss: 0.7156 - val_accuracy: 0.4024\n",
      "Epoch 7/25\n",
      "23/23 [==============================] - 1s 26ms/step - loss: 0.7528 - accuracy: 0.7211 - val_loss: 0.6765 - val_accuracy: 0.4756\n",
      "Epoch 8/25\n",
      "23/23 [==============================] - 1s 27ms/step - loss: 0.7422 - accuracy: 0.7336 - val_loss: 0.7003 - val_accuracy: 0.4024\n",
      "Epoch 9/25\n",
      "23/23 [==============================] - 1s 26ms/step - loss: 0.6414 - accuracy: 0.7350 - val_loss: 0.6751 - val_accuracy: 0.5000\n",
      "Epoch 10/25\n",
      "23/23 [==============================] - 1s 25ms/step - loss: 0.6678 - accuracy: 0.7587 - val_loss: 0.6804 - val_accuracy: 0.5244\n",
      "Epoch 11/25\n",
      "23/23 [==============================] - 1s 26ms/step - loss: 0.6544 - accuracy: 0.7308 - val_loss: 0.6128 - val_accuracy: 0.7073\n",
      "Epoch 12/25\n",
      "23/23 [==============================] - 1s 26ms/step - loss: 0.6511 - accuracy: 0.7336 - val_loss: 0.6131 - val_accuracy: 0.7073\n",
      "Epoch 13/25\n",
      "23/23 [==============================] - 1s 25ms/step - loss: 0.5752 - accuracy: 0.7685 - val_loss: 0.6183 - val_accuracy: 0.6707\n",
      "Epoch 14/25\n",
      "23/23 [==============================] - 1s 26ms/step - loss: 0.5634 - accuracy: 0.7782 - val_loss: 0.6177 - val_accuracy: 0.6829\n",
      "Epoch 15/25\n",
      "23/23 [==============================] - 1s 26ms/step - loss: 0.5926 - accuracy: 0.7657 - val_loss: 0.6137 - val_accuracy: 0.7195\n",
      "Epoch 16/25\n",
      "23/23 [==============================] - 1s 26ms/step - loss: 0.5614 - accuracy: 0.7420 - val_loss: 0.5525 - val_accuracy: 0.8049\n",
      "Epoch 17/25\n",
      "23/23 [==============================] - 1s 26ms/step - loss: 0.4948 - accuracy: 0.7796 - val_loss: 0.5175 - val_accuracy: 0.7805\n",
      "Epoch 18/25\n",
      "23/23 [==============================] - 1s 27ms/step - loss: 0.4699 - accuracy: 0.7936 - val_loss: 0.5090 - val_accuracy: 0.7805\n",
      "Epoch 19/25\n",
      "23/23 [==============================] - 1s 25ms/step - loss: 0.5166 - accuracy: 0.7727 - val_loss: 0.4892 - val_accuracy: 0.8171\n",
      "Epoch 20/25\n",
      "23/23 [==============================] - 1s 26ms/step - loss: 0.4933 - accuracy: 0.7922 - val_loss: 0.4709 - val_accuracy: 0.7927\n",
      "Epoch 21/25\n",
      "23/23 [==============================] - 1s 27ms/step - loss: 0.4835 - accuracy: 0.8145 - val_loss: 0.4444 - val_accuracy: 0.8293\n",
      "Epoch 22/25\n",
      "23/23 [==============================] - 1s 26ms/step - loss: 0.4462 - accuracy: 0.8047 - val_loss: 0.4280 - val_accuracy: 0.9146\n",
      "Epoch 23/25\n",
      "23/23 [==============================] - 1s 26ms/step - loss: 0.4253 - accuracy: 0.8145 - val_loss: 0.3990 - val_accuracy: 0.9024\n",
      "Epoch 24/25\n",
      "23/23 [==============================] - 1s 26ms/step - loss: 0.4679 - accuracy: 0.8257 - val_loss: 0.3708 - val_accuracy: 0.9024\n",
      "Epoch 25/25\n",
      "23/23 [==============================] - 1s 28ms/step - loss: 0.4539 - accuracy: 0.7880 - val_loss: 0.3555 - val_accuracy: 0.9024\n"
     ]
    },
    {
     "data": {
      "text/plain": [
       "<tensorflow.python.keras.callbacks.History at 0x7f17f80fe128>"
      ]
     },
     "execution_count": 14,
     "metadata": {},
     "output_type": "execute_result"
    }
   ],
   "source": [
    "learner.fit_onecycle(1e-3, 25)"
   ]
  },
  {
   "cell_type": "markdown",
   "metadata": {},
   "source": [
    "Since we don't appear to be overfitting yet, we could try to train further.  But, we will stop here.\n",
    "\n",
    "\n",
    "**Let's evaluate the validation set:**"
   ]
  },
  {
   "cell_type": "code",
   "execution_count": 15,
   "metadata": {},
   "outputs": [
    {
     "name": "stdout",
     "output_type": "stream",
     "text": [
      "              precision    recall  f1-score   support\n",
      "\n",
      "not_Survived       0.87      0.98      0.92        49\n",
      "    Survived       0.96      0.79      0.87        33\n",
      "\n",
      "    accuracy                           0.90        82\n",
      "   macro avg       0.92      0.88      0.89        82\n",
      "weighted avg       0.91      0.90      0.90        82\n",
      "\n"
     ]
    },
    {
     "data": {
      "text/plain": [
       "array([[48,  1],\n",
       "       [ 7, 26]])"
      ]
     },
     "execution_count": 15,
     "metadata": {},
     "output_type": "execute_result"
    }
   ],
   "source": [
    "learner.evaluate(val, class_names=preproc.get_classes())"
   ]
  },
  {
   "cell_type": "markdown",
   "metadata": {},
   "source": [
    "### Make Predictions\n",
    "\n",
    "The `Predictor` for tabular datasets accepts input as a dataframe in the same format as the original training dataframe. \n",
    "\n",
    "We will use `test_df` that we created earlier."
   ]
  },
  {
   "cell_type": "code",
   "execution_count": 16,
   "metadata": {},
   "outputs": [],
   "source": [
    "predictor = ktrain.get_predictor(learner.model, preproc)"
   ]
  },
  {
   "cell_type": "code",
   "execution_count": 17,
   "metadata": {},
   "outputs": [],
   "source": [
    "preds = predictor.predict(test_df, return_proba=True)"
   ]
  },
  {
   "cell_type": "code",
   "execution_count": 18,
   "metadata": {},
   "outputs": [
    {
     "data": {
      "text/plain": [
       "(92, 2)"
      ]
     },
     "execution_count": 18,
     "metadata": {},
     "output_type": "execute_result"
    }
   ],
   "source": [
    "preds.shape"
   ]
  },
  {
   "cell_type": "code",
   "execution_count": 19,
   "metadata": {},
   "outputs": [
    {
     "name": "stdout",
     "output_type": "stream",
     "text": [
      "test accuracy:\n"
     ]
    },
    {
     "data": {
      "text/plain": [
       "0.8369565217391305"
      ]
     },
     "execution_count": 19,
     "metadata": {},
     "output_type": "execute_result"
    }
   ],
   "source": [
    "print('test accuracy:')\n",
    "(np.argmax(preds, axis=1) == test_df['Survived'].values).sum()/test_df.shape[0]"
   ]
  },
  {
   "cell_type": "markdown",
   "metadata": {},
   "source": [
    "**Our final results as a DataFrame:**"
   ]
  },
  {
   "cell_type": "code",
   "execution_count": 20,
   "metadata": {},
   "outputs": [
    {
     "data": {
      "text/html": [
       "<div>\n",
       "<style scoped>\n",
       "    .dataframe tbody tr th:only-of-type {\n",
       "        vertical-align: middle;\n",
       "    }\n",
       "\n",
       "    .dataframe tbody tr th {\n",
       "        vertical-align: top;\n",
       "    }\n",
       "\n",
       "    .dataframe thead th {\n",
       "        text-align: right;\n",
       "    }\n",
       "</style>\n",
       "<table border=\"1\" class=\"dataframe\">\n",
       "  <thead>\n",
       "    <tr style=\"text-align: right;\">\n",
       "      <th></th>\n",
       "      <th>Pclass</th>\n",
       "      <th>Sex</th>\n",
       "      <th>Age</th>\n",
       "      <th>SibSp</th>\n",
       "      <th>Parch</th>\n",
       "      <th>Fare</th>\n",
       "      <th>Embarked</th>\n",
       "      <th>Survived</th>\n",
       "      <th>predicted_Survived</th>\n",
       "    </tr>\n",
       "    <tr>\n",
       "      <th>PassengerId</th>\n",
       "      <th></th>\n",
       "      <th></th>\n",
       "      <th></th>\n",
       "      <th></th>\n",
       "      <th></th>\n",
       "      <th></th>\n",
       "      <th></th>\n",
       "      <th></th>\n",
       "      <th></th>\n",
       "    </tr>\n",
       "  </thead>\n",
       "  <tbody>\n",
       "    <tr>\n",
       "      <th>2</th>\n",
       "      <td>1</td>\n",
       "      <td>female</td>\n",
       "      <td>38.0</td>\n",
       "      <td>1</td>\n",
       "      <td>0</td>\n",
       "      <td>71.2833</td>\n",
       "      <td>C</td>\n",
       "      <td>1</td>\n",
       "      <td>1</td>\n",
       "    </tr>\n",
       "    <tr>\n",
       "      <th>12</th>\n",
       "      <td>1</td>\n",
       "      <td>female</td>\n",
       "      <td>58.0</td>\n",
       "      <td>0</td>\n",
       "      <td>0</td>\n",
       "      <td>26.5500</td>\n",
       "      <td>S</td>\n",
       "      <td>1</td>\n",
       "      <td>1</td>\n",
       "    </tr>\n",
       "    <tr>\n",
       "      <th>34</th>\n",
       "      <td>2</td>\n",
       "      <td>male</td>\n",
       "      <td>66.0</td>\n",
       "      <td>0</td>\n",
       "      <td>0</td>\n",
       "      <td>10.5000</td>\n",
       "      <td>S</td>\n",
       "      <td>0</td>\n",
       "      <td>0</td>\n",
       "    </tr>\n",
       "    <tr>\n",
       "      <th>35</th>\n",
       "      <td>1</td>\n",
       "      <td>male</td>\n",
       "      <td>28.0</td>\n",
       "      <td>1</td>\n",
       "      <td>0</td>\n",
       "      <td>82.1708</td>\n",
       "      <td>C</td>\n",
       "      <td>0</td>\n",
       "      <td>1</td>\n",
       "    </tr>\n",
       "    <tr>\n",
       "      <th>44</th>\n",
       "      <td>2</td>\n",
       "      <td>female</td>\n",
       "      <td>3.0</td>\n",
       "      <td>1</td>\n",
       "      <td>2</td>\n",
       "      <td>41.5792</td>\n",
       "      <td>C</td>\n",
       "      <td>1</td>\n",
       "      <td>1</td>\n",
       "    </tr>\n",
       "  </tbody>\n",
       "</table>\n",
       "</div>"
      ],
      "text/plain": [
       "             Pclass     Sex   Age  SibSp  Parch     Fare Embarked  Survived  \\\n",
       "PassengerId                                                                   \n",
       "2                 1  female  38.0      1      0  71.2833        C         1   \n",
       "12                1  female  58.0      0      0  26.5500        S         1   \n",
       "34                2    male  66.0      0      0  10.5000        S         0   \n",
       "35                1    male  28.0      1      0  82.1708        C         0   \n",
       "44                2  female   3.0      1      2  41.5792        C         1   \n",
       "\n",
       "             predicted_Survived  \n",
       "PassengerId                      \n",
       "2                             1  \n",
       "12                            1  \n",
       "34                            0  \n",
       "35                            1  \n",
       "44                            1  "
      ]
     },
     "execution_count": 20,
     "metadata": {},
     "output_type": "execute_result"
    }
   ],
   "source": [
    "df = test_df.copy()[[c for c in test_df.columns.values if c != 'Survived']]\n",
    "df['Survived'] = test_df['Survived']\n",
    "df['predicted_Survived'] = np.argmax(preds, axis=1)\n",
    "df.head()"
   ]
  },
  {
   "cell_type": "markdown",
   "metadata": {},
   "source": [
    "### Explaining Predictions\n",
    "\n",
    "We can use the `explain` method to better understand **why** a prediction was made for a particular example.  In the cell above, we see that our model predicted **Survived** for the fourth row ( `PassengerID=35`), but the true label is **Not Survived**.\n",
    "\n",
    "Let's better understand why.\n",
    "\n",
    "The `explain` method accepts a at minimum the the following three inputs:\n",
    "1. **df**: a pandas DataFrame in the same format is the original training DataFrame\n",
    "2. **row_index**: the DataFrame index of the example (here, we choose PassengerID=35)\n",
    "3. **class_id**: the id of the class of interest (we choose the **Survived** class in this case)\n",
    "\n",
    "One can also replace the `row_index=35` with `row_num=3`, as both denote the fourth row."
   ]
  },
  {
   "cell_type": "code",
   "execution_count": 21,
   "metadata": {},
   "outputs": [
    {
     "name": "stdout",
     "output_type": "stream",
     "text": [
      "Explanation for class = Survived (PassengerId=35): \n"
     ]
    },
    {
     "data": {
      "image/png": "[encoded data removed]",
      "text/plain": [
       "<Figure size 1440x216 with 1 Axes>"
      ]
     },
     "metadata": {
      "needs_background": "light"
     },
     "output_type": "display_data"
    }
   ],
   "source": [
    "predictor.explain(test_df, row_index=35, class_id=1)"
   ]
  },
  {
   "cell_type": "markdown",
   "metadata": {},
   "source": [
    "The plot above is generated using the [shap](https://github.com/slundberg/shap) library.  The features in red case are causing our model to increase the prediction for the **Survived** class, while features in blue cause our model to *decrease* the prediction for **Survived** (or *increase* the prediction for **Not_Survived**).  \n",
    "\n",
    "From the plot, we see that the predicted softmax probability for `Survived` is **57%**, which is a relatively less confident classification. Why is this?\n",
    "\n",
    "We see that`Sex=male` is an influential feature that is pushing the prediction lower towards **Not_Survived**, as it was women and children given priority when allocating lifeboats on the Titanic. \n",
    "\n",
    "On the other hand, we also see that this is a First Class passenger (`Pclass=1`) with a higher-than-average `Fare` price of *82.17*.  In the cell below, you'll see that the average `Fare` price is only *32*.  (Moreover, this passenger embarked from Cherbourg, which has been shown to be correlated with survival.)  Such features suggest that this is an upper-class, wealthier passenger and, therefore, more likely to make it onto a lifeboat and survive. We know from history that  crew members were ordered to close gates that lead to the upper decks so the first and second class passengers could be evacuated first. As a result, these \"upper class\" features are pushing our model to increase the classification to **Survived**.   \n",
    "\n",
    "**Thus, there are two opposing forces at play working against each other in this prediction,** which explains why the prediction probability is comparatively nearer to the border than other examples.\n",
    "\n"
   ]
  },
  {
   "cell_type": "code",
   "execution_count": 22,
   "metadata": {},
   "outputs": [
    {
     "data": {
      "text/plain": [
       "32.23080325406759"
      ]
     },
     "execution_count": 22,
     "metadata": {},
     "output_type": "execute_result"
    }
   ],
   "source": [
    "train_df['Fare'].mean()"
   ]
  },
  {
   "cell_type": "code",
   "execution_count": 23,
   "metadata": {},
   "outputs": [
    {
     "data": {
      "text/html": [
       "['not_Survived', 'Survived']"
      ],
      "text/plain": [
       "['not_Survived', 'Survived']"
      ]
     },
     "execution_count": 23,
     "metadata": {},
     "output_type": "execute_result"
    }
   ],
   "source": [
    "preproc.get_classes()"
   ]
  },
  {
   "cell_type": "markdown",
   "metadata": {},
   "source": [
    "Let us now look at the examples for which we were the most wrong (highest loss)."
   ]
  },
  {
   "cell_type": "code",
   "execution_count": 24,
   "metadata": {},
   "outputs": [
    {
     "name": "stdout",
     "output_type": "stream",
     "text": [
      "processing test: 92 rows x 8 columns\n",
      "----------\n",
      "id:53 | loss:2.33 | true:not_Survived | pred:Survived)\n",
      "\n",
      "----------\n",
      "id:19 | loss:1.73 | true:Survived | pred:not_Survived)\n",
      "\n",
      "----------\n",
      "id:27 | loss:1.45 | true:Survived | pred:not_Survived)\n",
      "\n"
     ]
    }
   ],
   "source": [
    "learner.view_top_losses(val_data=preproc.preprocess_test(test_df), preproc=preproc, n=3)"
   ]
  },
  {
   "cell_type": "markdown",
   "metadata": {},
   "source": [
    "The example with the highest loss is `row_num=53`. Why did we get this (and some others) so wrong?  Let's examine `row_num=53`.  Note that these IDs shown in the `view_top_losses` output are the raw row numbers, not DataFrame indices (or PassengerIDs). So, we need to use `row_num`, not `row_index` here.\n"
   ]
  },
  {
   "cell_type": "code",
   "execution_count": 26,
   "metadata": {},
   "outputs": [
    {
     "name": "stdout",
     "output_type": "stream",
     "text": [
      "Explanation for class = Survived (row_num=53): \n"
     ]
    },
    {
     "data": {
      "image/png": "[encoded data removed]",
      "text/plain": [
       "<Figure size 1440x216 with 1 Axes>"
      ]
     },
     "metadata": {
      "needs_background": "light"
     },
     "output_type": "display_data"
    }
   ],
   "source": [
    "predictor.explain(test_df, row_num=53, class_id=1)"
   ]
  },
  {
   "cell_type": "markdown",
   "metadata": {},
   "source": [
    "This is a wealthy First Class (`Pclass=1`) female passenger with a very high `Fare` price of 151.55. As mentioned above, such a passenger had a high chance for survival, which explains our model's high prediction for **Survival**. Yet, she did not survive. Upon further investigation, we can understand why.  This particular passenger is **Bess Allison**, a wealthy married 25-year old mother to two toddlers.  When the collision occurred, her and her husband could not locate their nanny (Alice Cleaver) and son (Trevor).  So, Bess, her husband, and her 3-year-old daughter Loraine stayed behind to wait for them instead of evacuating with other First and Second Class passengers with children.  They were last seen standing together smiling on the promenage deck.  All three died with her daughter Loraine being the only child in 1st class and 2nd class who died on the Titanic.  Their son and nanny successfully evacuated and survived.\n",
    "\n",
    "REFERENCE: [https://rt.cto.mil/stpe/](https://rt.cto.mil/stpe/)"
   ]
  },
  {
   "cell_type": "markdown",
   "metadata": {},
   "source": [
    "### Saving and Reloading the Tabular Predictor\n",
    "\n",
    "It is easy to save and reload the predictor for deployment scenarios."
   ]
  },
  {
   "cell_type": "code",
   "execution_count": 31,
   "metadata": {},
   "outputs": [],
   "source": [
    "predictor.save('/tmp/titanic_predictor')"
   ]
  },
  {
   "cell_type": "code",
   "execution_count": 32,
   "metadata": {},
   "outputs": [],
   "source": [
    "reloaded_predictor = ktrain.load_predictor('/tmp/titanic_predictor/')"
   ]
  },
  {
   "cell_type": "code",
   "execution_count": 33,
   "metadata": {},
   "outputs": [
    {
     "data": {
      "text/html": [
       "['Survived', 'Survived', 'not_Survived', 'Survived', 'Survived']"
      ],
      "text/plain": [
       "['Survived', 'Survived', 'not_Survived', 'Survived', 'Survived']"
      ]
     },
     "execution_count": 33,
     "metadata": {},
     "output_type": "execute_result"
    }
   ],
   "source": [
    "reloaded_predictor.predict(test_df)[:5]"
   ]
  },
  {
   "cell_type": "code",
   "execution_count": 34,
   "metadata": {},
   "outputs": [
    {
     "name": "stdout",
     "output_type": "stream",
     "text": [
      "test accuracy:\n"
     ]
    },
    {
     "data": {
      "text/plain": [
       "0.8369565217391305"
      ]
     },
     "execution_count": 34,
     "metadata": {},
     "output_type": "execute_result"
    }
   ],
   "source": [
    "print('test accuracy:')\n",
    "preds = reloaded_predictor.predict(test_df, return_proba=True)\n",
    "(np.argmax(preds, axis=1) == test_df['Survived'].values).sum()/test_df.shape[0]"
   ]
  },
  {
   "cell_type": "markdown",
   "metadata": {},
   "source": [
    "## Part II:  Regression for Tabular Data\n",
    "\n",
    "We will briefly demonstrate tabular regression in *ktrain* by simply predicting the `age` attribute in the Census dataset available from te UCI Machine Learning repository.  This is the same example used in the [AutoGluon regression example](https://autogluon.mxnet.io/tutorials/tabular_prediction/tabular-quickstart.html#regression-predicting-numeric-table-columns). Let's begin by downloading the dataset from the AutoGluon website."
   ]
  },
  {
   "cell_type": "code",
   "execution_count": 27,
   "metadata": {},
   "outputs": [
    {
     "name": "stdout",
     "output_type": "stream",
     "text": [
      "/tmp/train.csv\r\n"
     ]
    }
   ],
   "source": [
    "import urllib.request\n",
    "urllib.request.urlretrieve('https://autogluon.s3.amazonaws.com/datasets/Inc/train.csv', \n",
    "                           '/tmp/train.csv')\n",
    "!ls /tmp/train.csv"
   ]
  },
  {
   "cell_type": "markdown",
   "metadata": {},
   "source": [
    "### STEP 1: Load and Preprocess Data\n",
    "\n",
    "Make sure you specify `is_regression=True` here as we are predicting a numerical dependent variable (i.e., `age`)."
   ]
  },
  {
   "cell_type": "code",
   "execution_count": 28,
   "metadata": {},
   "outputs": [
    {
     "name": "stdout",
     "output_type": "stream",
     "text": [
      "processing train: 35179 rows x 15 columns\n",
      "\n",
      "The following integer column(s) are being treated as categorical variables:\n",
      "['education-num']\n",
      "To treat any of these column(s) as numerical, cast the column to float in DataFrame or CSV\n",
      " and re-run tabular_from* function.\n",
      "\n",
      "processing test: 3894 rows x 15 columns\n"
     ]
    },
    {
     "name": "stderr",
     "output_type": "stream",
     "text": [
      "Task is being treated as REGRESSION because either class_names argument was not supplied or is_regression=True. If this is incorrect, change accordingly.\n"
     ]
    }
   ],
   "source": [
    "trn, val, preproc = tabular.tabular_from_csv('/tmp/train.csv', label_columns='age', \n",
    "                                             is_regression=True, random_state=42)"
   ]
  },
  {
   "cell_type": "code",
   "execution_count": 29,
   "metadata": {},
   "outputs": [
    {
     "data": {
      "text/html": [
       "<div>\n",
       "<style scoped>\n",
       "    .dataframe tbody tr th:only-of-type {\n",
       "        vertical-align: middle;\n",
       "    }\n",
       "\n",
       "    .dataframe tbody tr th {\n",
       "        vertical-align: top;\n",
       "    }\n",
       "\n",
       "    .dataframe thead th {\n",
       "        text-align: right;\n",
       "    }\n",
       "</style>\n",
       "<table border=\"1\" class=\"dataframe\">\n",
       "  <thead>\n",
       "    <tr style=\"text-align: right;\">\n",
       "      <th></th>\n",
       "      <th>age</th>\n",
       "      <th>workclass</th>\n",
       "      <th>fnlwgt</th>\n",
       "      <th>education</th>\n",
       "      <th>education-num</th>\n",
       "      <th>marital-status</th>\n",
       "      <th>occupation</th>\n",
       "      <th>relationship</th>\n",
       "      <th>race</th>\n",
       "      <th>sex</th>\n",
       "      <th>capital-gain</th>\n",
       "      <th>capital-loss</th>\n",
       "      <th>hours-per-week</th>\n",
       "      <th>native-country</th>\n",
       "      <th>class</th>\n",
       "    </tr>\n",
       "  </thead>\n",
       "  <tbody>\n",
       "    <tr>\n",
       "      <th>0</th>\n",
       "      <td>25</td>\n",
       "      <td>Private</td>\n",
       "      <td>-0.109104</td>\n",
       "      <td>Bachelors</td>\n",
       "      <td>13</td>\n",
       "      <td>Never-married</td>\n",
       "      <td>Tech-support</td>\n",
       "      <td>Own-child</td>\n",
       "      <td>White</td>\n",
       "      <td>Female</td>\n",
       "      <td>-0.145538</td>\n",
       "      <td>-0.2177</td>\n",
       "      <td>-0.033776</td>\n",
       "      <td>United-States</td>\n",
       "      <td>&lt;=50K</td>\n",
       "    </tr>\n",
       "    <tr>\n",
       "      <th>2</th>\n",
       "      <td>46</td>\n",
       "      <td>Private</td>\n",
       "      <td>1.774059</td>\n",
       "      <td>HS-grad</td>\n",
       "      <td>9</td>\n",
       "      <td>Never-married</td>\n",
       "      <td>Other-service</td>\n",
       "      <td>Not-in-family</td>\n",
       "      <td>White</td>\n",
       "      <td>Male</td>\n",
       "      <td>-0.145538</td>\n",
       "      <td>-0.2177</td>\n",
       "      <td>-2.056852</td>\n",
       "      <td>United-States</td>\n",
       "      <td>&lt;=50K</td>\n",
       "    </tr>\n",
       "    <tr>\n",
       "      <th>3</th>\n",
       "      <td>55</td>\n",
       "      <td>?</td>\n",
       "      <td>0.097500</td>\n",
       "      <td>HS-grad</td>\n",
       "      <td>9</td>\n",
       "      <td>Married-civ-spouse</td>\n",
       "      <td>?</td>\n",
       "      <td>Husband</td>\n",
       "      <td>White</td>\n",
       "      <td>Male</td>\n",
       "      <td>-0.145538</td>\n",
       "      <td>-0.2177</td>\n",
       "      <td>0.775455</td>\n",
       "      <td>United-States</td>\n",
       "      <td>&gt;50K</td>\n",
       "    </tr>\n",
       "    <tr>\n",
       "      <th>4</th>\n",
       "      <td>36</td>\n",
       "      <td>Private</td>\n",
       "      <td>0.328310</td>\n",
       "      <td>7th-8th</td>\n",
       "      <td>4</td>\n",
       "      <td>Married-civ-spouse</td>\n",
       "      <td>Handlers-cleaners</td>\n",
       "      <td>Husband</td>\n",
       "      <td>White</td>\n",
       "      <td>Male</td>\n",
       "      <td>-0.145538</td>\n",
       "      <td>-0.2177</td>\n",
       "      <td>-0.033776</td>\n",
       "      <td>El-Salvador</td>\n",
       "      <td>&lt;=50K</td>\n",
       "    </tr>\n",
       "    <tr>\n",
       "      <th>5</th>\n",
       "      <td>51</td>\n",
       "      <td>Private</td>\n",
       "      <td>-0.113131</td>\n",
       "      <td>Some-college</td>\n",
       "      <td>10</td>\n",
       "      <td>Married-civ-spouse</td>\n",
       "      <td>Sales</td>\n",
       "      <td>Husband</td>\n",
       "      <td>White</td>\n",
       "      <td>Male</td>\n",
       "      <td>-0.145538</td>\n",
       "      <td>-0.2177</td>\n",
       "      <td>-0.033776</td>\n",
       "      <td>?</td>\n",
       "      <td>&gt;50K</td>\n",
       "    </tr>\n",
       "  </tbody>\n",
       "</table>\n",
       "</div>"
      ],
      "text/plain": [
       "   age workclass    fnlwgt     education education-num      marital-status  \\\n",
       "0   25   Private -0.109104     Bachelors            13       Never-married   \n",
       "2   46   Private  1.774059       HS-grad             9       Never-married   \n",
       "3   55         ?  0.097500       HS-grad             9  Married-civ-spouse   \n",
       "4   36   Private  0.328310       7th-8th             4  Married-civ-spouse   \n",
       "5   51   Private -0.113131  Some-college            10  Married-civ-spouse   \n",
       "\n",
       "          occupation   relationship   race     sex  capital-gain  \\\n",
       "0       Tech-support      Own-child  White  Female     -0.145538   \n",
       "2      Other-service  Not-in-family  White    Male     -0.145538   \n",
       "3                  ?        Husband  White    Male     -0.145538   \n",
       "4  Handlers-cleaners        Husband  White    Male     -0.145538   \n",
       "5              Sales        Husband  White    Male     -0.145538   \n",
       "\n",
       "   capital-loss  hours-per-week native-country  class  \n",
       "0       -0.2177       -0.033776  United-States  <=50K  \n",
       "2       -0.2177       -2.056852  United-States  <=50K  \n",
       "3       -0.2177        0.775455  United-States   >50K  \n",
       "4       -0.2177       -0.033776    El-Salvador  <=50K  \n",
       "5       -0.2177       -0.033776              ?   >50K  "
      ]
     },
     "execution_count": 29,
     "metadata": {},
     "output_type": "execute_result"
    }
   ],
   "source": [
    "trn.df.head()"
   ]
  },
  {
   "cell_type": "markdown",
   "metadata": {},
   "source": [
    "### STEP 2: Create a Model and Wrap in `Learner`\n",
    "\n",
    "We'll use `tabular_regression_model` to create a regression model."
   ]
  },
  {
   "cell_type": "code",
   "execution_count": 30,
   "metadata": {},
   "outputs": [
    {
     "name": "stdout",
     "output_type": "stream",
     "text": [
      "mlp: a configurable multilayer perceptron with categorical variable embeddings [https://arxiv.org/abs/1604.06737]\n"
     ]
    }
   ],
   "source": [
    "tabular.print_tabular_regression_models()"
   ]
  },
  {
   "cell_type": "code",
   "execution_count": 31,
   "metadata": {},
   "outputs": [
    {
     "name": "stdout",
     "output_type": "stream",
     "text": [
      "done.\n"
     ]
    }
   ],
   "source": [
    "model = tabular.tabular_regression_model('mlp', trn)\n",
    "learner = ktrain.get_learner(model, train_data=trn, val_data=val, batch_size=128)"
   ]
  },
  {
   "cell_type": "markdown",
   "metadata": {},
   "source": [
    "### STEP 3: Estimate Learning Rate"
   ]
  },
  {
   "cell_type": "code",
   "execution_count": 32,
   "metadata": {},
   "outputs": [
    {
     "name": "stdout",
     "output_type": "stream",
     "text": [
      "simulating training for different learning rates... this may take a few moments...\n",
      "Train for 274 steps\n",
      "Epoch 1/1024\n",
      "274/274 [==============================] - 9s 33ms/step - loss: 1690.9928 - mae: 38.6621\n",
      "Epoch 2/1024\n",
      "274/274 [==============================] - 7s 27ms/step - loss: 1677.1711 - mae: 38.6322\n",
      "Epoch 3/1024\n",
      "274/274 [==============================] - 7s 27ms/step - loss: 1601.6238 - mae: 38.2650\n",
      "Epoch 4/1024\n",
      "274/274 [==============================] - 7s 27ms/step - loss: 759.6376 - mae: 22.9424\n",
      "Epoch 5/1024\n",
      "274/274 [==============================] - 7s 27ms/step - loss: 126.5531 - mae: 8.7675\n",
      "Epoch 6/1024\n",
      "174/274 [==================>...........] - ETA: 2s - loss: 255.7883 - mae: 10.5139\n",
      "\n",
      "done.\n",
      "Visually inspect loss plot and select learning rate associated with falling loss\n"
     ]
    },
    {
     "data": {
      "image/png": "[encoded data removed]",
      "text/plain": [
       "<Figure size 432x288 with 1 Axes>"
      ]
     },
     "metadata": {
      "needs_background": "light"
     },
     "output_type": "display_data"
    }
   ],
   "source": [
    "learner.lr_find(show_plot=True)"
   ]
  },
  {
   "cell_type": "markdown",
   "metadata": {},
   "source": [
    "### STEP 4: Train the Model\n",
    "\n",
    "According to our final validation MAE (see below), our age predictions are only off about **~7 years**."
   ]
  },
  {
   "cell_type": "code",
   "execution_count": 33,
   "metadata": {},
   "outputs": [
    {
     "name": "stdout",
     "output_type": "stream",
     "text": [
      "early_stopping automatically enabled at patience=5\n",
      "reduce_on_plateau automatically enabled at patience=2\n",
      "\n",
      "\n",
      "begin training using triangular learning rate policy with max lr of 0.003...\n",
      "Train for 275 steps, validate for 122 steps\n",
      "Epoch 1/1024\n",
      "275/275 [==============================] - 11s 42ms/step - loss: 705.2752 - mae: 21.2675 - val_loss: 141.0105 - val_mae: 9.6099\n",
      "Epoch 2/1024\n",
      "275/275 [==============================] - 10s 36ms/step - loss: 133.5757 - mae: 9.0144 - val_loss: 99.8360 - val_mae: 7.7163\n",
      "Epoch 3/1024\n",
      "275/275 [==============================] - 10s 36ms/step - loss: 125.5097 - mae: 8.7381 - val_loss: 95.7119 - val_mae: 7.4511\n",
      "Epoch 4/1024\n",
      "275/275 [==============================] - 10s 36ms/step - loss: 120.4809 - mae: 8.5401 - val_loss: 93.8549 - val_mae: 7.4299\n",
      "Epoch 5/1024\n",
      "275/275 [==============================] - 10s 36ms/step - loss: 117.1635 - mae: 8.4130 - val_loss: 93.9721 - val_mae: 7.3929\n",
      "Epoch 6/1024\n",
      "275/275 [==============================] - 10s 36ms/step - loss: 114.4044 - mae: 8.2978 - val_loss: 93.7134 - val_mae: 7.3891\n",
      "Epoch 7/1024\n",
      "275/275 [==============================] - 10s 36ms/step - loss: 111.9775 - mae: 8.2077 - val_loss: 93.6566 - val_mae: 7.4828\n",
      "Epoch 8/1024\n",
      "275/275 [==============================] - 10s 36ms/step - loss: 110.8312 - mae: 8.1731 - val_loss: 94.3450 - val_mae: 7.4144\n",
      "Epoch 9/1024\n",
      "271/275 [============================>.] - ETA: 0s - loss: 109.4046 - mae: 8.0923\n",
      "Epoch 00009: Reducing Max LR on Plateau: new max lr will be 0.0015 (if not early_stopping).\n",
      "275/275 [==============================] - 10s 36ms/step - loss: 109.4102 - mae: 8.0982 - val_loss: 94.2353 - val_mae: 7.5182\n",
      "Epoch 10/1024\n",
      "275/275 [==============================] - 10s 35ms/step - loss: 107.9910 - mae: 8.0623 - val_loss: 93.1857 - val_mae: 7.4172\n",
      "Epoch 11/1024\n",
      "275/275 [==============================] - 10s 36ms/step - loss: 106.8389 - mae: 8.0062 - val_loss: 92.8905 - val_mae: 7.4003\n",
      "Epoch 12/1024\n",
      "275/275 [==============================] - 10s 36ms/step - loss: 107.0608 - mae: 7.9973 - val_loss: 93.0614 - val_mae: 7.4001\n",
      "Epoch 13/1024\n",
      "273/275 [============================>.] - ETA: 0s - loss: 105.8344 - mae: 7.9646\n",
      "Epoch 00013: Reducing Max LR on Plateau: new max lr will be 0.00075 (if not early_stopping).\n",
      "275/275 [==============================] - 10s 36ms/step - loss: 105.7365 - mae: 7.9593 - val_loss: 93.4569 - val_mae: 7.4114\n",
      "Epoch 14/1024\n",
      "275/275 [==============================] - 10s 36ms/step - loss: 104.7501 - mae: 7.9316 - val_loss: 92.7436 - val_mae: 7.3969\n",
      "Epoch 15/1024\n",
      "275/275 [==============================] - 10s 36ms/step - loss: 104.7237 - mae: 7.9056 - val_loss: 92.6768 - val_mae: 7.4085\n",
      "Epoch 16/1024\n",
      "275/275 [==============================] - 10s 36ms/step - loss: 104.3144 - mae: 7.8965 - val_loss: 92.7957 - val_mae: 7.4129\n",
      "Epoch 17/1024\n",
      "273/275 [============================>.] - ETA: 0s - loss: 104.0633 - mae: 7.8720\n",
      "Epoch 00017: Reducing Max LR on Plateau: new max lr will be 0.000375 (if not early_stopping).\n",
      "275/275 [==============================] - 10s 36ms/step - loss: 103.9914 - mae: 7.8695 - val_loss: 92.9805 - val_mae: 7.3951\n",
      "Epoch 18/1024\n",
      "275/275 [==============================] - 10s 36ms/step - loss: 104.5087 - mae: 7.9051 - val_loss: 92.7400 - val_mae: 7.4238\n",
      "Epoch 19/1024\n",
      "275/275 [==============================] - 10s 35ms/step - loss: 103.3771 - mae: 7.8601 - val_loss: 92.6554 - val_mae: 7.4040\n",
      "Epoch 20/1024\n",
      "275/275 [==============================] - 10s 36ms/step - loss: 102.9229 - mae: 7.8473 - val_loss: 92.5143 - val_mae: 7.3786\n",
      "Epoch 21/1024\n",
      "275/275 [==============================] - 10s 36ms/step - loss: 102.3058 - mae: 7.8065 - val_loss: 93.1617 - val_mae: 7.3987\n",
      "Epoch 22/1024\n",
      "270/275 [============================>.] - ETA: 0s - loss: 102.5361 - mae: 7.8275\n",
      "Epoch 00022: Reducing Max LR on Plateau: new max lr will be 0.0001875 (if not early_stopping).\n",
      "275/275 [==============================] - 10s 36ms/step - loss: 102.6004 - mae: 7.8360 - val_loss: 92.9736 - val_mae: 7.4057\n",
      "Epoch 23/1024\n",
      "275/275 [==============================] - 10s 36ms/step - loss: 102.4762 - mae: 7.8175 - val_loss: 92.9355 - val_mae: 7.4133\n",
      "Epoch 24/1024\n",
      "271/275 [============================>.] - ETA: 0s - loss: 101.9567 - mae: 7.7988\n",
      "Epoch 00024: Reducing Max LR on Plateau: new max lr will be 9.375e-05 (if not early_stopping).\n",
      "275/275 [==============================] - 10s 36ms/step - loss: 101.9280 - mae: 7.7979 - val_loss: 92.7991 - val_mae: 7.4172\n",
      "Epoch 25/1024\n",
      "273/275 [============================>.] - ETA: 0s - loss: 101.5987 - mae: 7.7791Restoring model weights from the end of the best epoch.\n",
      "275/275 [==============================] - 10s 36ms/step - loss: 101.5901 - mae: 7.7810 - val_loss: 93.0446 - val_mae: 7.4162\n",
      "Epoch 00025: early stopping\n",
      "Weights from best epoch have been loaded into model.\n"
     ]
    },
    {
     "data": {
      "text/plain": [
       "<tensorflow.python.keras.callbacks.History at 0x7f17a84ce320>"
      ]
     },
     "execution_count": 33,
     "metadata": {},
     "output_type": "execute_result"
    }
   ],
   "source": [
    "learner.autofit(3e-3)"
   ]
  },
  {
   "cell_type": "code",
   "execution_count": null,
   "metadata": {},
   "outputs": [],
   "source": []
  }
 ],
 "metadata": {
  "kernelspec": {
   "display_name": "Python 3",
   "language": "python",
   "name": "python3"
  },
  "language_info": {
   "codemirror_mode": {
    "name": "ipython",
    "version": 3
   },
   "file_extension": ".py",
   "mimetype": "text/x-python",
   "name": "python",
   "nbconvert_exporter": "python",
   "pygments_lexer": "ipython3",
   "version": "3.6.9"
  }
 },
 "nbformat": 4,
 "nbformat_minor": 2
}
