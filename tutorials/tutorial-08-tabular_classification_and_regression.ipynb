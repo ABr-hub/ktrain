{
 "cells": [
  {
   "cell_type": "code",
   "execution_count": 1,
   "metadata": {},
   "outputs": [],
   "source": [
    "%reload_ext autoreload\n",
    "%autoreload 2\n",
    "%matplotlib inline\n",
    "import os\n",
    "os.environ[\"CUDA_DEVICE_ORDER\"]=\"PCI_BUS_ID\";\n",
    "os.environ[\"CUDA_VISIBLE_DEVICES\"]=\"0\""
   ]
  },
  {
   "cell_type": "code",
   "execution_count": 2,
   "metadata": {},
   "outputs": [],
   "source": [
    "import ktrain\n",
    "from ktrain import tabular\n",
    "import pandas as pd\n",
    "pd.set_option('display.max_columns', None)"
   ]
  },
  {
   "cell_type": "markdown",
   "metadata": {},
   "source": [
    "# Classification and Regression on Tabular Data in `ktrain`\n",
    "\n",
    "As of v0.19.x, *ktrain* supports classification and regression on \"traditional\" tabular datasets.\n",
    "\n",
    "Let's begin with a demonstration of tabular classfication using the well-studied Titatnic dataset from Kaggle.\n",
    "\n",
    "## Part I:  Classification for Tabular Data\n",
    "\n"
   ]
  },
  {
   "cell_type": "markdown",
   "metadata": {},
   "source": [
    "### Solving the Titanic Kaggle Challenge in `ktrain`\n",
    "\n",
    "This notebook demonstrates using *ktrain* for predicting which passengers survived the Titatnic shipwreck.\n",
    "\n",
    "The dataset can be [downloaded from Kaggle here](https://www.kaggle.com/c/titanic/overview). There is a `train.csv` with labels (i.e., `Survived`) and a `test.csv` with no labels.  We will only use `train.csv` in this notebook.\n",
    "\n",
    "Let's begin by loading the data as a pandas DataFrame and inspecting it."
   ]
  },
  {
   "cell_type": "code",
   "execution_count": 3,
   "metadata": {},
   "outputs": [],
   "source": [
    "train_df = pd.read_csv('data/titanic/train.csv', index_col=0)"
   ]
  },
  {
   "cell_type": "code",
   "execution_count": 4,
   "metadata": {},
   "outputs": [
    {
     "data": {
      "text/html": [
       "<div>\n",
       "<style scoped>\n",
       "    .dataframe tbody tr th:only-of-type {\n",
       "        vertical-align: middle;\n",
       "    }\n",
       "\n",
       "    .dataframe tbody tr th {\n",
       "        vertical-align: top;\n",
       "    }\n",
       "\n",
       "    .dataframe thead th {\n",
       "        text-align: right;\n",
       "    }\n",
       "</style>\n",
       "<table border=\"1\" class=\"dataframe\">\n",
       "  <thead>\n",
       "    <tr style=\"text-align: right;\">\n",
       "      <th></th>\n",
       "      <th>Survived</th>\n",
       "      <th>Pclass</th>\n",
       "      <th>Name</th>\n",
       "      <th>Sex</th>\n",
       "      <th>Age</th>\n",
       "      <th>SibSp</th>\n",
       "      <th>Parch</th>\n",
       "      <th>Ticket</th>\n",
       "      <th>Fare</th>\n",
       "      <th>Cabin</th>\n",
       "      <th>Embarked</th>\n",
       "    </tr>\n",
       "    <tr>\n",
       "      <th>PassengerId</th>\n",
       "      <th></th>\n",
       "      <th></th>\n",
       "      <th></th>\n",
       "      <th></th>\n",
       "      <th></th>\n",
       "      <th></th>\n",
       "      <th></th>\n",
       "      <th></th>\n",
       "      <th></th>\n",
       "      <th></th>\n",
       "      <th></th>\n",
       "    </tr>\n",
       "  </thead>\n",
       "  <tbody>\n",
       "    <tr>\n",
       "      <th>1</th>\n",
       "      <td>0</td>\n",
       "      <td>3</td>\n",
       "      <td>Braund, Mr. Owen Harris</td>\n",
       "      <td>male</td>\n",
       "      <td>22.0</td>\n",
       "      <td>1</td>\n",
       "      <td>0</td>\n",
       "      <td>A/5 21171</td>\n",
       "      <td>7.2500</td>\n",
       "      <td>NaN</td>\n",
       "      <td>S</td>\n",
       "    </tr>\n",
       "    <tr>\n",
       "      <th>2</th>\n",
       "      <td>1</td>\n",
       "      <td>1</td>\n",
       "      <td>Cumings, Mrs. John Bradley (Florence Briggs Th...</td>\n",
       "      <td>female</td>\n",
       "      <td>38.0</td>\n",
       "      <td>1</td>\n",
       "      <td>0</td>\n",
       "      <td>PC 17599</td>\n",
       "      <td>71.2833</td>\n",
       "      <td>C85</td>\n",
       "      <td>C</td>\n",
       "    </tr>\n",
       "    <tr>\n",
       "      <th>3</th>\n",
       "      <td>1</td>\n",
       "      <td>3</td>\n",
       "      <td>Heikkinen, Miss. Laina</td>\n",
       "      <td>female</td>\n",
       "      <td>26.0</td>\n",
       "      <td>0</td>\n",
       "      <td>0</td>\n",
       "      <td>STON/O2. 3101282</td>\n",
       "      <td>7.9250</td>\n",
       "      <td>NaN</td>\n",
       "      <td>S</td>\n",
       "    </tr>\n",
       "    <tr>\n",
       "      <th>4</th>\n",
       "      <td>1</td>\n",
       "      <td>1</td>\n",
       "      <td>Futrelle, Mrs. Jacques Heath (Lily May Peel)</td>\n",
       "      <td>female</td>\n",
       "      <td>35.0</td>\n",
       "      <td>1</td>\n",
       "      <td>0</td>\n",
       "      <td>113803</td>\n",
       "      <td>53.1000</td>\n",
       "      <td>C123</td>\n",
       "      <td>S</td>\n",
       "    </tr>\n",
       "    <tr>\n",
       "      <th>5</th>\n",
       "      <td>0</td>\n",
       "      <td>3</td>\n",
       "      <td>Allen, Mr. William Henry</td>\n",
       "      <td>male</td>\n",
       "      <td>35.0</td>\n",
       "      <td>0</td>\n",
       "      <td>0</td>\n",
       "      <td>373450</td>\n",
       "      <td>8.0500</td>\n",
       "      <td>NaN</td>\n",
       "      <td>S</td>\n",
       "    </tr>\n",
       "  </tbody>\n",
       "</table>\n",
       "</div>"
      ],
      "text/plain": [
       "             Survived  Pclass  \\\n",
       "PassengerId                     \n",
       "1                   0       3   \n",
       "2                   1       1   \n",
       "3                   1       3   \n",
       "4                   1       1   \n",
       "5                   0       3   \n",
       "\n",
       "                                                          Name     Sex   Age  \\\n",
       "PassengerId                                                                    \n",
       "1                                      Braund, Mr. Owen Harris    male  22.0   \n",
       "2            Cumings, Mrs. John Bradley (Florence Briggs Th...  female  38.0   \n",
       "3                                       Heikkinen, Miss. Laina  female  26.0   \n",
       "4                 Futrelle, Mrs. Jacques Heath (Lily May Peel)  female  35.0   \n",
       "5                                     Allen, Mr. William Henry    male  35.0   \n",
       "\n",
       "             SibSp  Parch            Ticket     Fare Cabin Embarked  \n",
       "PassengerId                                                          \n",
       "1                1      0         A/5 21171   7.2500   NaN        S  \n",
       "2                1      0          PC 17599  71.2833   C85        C  \n",
       "3                0      0  STON/O2. 3101282   7.9250   NaN        S  \n",
       "4                1      0            113803  53.1000  C123        S  \n",
       "5                0      0            373450   8.0500   NaN        S  "
      ]
     },
     "execution_count": 4,
     "metadata": {},
     "output_type": "execute_result"
    }
   ],
   "source": [
    "train_df.head()"
   ]
  },
  {
   "cell_type": "markdown",
   "metadata": {},
   "source": [
    "We'll drop the `Name` and `Ticket` columns, as they seem like they'll be less predictive."
   ]
  },
  {
   "cell_type": "code",
   "execution_count": 5,
   "metadata": {},
   "outputs": [],
   "source": [
    "train_df = train_df.drop('Name', 1)\n",
    "train_df = train_df.drop('Ticket', 1)"
   ]
  },
  {
   "cell_type": "markdown",
   "metadata": {},
   "source": [
    "*ktrain* will automatically split out a validation set if given only a training set.  But, let's also manually split out a test set that we can evaluate later."
   ]
  },
  {
   "cell_type": "code",
   "execution_count": 6,
   "metadata": {},
   "outputs": [],
   "source": [
    "import numpy as np\n",
    "np.random.seed(42)\n",
    "p = 0.1 # 10% for test set\n",
    "prop = 1-p\n",
    "df = train_df.copy()\n",
    "msk = np.random.rand(len(df)) < prop\n",
    "train_df = df[msk]\n",
    "test_df = df[~msk]"
   ]
  },
  {
   "cell_type": "code",
   "execution_count": 7,
   "metadata": {},
   "outputs": [
    {
     "data": {
      "text/plain": [
       "(799, 9)"
      ]
     },
     "execution_count": 7,
     "metadata": {},
     "output_type": "execute_result"
    }
   ],
   "source": [
    "train_df.shape"
   ]
  },
  {
   "cell_type": "code",
   "execution_count": 8,
   "metadata": {},
   "outputs": [
    {
     "data": {
      "text/plain": [
       "(92, 9)"
      ]
     },
     "execution_count": 8,
     "metadata": {},
     "output_type": "execute_result"
    }
   ],
   "source": [
    "test_df.shape"
   ]
  },
  {
   "cell_type": "markdown",
   "metadata": {},
   "source": [
    "### STEP 1: Load and Preprocess the Data"
   ]
  },
  {
   "cell_type": "code",
   "execution_count": 9,
   "metadata": {},
   "outputs": [
    {
     "name": "stdout",
     "output_type": "stream",
     "text": [
      "processing train: 717 rows x 9 columns\n",
      "processing test: 82 rows x 9 columns\n"
     ]
    }
   ],
   "source": [
    "trn, val, preproc = tabular.tabular_from_df(train_df, label_columns=['Survived'], random_state=42)"
   ]
  },
  {
   "cell_type": "markdown",
   "metadata": {},
   "source": [
    "*ktrain* automatically preprocesses the dataset appropriately.  Numerical columns are automatically normalized, missing values are handled, and categorical variables will be vectorized as [entity embeddings](https://arxiv.org/abs/1604.06737) for input to a neural network. The processed DataFrame is shown below (categorical variables will be vectorized on-the-fly, so they appear in their original form)."
   ]
  },
  {
   "cell_type": "code",
   "execution_count": 10,
   "metadata": {},
   "outputs": [
    {
     "data": {
      "text/html": [
       "<div>\n",
       "<style scoped>\n",
       "    .dataframe tbody tr th:only-of-type {\n",
       "        vertical-align: middle;\n",
       "    }\n",
       "\n",
       "    .dataframe tbody tr th {\n",
       "        vertical-align: top;\n",
       "    }\n",
       "\n",
       "    .dataframe thead th {\n",
       "        text-align: right;\n",
       "    }\n",
       "</style>\n",
       "<table border=\"1\" class=\"dataframe\">\n",
       "  <thead>\n",
       "    <tr style=\"text-align: right;\">\n",
       "      <th></th>\n",
       "      <th>Pclass</th>\n",
       "      <th>Sex</th>\n",
       "      <th>Age</th>\n",
       "      <th>SibSp</th>\n",
       "      <th>Parch</th>\n",
       "      <th>Fare</th>\n",
       "      <th>Cabin</th>\n",
       "      <th>Embarked</th>\n",
       "      <th>0</th>\n",
       "      <th>1</th>\n",
       "      <th>Age_na</th>\n",
       "    </tr>\n",
       "    <tr>\n",
       "      <th>PassengerId</th>\n",
       "      <th></th>\n",
       "      <th></th>\n",
       "      <th></th>\n",
       "      <th></th>\n",
       "      <th></th>\n",
       "      <th></th>\n",
       "      <th></th>\n",
       "      <th></th>\n",
       "      <th></th>\n",
       "      <th></th>\n",
       "      <th></th>\n",
       "    </tr>\n",
       "  </thead>\n",
       "  <tbody>\n",
       "    <tr>\n",
       "      <th>1</th>\n",
       "      <td>3</td>\n",
       "      <td>male</td>\n",
       "      <td>-0.583729</td>\n",
       "      <td>1</td>\n",
       "      <td>0</td>\n",
       "      <td>-0.485473</td>\n",
       "      <td>NaN</td>\n",
       "      <td>S</td>\n",
       "      <td>1.0</td>\n",
       "      <td>0.0</td>\n",
       "      <td>False</td>\n",
       "    </tr>\n",
       "    <tr>\n",
       "      <th>4</th>\n",
       "      <td>1</td>\n",
       "      <td>female</td>\n",
       "      <td>0.417180</td>\n",
       "      <td>1</td>\n",
       "      <td>0</td>\n",
       "      <td>0.378614</td>\n",
       "      <td>C123</td>\n",
       "      <td>S</td>\n",
       "      <td>0.0</td>\n",
       "      <td>1.0</td>\n",
       "      <td>False</td>\n",
       "    </tr>\n",
       "    <tr>\n",
       "      <th>5</th>\n",
       "      <td>3</td>\n",
       "      <td>male</td>\n",
       "      <td>0.417180</td>\n",
       "      <td>0</td>\n",
       "      <td>0</td>\n",
       "      <td>-0.470396</td>\n",
       "      <td>NaN</td>\n",
       "      <td>S</td>\n",
       "      <td>1.0</td>\n",
       "      <td>0.0</td>\n",
       "      <td>False</td>\n",
       "    </tr>\n",
       "    <tr>\n",
       "      <th>6</th>\n",
       "      <td>3</td>\n",
       "      <td>male</td>\n",
       "      <td>-0.121771</td>\n",
       "      <td>0</td>\n",
       "      <td>0</td>\n",
       "      <td>-0.462701</td>\n",
       "      <td>NaN</td>\n",
       "      <td>Q</td>\n",
       "      <td>1.0</td>\n",
       "      <td>0.0</td>\n",
       "      <td>True</td>\n",
       "    </tr>\n",
       "    <tr>\n",
       "      <th>7</th>\n",
       "      <td>1</td>\n",
       "      <td>male</td>\n",
       "      <td>1.880046</td>\n",
       "      <td>0</td>\n",
       "      <td>0</td>\n",
       "      <td>0.355292</td>\n",
       "      <td>E46</td>\n",
       "      <td>S</td>\n",
       "      <td>1.0</td>\n",
       "      <td>0.0</td>\n",
       "      <td>False</td>\n",
       "    </tr>\n",
       "  </tbody>\n",
       "</table>\n",
       "</div>"
      ],
      "text/plain": [
       "            Pclass     Sex       Age SibSp Parch      Fare Cabin Embarked  \\\n",
       "PassengerId                                                                 \n",
       "1                3    male -0.583729     1     0 -0.485473   NaN        S   \n",
       "4                1  female  0.417180     1     0  0.378614  C123        S   \n",
       "5                3    male  0.417180     0     0 -0.470396   NaN        S   \n",
       "6                3    male -0.121771     0     0 -0.462701   NaN        Q   \n",
       "7                1    male  1.880046     0     0  0.355292   E46        S   \n",
       "\n",
       "               0    1 Age_na  \n",
       "PassengerId                   \n",
       "1            1.0  0.0  False  \n",
       "4            0.0  1.0  False  \n",
       "5            1.0  0.0  False  \n",
       "6            1.0  0.0   True  \n",
       "7            1.0  0.0  False  "
      ]
     },
     "execution_count": 10,
     "metadata": {},
     "output_type": "execute_result"
    }
   ],
   "source": [
    "trn.df.head()"
   ]
  },
  {
   "cell_type": "markdown",
   "metadata": {},
   "source": [
    "### STEP 2: Create a Model and Wrap in `Learner`\n",
    "\n",
    "*ktrain* uses multilayer perceptrons as the model for tabular datasets. The model can be configured with arguments to `tabular_classifier` (e.g., number and size of hidden layers, dropout values, etc.), but we will leave the defaults here."
   ]
  },
  {
   "cell_type": "code",
   "execution_count": 11,
   "metadata": {},
   "outputs": [
    {
     "name": "stdout",
     "output_type": "stream",
     "text": [
      "mlp: a configurable multilayer perceptron with categorical variable embeddings [https://arxiv.org/abs/1604.06737]\n"
     ]
    }
   ],
   "source": [
    "tabular.print_tabular_classifiers()"
   ]
  },
  {
   "cell_type": "code",
   "execution_count": 12,
   "metadata": {},
   "outputs": [
    {
     "name": "stdout",
     "output_type": "stream",
     "text": [
      "Is Multi-Label? False\n",
      "done.\n"
     ]
    }
   ],
   "source": [
    "model = tabular.tabular_classifier('mlp', trn)"
   ]
  },
  {
   "cell_type": "code",
   "execution_count": 13,
   "metadata": {},
   "outputs": [],
   "source": [
    "learner = ktrain.get_learner(model, train_data=trn, val_data=val, batch_size=32)"
   ]
  },
  {
   "cell_type": "markdown",
   "metadata": {},
   "source": [
    "### STEP 3: Estimate the Learning Rate\n",
    "\n",
    "Based on the plot, we will choose a learning rate of `1e-3`."
   ]
  },
  {
   "cell_type": "code",
   "execution_count": 14,
   "metadata": {},
   "outputs": [
    {
     "name": "stdout",
     "output_type": "stream",
     "text": [
      "simulating training for different learning rates... this may take a few moments...\n",
      "Train for 22 steps\n",
      "Epoch 1/8\n",
      "22/22 [==============================] - 2s 80ms/step - loss: 1.0986 - accuracy: 0.5927\n",
      "Epoch 2/8\n",
      "22/22 [==============================] - 1s 23ms/step - loss: 1.0892 - accuracy: 0.5752\n",
      "Epoch 3/8\n",
      "22/22 [==============================] - 1s 25ms/step - loss: 1.1093 - accuracy: 0.5781\n",
      "Epoch 4/8\n",
      "22/22 [==============================] - 1s 23ms/step - loss: 0.8927 - accuracy: 0.6818\n",
      "Epoch 5/8\n",
      "22/22 [==============================] - 0s 23ms/step - loss: 1.0319 - accuracy: 0.7066\n",
      "Epoch 6/8\n",
      "22/22 [==============================] - 1s 26ms/step - loss: 0.9735 - accuracy: 0.7182\n",
      "Epoch 7/8\n",
      "14/22 [==================>...........] - ETA: 0s - loss: 3.5696 - accuracy: 0.7133\n",
      "\n",
      "done.\n",
      "Visually inspect loss plot and select learning rate associated with falling loss\n"
     ]
    },
    {
     "data": {
      "image/png": "[encoded data removed]",
      "text/plain": [
       "<Figure size 432x288 with 1 Axes>"
      ]
     },
     "metadata": {
      "needs_background": "light"
     },
     "output_type": "display_data"
    }
   ],
   "source": [
    "learner.lr_find(show_plot=True, max_epochs=8)"
   ]
  },
  {
   "cell_type": "markdown",
   "metadata": {},
   "source": [
    "### STEP 4: Train the Model"
   ]
  },
  {
   "cell_type": "code",
   "execution_count": 17,
   "metadata": {},
   "outputs": [
    {
     "name": "stdout",
     "output_type": "stream",
     "text": [
      "\n",
      "\n",
      "begin training using onecycle policy with max lr of 0.001...\n",
      "Train for 23 steps, validate for 3 steps\n",
      "Epoch 1/25\n",
      "23/23 [==============================] - 1s 29ms/step - loss: 0.9609 - accuracy: 0.6555 - val_loss: 0.6710 - val_accuracy: 0.6585\n",
      "Epoch 2/25\n",
      "23/23 [==============================] - 1s 28ms/step - loss: 0.8727 - accuracy: 0.6974 - val_loss: 0.6527 - val_accuracy: 0.5976\n",
      "Epoch 3/25\n",
      "23/23 [==============================] - 1s 28ms/step - loss: 0.7213 - accuracy: 0.7238 - val_loss: 0.6549 - val_accuracy: 0.5976\n",
      "Epoch 4/25\n",
      "23/23 [==============================] - 1s 28ms/step - loss: 0.7356 - accuracy: 0.7350 - val_loss: 0.6419 - val_accuracy: 0.5976\n",
      "Epoch 5/25\n",
      "23/23 [==============================] - 1s 29ms/step - loss: 0.7430 - accuracy: 0.7378 - val_loss: 0.6584 - val_accuracy: 0.5976\n",
      "Epoch 6/25\n",
      "23/23 [==============================] - 1s 29ms/step - loss: 0.6355 - accuracy: 0.7434 - val_loss: 0.6526 - val_accuracy: 0.5976\n",
      "Epoch 7/25\n",
      "23/23 [==============================] - 1s 28ms/step - loss: 0.5772 - accuracy: 0.7448 - val_loss: 0.6289 - val_accuracy: 0.5976\n",
      "Epoch 8/25\n",
      "23/23 [==============================] - 1s 28ms/step - loss: 0.5788 - accuracy: 0.7755 - val_loss: 0.6368 - val_accuracy: 0.6098\n",
      "Epoch 9/25\n",
      "23/23 [==============================] - 1s 28ms/step - loss: 0.5230 - accuracy: 0.8103 - val_loss: 0.6034 - val_accuracy: 0.6585\n",
      "Epoch 10/25\n",
      "23/23 [==============================] - 1s 26ms/step - loss: 0.5025 - accuracy: 0.7992 - val_loss: 0.6165 - val_accuracy: 0.6585\n",
      "Epoch 11/25\n",
      "23/23 [==============================] - 1s 28ms/step - loss: 0.4412 - accuracy: 0.8117 - val_loss: 0.6382 - val_accuracy: 0.7073\n",
      "Epoch 12/25\n",
      "23/23 [==============================] - 1s 27ms/step - loss: 0.4727 - accuracy: 0.8089 - val_loss: 0.6037 - val_accuracy: 0.7439\n",
      "Epoch 13/25\n",
      "23/23 [==============================] - 1s 27ms/step - loss: 0.4636 - accuracy: 0.8173 - val_loss: 0.6153 - val_accuracy: 0.6829\n",
      "Epoch 14/25\n",
      "23/23 [==============================] - 1s 27ms/step - loss: 0.4540 - accuracy: 0.8243 - val_loss: 0.5947 - val_accuracy: 0.7439\n",
      "Epoch 15/25\n",
      "23/23 [==============================] - 1s 26ms/step - loss: 0.4299 - accuracy: 0.8396 - val_loss: 0.6006 - val_accuracy: 0.6951\n",
      "Epoch 16/25\n",
      "23/23 [==============================] - 1s 27ms/step - loss: 0.3888 - accuracy: 0.8480 - val_loss: 0.5755 - val_accuracy: 0.7927\n",
      "Epoch 17/25\n",
      "23/23 [==============================] - 1s 28ms/step - loss: 0.3530 - accuracy: 0.8773 - val_loss: 0.5493 - val_accuracy: 0.8415\n",
      "Epoch 18/25\n",
      "23/23 [==============================] - 1s 28ms/step - loss: 0.3405 - accuracy: 0.8675 - val_loss: 0.5225 - val_accuracy: 0.7805\n",
      "Epoch 19/25\n",
      "23/23 [==============================] - 1s 28ms/step - loss: 0.3170 - accuracy: 0.8703 - val_loss: 0.5302 - val_accuracy: 0.8659\n",
      "Epoch 20/25\n",
      "23/23 [==============================] - 1s 29ms/step - loss: 0.3491 - accuracy: 0.8494 - val_loss: 0.4909 - val_accuracy: 0.8902\n",
      "Epoch 21/25\n",
      "23/23 [==============================] - 1s 28ms/step - loss: 0.3138 - accuracy: 0.8605 - val_loss: 0.4820 - val_accuracy: 0.8293\n",
      "Epoch 22/25\n",
      "23/23 [==============================] - 1s 27ms/step - loss: 0.3116 - accuracy: 0.8731 - val_loss: 0.4551 - val_accuracy: 0.8780\n",
      "Epoch 23/25\n",
      "23/23 [==============================] - 1s 27ms/step - loss: 0.2748 - accuracy: 0.8759 - val_loss: 0.4531 - val_accuracy: 0.8902\n",
      "Epoch 24/25\n",
      "23/23 [==============================] - 1s 28ms/step - loss: 0.3125 - accuracy: 0.8605 - val_loss: 0.4392 - val_accuracy: 0.9024\n",
      "Epoch 25/25\n",
      "23/23 [==============================] - 1s 27ms/step - loss: 0.2839 - accuracy: 0.8731 - val_loss: 0.4279 - val_accuracy: 0.9024\n"
     ]
    },
    {
     "data": {
      "text/plain": [
       "<tensorflow.python.keras.callbacks.History at 0x7fd5041bc908>"
      ]
     },
     "execution_count": 17,
     "metadata": {},
     "output_type": "execute_result"
    }
   ],
   "source": [
    "learner.fit_onecycle(1e-3, 25)"
   ]
  },
  {
   "cell_type": "markdown",
   "metadata": {},
   "source": [
    "**Let's evaluate the validation set:**"
   ]
  },
  {
   "cell_type": "code",
   "execution_count": 18,
   "metadata": {},
   "outputs": [
    {
     "name": "stdout",
     "output_type": "stream",
     "text": [
      "              precision    recall  f1-score   support\n",
      "\n",
      "           0       0.92      0.92      0.92        49\n",
      "           1       0.88      0.88      0.88        33\n",
      "\n",
      "    accuracy                           0.90        82\n",
      "   macro avg       0.90      0.90      0.90        82\n",
      "weighted avg       0.90      0.90      0.90        82\n",
      "\n"
     ]
    },
    {
     "data": {
      "text/plain": [
       "array([[45,  4],\n",
       "       [ 4, 29]])"
      ]
     },
     "execution_count": 18,
     "metadata": {},
     "output_type": "execute_result"
    }
   ],
   "source": [
    "learner.evaluate(val, class_names=preproc.get_classes())"
   ]
  },
  {
   "cell_type": "markdown",
   "metadata": {},
   "source": [
    "### Make Predictions\n",
    "\n",
    "The `Predictor` for tabular datasets accepts input as a dataframe in the same format as the original training dataframe. \n",
    "\n",
    "We will use `test_df` that we created earlier."
   ]
  },
  {
   "cell_type": "code",
   "execution_count": 19,
   "metadata": {},
   "outputs": [],
   "source": [
    "p = ktrain.get_predictor(learner.model, preproc)"
   ]
  },
  {
   "cell_type": "code",
   "execution_count": 20,
   "metadata": {},
   "outputs": [],
   "source": [
    "preds = p.predict(test_df, return_proba=True)"
   ]
  },
  {
   "cell_type": "code",
   "execution_count": 21,
   "metadata": {},
   "outputs": [
    {
     "data": {
      "text/plain": [
       "(92, 2)"
      ]
     },
     "execution_count": 21,
     "metadata": {},
     "output_type": "execute_result"
    }
   ],
   "source": [
    "preds.shape"
   ]
  },
  {
   "cell_type": "code",
   "execution_count": 22,
   "metadata": {},
   "outputs": [
    {
     "name": "stdout",
     "output_type": "stream",
     "text": [
      "test accuracy:\n"
     ]
    },
    {
     "data": {
      "text/plain": [
       "0.8695652173913043"
      ]
     },
     "execution_count": 22,
     "metadata": {},
     "output_type": "execute_result"
    }
   ],
   "source": [
    "print('test accuracy:')\n",
    "(np.argmax(preds, axis=1) == test_df['Survived'].values).sum()/test_df.shape[0]"
   ]
  },
  {
   "cell_type": "markdown",
   "metadata": {},
   "source": [
    "**Our final results as a DataFrame:**"
   ]
  },
  {
   "cell_type": "code",
   "execution_count": 23,
   "metadata": {},
   "outputs": [
    {
     "data": {
      "text/html": [
       "<div>\n",
       "<style scoped>\n",
       "    .dataframe tbody tr th:only-of-type {\n",
       "        vertical-align: middle;\n",
       "    }\n",
       "\n",
       "    .dataframe tbody tr th {\n",
       "        vertical-align: top;\n",
       "    }\n",
       "\n",
       "    .dataframe thead th {\n",
       "        text-align: right;\n",
       "    }\n",
       "</style>\n",
       "<table border=\"1\" class=\"dataframe\">\n",
       "  <thead>\n",
       "    <tr style=\"text-align: right;\">\n",
       "      <th></th>\n",
       "      <th>Pclass</th>\n",
       "      <th>Sex</th>\n",
       "      <th>Age</th>\n",
       "      <th>SibSp</th>\n",
       "      <th>Parch</th>\n",
       "      <th>Fare</th>\n",
       "      <th>Cabin</th>\n",
       "      <th>Embarked</th>\n",
       "      <th>Survived</th>\n",
       "      <th>predicted_Survived</th>\n",
       "    </tr>\n",
       "    <tr>\n",
       "      <th>PassengerId</th>\n",
       "      <th></th>\n",
       "      <th></th>\n",
       "      <th></th>\n",
       "      <th></th>\n",
       "      <th></th>\n",
       "      <th></th>\n",
       "      <th></th>\n",
       "      <th></th>\n",
       "      <th></th>\n",
       "      <th></th>\n",
       "    </tr>\n",
       "  </thead>\n",
       "  <tbody>\n",
       "    <tr>\n",
       "      <th>2</th>\n",
       "      <td>1</td>\n",
       "      <td>female</td>\n",
       "      <td>38.0</td>\n",
       "      <td>1</td>\n",
       "      <td>0</td>\n",
       "      <td>71.2833</td>\n",
       "      <td>C85</td>\n",
       "      <td>C</td>\n",
       "      <td>1</td>\n",
       "      <td>1</td>\n",
       "    </tr>\n",
       "    <tr>\n",
       "      <th>12</th>\n",
       "      <td>1</td>\n",
       "      <td>female</td>\n",
       "      <td>58.0</td>\n",
       "      <td>0</td>\n",
       "      <td>0</td>\n",
       "      <td>26.5500</td>\n",
       "      <td>C103</td>\n",
       "      <td>S</td>\n",
       "      <td>1</td>\n",
       "      <td>1</td>\n",
       "    </tr>\n",
       "    <tr>\n",
       "      <th>34</th>\n",
       "      <td>2</td>\n",
       "      <td>male</td>\n",
       "      <td>66.0</td>\n",
       "      <td>0</td>\n",
       "      <td>0</td>\n",
       "      <td>10.5000</td>\n",
       "      <td>NaN</td>\n",
       "      <td>S</td>\n",
       "      <td>0</td>\n",
       "      <td>0</td>\n",
       "    </tr>\n",
       "    <tr>\n",
       "      <th>35</th>\n",
       "      <td>1</td>\n",
       "      <td>male</td>\n",
       "      <td>28.0</td>\n",
       "      <td>1</td>\n",
       "      <td>0</td>\n",
       "      <td>82.1708</td>\n",
       "      <td>NaN</td>\n",
       "      <td>C</td>\n",
       "      <td>0</td>\n",
       "      <td>0</td>\n",
       "    </tr>\n",
       "    <tr>\n",
       "      <th>44</th>\n",
       "      <td>2</td>\n",
       "      <td>female</td>\n",
       "      <td>3.0</td>\n",
       "      <td>1</td>\n",
       "      <td>2</td>\n",
       "      <td>41.5792</td>\n",
       "      <td>NaN</td>\n",
       "      <td>C</td>\n",
       "      <td>1</td>\n",
       "      <td>1</td>\n",
       "    </tr>\n",
       "  </tbody>\n",
       "</table>\n",
       "</div>"
      ],
      "text/plain": [
       "             Pclass     Sex   Age  SibSp  Parch     Fare Cabin Embarked  \\\n",
       "PassengerId                                                               \n",
       "2                 1  female  38.0      1      0  71.2833   C85        C   \n",
       "12                1  female  58.0      0      0  26.5500  C103        S   \n",
       "34                2    male  66.0      0      0  10.5000   NaN        S   \n",
       "35                1    male  28.0      1      0  82.1708   NaN        C   \n",
       "44                2  female   3.0      1      2  41.5792   NaN        C   \n",
       "\n",
       "             Survived  predicted_Survived  \n",
       "PassengerId                                \n",
       "2                   1                   1  \n",
       "12                  1                   1  \n",
       "34                  0                   0  \n",
       "35                  0                   0  \n",
       "44                  1                   1  "
      ]
     },
     "execution_count": 23,
     "metadata": {},
     "output_type": "execute_result"
    }
   ],
   "source": [
    "df = test_df.copy()[[c for c in test_df.columns.values if c != 'Survived']]\n",
    "df['Survived'] = test_df['Survived']\n",
    "df['predicted_Survived'] = np.argmax(preds, axis=1)\n",
    "df.head()"
   ]
  },
  {
   "cell_type": "markdown",
   "metadata": {},
   "source": [
    "## Part II:  Regression for Tabular Data\n",
    "\n",
    "We will briefly demonstrate tabular regression in *ktrain* by simply predicting the `age` attribute in the Census dataset available from te UCI Machine Learning repository.  This is the same example used in the [AutoGluon regression example](https://autogluon.mxnet.io/tutorials/tabular_prediction/tabular-quickstart.html#regression-predicting-numeric-table-columns). Let's begin by downloading the dataset from the AutoGluon website."
   ]
  },
  {
   "cell_type": "code",
   "execution_count": 24,
   "metadata": {},
   "outputs": [
    {
     "name": "stdout",
     "output_type": "stream",
     "text": [
      "/tmp/train.csv\r\n"
     ]
    }
   ],
   "source": [
    "import urllib.request\n",
    "urllib.request.urlretrieve('https://autogluon.s3.amazonaws.com/datasets/Inc/train.csv', \n",
    "                           '/tmp/train.csv')\n",
    "!ls /tmp/train.csv"
   ]
  },
  {
   "cell_type": "markdown",
   "metadata": {},
   "source": [
    "### STEP 1: Load and Preprocess Data\n",
    "\n",
    "Make sure you specify `is_regression=True` here as we are predicting a numerical dependent variable (i.e., `age`)."
   ]
  },
  {
   "cell_type": "code",
   "execution_count": 25,
   "metadata": {},
   "outputs": [
    {
     "name": "stdout",
     "output_type": "stream",
     "text": [
      "processing train: 35179 rows x 15 columns\n",
      "processing test: 3894 rows x 15 columns\n"
     ]
    },
    {
     "name": "stderr",
     "output_type": "stream",
     "text": [
      "/home/amaiya/projects/ghub/ktrain/ktrain/utils.py:556: UserWarning: Task is being treated as REGRESSION because either class_names argument was not supplied or is_regression=True. If this is incorrect, change accordingly.\n",
      "  'If this is incorrect, change accordingly.')\n"
     ]
    }
   ],
   "source": [
    "trn, val, preproc = tabular.tabular_from_csv('/tmp/train.csv', label_columns='age', \n",
    "                                             is_regression=True, random_state=42)"
   ]
  },
  {
   "cell_type": "code",
   "execution_count": 26,
   "metadata": {},
   "outputs": [
    {
     "data": {
      "text/html": [
       "<div>\n",
       "<style scoped>\n",
       "    .dataframe tbody tr th:only-of-type {\n",
       "        vertical-align: middle;\n",
       "    }\n",
       "\n",
       "    .dataframe tbody tr th {\n",
       "        vertical-align: top;\n",
       "    }\n",
       "\n",
       "    .dataframe thead th {\n",
       "        text-align: right;\n",
       "    }\n",
       "</style>\n",
       "<table border=\"1\" class=\"dataframe\">\n",
       "  <thead>\n",
       "    <tr style=\"text-align: right;\">\n",
       "      <th></th>\n",
       "      <th>age</th>\n",
       "      <th>workclass</th>\n",
       "      <th>fnlwgt</th>\n",
       "      <th>education</th>\n",
       "      <th>education-num</th>\n",
       "      <th>marital-status</th>\n",
       "      <th>occupation</th>\n",
       "      <th>relationship</th>\n",
       "      <th>race</th>\n",
       "      <th>sex</th>\n",
       "      <th>capital-gain</th>\n",
       "      <th>capital-loss</th>\n",
       "      <th>hours-per-week</th>\n",
       "      <th>native-country</th>\n",
       "      <th>class</th>\n",
       "    </tr>\n",
       "  </thead>\n",
       "  <tbody>\n",
       "    <tr>\n",
       "      <th>0</th>\n",
       "      <td>25</td>\n",
       "      <td>Private</td>\n",
       "      <td>-0.109104</td>\n",
       "      <td>Bachelors</td>\n",
       "      <td>13</td>\n",
       "      <td>Never-married</td>\n",
       "      <td>Tech-support</td>\n",
       "      <td>Own-child</td>\n",
       "      <td>White</td>\n",
       "      <td>Female</td>\n",
       "      <td>-0.145538</td>\n",
       "      <td>-0.2177</td>\n",
       "      <td>-0.033776</td>\n",
       "      <td>United-States</td>\n",
       "      <td>&lt;=50K</td>\n",
       "    </tr>\n",
       "    <tr>\n",
       "      <th>2</th>\n",
       "      <td>46</td>\n",
       "      <td>Private</td>\n",
       "      <td>1.774059</td>\n",
       "      <td>HS-grad</td>\n",
       "      <td>9</td>\n",
       "      <td>Never-married</td>\n",
       "      <td>Other-service</td>\n",
       "      <td>Not-in-family</td>\n",
       "      <td>White</td>\n",
       "      <td>Male</td>\n",
       "      <td>-0.145538</td>\n",
       "      <td>-0.2177</td>\n",
       "      <td>-2.056852</td>\n",
       "      <td>United-States</td>\n",
       "      <td>&lt;=50K</td>\n",
       "    </tr>\n",
       "    <tr>\n",
       "      <th>3</th>\n",
       "      <td>55</td>\n",
       "      <td>?</td>\n",
       "      <td>0.097500</td>\n",
       "      <td>HS-grad</td>\n",
       "      <td>9</td>\n",
       "      <td>Married-civ-spouse</td>\n",
       "      <td>?</td>\n",
       "      <td>Husband</td>\n",
       "      <td>White</td>\n",
       "      <td>Male</td>\n",
       "      <td>-0.145538</td>\n",
       "      <td>-0.2177</td>\n",
       "      <td>0.775455</td>\n",
       "      <td>United-States</td>\n",
       "      <td>&gt;50K</td>\n",
       "    </tr>\n",
       "    <tr>\n",
       "      <th>4</th>\n",
       "      <td>36</td>\n",
       "      <td>Private</td>\n",
       "      <td>0.328310</td>\n",
       "      <td>7th-8th</td>\n",
       "      <td>4</td>\n",
       "      <td>Married-civ-spouse</td>\n",
       "      <td>Handlers-cleaners</td>\n",
       "      <td>Husband</td>\n",
       "      <td>White</td>\n",
       "      <td>Male</td>\n",
       "      <td>-0.145538</td>\n",
       "      <td>-0.2177</td>\n",
       "      <td>-0.033776</td>\n",
       "      <td>El-Salvador</td>\n",
       "      <td>&lt;=50K</td>\n",
       "    </tr>\n",
       "    <tr>\n",
       "      <th>5</th>\n",
       "      <td>51</td>\n",
       "      <td>Private</td>\n",
       "      <td>-0.113131</td>\n",
       "      <td>Some-college</td>\n",
       "      <td>10</td>\n",
       "      <td>Married-civ-spouse</td>\n",
       "      <td>Sales</td>\n",
       "      <td>Husband</td>\n",
       "      <td>White</td>\n",
       "      <td>Male</td>\n",
       "      <td>-0.145538</td>\n",
       "      <td>-0.2177</td>\n",
       "      <td>-0.033776</td>\n",
       "      <td>?</td>\n",
       "      <td>&gt;50K</td>\n",
       "    </tr>\n",
       "  </tbody>\n",
       "</table>\n",
       "</div>"
      ],
      "text/plain": [
       "   age workclass    fnlwgt     education education-num      marital-status  \\\n",
       "0   25   Private -0.109104     Bachelors            13       Never-married   \n",
       "2   46   Private  1.774059       HS-grad             9       Never-married   \n",
       "3   55         ?  0.097500       HS-grad             9  Married-civ-spouse   \n",
       "4   36   Private  0.328310       7th-8th             4  Married-civ-spouse   \n",
       "5   51   Private -0.113131  Some-college            10  Married-civ-spouse   \n",
       "\n",
       "          occupation   relationship   race     sex  capital-gain  \\\n",
       "0       Tech-support      Own-child  White  Female     -0.145538   \n",
       "2      Other-service  Not-in-family  White    Male     -0.145538   \n",
       "3                  ?        Husband  White    Male     -0.145538   \n",
       "4  Handlers-cleaners        Husband  White    Male     -0.145538   \n",
       "5              Sales        Husband  White    Male     -0.145538   \n",
       "\n",
       "   capital-loss  hours-per-week native-country  class  \n",
       "0       -0.2177       -0.033776  United-States  <=50K  \n",
       "2       -0.2177       -2.056852  United-States  <=50K  \n",
       "3       -0.2177        0.775455  United-States   >50K  \n",
       "4       -0.2177       -0.033776    El-Salvador  <=50K  \n",
       "5       -0.2177       -0.033776              ?   >50K  "
      ]
     },
     "execution_count": 26,
     "metadata": {},
     "output_type": "execute_result"
    }
   ],
   "source": [
    "trn.df.head()"
   ]
  },
  {
   "cell_type": "markdown",
   "metadata": {},
   "source": [
    "### STEP 2: Create a Model and Wrap in `Learner`\n",
    "\n",
    "We'll use `tabular_regression_model` to create a regression model."
   ]
  },
  {
   "cell_type": "code",
   "execution_count": 27,
   "metadata": {},
   "outputs": [
    {
     "name": "stdout",
     "output_type": "stream",
     "text": [
      "mlp: a configurable multilayer perceptron with categorical variable embeddings [https://arxiv.org/abs/1604.06737]\n"
     ]
    }
   ],
   "source": [
    "tabular.print_tabular_regression_models()"
   ]
  },
  {
   "cell_type": "code",
   "execution_count": 28,
   "metadata": {},
   "outputs": [
    {
     "name": "stdout",
     "output_type": "stream",
     "text": [
      "done.\n"
     ]
    }
   ],
   "source": [
    "model = tabular.tabular_regression_model('mlp', trn)\n",
    "learner = ktrain.get_learner(model, train_data=trn, val_data=val, batch_size=128)"
   ]
  },
  {
   "cell_type": "markdown",
   "metadata": {},
   "source": [
    "### STEP 3: Estimate Learning Rate"
   ]
  },
  {
   "cell_type": "code",
   "execution_count": 29,
   "metadata": {},
   "outputs": [
    {
     "name": "stdout",
     "output_type": "stream",
     "text": [
      "simulating training for different learning rates... this may take a few moments...\n",
      "Train for 274 steps\n",
      "Epoch 1/1024\n",
      "274/274 [==============================] - 9s 32ms/step - loss: 1683.8932 - mae: 38.6461\n",
      "Epoch 2/1024\n",
      "274/274 [==============================] - 7s 27ms/step - loss: 1673.6573 - mae: 38.6446\n",
      "Epoch 3/1024\n",
      "274/274 [==============================] - 7s 27ms/step - loss: 1604.0490 - mae: 38.2918\n",
      "Epoch 4/1024\n",
      "274/274 [==============================] - 7s 26ms/step - loss: 759.9920 - mae: 22.9526\n",
      "Epoch 5/1024\n",
      "274/274 [==============================] - 7s 27ms/step - loss: 126.4740 - mae: 8.8014\n",
      "Epoch 6/1024\n",
      "198/274 [====================>.........] - ETA: 2s - loss: 760.0591 - mae: 12.2500\n",
      "\n",
      "done.\n",
      "Visually inspect loss plot and select learning rate associated with falling loss\n"
     ]
    },
    {
     "data": {
      "image/png": "[encoded data removed]",
      "text/plain": [
       "<Figure size 432x288 with 1 Axes>"
      ]
     },
     "metadata": {
      "needs_background": "light"
     },
     "output_type": "display_data"
    }
   ],
   "source": [
    "learner.lr_find(show_plot=True)"
   ]
  },
  {
   "cell_type": "markdown",
   "metadata": {},
   "source": [
    "### STEP 4: Train the Model\n",
    "\n",
    "According to our final validation MAE (see below), our age predictions are only off about **7 years**."
   ]
  },
  {
   "cell_type": "code",
   "execution_count": 30,
   "metadata": {},
   "outputs": [
    {
     "name": "stdout",
     "output_type": "stream",
     "text": [
      "early_stopping automatically enabled at patience=5\n",
      "reduce_on_plateau automatically enabled at patience=2\n",
      "\n",
      "\n",
      "begin training using triangular learning rate policy with max lr of 0.001...\n",
      "Train for 275 steps, validate for 122 steps\n",
      "Epoch 1/1024\n",
      "275/275 [==============================] - 11s 42ms/step - loss: 1293.7250 - mae: 33.8908 - val_loss: 897.2503 - val_mae: 27.1031\n",
      "Epoch 2/1024\n",
      "275/275 [==============================] - 10s 36ms/step - loss: 394.8948 - mae: 16.1140 - val_loss: 128.9424 - val_mae: 8.4111\n",
      "Epoch 3/1024\n",
      "275/275 [==============================] - 10s 36ms/step - loss: 142.0880 - mae: 9.2413 - val_loss: 96.5908 - val_mae: 7.5250\n",
      "Epoch 4/1024\n",
      "275/275 [==============================] - 10s 36ms/step - loss: 135.1780 - mae: 9.0799 - val_loss: 96.1771 - val_mae: 7.4563\n",
      "Epoch 5/1024\n",
      "275/275 [==============================] - 10s 36ms/step - loss: 129.1142 - mae: 8.8719 - val_loss: 94.2387 - val_mae: 7.4512\n",
      "Epoch 6/1024\n",
      "275/275 [==============================] - 10s 36ms/step - loss: 127.7476 - mae: 8.8427 - val_loss: 95.7780 - val_mae: 7.5425\n",
      "Epoch 7/1024\n",
      "272/275 [============================>.] - ETA: 0s - loss: 125.4781 - mae: 8.7258\n",
      "Epoch 00007: Reducing Max LR on Plateau: new max lr will be 0.0005 (if not early_stopping).\n",
      "275/275 [==============================] - 10s 36ms/step - loss: 125.6591 - mae: 8.7325 - val_loss: 94.2556 - val_mae: 7.4246\n",
      "Epoch 8/1024\n",
      "275/275 [==============================] - 10s 36ms/step - loss: 121.1760 - mae: 8.5958 - val_loss: 93.9576 - val_mae: 7.3873\n",
      "Epoch 9/1024\n",
      "275/275 [==============================] - 10s 36ms/step - loss: 120.9540 - mae: 8.5740 - val_loss: 94.1234 - val_mae: 7.3869\n",
      "Epoch 10/1024\n",
      "272/275 [============================>.] - ETA: 0s - loss: 119.7388 - mae: 8.5333\n",
      "Epoch 00010: Reducing Max LR on Plateau: new max lr will be 0.00025 (if not early_stopping).\n",
      "275/275 [==============================] - 10s 36ms/step - loss: 119.5538 - mae: 8.5277 - val_loss: 94.2602 - val_mae: 7.4102\n",
      "Epoch 11/1024\n",
      "275/275 [==============================] - 10s 36ms/step - loss: 118.0579 - mae: 8.4855 - val_loss: 94.0092 - val_mae: 7.4230\n",
      "Epoch 12/1024\n",
      "271/275 [============================>.] - ETA: 0s - loss: 118.0056 - mae: 8.4662\n",
      "Epoch 00012: Reducing Max LR on Plateau: new max lr will be 0.000125 (if not early_stopping).\n",
      "275/275 [==============================] - 10s 37ms/step - loss: 117.9429 - mae: 8.4639 - val_loss: 94.0450 - val_mae: 7.3827\n",
      "Epoch 13/1024\n",
      "275/275 [==============================] - 10s 36ms/step - loss: 115.5844 - mae: 8.3512 - val_loss: 93.2891 - val_mae: 7.4203\n",
      "Epoch 14/1024\n",
      "275/275 [==============================] - 10s 36ms/step - loss: 115.0900 - mae: 8.3671 - val_loss: 93.0800 - val_mae: 7.3777\n",
      "Epoch 15/1024\n",
      "275/275 [==============================] - 10s 36ms/step - loss: 115.1422 - mae: 8.3618 - val_loss: 93.3405 - val_mae: 7.3966\n",
      "Epoch 16/1024\n",
      "274/275 [============================>.] - ETA: 0s - loss: 114.3229 - mae: 8.3293\n",
      "Epoch 00016: Reducing Max LR on Plateau: new max lr will be 6.25e-05 (if not early_stopping).\n",
      "275/275 [==============================] - 10s 35ms/step - loss: 114.4119 - mae: 8.3314 - val_loss: 93.1793 - val_mae: 7.4055\n",
      "Epoch 17/1024\n",
      "275/275 [==============================] - 10s 36ms/step - loss: 113.4956 - mae: 8.3148 - val_loss: 93.2792 - val_mae: 7.4081\n",
      "Epoch 18/1024\n",
      "271/275 [============================>.] - ETA: 0s - loss: 114.3881 - mae: 8.3368\n",
      "Epoch 00018: Reducing Max LR on Plateau: new max lr will be 3.125e-05 (if not early_stopping).\n",
      "275/275 [==============================] - 10s 36ms/step - loss: 114.3959 - mae: 8.3359 - val_loss: 93.3014 - val_mae: 7.3951\n",
      "Epoch 19/1024\n",
      "271/275 [============================>.] - ETA: 0s - loss: 113.1559 - mae: 8.2903Restoring model weights from the end of the best epoch.\n",
      "275/275 [==============================] - 10s 36ms/step - loss: 113.0567 - mae: 8.2878 - val_loss: 93.1214 - val_mae: 7.3986\n",
      "Epoch 00019: early stopping\n",
      "Weights from best epoch have been loaded into model.\n"
     ]
    },
    {
     "data": {
      "text/plain": [
       "<tensorflow.python.keras.callbacks.History at 0x7fd4f4022da0>"
      ]
     },
     "execution_count": 30,
     "metadata": {},
     "output_type": "execute_result"
    }
   ],
   "source": [
    "learner.autofit(1e-3)"
   ]
  },
  {
   "cell_type": "code",
   "execution_count": null,
   "metadata": {},
   "outputs": [],
   "source": []
  }
 ],
 "metadata": {
  "kernelspec": {
   "display_name": "Python 3",
   "language": "python",
   "name": "python3"
  },
  "language_info": {
   "codemirror_mode": {
    "name": "ipython",
    "version": 3
   },
   "file_extension": ".py",
   "mimetype": "text/x-python",
   "name": "python",
   "nbconvert_exporter": "python",
   "pygments_lexer": "ipython3",
   "version": "3.6.9"
  }
 },
 "nbformat": 4,
 "nbformat_minor": 2
}
