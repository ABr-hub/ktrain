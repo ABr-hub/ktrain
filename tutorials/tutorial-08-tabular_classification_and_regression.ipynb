{
 "cells": [
  {
   "cell_type": "code",
   "execution_count": 1,
   "metadata": {},
   "outputs": [],
   "source": [
    "%reload_ext autoreload\n",
    "%autoreload 2\n",
    "%matplotlib inline\n",
    "import os\n",
    "os.environ[\"CUDA_DEVICE_ORDER\"]=\"PCI_BUS_ID\";\n",
    "os.environ[\"CUDA_VISIBLE_DEVICES\"]=\"0\""
   ]
  },
  {
   "cell_type": "code",
   "execution_count": 2,
   "metadata": {},
   "outputs": [],
   "source": [
    "import ktrain\n",
    "from ktrain import tabular\n",
    "import pandas as pd\n",
    "pd.set_option('display.max_columns', None)"
   ]
  },
  {
   "cell_type": "markdown",
   "metadata": {},
   "source": [
    "# Classification and Regression on Tabular Data in `ktrain`\n",
    "\n",
    "As of v0.19.x, *ktrain* supports classification and regression on \"traditional\" tabular datasets.\n",
    "\n",
    "Let's begin with a demonstration of tabular classfication using the well-studied Titatnic dataset from Kaggle.\n",
    "\n",
    "## Part I:  Classification for Tabular Data\n",
    "\n"
   ]
  },
  {
   "cell_type": "markdown",
   "metadata": {},
   "source": [
    "### Solving the Titanic Kaggle Challenge in `ktrain`\n",
    "\n",
    "This notebook demonstrates using *ktrain* for predicting which passengers survived the Titatnic shipwreck.\n",
    "\n",
    "The dataset can be [downloaded from Kaggle here](https://www.kaggle.com/c/titanic/overview). There is a `train.csv` with labels (i.e., `Survived`) and a `test.csv` with no labels.  We will only use `train.csv` in this notebook.\n",
    "\n",
    "Let's begin by loading the data as a pandas DataFrame and inspecting it."
   ]
  },
  {
   "cell_type": "code",
   "execution_count": 3,
   "metadata": {},
   "outputs": [],
   "source": [
    "train_df = pd.read_csv('data/titanic/train.csv', index_col=0)"
   ]
  },
  {
   "cell_type": "code",
   "execution_count": 4,
   "metadata": {},
   "outputs": [
    {
     "data": {
      "text/html": [
       "<div>\n",
       "<style scoped>\n",
       "    .dataframe tbody tr th:only-of-type {\n",
       "        vertical-align: middle;\n",
       "    }\n",
       "\n",
       "    .dataframe tbody tr th {\n",
       "        vertical-align: top;\n",
       "    }\n",
       "\n",
       "    .dataframe thead th {\n",
       "        text-align: right;\n",
       "    }\n",
       "</style>\n",
       "<table border=\"1\" class=\"dataframe\">\n",
       "  <thead>\n",
       "    <tr style=\"text-align: right;\">\n",
       "      <th></th>\n",
       "      <th>Survived</th>\n",
       "      <th>Pclass</th>\n",
       "      <th>Name</th>\n",
       "      <th>Sex</th>\n",
       "      <th>Age</th>\n",
       "      <th>SibSp</th>\n",
       "      <th>Parch</th>\n",
       "      <th>Ticket</th>\n",
       "      <th>Fare</th>\n",
       "      <th>Cabin</th>\n",
       "      <th>Embarked</th>\n",
       "    </tr>\n",
       "    <tr>\n",
       "      <th>PassengerId</th>\n",
       "      <th></th>\n",
       "      <th></th>\n",
       "      <th></th>\n",
       "      <th></th>\n",
       "      <th></th>\n",
       "      <th></th>\n",
       "      <th></th>\n",
       "      <th></th>\n",
       "      <th></th>\n",
       "      <th></th>\n",
       "      <th></th>\n",
       "    </tr>\n",
       "  </thead>\n",
       "  <tbody>\n",
       "    <tr>\n",
       "      <th>1</th>\n",
       "      <td>0</td>\n",
       "      <td>3</td>\n",
       "      <td>Braund, Mr. Owen Harris</td>\n",
       "      <td>male</td>\n",
       "      <td>22.0</td>\n",
       "      <td>1</td>\n",
       "      <td>0</td>\n",
       "      <td>A/5 21171</td>\n",
       "      <td>7.2500</td>\n",
       "      <td>NaN</td>\n",
       "      <td>S</td>\n",
       "    </tr>\n",
       "    <tr>\n",
       "      <th>2</th>\n",
       "      <td>1</td>\n",
       "      <td>1</td>\n",
       "      <td>Cumings, Mrs. John Bradley (Florence Briggs Th...</td>\n",
       "      <td>female</td>\n",
       "      <td>38.0</td>\n",
       "      <td>1</td>\n",
       "      <td>0</td>\n",
       "      <td>PC 17599</td>\n",
       "      <td>71.2833</td>\n",
       "      <td>C85</td>\n",
       "      <td>C</td>\n",
       "    </tr>\n",
       "    <tr>\n",
       "      <th>3</th>\n",
       "      <td>1</td>\n",
       "      <td>3</td>\n",
       "      <td>Heikkinen, Miss. Laina</td>\n",
       "      <td>female</td>\n",
       "      <td>26.0</td>\n",
       "      <td>0</td>\n",
       "      <td>0</td>\n",
       "      <td>STON/O2. 3101282</td>\n",
       "      <td>7.9250</td>\n",
       "      <td>NaN</td>\n",
       "      <td>S</td>\n",
       "    </tr>\n",
       "    <tr>\n",
       "      <th>4</th>\n",
       "      <td>1</td>\n",
       "      <td>1</td>\n",
       "      <td>Futrelle, Mrs. Jacques Heath (Lily May Peel)</td>\n",
       "      <td>female</td>\n",
       "      <td>35.0</td>\n",
       "      <td>1</td>\n",
       "      <td>0</td>\n",
       "      <td>113803</td>\n",
       "      <td>53.1000</td>\n",
       "      <td>C123</td>\n",
       "      <td>S</td>\n",
       "    </tr>\n",
       "    <tr>\n",
       "      <th>5</th>\n",
       "      <td>0</td>\n",
       "      <td>3</td>\n",
       "      <td>Allen, Mr. William Henry</td>\n",
       "      <td>male</td>\n",
       "      <td>35.0</td>\n",
       "      <td>0</td>\n",
       "      <td>0</td>\n",
       "      <td>373450</td>\n",
       "      <td>8.0500</td>\n",
       "      <td>NaN</td>\n",
       "      <td>S</td>\n",
       "    </tr>\n",
       "  </tbody>\n",
       "</table>\n",
       "</div>"
      ],
      "text/plain": [
       "             Survived  Pclass  \\\n",
       "PassengerId                     \n",
       "1                   0       3   \n",
       "2                   1       1   \n",
       "3                   1       3   \n",
       "4                   1       1   \n",
       "5                   0       3   \n",
       "\n",
       "                                                          Name     Sex   Age  \\\n",
       "PassengerId                                                                    \n",
       "1                                      Braund, Mr. Owen Harris    male  22.0   \n",
       "2            Cumings, Mrs. John Bradley (Florence Briggs Th...  female  38.0   \n",
       "3                                       Heikkinen, Miss. Laina  female  26.0   \n",
       "4                 Futrelle, Mrs. Jacques Heath (Lily May Peel)  female  35.0   \n",
       "5                                     Allen, Mr. William Henry    male  35.0   \n",
       "\n",
       "             SibSp  Parch            Ticket     Fare Cabin Embarked  \n",
       "PassengerId                                                          \n",
       "1                1      0         A/5 21171   7.2500   NaN        S  \n",
       "2                1      0          PC 17599  71.2833   C85        C  \n",
       "3                0      0  STON/O2. 3101282   7.9250   NaN        S  \n",
       "4                1      0            113803  53.1000  C123        S  \n",
       "5                0      0            373450   8.0500   NaN        S  "
      ]
     },
     "execution_count": 4,
     "metadata": {},
     "output_type": "execute_result"
    }
   ],
   "source": [
    "train_df.head()"
   ]
  },
  {
   "cell_type": "markdown",
   "metadata": {},
   "source": [
    "We'll drop the `Name` and `Ticket` columns, as they seem like they'll be less predictive."
   ]
  },
  {
   "cell_type": "code",
   "execution_count": 5,
   "metadata": {},
   "outputs": [],
   "source": [
    "train_df = train_df.drop('Name', 1)\n",
    "train_df = train_df.drop('Ticket', 1)"
   ]
  },
  {
   "cell_type": "markdown",
   "metadata": {},
   "source": [
    "*ktrain* will automatically split out a validation set if given only a training set.  But, let's also manually split out a test set that we can evaluate later."
   ]
  },
  {
   "cell_type": "code",
   "execution_count": 6,
   "metadata": {},
   "outputs": [],
   "source": [
    "import numpy as np\n",
    "np.random.seed(42)\n",
    "p = 0.1 # 10% for test set\n",
    "prop = 1-p\n",
    "df = train_df.copy()\n",
    "msk = np.random.rand(len(df)) < prop\n",
    "train_df = df[msk]\n",
    "test_df = df[~msk]"
   ]
  },
  {
   "cell_type": "code",
   "execution_count": 7,
   "metadata": {},
   "outputs": [
    {
     "data": {
      "text/plain": [
       "(799, 9)"
      ]
     },
     "execution_count": 7,
     "metadata": {},
     "output_type": "execute_result"
    }
   ],
   "source": [
    "train_df.shape"
   ]
  },
  {
   "cell_type": "code",
   "execution_count": 8,
   "metadata": {},
   "outputs": [
    {
     "data": {
      "text/plain": [
       "(92, 9)"
      ]
     },
     "execution_count": 8,
     "metadata": {},
     "output_type": "execute_result"
    }
   ],
   "source": [
    "test_df.shape"
   ]
  },
  {
   "cell_type": "markdown",
   "metadata": {},
   "source": [
    "### STEP 1: Load and Preprocess the Data"
   ]
  },
  {
   "cell_type": "code",
   "execution_count": 9,
   "metadata": {},
   "outputs": [
    {
     "name": "stdout",
     "output_type": "stream",
     "text": [
      "processing train: 717 rows x 9 columns\n",
      "processing test: 82 rows x 9 columns\n"
     ]
    }
   ],
   "source": [
    "trn, val, preproc = tabular.tabular_from_df(train_df, label_columns=['Survived'], random_state=42)"
   ]
  },
  {
   "cell_type": "markdown",
   "metadata": {},
   "source": [
    "*ktrain* automatically preprocesses the dataset appropriately.  Numerical columns are automatically normalized, missing values are handled, and categorical variables will be vectorized as [entity embeddings](https://arxiv.org/abs/1604.06737) for input to a neural network. The processed DataFrame is shown below (categorical variables will be vectorized on-the-fly, so they appear in their original form)."
   ]
  },
  {
   "cell_type": "markdown",
   "metadata": {},
   "source": [
    "### STEP 2: Create a Model and Wrap in `Learner`\n",
    "\n",
    "*ktrain* uses multilayer perceptrons as the model for tabular datasets. The model can be configured with arguments to `tabular_classifier` (e.g., number and size of hidden layers, dropout values, etc.), but we will leave the defaults here."
   ]
  },
  {
   "cell_type": "code",
   "execution_count": 10,
   "metadata": {},
   "outputs": [
    {
     "name": "stdout",
     "output_type": "stream",
     "text": [
      "mlp: a configurable multilayer perceptron with categorical variable embeddings [https://arxiv.org/abs/1604.06737]\n"
     ]
    }
   ],
   "source": [
    "tabular.print_tabular_classifiers()"
   ]
  },
  {
   "cell_type": "code",
   "execution_count": 11,
   "metadata": {},
   "outputs": [
    {
     "name": "stdout",
     "output_type": "stream",
     "text": [
      "Is Multi-Label? False\n",
      "done.\n"
     ]
    }
   ],
   "source": [
    "model = tabular.tabular_classifier('mlp', trn)"
   ]
  },
  {
   "cell_type": "code",
   "execution_count": 12,
   "metadata": {},
   "outputs": [],
   "source": [
    "learner = ktrain.get_learner(model, train_data=trn, val_data=val, batch_size=32)"
   ]
  },
  {
   "cell_type": "markdown",
   "metadata": {},
   "source": [
    "### STEP 3: Estimate the Learning Rate\n",
    "\n",
    "Based on the plot, we will choose a learning rate of `1e-3`."
   ]
  },
  {
   "cell_type": "code",
   "execution_count": 13,
   "metadata": {},
   "outputs": [
    {
     "name": "stdout",
     "output_type": "stream",
     "text": [
      "simulating training for different learning rates... this may take a few moments...\n",
      "Train for 22 steps\n",
      "Epoch 1/5\n",
      "22/22 [==============================] - 2s 80ms/step - loss: 1.4483 - accuracy: 0.4774\n",
      "Epoch 2/5\n",
      "22/22 [==============================] - 1s 24ms/step - loss: 1.1908 - accuracy: 0.5197\n",
      "Epoch 3/5\n",
      "22/22 [==============================] - 0s 23ms/step - loss: 1.0554 - accuracy: 0.6715\n",
      "Epoch 4/5\n",
      "22/22 [==============================] - 0s 22ms/step - loss: 1.6074 - accuracy: 0.6745\n",
      "Epoch 5/5\n",
      "11/22 [==============>...............] - ETA: 0s - loss: 11.7596 - accuracy: 0.5909\n",
      "\n",
      "done.\n",
      "Visually inspect loss plot and select learning rate associated with falling loss\n"
     ]
    },
    {
     "data": {
      "image/png": "[encoded data removed]",
      "text/plain": [
       "<Figure size 432x288 with 1 Axes>"
      ]
     },
     "metadata": {
      "needs_background": "light"
     },
     "output_type": "display_data"
    }
   ],
   "source": [
    "learner.lr_find(show_plot=True, max_epochs=5)"
   ]
  },
  {
   "cell_type": "markdown",
   "metadata": {},
   "source": [
    "### STEP 4: Train the Model"
   ]
  },
  {
   "cell_type": "code",
   "execution_count": 14,
   "metadata": {},
   "outputs": [
    {
     "name": "stdout",
     "output_type": "stream",
     "text": [
      "\n",
      "\n",
      "begin training using onecycle policy with max lr of 0.001...\n",
      "Train for 23 steps, validate for 3 steps\n",
      "Epoch 1/25\n",
      "23/23 [==============================] - 2s 87ms/step - loss: 1.0818 - accuracy: 0.6374 - val_loss: 0.7067 - val_accuracy: 0.4024\n",
      "Epoch 2/25\n",
      "23/23 [==============================] - 1s 28ms/step - loss: 0.8492 - accuracy: 0.7071 - val_loss: 0.7449 - val_accuracy: 0.4024\n",
      "Epoch 3/25\n",
      "23/23 [==============================] - 1s 27ms/step - loss: 0.7736 - accuracy: 0.7238 - val_loss: 0.7407 - val_accuracy: 0.4024\n",
      "Epoch 4/25\n",
      "23/23 [==============================] - 1s 28ms/step - loss: 0.7302 - accuracy: 0.7197 - val_loss: 0.7539 - val_accuracy: 0.4024\n",
      "Epoch 5/25\n",
      "23/23 [==============================] - 1s 28ms/step - loss: 0.7934 - accuracy: 0.7294 - val_loss: 0.7617 - val_accuracy: 0.4024\n",
      "Epoch 6/25\n",
      "23/23 [==============================] - 1s 27ms/step - loss: 0.6660 - accuracy: 0.7448 - val_loss: 0.8289 - val_accuracy: 0.4024\n",
      "Epoch 7/25\n",
      "23/23 [==============================] - 1s 30ms/step - loss: 0.6569 - accuracy: 0.7503 - val_loss: 0.8591 - val_accuracy: 0.4024\n",
      "Epoch 8/25\n",
      "23/23 [==============================] - 1s 27ms/step - loss: 0.5651 - accuracy: 0.7880 - val_loss: 0.8475 - val_accuracy: 0.4024\n",
      "Epoch 9/25\n",
      "23/23 [==============================] - 1s 27ms/step - loss: 0.6394 - accuracy: 0.7782 - val_loss: 0.6978 - val_accuracy: 0.4024\n",
      "Epoch 10/25\n",
      "23/23 [==============================] - 1s 27ms/step - loss: 0.5444 - accuracy: 0.7880 - val_loss: 0.6401 - val_accuracy: 0.6098\n",
      "Epoch 11/25\n",
      "23/23 [==============================] - 1s 28ms/step - loss: 0.5297 - accuracy: 0.8075 - val_loss: 0.6494 - val_accuracy: 0.4024\n",
      "Epoch 12/25\n",
      "23/23 [==============================] - 1s 27ms/step - loss: 0.5466 - accuracy: 0.7866 - val_loss: 0.6950 - val_accuracy: 0.4024\n",
      "Epoch 13/25\n",
      "23/23 [==============================] - 1s 26ms/step - loss: 0.4772 - accuracy: 0.8089 - val_loss: 0.5651 - val_accuracy: 0.8049\n",
      "Epoch 14/25\n",
      "23/23 [==============================] - 1s 27ms/step - loss: 0.4725 - accuracy: 0.8047 - val_loss: 0.5093 - val_accuracy: 0.8049\n",
      "Epoch 15/25\n",
      "23/23 [==============================] - 1s 27ms/step - loss: 0.3993 - accuracy: 0.8396 - val_loss: 0.5347 - val_accuracy: 0.8049\n",
      "Epoch 16/25\n",
      "23/23 [==============================] - 1s 27ms/step - loss: 0.3941 - accuracy: 0.8215 - val_loss: 0.5391 - val_accuracy: 0.8293\n",
      "Epoch 17/25\n",
      "23/23 [==============================] - 1s 27ms/step - loss: 0.4450 - accuracy: 0.8173 - val_loss: 0.4955 - val_accuracy: 0.8293\n",
      "Epoch 18/25\n",
      "23/23 [==============================] - 1s 28ms/step - loss: 0.3741 - accuracy: 0.8410 - val_loss: 0.5053 - val_accuracy: 0.8415\n",
      "Epoch 19/25\n",
      "23/23 [==============================] - 1s 28ms/step - loss: 0.4060 - accuracy: 0.8285 - val_loss: 0.4727 - val_accuracy: 0.8537\n",
      "Epoch 20/25\n",
      "23/23 [==============================] - 1s 27ms/step - loss: 0.3499 - accuracy: 0.8522 - val_loss: 0.4413 - val_accuracy: 0.8659\n",
      "Epoch 21/25\n",
      "23/23 [==============================] - 1s 28ms/step - loss: 0.3313 - accuracy: 0.8452 - val_loss: 0.4619 - val_accuracy: 0.8780\n",
      "Epoch 22/25\n",
      "23/23 [==============================] - 1s 27ms/step - loss: 0.3487 - accuracy: 0.8633 - val_loss: 0.4336 - val_accuracy: 0.8780\n",
      "Epoch 23/25\n",
      "23/23 [==============================] - 1s 27ms/step - loss: 0.3413 - accuracy: 0.8522 - val_loss: 0.4318 - val_accuracy: 0.8780\n",
      "Epoch 24/25\n",
      "23/23 [==============================] - 1s 28ms/step - loss: 0.3193 - accuracy: 0.8703 - val_loss: 0.4320 - val_accuracy: 0.8780\n",
      "Epoch 25/25\n",
      "23/23 [==============================] - 1s 27ms/step - loss: 0.3375 - accuracy: 0.8563 - val_loss: 0.4298 - val_accuracy: 0.8659\n"
     ]
    },
    {
     "data": {
      "text/plain": [
       "<tensorflow.python.keras.callbacks.History at 0x7fc3a058e5f8>"
      ]
     },
     "execution_count": 14,
     "metadata": {},
     "output_type": "execute_result"
    }
   ],
   "source": [
    "learner.fit_onecycle(1e-3, 25)"
   ]
  },
  {
   "cell_type": "markdown",
   "metadata": {},
   "source": [
    "Since we don't appear to be overfitting yet, we could try to train further.  But, we will stop here.\n",
    "\n",
    "\n",
    "**Let's evaluate the validation set:**"
   ]
  },
  {
   "cell_type": "code",
   "execution_count": 15,
   "metadata": {},
   "outputs": [
    {
     "name": "stdout",
     "output_type": "stream",
     "text": [
      "              precision    recall  f1-score   support\n",
      "\n",
      "not_Survived       0.85      0.94      0.89        49\n",
      "    Survived       0.89      0.76      0.82        33\n",
      "\n",
      "    accuracy                           0.87        82\n",
      "   macro avg       0.87      0.85      0.86        82\n",
      "weighted avg       0.87      0.87      0.86        82\n",
      "\n"
     ]
    },
    {
     "data": {
      "text/plain": [
       "array([[46,  3],\n",
       "       [ 8, 25]])"
      ]
     },
     "execution_count": 15,
     "metadata": {},
     "output_type": "execute_result"
    }
   ],
   "source": [
    "learner.evaluate(val, class_names=preproc.get_classes())"
   ]
  },
  {
   "cell_type": "markdown",
   "metadata": {},
   "source": [
    "### Make Predictions\n",
    "\n",
    "The `Predictor` for tabular datasets accepts input as a dataframe in the same format as the original training dataframe. \n",
    "\n",
    "We will use `test_df` that we created earlier."
   ]
  },
  {
   "cell_type": "code",
   "execution_count": 16,
   "metadata": {},
   "outputs": [],
   "source": [
    "p = ktrain.get_predictor(learner.model, preproc)"
   ]
  },
  {
   "cell_type": "code",
   "execution_count": 17,
   "metadata": {},
   "outputs": [],
   "source": [
    "preds = p.predict(test_df, return_proba=True)"
   ]
  },
  {
   "cell_type": "code",
   "execution_count": 18,
   "metadata": {},
   "outputs": [
    {
     "data": {
      "text/plain": [
       "(92, 2)"
      ]
     },
     "execution_count": 18,
     "metadata": {},
     "output_type": "execute_result"
    }
   ],
   "source": [
    "preds.shape"
   ]
  },
  {
   "cell_type": "code",
   "execution_count": 19,
   "metadata": {},
   "outputs": [
    {
     "name": "stdout",
     "output_type": "stream",
     "text": [
      "test accuracy:\n"
     ]
    },
    {
     "data": {
      "text/plain": [
       "0.9021739130434783"
      ]
     },
     "execution_count": 19,
     "metadata": {},
     "output_type": "execute_result"
    }
   ],
   "source": [
    "print('test accuracy:')\n",
    "(np.argmax(preds, axis=1) == test_df['Survived'].values).sum()/test_df.shape[0]"
   ]
  },
  {
   "cell_type": "markdown",
   "metadata": {},
   "source": [
    "**Our final results as a DataFrame:**"
   ]
  },
  {
   "cell_type": "code",
   "execution_count": 20,
   "metadata": {},
   "outputs": [
    {
     "data": {
      "text/html": [
       "<div>\n",
       "<style scoped>\n",
       "    .dataframe tbody tr th:only-of-type {\n",
       "        vertical-align: middle;\n",
       "    }\n",
       "\n",
       "    .dataframe tbody tr th {\n",
       "        vertical-align: top;\n",
       "    }\n",
       "\n",
       "    .dataframe thead th {\n",
       "        text-align: right;\n",
       "    }\n",
       "</style>\n",
       "<table border=\"1\" class=\"dataframe\">\n",
       "  <thead>\n",
       "    <tr style=\"text-align: right;\">\n",
       "      <th></th>\n",
       "      <th>Pclass</th>\n",
       "      <th>Sex</th>\n",
       "      <th>Age</th>\n",
       "      <th>SibSp</th>\n",
       "      <th>Parch</th>\n",
       "      <th>Fare</th>\n",
       "      <th>Cabin</th>\n",
       "      <th>Embarked</th>\n",
       "      <th>Survived</th>\n",
       "      <th>predicted_Survived</th>\n",
       "    </tr>\n",
       "    <tr>\n",
       "      <th>PassengerId</th>\n",
       "      <th></th>\n",
       "      <th></th>\n",
       "      <th></th>\n",
       "      <th></th>\n",
       "      <th></th>\n",
       "      <th></th>\n",
       "      <th></th>\n",
       "      <th></th>\n",
       "      <th></th>\n",
       "      <th></th>\n",
       "    </tr>\n",
       "  </thead>\n",
       "  <tbody>\n",
       "    <tr>\n",
       "      <th>2</th>\n",
       "      <td>1</td>\n",
       "      <td>female</td>\n",
       "      <td>38.0</td>\n",
       "      <td>1</td>\n",
       "      <td>0</td>\n",
       "      <td>71.2833</td>\n",
       "      <td>C85</td>\n",
       "      <td>C</td>\n",
       "      <td>1</td>\n",
       "      <td>1</td>\n",
       "    </tr>\n",
       "    <tr>\n",
       "      <th>12</th>\n",
       "      <td>1</td>\n",
       "      <td>female</td>\n",
       "      <td>58.0</td>\n",
       "      <td>0</td>\n",
       "      <td>0</td>\n",
       "      <td>26.5500</td>\n",
       "      <td>C103</td>\n",
       "      <td>S</td>\n",
       "      <td>1</td>\n",
       "      <td>1</td>\n",
       "    </tr>\n",
       "    <tr>\n",
       "      <th>34</th>\n",
       "      <td>2</td>\n",
       "      <td>male</td>\n",
       "      <td>66.0</td>\n",
       "      <td>0</td>\n",
       "      <td>0</td>\n",
       "      <td>10.5000</td>\n",
       "      <td>NaN</td>\n",
       "      <td>S</td>\n",
       "      <td>0</td>\n",
       "      <td>0</td>\n",
       "    </tr>\n",
       "    <tr>\n",
       "      <th>35</th>\n",
       "      <td>1</td>\n",
       "      <td>male</td>\n",
       "      <td>28.0</td>\n",
       "      <td>1</td>\n",
       "      <td>0</td>\n",
       "      <td>82.1708</td>\n",
       "      <td>NaN</td>\n",
       "      <td>C</td>\n",
       "      <td>0</td>\n",
       "      <td>0</td>\n",
       "    </tr>\n",
       "    <tr>\n",
       "      <th>44</th>\n",
       "      <td>2</td>\n",
       "      <td>female</td>\n",
       "      <td>3.0</td>\n",
       "      <td>1</td>\n",
       "      <td>2</td>\n",
       "      <td>41.5792</td>\n",
       "      <td>NaN</td>\n",
       "      <td>C</td>\n",
       "      <td>1</td>\n",
       "      <td>1</td>\n",
       "    </tr>\n",
       "  </tbody>\n",
       "</table>\n",
       "</div>"
      ],
      "text/plain": [
       "             Pclass     Sex   Age  SibSp  Parch     Fare Cabin Embarked  \\\n",
       "PassengerId                                                               \n",
       "2                 1  female  38.0      1      0  71.2833   C85        C   \n",
       "12                1  female  58.0      0      0  26.5500  C103        S   \n",
       "34                2    male  66.0      0      0  10.5000   NaN        S   \n",
       "35                1    male  28.0      1      0  82.1708   NaN        C   \n",
       "44                2  female   3.0      1      2  41.5792   NaN        C   \n",
       "\n",
       "             Survived  predicted_Survived  \n",
       "PassengerId                                \n",
       "2                   1                   1  \n",
       "12                  1                   1  \n",
       "34                  0                   0  \n",
       "35                  0                   0  \n",
       "44                  1                   1  "
      ]
     },
     "execution_count": 20,
     "metadata": {},
     "output_type": "execute_result"
    }
   ],
   "source": [
    "df = test_df.copy()[[c for c in test_df.columns.values if c != 'Survived']]\n",
    "df['Survived'] = test_df['Survived']\n",
    "df['predicted_Survived'] = np.argmax(preds, axis=1)\n",
    "df.head()"
   ]
  },
  {
   "cell_type": "markdown",
   "metadata": {},
   "source": [
    "### Explaining Predictions\n",
    "\n",
    "We can use the `explain` method to better understand **why** a prediction was made for a particular example.  In the cell above, we see that our model predicted **Not Survived** for the fourth row ( `PassengerID=35`).\n",
    "\n",
    "Let's better understand why.\n",
    "\n",
    "The `explain` method accepts a at minimum the the following three inputs:\n",
    "1. **df**: a pandas DataFrame in the same format is the original training DataFrame\n",
    "2. **row_index**: the index of the example (here, we choose PassengerID=35)\n",
    "3. **class_id**: the id of the class of interest (we choose the **Survived** class in this case)\n",
    "\n",
    "One can also replace the `row_index=35` with `row_num=3`, as both denote the fourth row."
   ]
  },
  {
   "cell_type": "code",
   "execution_count": 21,
   "metadata": {},
   "outputs": [
    {
     "name": "stdout",
     "output_type": "stream",
     "text": [
      "Explanation for class = Survived (PassengerId=35): \n"
     ]
    },
    {
     "data": {
      "image/png": "[encoded data removed]",
      "text/plain": [
       "<Figure size 1440x216 with 1 Axes>"
      ]
     },
     "metadata": {
      "needs_background": "light"
     },
     "output_type": "display_data"
    }
   ],
   "source": [
    "p.explain(test_df, row_index=35, class_id=1)"
   ]
  },
  {
   "cell_type": "markdown",
   "metadata": {},
   "source": [
    "The plot above is generated using the [shap](https://github.com/slundberg/shap) library.  The features in red case are causing our model to increase are prediction for the **Survived** class, while features in blue (not shown here) cause our model to *decrease* the prediction for **Survived** (i.e., increase the prediction for **Not_Survived**.  \n",
    "\n",
    "From the plot, we see that the predicted softmax probability for `Survived` is **48%**, which is only slightly leaning towards the **Not Survived** class (i.e., **52%** probability of death). Why does this example tend towards the borderline?\n",
    "\n",
    "We see that`Sex=male` is one of the most influential feature that is pushing the prediction towards **Not_Survived**, as it was women and children given priority when allocating lifeboats on the Titanic. \n",
    "\n",
    "On the other hand, we also see that the higher-than-average `Fare` price of *82.17* is also an infuential feature for this example and is pushing the prediction higher towards the **Survived** class. In the cell below, you'll see that the average `Fare` price is only *32*.  This, along with `Pclass=1` suggests that this is an upper-class, wealthier passenger and, therefore, more likely to make it onto a lifeboat and survive.  \n",
    "\n",
    "**Thus, there are two opposing forces at play working against each other in this prediction,** which explains why the prediction probability is comparatively nearer to the border than other examples.\n",
    "\n",
    "**NOTE:** Since this is a border-line example, the results may be slightly different when you run this notebook yourself, even when setting random seeds."
   ]
  },
  {
   "cell_type": "code",
   "execution_count": 22,
   "metadata": {},
   "outputs": [
    {
     "data": {
      "text/plain": [
       "32.23080325406759"
      ]
     },
     "execution_count": 22,
     "metadata": {},
     "output_type": "execute_result"
    }
   ],
   "source": [
    "train_df['Fare'].mean()"
   ]
  },
  {
   "cell_type": "code",
   "execution_count": 23,
   "metadata": {},
   "outputs": [
    {
     "data": {
      "text/html": [
       "['not_Survived', 'Survived']"
      ],
      "text/plain": [
       "['not_Survived', 'Survived']"
      ]
     },
     "execution_count": 23,
     "metadata": {},
     "output_type": "execute_result"
    }
   ],
   "source": [
    "preproc.get_classes()"
   ]
  },
  {
   "cell_type": "markdown",
   "metadata": {},
   "source": [
    "Let us now look at the examples for which we were the most wrong (highest loss)."
   ]
  },
  {
   "cell_type": "code",
   "execution_count": 40,
   "metadata": {},
   "outputs": [
    {
     "name": "stdout",
     "output_type": "stream",
     "text": [
      "processing test: 92 rows x 8 columns\n",
      "----------\n",
      "id:81 | loss:6.28 | true:not_Survived | pred:Survived)\n",
      "\n",
      "----------\n",
      "id:6 | loss:4.87 | true:not_Survived | pred:Survived)\n",
      "\n",
      "----------\n",
      "id:57 | loss:4.73 | true:not_Survived | pred:Survived)\n",
      "\n"
     ]
    }
   ],
   "source": [
    "learner.view_top_losses(val_data=preproc.preprocess_test(test_df), preproc=preproc, n=3)"
   ]
  },
  {
   "cell_type": "markdown",
   "metadata": {},
   "source": [
    "The example with the highest loss is `row_num=81` and the second highest loss goes to example with `row_num=6`. Why did we get these so wrong?  Let's examine `row_num=6`:"
   ]
  },
  {
   "cell_type": "code",
   "execution_count": 43,
   "metadata": {},
   "outputs": [
    {
     "name": "stdout",
     "output_type": "stream",
     "text": [
      "Explanation for class = Survived (row_num=6): \n"
     ]
    },
    {
     "data": {
      "image/png": "[encoded data removed]",
      "text/plain": [
       "<Figure size 1440x216 with 1 Axes>"
      ]
     },
     "metadata": {
      "needs_background": "light"
     },
     "output_type": "display_data"
    }
   ],
   "source": [
    "p.explain(test_df, row_num=6, class_id=1)"
   ]
  },
  {
   "cell_type": "markdown",
   "metadata": {},
   "source": [
    "This was a `female` 1st class passenger (`Pclass=1`) who paid a higher-than-average `Fare` price, which suggests that she was wealthier.  Such a passenger, in theory, had a higher chance of survival than most based on the data and what we know.  In our model, these features push the prediction of **Survival** very high.  Yet, she did not survive, which explains the high loss."
   ]
  },
  {
   "cell_type": "markdown",
   "metadata": {},
   "source": [
    "### Saving and Reloading the Tabular Predictor\n",
    "\n",
    "It is easy to save and reload the predictor for deployment scenarios."
   ]
  },
  {
   "cell_type": "code",
   "execution_count": 24,
   "metadata": {},
   "outputs": [],
   "source": [
    "p.save('/tmp/titanic_predictor')"
   ]
  },
  {
   "cell_type": "code",
   "execution_count": 27,
   "metadata": {},
   "outputs": [],
   "source": [
    "reloaded_predictor = ktrain.load_predictor('/tmp/titanic_predictor/')"
   ]
  },
  {
   "cell_type": "code",
   "execution_count": 29,
   "metadata": {},
   "outputs": [
    {
     "data": {
      "text/html": [
       "['Survived', 'Survived', 'not_Survived', 'not_Survived', 'Survived']"
      ],
      "text/plain": [
       "['Survived', 'Survived', 'not_Survived', 'not_Survived', 'Survived']"
      ]
     },
     "execution_count": 29,
     "metadata": {},
     "output_type": "execute_result"
    }
   ],
   "source": [
    "reloaded_predictor.predict(test_df)[:5]"
   ]
  },
  {
   "cell_type": "code",
   "execution_count": 30,
   "metadata": {},
   "outputs": [
    {
     "name": "stdout",
     "output_type": "stream",
     "text": [
      "test accuracy:\n"
     ]
    },
    {
     "data": {
      "text/plain": [
       "0.9021739130434783"
      ]
     },
     "execution_count": 30,
     "metadata": {},
     "output_type": "execute_result"
    }
   ],
   "source": [
    "print('test accuracy:')\n",
    "preds = reloaded_predictor.predict(test_df, return_proba=True)\n",
    "(np.argmax(preds, axis=1) == test_df['Survived'].values).sum()/test_df.shape[0]"
   ]
  },
  {
   "cell_type": "markdown",
   "metadata": {},
   "source": [
    "## Part II:  Regression for Tabular Data\n",
    "\n",
    "We will briefly demonstrate tabular regression in *ktrain* by simply predicting the `age` attribute in the Census dataset available from te UCI Machine Learning repository.  This is the same example used in the [AutoGluon regression example](https://autogluon.mxnet.io/tutorials/tabular_prediction/tabular-quickstart.html#regression-predicting-numeric-table-columns). Let's begin by downloading the dataset from the AutoGluon website."
   ]
  },
  {
   "cell_type": "code",
   "execution_count": 25,
   "metadata": {},
   "outputs": [
    {
     "name": "stdout",
     "output_type": "stream",
     "text": [
      "/tmp/train.csv\r\n"
     ]
    }
   ],
   "source": [
    "import urllib.request\n",
    "urllib.request.urlretrieve('https://autogluon.s3.amazonaws.com/datasets/Inc/train.csv', \n",
    "                           '/tmp/train.csv')\n",
    "!ls /tmp/train.csv"
   ]
  },
  {
   "cell_type": "markdown",
   "metadata": {},
   "source": [
    "### STEP 1: Load and Preprocess Data\n",
    "\n",
    "Make sure you specify `is_regression=True` here as we are predicting a numerical dependent variable (i.e., `age`)."
   ]
  },
  {
   "cell_type": "code",
   "execution_count": 26,
   "metadata": {},
   "outputs": [
    {
     "name": "stdout",
     "output_type": "stream",
     "text": [
      "processing train: 35179 rows x 15 columns\n",
      "processing test: 3894 rows x 15 columns\n"
     ]
    },
    {
     "name": "stderr",
     "output_type": "stream",
     "text": [
      "Task is being treated as REGRESSION because either class_names argument was not supplied or is_regression=True. If this is incorrect, change accordingly.\n"
     ]
    }
   ],
   "source": [
    "trn, val, preproc = tabular.tabular_from_csv('/tmp/train.csv', label_columns='age', \n",
    "                                             is_regression=True, random_state=42)"
   ]
  },
  {
   "cell_type": "code",
   "execution_count": 27,
   "metadata": {},
   "outputs": [
    {
     "data": {
      "text/html": [
       "<div>\n",
       "<style scoped>\n",
       "    .dataframe tbody tr th:only-of-type {\n",
       "        vertical-align: middle;\n",
       "    }\n",
       "\n",
       "    .dataframe tbody tr th {\n",
       "        vertical-align: top;\n",
       "    }\n",
       "\n",
       "    .dataframe thead th {\n",
       "        text-align: right;\n",
       "    }\n",
       "</style>\n",
       "<table border=\"1\" class=\"dataframe\">\n",
       "  <thead>\n",
       "    <tr style=\"text-align: right;\">\n",
       "      <th></th>\n",
       "      <th>age</th>\n",
       "      <th>workclass</th>\n",
       "      <th>fnlwgt</th>\n",
       "      <th>education</th>\n",
       "      <th>education-num</th>\n",
       "      <th>marital-status</th>\n",
       "      <th>occupation</th>\n",
       "      <th>relationship</th>\n",
       "      <th>race</th>\n",
       "      <th>sex</th>\n",
       "      <th>capital-gain</th>\n",
       "      <th>capital-loss</th>\n",
       "      <th>hours-per-week</th>\n",
       "      <th>native-country</th>\n",
       "      <th>class</th>\n",
       "    </tr>\n",
       "  </thead>\n",
       "  <tbody>\n",
       "    <tr>\n",
       "      <th>0</th>\n",
       "      <td>25</td>\n",
       "      <td>Private</td>\n",
       "      <td>-0.109104</td>\n",
       "      <td>Bachelors</td>\n",
       "      <td>13</td>\n",
       "      <td>Never-married</td>\n",
       "      <td>Tech-support</td>\n",
       "      <td>Own-child</td>\n",
       "      <td>White</td>\n",
       "      <td>Female</td>\n",
       "      <td>-0.145538</td>\n",
       "      <td>-0.2177</td>\n",
       "      <td>-0.033776</td>\n",
       "      <td>United-States</td>\n",
       "      <td>&lt;=50K</td>\n",
       "    </tr>\n",
       "    <tr>\n",
       "      <th>2</th>\n",
       "      <td>46</td>\n",
       "      <td>Private</td>\n",
       "      <td>1.774059</td>\n",
       "      <td>HS-grad</td>\n",
       "      <td>9</td>\n",
       "      <td>Never-married</td>\n",
       "      <td>Other-service</td>\n",
       "      <td>Not-in-family</td>\n",
       "      <td>White</td>\n",
       "      <td>Male</td>\n",
       "      <td>-0.145538</td>\n",
       "      <td>-0.2177</td>\n",
       "      <td>-2.056852</td>\n",
       "      <td>United-States</td>\n",
       "      <td>&lt;=50K</td>\n",
       "    </tr>\n",
       "    <tr>\n",
       "      <th>3</th>\n",
       "      <td>55</td>\n",
       "      <td>?</td>\n",
       "      <td>0.097500</td>\n",
       "      <td>HS-grad</td>\n",
       "      <td>9</td>\n",
       "      <td>Married-civ-spouse</td>\n",
       "      <td>?</td>\n",
       "      <td>Husband</td>\n",
       "      <td>White</td>\n",
       "      <td>Male</td>\n",
       "      <td>-0.145538</td>\n",
       "      <td>-0.2177</td>\n",
       "      <td>0.775455</td>\n",
       "      <td>United-States</td>\n",
       "      <td>&gt;50K</td>\n",
       "    </tr>\n",
       "    <tr>\n",
       "      <th>4</th>\n",
       "      <td>36</td>\n",
       "      <td>Private</td>\n",
       "      <td>0.328310</td>\n",
       "      <td>7th-8th</td>\n",
       "      <td>4</td>\n",
       "      <td>Married-civ-spouse</td>\n",
       "      <td>Handlers-cleaners</td>\n",
       "      <td>Husband</td>\n",
       "      <td>White</td>\n",
       "      <td>Male</td>\n",
       "      <td>-0.145538</td>\n",
       "      <td>-0.2177</td>\n",
       "      <td>-0.033776</td>\n",
       "      <td>El-Salvador</td>\n",
       "      <td>&lt;=50K</td>\n",
       "    </tr>\n",
       "    <tr>\n",
       "      <th>5</th>\n",
       "      <td>51</td>\n",
       "      <td>Private</td>\n",
       "      <td>-0.113131</td>\n",
       "      <td>Some-college</td>\n",
       "      <td>10</td>\n",
       "      <td>Married-civ-spouse</td>\n",
       "      <td>Sales</td>\n",
       "      <td>Husband</td>\n",
       "      <td>White</td>\n",
       "      <td>Male</td>\n",
       "      <td>-0.145538</td>\n",
       "      <td>-0.2177</td>\n",
       "      <td>-0.033776</td>\n",
       "      <td>?</td>\n",
       "      <td>&gt;50K</td>\n",
       "    </tr>\n",
       "  </tbody>\n",
       "</table>\n",
       "</div>"
      ],
      "text/plain": [
       "   age workclass    fnlwgt     education education-num      marital-status  \\\n",
       "0   25   Private -0.109104     Bachelors            13       Never-married   \n",
       "2   46   Private  1.774059       HS-grad             9       Never-married   \n",
       "3   55         ?  0.097500       HS-grad             9  Married-civ-spouse   \n",
       "4   36   Private  0.328310       7th-8th             4  Married-civ-spouse   \n",
       "5   51   Private -0.113131  Some-college            10  Married-civ-spouse   \n",
       "\n",
       "          occupation   relationship   race     sex  capital-gain  \\\n",
       "0       Tech-support      Own-child  White  Female     -0.145538   \n",
       "2      Other-service  Not-in-family  White    Male     -0.145538   \n",
       "3                  ?        Husband  White    Male     -0.145538   \n",
       "4  Handlers-cleaners        Husband  White    Male     -0.145538   \n",
       "5              Sales        Husband  White    Male     -0.145538   \n",
       "\n",
       "   capital-loss  hours-per-week native-country  class  \n",
       "0       -0.2177       -0.033776  United-States  <=50K  \n",
       "2       -0.2177       -2.056852  United-States  <=50K  \n",
       "3       -0.2177        0.775455  United-States   >50K  \n",
       "4       -0.2177       -0.033776    El-Salvador  <=50K  \n",
       "5       -0.2177       -0.033776              ?   >50K  "
      ]
     },
     "execution_count": 27,
     "metadata": {},
     "output_type": "execute_result"
    }
   ],
   "source": [
    "trn.df.head()"
   ]
  },
  {
   "cell_type": "markdown",
   "metadata": {},
   "source": [
    "### STEP 2: Create a Model and Wrap in `Learner`\n",
    "\n",
    "We'll use `tabular_regression_model` to create a regression model."
   ]
  },
  {
   "cell_type": "code",
   "execution_count": 28,
   "metadata": {},
   "outputs": [
    {
     "name": "stdout",
     "output_type": "stream",
     "text": [
      "mlp: a configurable multilayer perceptron with categorical variable embeddings [https://arxiv.org/abs/1604.06737]\n"
     ]
    }
   ],
   "source": [
    "tabular.print_tabular_regression_models()"
   ]
  },
  {
   "cell_type": "code",
   "execution_count": 29,
   "metadata": {},
   "outputs": [
    {
     "name": "stdout",
     "output_type": "stream",
     "text": [
      "done.\n"
     ]
    }
   ],
   "source": [
    "model = tabular.tabular_regression_model('mlp', trn)\n",
    "learner = ktrain.get_learner(model, train_data=trn, val_data=val, batch_size=128)"
   ]
  },
  {
   "cell_type": "markdown",
   "metadata": {},
   "source": [
    "### STEP 3: Estimate Learning Rate"
   ]
  },
  {
   "cell_type": "code",
   "execution_count": 30,
   "metadata": {},
   "outputs": [
    {
     "name": "stdout",
     "output_type": "stream",
     "text": [
      "simulating training for different learning rates... this may take a few moments...\n",
      "Train for 274 steps\n",
      "Epoch 1/1024\n",
      "274/274 [==============================] - 9s 33ms/step - loss: 1682.4340 - mae: 38.6514\n",
      "Epoch 2/1024\n",
      "274/274 [==============================] - 7s 27ms/step - loss: 1671.7494 - mae: 38.6317\n",
      "Epoch 3/1024\n",
      "274/274 [==============================] - 7s 27ms/step - loss: 1605.4962 - mae: 38.3011\n",
      "Epoch 4/1024\n",
      "274/274 [==============================] - 7s 27ms/step - loss: 760.4911 - mae: 22.9555\n",
      "Epoch 5/1024\n",
      "274/274 [==============================] - 7s 27ms/step - loss: 126.6934 - mae: 8.7668\n",
      "Epoch 6/1024\n",
      "186/274 [===================>..........] - ETA: 2s - loss: 290.3348 - mae: 11.0659\n",
      "\n",
      "done.\n",
      "Visually inspect loss plot and select learning rate associated with falling loss\n"
     ]
    },
    {
     "data": {
      "image/png": "[encoded data removed]",
      "text/plain": [
       "<Figure size 432x288 with 1 Axes>"
      ]
     },
     "metadata": {
      "needs_background": "light"
     },
     "output_type": "display_data"
    }
   ],
   "source": [
    "learner.lr_find(show_plot=True)"
   ]
  },
  {
   "cell_type": "markdown",
   "metadata": {},
   "source": [
    "### STEP 4: Train the Model\n",
    "\n",
    "According to our final validation MAE (see below), our age predictions are only off about **7 years**."
   ]
  },
  {
   "cell_type": "code",
   "execution_count": 31,
   "metadata": {},
   "outputs": [
    {
     "name": "stdout",
     "output_type": "stream",
     "text": [
      "early_stopping automatically enabled at patience=5\n",
      "reduce_on_plateau automatically enabled at patience=2\n",
      "\n",
      "\n",
      "begin training using triangular learning rate policy with max lr of 0.001...\n",
      "Train for 275 steps, validate for 122 steps\n",
      "Epoch 1/1024\n",
      "275/275 [==============================] - 11s 41ms/step - loss: 1293.6739 - mae: 33.8847 - val_loss: 876.7074 - val_mae: 26.7255\n",
      "Epoch 2/1024\n",
      "275/275 [==============================] - 10s 35ms/step - loss: 398.1946 - mae: 16.2079 - val_loss: 135.6621 - val_mae: 8.7371\n",
      "Epoch 3/1024\n",
      "275/275 [==============================] - 10s 36ms/step - loss: 143.2306 - mae: 9.3001 - val_loss: 97.7831 - val_mae: 7.5451\n",
      "Epoch 4/1024\n",
      "275/275 [==============================] - 10s 36ms/step - loss: 136.1244 - mae: 9.1208 - val_loss: 96.5710 - val_mae: 7.5546\n",
      "Epoch 5/1024\n",
      "275/275 [==============================] - 10s 35ms/step - loss: 130.9696 - mae: 8.9694 - val_loss: 96.6272 - val_mae: 7.4648\n",
      "Epoch 6/1024\n",
      "275/275 [==============================] - 10s 36ms/step - loss: 127.1072 - mae: 8.7991 - val_loss: 95.9013 - val_mae: 7.4968\n",
      "Epoch 7/1024\n",
      "275/275 [==============================] - 10s 35ms/step - loss: 125.5320 - mae: 8.7382 - val_loss: 95.4244 - val_mae: 7.4894\n",
      "Epoch 8/1024\n",
      "275/275 [==============================] - 10s 36ms/step - loss: 122.3158 - mae: 8.6327 - val_loss: 93.6687 - val_mae: 7.4094\n",
      "Epoch 9/1024\n",
      "275/275 [==============================] - 10s 36ms/step - loss: 120.9097 - mae: 8.5649 - val_loss: 94.6829 - val_mae: 7.4098\n",
      "Epoch 10/1024\n",
      "270/275 [============================>.] - ETA: 0s - loss: 118.1836 - mae: 8.4727\n",
      "Epoch 00010: Reducing Max LR on Plateau: new max lr will be 0.0005 (if not early_stopping).\n",
      "275/275 [==============================] - 10s 36ms/step - loss: 118.1829 - mae: 8.4701 - val_loss: 95.0737 - val_mae: 7.4728\n",
      "Epoch 11/1024\n",
      "275/275 [==============================] - 10s 35ms/step - loss: 116.0464 - mae: 8.3998 - val_loss: 94.5366 - val_mae: 7.4822\n",
      "Epoch 12/1024\n",
      "273/275 [============================>.] - ETA: 0s - loss: 115.5906 - mae: 8.3878\n",
      "Epoch 00012: Reducing Max LR on Plateau: new max lr will be 0.00025 (if not early_stopping).\n",
      "275/275 [==============================] - 10s 36ms/step - loss: 115.5894 - mae: 8.3857 - val_loss: 93.6959 - val_mae: 7.4205\n",
      "Epoch 13/1024\n",
      "275/275 [==============================] - 10s 35ms/step - loss: 113.3097 - mae: 8.2705 - val_loss: 93.6620 - val_mae: 7.4591\n",
      "Epoch 14/1024\n",
      "275/275 [==============================] - 10s 35ms/step - loss: 113.0680 - mae: 8.2634 - val_loss: 93.4187 - val_mae: 7.3956\n",
      "Epoch 15/1024\n",
      "275/275 [==============================] - 10s 35ms/step - loss: 114.1273 - mae: 8.3299 - val_loss: 93.6074 - val_mae: 7.4120\n",
      "Epoch 16/1024\n",
      "275/275 [==============================] - 10s 36ms/step - loss: 111.9926 - mae: 8.2244 - val_loss: 93.0011 - val_mae: 7.3992\n",
      "Epoch 17/1024\n",
      "275/275 [==============================] - 10s 36ms/step - loss: 111.4590 - mae: 8.2234 - val_loss: 93.1146 - val_mae: 7.3660\n",
      "Epoch 18/1024\n",
      "271/275 [============================>.] - ETA: 0s - loss: 111.0648 - mae: 8.1877\n",
      "Epoch 00018: Reducing Max LR on Plateau: new max lr will be 0.000125 (if not early_stopping).\n",
      "275/275 [==============================] - 10s 35ms/step - loss: 111.2421 - mae: 8.1932 - val_loss: 93.4769 - val_mae: 7.3892\n",
      "Epoch 19/1024\n",
      "275/275 [==============================] - 10s 35ms/step - loss: 110.2930 - mae: 8.1592 - val_loss: 93.1629 - val_mae: 7.3975\n",
      "Epoch 20/1024\n",
      "271/275 [============================>.] - ETA: 0s - loss: 109.9038 - mae: 8.1469\n",
      "Epoch 00020: Reducing Max LR on Plateau: new max lr will be 6.25e-05 (if not early_stopping).\n",
      "275/275 [==============================] - 10s 36ms/step - loss: 109.7645 - mae: 8.1419 - val_loss: 93.0777 - val_mae: 7.3918\n",
      "Epoch 21/1024\n",
      "270/275 [============================>.] - ETA: 0s - loss: 110.7711 - mae: 8.2133Restoring model weights from the end of the best epoch.\n",
      "275/275 [==============================] - 10s 35ms/step - loss: 110.6538 - mae: 8.2083 - val_loss: 93.2264 - val_mae: 7.4051\n",
      "Epoch 00021: early stopping\n",
      "Weights from best epoch have been loaded into model.\n"
     ]
    },
    {
     "data": {
      "text/plain": [
       "<tensorflow.python.keras.callbacks.History at 0x7f8008086be0>"
      ]
     },
     "execution_count": 31,
     "metadata": {},
     "output_type": "execute_result"
    }
   ],
   "source": [
    "learner.autofit(1e-3)"
   ]
  },
  {
   "cell_type": "code",
   "execution_count": null,
   "metadata": {},
   "outputs": [],
   "source": []
  }
 ],
 "metadata": {
  "kernelspec": {
   "display_name": "Python 3",
   "language": "python",
   "name": "python3"
  },
  "language_info": {
   "codemirror_mode": {
    "name": "ipython",
    "version": 3
   },
   "file_extension": ".py",
   "mimetype": "text/x-python",
   "name": "python",
   "nbconvert_exporter": "python",
   "pygments_lexer": "ipython3",
   "version": "3.6.9"
  }
 },
 "nbformat": 4,
 "nbformat_minor": 2
}
