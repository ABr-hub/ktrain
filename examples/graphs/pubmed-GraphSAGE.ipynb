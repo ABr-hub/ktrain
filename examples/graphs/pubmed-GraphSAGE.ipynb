{
 "cells": [
  {
   "cell_type": "code",
   "execution_count": 1,
   "metadata": {},
   "outputs": [],
   "source": [
    "%reload_ext autoreload\n",
    "%autoreload 2\n",
    "%matplotlib inline\n",
    "import os\n",
    "os.environ[\"CUDA_DEVICE_ORDER\"]=\"PCI_BUS_ID\";\n",
    "os.environ[\"CUDA_VISIBLE_DEVICES\"]=\"0\" "
   ]
  },
  {
   "cell_type": "code",
   "execution_count": 2,
   "metadata": {},
   "outputs": [
    {
     "name": "stderr",
     "output_type": "stream",
     "text": [
      "Using TensorFlow backend.\n"
     ]
    },
    {
     "name": "stdout",
     "output_type": "stream",
     "text": [
      "using Keras version: 2.2.4\n"
     ]
    }
   ],
   "source": [
    "import ktrain\n",
    "from ktrain import graph as gr"
   ]
  },
  {
   "cell_type": "markdown",
   "metadata": {},
   "source": [
    "# Node Classification in Graphs\n",
    "\n",
    "\n",
    "In this notebook, we will use *ktrain* to perform node classificaiton on the PubMed Diabetes citation graph.  In the PubMed graph, each node represents a paper pertaining to one of three topics:  *Diabetes Mellitus - Experimental*, *Diabetes Mellitus - Type 1*, and *Diabetes Mellitus - Type 2*.  Links represent citations between papers.  The attributes or features assigned to each node is a vector of words in each paper and their corresponding TF-IDF scores."
   ]
  },
  {
   "cell_type": "markdown",
   "metadata": {},
   "source": [
    "### STEP 1: Load and Preprocess Data"
   ]
  },
  {
   "cell_type": "code",
   "execution_count": 3,
   "metadata": {},
   "outputs": [
    {
     "name": "stdout",
     "output_type": "stream",
     "text": [
      "Largest subgraph statistics: 19717 nodes, 44327 edges\n",
      "Size of training graph: 15774 nodes\n",
      "Labeled nodes in training graph: 788 (training)\n",
      "Unlabeled nodes in training graph: 14986 (validation)\n",
      "\n",
      "3943 additional nodes held out for testing\n",
      "Size of graph with added holdout nodes: 19717\n"
     ]
    }
   ],
   "source": [
    "DATADIR = 'data/pubmed/Pubmed-Diabetes/data'\n",
    "(train_data, val_data, preproc, \n",
    " df_holdout, G_complete)        = gr.graph_nodes_from_csv(DATADIR+'/pubmed-nodes.tab',\n",
    "                                           DATADIR+'/pubmed-edges.tab',\n",
    "                                           sample_size=10, holdout_pct=0.2,\n",
    "                                           train_pct=0.05, sep='\\t')"
   ]
  },
  {
   "cell_type": "markdown",
   "metadata": {},
   "source": [
    "### STEP 2: Build a Model and Wrap in Learner Object"
   ]
  },
  {
   "cell_type": "code",
   "execution_count": 4,
   "metadata": {},
   "outputs": [
    {
     "name": "stdout",
     "output_type": "stream",
     "text": [
      "graphsage: GraphSAGE:  http://arxiv.org/pdf/1607.01759.pdf\n"
     ]
    }
   ],
   "source": [
    "gr.print_node_classifiers()"
   ]
  },
  {
   "cell_type": "code",
   "execution_count": 5,
   "metadata": {},
   "outputs": [
    {
     "name": "stdout",
     "output_type": "stream",
     "text": [
      "Is Multi-Label? False\n",
      "done\n"
     ]
    }
   ],
   "source": [
    "learner = ktrain.get_learner(model=gr.graph_node_classifier('graphsage', train_data), \n",
    "                             train_data=train_data, \n",
    "                             val_data=val_data, \n",
    "                             batch_size=64)"
   ]
  },
  {
   "cell_type": "markdown",
   "metadata": {},
   "source": [
    "### STEP 3:  Estimate LR \n",
    "Given the small number of batches per epoch, a larger number of epochs is required to estimate the learning rate. We will cap it at 100 here."
   ]
  },
  {
   "cell_type": "code",
   "execution_count": 6,
   "metadata": {},
   "outputs": [
    {
     "name": "stdout",
     "output_type": "stream",
     "text": [
      "simulating training for different learning rates... this may take a few moments...\n",
      "Epoch 1/100\n",
      "12/12 [==============================] - 1s 86ms/step - loss: 1.1014 - acc: 0.3757\n",
      "Epoch 2/100\n",
      "12/12 [==============================] - 0s 37ms/step - loss: 1.1053 - acc: 0.3639\n",
      "Epoch 3/100\n",
      "12/12 [==============================] - 0s 31ms/step - loss: 1.0938 - acc: 0.4110\n",
      "Epoch 4/100\n",
      "12/12 [==============================] - 0s 33ms/step - loss: 1.0994 - acc: 0.3953\n",
      "Epoch 5/100\n",
      "12/12 [==============================] - 0s 29ms/step - loss: 1.1090 - acc: 0.3744\n",
      "Epoch 6/100\n",
      "12/12 [==============================] - 0s 31ms/step - loss: 1.1032 - acc: 0.3782\n",
      "Epoch 7/100\n",
      "12/12 [==============================] - 0s 32ms/step - loss: 1.1096 - acc: 0.3756\n",
      "Epoch 8/100\n",
      "12/12 [==============================] - 0s 29ms/step - loss: 1.0985 - acc: 0.3581\n",
      "Epoch 9/100\n",
      "12/12 [==============================] - 0s 33ms/step - loss: 1.1027 - acc: 0.3718\n",
      "Epoch 10/100\n",
      "12/12 [==============================] - 0s 30ms/step - loss: 1.0964 - acc: 0.3665\n",
      "Epoch 11/100\n",
      "12/12 [==============================] - 0s 32ms/step - loss: 1.0931 - acc: 0.4253\n",
      "Epoch 12/100\n",
      "12/12 [==============================] - 0s 31ms/step - loss: 1.0974 - acc: 0.3823\n",
      "Epoch 13/100\n",
      "12/12 [==============================] - 0s 27ms/step - loss: 1.1020 - acc: 0.3507\n",
      "Epoch 14/100\n",
      "12/12 [==============================] - 0s 30ms/step - loss: 1.0913 - acc: 0.3783\n",
      "Epoch 15/100\n",
      "12/12 [==============================] - 0s 33ms/step - loss: 1.0944 - acc: 0.3966\n",
      "Epoch 16/100\n",
      "12/12 [==============================] - 0s 30ms/step - loss: 1.0984 - acc: 0.3874\n",
      "Epoch 17/100\n",
      "12/12 [==============================] - 0s 34ms/step - loss: 1.1050 - acc: 0.3607\n",
      "Epoch 18/100\n",
      "12/12 [==============================] - 0s 29ms/step - loss: 1.0988 - acc: 0.3875\n",
      "Epoch 19/100\n",
      "12/12 [==============================] - 0s 32ms/step - loss: 1.1069 - acc: 0.3539\n",
      "Epoch 20/100\n",
      "12/12 [==============================] - 0s 32ms/step - loss: 1.0991 - acc: 0.3613\n",
      "Epoch 21/100\n",
      "12/12 [==============================] - 0s 29ms/step - loss: 1.0989 - acc: 0.3586\n",
      "Epoch 22/100\n",
      "12/12 [==============================] - 0s 31ms/step - loss: 1.0904 - acc: 0.4023\n",
      "Epoch 23/100\n",
      "12/12 [==============================] - 0s 31ms/step - loss: 1.0918 - acc: 0.3835\n",
      "Epoch 24/100\n",
      "12/12 [==============================] - 0s 32ms/step - loss: 1.0941 - acc: 0.3993\n",
      "Epoch 25/100\n",
      "12/12 [==============================] - 0s 30ms/step - loss: 1.1023 - acc: 0.3909\n",
      "Epoch 26/100\n",
      "12/12 [==============================] - 0s 27ms/step - loss: 1.0999 - acc: 0.3997\n",
      "Epoch 27/100\n",
      "12/12 [==============================] - 0s 32ms/step - loss: 1.0987 - acc: 0.3782\n",
      "Epoch 28/100\n",
      "12/12 [==============================] - 0s 35ms/step - loss: 1.0880 - acc: 0.3809\n",
      "Epoch 29/100\n",
      "12/12 [==============================] - 0s 30ms/step - loss: 1.1044 - acc: 0.3678\n",
      "Epoch 30/100\n",
      "12/12 [==============================] - 0s 32ms/step - loss: 1.0879 - acc: 0.4032\n",
      "Epoch 31/100\n",
      "12/12 [==============================] - 0s 29ms/step - loss: 1.0898 - acc: 0.3901\n",
      "Epoch 32/100\n",
      "12/12 [==============================] - 0s 31ms/step - loss: 1.0813 - acc: 0.4062\n",
      "Epoch 33/100\n",
      "12/12 [==============================] - 0s 33ms/step - loss: 1.0876 - acc: 0.3921\n",
      "Epoch 34/100\n",
      "12/12 [==============================] - 0s 32ms/step - loss: 1.0869 - acc: 0.3782\n",
      "Epoch 35/100\n",
      "12/12 [==============================] - 0s 32ms/step - loss: 1.0699 - acc: 0.4297\n",
      "Epoch 36/100\n",
      "12/12 [==============================] - 0s 32ms/step - loss: 1.0599 - acc: 0.4581\n",
      "Epoch 37/100\n",
      "12/12 [==============================] - 0s 32ms/step - loss: 1.0607 - acc: 0.4464\n",
      "Epoch 38/100\n",
      "12/12 [==============================] - 0s 31ms/step - loss: 1.0612 - acc: 0.4567\n",
      "Epoch 39/100\n",
      "12/12 [==============================] - 0s 28ms/step - loss: 1.0558 - acc: 0.4450\n",
      "Epoch 40/100\n",
      "12/12 [==============================] - 0s 30ms/step - loss: 1.0432 - acc: 0.4766\n",
      "Epoch 41/100\n",
      "12/12 [==============================] - 0s 30ms/step - loss: 1.0410 - acc: 0.4790\n",
      "Epoch 42/100\n",
      "12/12 [==============================] - 0s 32ms/step - loss: 1.0195 - acc: 0.4896\n",
      "Epoch 43/100\n",
      "12/12 [==============================] - 0s 33ms/step - loss: 1.0169 - acc: 0.5461\n",
      "Epoch 44/100\n",
      "12/12 [==============================] - 0s 33ms/step - loss: 1.0061 - acc: 0.5366\n",
      "Epoch 45/100\n",
      "12/12 [==============================] - 0s 30ms/step - loss: 0.9826 - acc: 0.5969\n",
      "Epoch 46/100\n",
      "12/12 [==============================] - 0s 34ms/step - loss: 0.9579 - acc: 0.6256\n",
      "Epoch 47/100\n",
      "12/12 [==============================] - 0s 32ms/step - loss: 0.9322 - acc: 0.6224\n",
      "Epoch 48/100\n",
      "12/12 [==============================] - 0s 33ms/step - loss: 0.9007 - acc: 0.6618\n",
      "Epoch 49/100\n",
      "12/12 [==============================] - 0s 38ms/step - loss: 0.8551 - acc: 0.7122\n",
      "Epoch 50/100\n",
      "12/12 [==============================] - 0s 31ms/step - loss: 0.7994 - acc: 0.7513\n",
      "Epoch 51/100\n",
      "12/12 [==============================] - 0s 31ms/step - loss: 0.7573 - acc: 0.7697\n",
      "Epoch 52/100\n",
      "12/12 [==============================] - 0s 25ms/step - loss: 0.6886 - acc: 0.7957\n",
      "Epoch 53/100\n",
      "12/12 [==============================] - 0s 33ms/step - loss: 0.6427 - acc: 0.7944\n",
      "Epoch 54/100\n",
      "12/12 [==============================] - 0s 32ms/step - loss: 0.5903 - acc: 0.8102\n",
      "Epoch 55/100\n",
      "12/12 [==============================] - 0s 32ms/step - loss: 0.5502 - acc: 0.8285\n",
      "Epoch 56/100\n",
      "12/12 [==============================] - 0s 33ms/step - loss: 0.4736 - acc: 0.8481\n",
      "Epoch 57/100\n",
      "12/12 [==============================] - 0s 39ms/step - loss: 0.4303 - acc: 0.8607\n",
      "Epoch 58/100\n",
      "12/12 [==============================] - 0s 30ms/step - loss: 0.4412 - acc: 0.8547\n",
      "Epoch 59/100\n",
      "12/12 [==============================] - 0s 30ms/step - loss: 0.3940 - acc: 0.8546\n",
      "Epoch 60/100\n",
      "12/12 [==============================] - 0s 33ms/step - loss: 0.3540 - acc: 0.8795\n",
      "Epoch 61/100\n",
      "12/12 [==============================] - 0s 29ms/step - loss: 0.3186 - acc: 0.8848\n",
      "Epoch 62/100\n",
      "12/12 [==============================] - 0s 31ms/step - loss: 0.3872 - acc: 0.8461\n",
      "Epoch 63/100\n",
      "12/12 [==============================] - 0s 32ms/step - loss: 0.3060 - acc: 0.8919\n",
      "Epoch 64/100\n",
      "12/12 [==============================] - 0s 31ms/step - loss: 0.3167 - acc: 0.8886\n",
      "Epoch 65/100\n",
      "12/12 [==============================] - 0s 27ms/step - loss: 0.3177 - acc: 0.8808\n",
      "Epoch 66/100\n",
      "12/12 [==============================] - 0s 33ms/step - loss: 0.2686 - acc: 0.9005\n",
      "Epoch 67/100\n",
      "12/12 [==============================] - 0s 32ms/step - loss: 0.3197 - acc: 0.8821\n",
      "Epoch 68/100\n",
      "12/12 [==============================] - 0s 31ms/step - loss: 0.2998 - acc: 0.8914\n",
      "Epoch 69/100\n",
      "12/12 [==============================] - 0s 33ms/step - loss: 0.2963 - acc: 0.8809\n",
      "Epoch 70/100\n",
      "12/12 [==============================] - 0s 33ms/step - loss: 0.2881 - acc: 0.8997\n",
      "Epoch 71/100\n",
      "12/12 [==============================] - 0s 33ms/step - loss: 0.2861 - acc: 0.8874\n",
      "Epoch 72/100\n",
      "12/12 [==============================] - 0s 31ms/step - loss: 0.2857 - acc: 0.8887\n",
      "Epoch 73/100\n",
      "12/12 [==============================] - 0s 30ms/step - loss: 0.2420 - acc: 0.8978\n",
      "Epoch 74/100\n",
      "12/12 [==============================] - 0s 31ms/step - loss: 0.3094 - acc: 0.8895\n",
      "Epoch 75/100\n",
      "12/12 [==============================] - 0s 32ms/step - loss: 0.2943 - acc: 0.8867\n",
      "Epoch 76/100\n",
      "12/12 [==============================] - 0s 32ms/step - loss: 0.3187 - acc: 0.8835\n",
      "Epoch 77/100\n",
      "12/12 [==============================] - 0s 32ms/step - loss: 0.3307 - acc: 0.8757\n",
      "Epoch 78/100\n",
      "12/12 [==============================] - 0s 25ms/step - loss: 0.2863 - acc: 0.8848\n",
      "Epoch 79/100\n",
      "12/12 [==============================] - 0s 33ms/step - loss: 0.2014 - acc: 0.9254\n",
      "Epoch 80/100\n",
      "12/12 [==============================] - 0s 31ms/step - loss: 0.2367 - acc: 0.9071\n",
      "Epoch 81/100\n",
      "12/12 [==============================] - 0s 32ms/step - loss: 0.2889 - acc: 0.8940\n",
      "Epoch 82/100\n",
      "12/12 [==============================] - 0s 31ms/step - loss: 0.3195 - acc: 0.8769\n",
      "Epoch 83/100\n",
      "12/12 [==============================] - 0s 29ms/step - loss: 0.4249 - acc: 0.8586\n",
      "Epoch 84/100\n",
      "12/12 [==============================] - 0s 30ms/step - loss: 0.3279 - acc: 0.8743\n",
      "Epoch 85/100\n",
      "12/12 [==============================] - 0s 32ms/step - loss: 0.3074 - acc: 0.8854\n",
      "Epoch 86/100\n",
      "12/12 [==============================] - 0s 32ms/step - loss: 0.3210 - acc: 0.8808\n",
      "Epoch 87/100\n",
      "12/12 [==============================] - 0s 32ms/step - loss: 0.4154 - acc: 0.8612\n",
      "Epoch 88/100\n",
      "12/12 [==============================] - 0s 31ms/step - loss: 0.4375 - acc: 0.8429\n",
      "Epoch 89/100\n",
      "12/12 [==============================] - 0s 32ms/step - loss: 0.4786 - acc: 0.8259\n",
      "Epoch 90/100\n",
      "12/12 [==============================] - 0s 32ms/step - loss: 0.6838 - acc: 0.8063\n",
      "Epoch 91/100\n",
      "12/12 [==============================] - 0s 27ms/step - loss: 0.6471 - acc: 0.8141\n",
      "Epoch 92/100\n",
      "12/12 [==============================] - 0s 33ms/step - loss: 0.5741 - acc: 0.8411\n",
      "Epoch 93/100\n",
      "12/12 [==============================] - 0s 33ms/step - loss: 0.6951 - acc: 0.8092\n",
      "Epoch 94/100\n",
      "12/12 [==============================] - 0s 30ms/step - loss: 0.9104 - acc: 0.8180\n",
      "Epoch 95/100\n",
      "12/12 [==============================] - 0s 34ms/step - loss: 1.0442 - acc: 0.7670\n",
      "Epoch 96/100\n",
      "12/12 [==============================] - 0s 38ms/step - loss: 1.1549 - acc: 0.7710\n",
      "Epoch 97/100\n",
      "12/12 [==============================] - 0s 30ms/step - loss: 1.2433 - acc: 0.7735\n",
      "Epoch 98/100\n",
      "12/12 [==============================] - 0s 32ms/step - loss: 1.5234 - acc: 0.8101\n",
      "Epoch 99/100\n",
      " 3/12 [======>.......................] - ETA: 0s - loss: 2.0501 - acc: 0.7760\n",
      "\n",
      "done.\n",
      "Please invoke the Learner.lr_plot() method to visually inspect the loss plot to help identify the maximal learning rate associated with falling loss.\n"
     ]
    }
   ],
   "source": [
    "learner.lr_find(max_epochs=100)"
   ]
  },
  {
   "cell_type": "code",
   "execution_count": 7,
   "metadata": {},
   "outputs": [
    {
     "data": {
      "image/png": "[encoded data removed]",
      "text/plain": [
       "<Figure size 432x288 with 1 Axes>"
      ]
     },
     "metadata": {
      "needs_background": "light"
     },
     "output_type": "display_data"
    }
   ],
   "source": [
    "learner.lr_plot()"
   ]
  },
  {
   "cell_type": "markdown",
   "metadata": {},
   "source": [
    "### STEP 4: Train the Model\n",
    "We will train the model using `autofit`, which uses a triangular learning rate policy.  The training will automatically stop when the validation accuracy no longer improves."
   ]
  },
  {
   "cell_type": "code",
   "execution_count": 8,
   "metadata": {},
   "outputs": [
    {
     "name": "stdout",
     "output_type": "stream",
     "text": [
      "early_stopping automatically enabled at patience=5\n",
      "reduce_on_plateau automatically enabled at patience=2\n",
      "\n",
      "\n",
      "begin training using triangular learning rate policy with max lr of 0.005...\n",
      "Epoch 1/1024\n",
      "13/13 [==============================] - 6s 459ms/step - loss: 1.0654 - acc: 0.4118 - val_loss: 0.9983 - val_acc: 0.4909\n",
      "Epoch 2/1024\n",
      "13/13 [==============================] - 6s 469ms/step - loss: 0.9724 - acc: 0.5556 - val_loss: 0.8695 - val_acc: 0.6400\n",
      "Epoch 3/1024\n",
      "13/13 [==============================] - 6s 475ms/step - loss: 0.8471 - acc: 0.7029 - val_loss: 0.7337 - val_acc: 0.7494\n",
      "Epoch 4/1024\n",
      "13/13 [==============================] - 6s 481ms/step - loss: 0.7332 - acc: 0.7728 - val_loss: 0.6309 - val_acc: 0.7821\n",
      "Epoch 5/1024\n",
      "13/13 [==============================] - 6s 479ms/step - loss: 0.6164 - acc: 0.8031 - val_loss: 0.5784 - val_acc: 0.7881\n",
      "Epoch 6/1024\n",
      "13/13 [==============================] - 6s 453ms/step - loss: 0.5460 - acc: 0.8357 - val_loss: 0.5538 - val_acc: 0.7910\n",
      "Epoch 7/1024\n",
      "13/13 [==============================] - 6s 454ms/step - loss: 0.4918 - acc: 0.8514 - val_loss: 0.5218 - val_acc: 0.8072\n",
      "Epoch 8/1024\n",
      "13/13 [==============================] - 6s 450ms/step - loss: 0.4467 - acc: 0.8611 - val_loss: 0.5137 - val_acc: 0.8104\n",
      "Epoch 9/1024\n",
      "13/13 [==============================] - 6s 495ms/step - loss: 0.4202 - acc: 0.8562 - val_loss: 0.4980 - val_acc: 0.8177\n",
      "Epoch 10/1024\n",
      "13/13 [==============================] - 6s 442ms/step - loss: 0.3760 - acc: 0.8767 - val_loss: 0.4993 - val_acc: 0.8128\n",
      "Epoch 11/1024\n",
      "13/13 [==============================] - 6s 485ms/step - loss: 0.3713 - acc: 0.8719 - val_loss: 0.5051 - val_acc: 0.8162\n",
      "\n",
      "Epoch 00011: Reducing Max LR on Plateau: new max lr will be 0.0025 (if not early_stopping).\n",
      "Epoch 12/1024\n",
      "13/13 [==============================] - 6s 458ms/step - loss: 0.3358 - acc: 0.8925 - val_loss: 0.4978 - val_acc: 0.8122\n",
      "Epoch 13/1024\n",
      "13/13 [==============================] - 6s 466ms/step - loss: 0.3188 - acc: 0.9119 - val_loss: 0.5019 - val_acc: 0.8176\n",
      "\n",
      "Epoch 00013: Reducing Max LR on Plateau: new max lr will be 0.00125 (if not early_stopping).\n",
      "Epoch 14/1024\n",
      "13/13 [==============================] - 6s 454ms/step - loss: 0.3038 - acc: 0.9094 - val_loss: 0.4976 - val_acc: 0.8173\n",
      "Restoring model weights from the end of the best epoch\n",
      "Epoch 00014: early stopping\n",
      "Weights from best epoch have been loaded into model.\n"
     ]
    },
    {
     "data": {
      "text/plain": [
       "<keras.callbacks.History at 0x7f37e8ab31d0>"
      ]
     },
     "execution_count": 8,
     "metadata": {},
     "output_type": "execute_result"
    }
   ],
   "source": [
    "learner.autofit(0.005, monitor='val_acc')"
   ]
  },
  {
   "cell_type": "markdown",
   "metadata": {},
   "source": [
    "## Evaluate\n",
    "\n",
    "#### Validate"
   ]
  },
  {
   "cell_type": "code",
   "execution_count": 10,
   "metadata": {},
   "outputs": [
    {
     "name": "stdout",
     "output_type": "stream",
     "text": [
      "                                precision    recall  f1-score   support\n",
      "\n",
      "Diabetes_Mellitus-Experimental       0.77      0.82      0.80      3122\n",
      "      Diabetes_Mellitus_Type_1       0.83      0.79      0.81      5967\n",
      "      Diabetes_Mellitus_Type_2       0.84      0.85      0.84      5897\n",
      "\n",
      "                      accuracy                           0.82     14986\n",
      "                     macro avg       0.81      0.82      0.81     14986\n",
      "                  weighted avg       0.82      0.82      0.82     14986\n",
      "\n"
     ]
    },
    {
     "data": {
      "text/plain": [
       "array([[2561,  395,  166],\n",
       "       [ 449, 4703,  815],\n",
       "       [ 308,  595, 4994]])"
      ]
     },
     "execution_count": 10,
     "metadata": {},
     "output_type": "execute_result"
    }
   ],
   "source": [
    "learner.validate(class_names=preproc.get_classes())"
   ]
  },
  {
   "cell_type": "markdown",
   "metadata": {},
   "source": [
    "#### Create a Predictor Object"
   ]
  },
  {
   "cell_type": "code",
   "execution_count": 11,
   "metadata": {},
   "outputs": [],
   "source": [
    "p = ktrain.get_predictor(learner.model, preproc)"
   ]
  },
  {
   "cell_type": "markdown",
   "metadata": {},
   "source": [
    "#### Transductive Inference:  Making Predictions for Unlabeled Nodes in Original Training Graph\n",
    "In transductive inference, we make predictions for unlabeled nodes whose features are visible during training. Making predictions on validation nodes in the training graph is transductive inference.\n",
    "\n",
    "Let's see how well our prediction is for the first validation example."
   ]
  },
  {
   "cell_type": "code",
   "execution_count": 12,
   "metadata": {},
   "outputs": [
    {
     "data": {
      "text/plain": [
       "array([[0.02923679, 0.13542812, 0.8353351 ]], dtype=float32)"
      ]
     },
     "execution_count": 12,
     "metadata": {},
     "output_type": "execute_result"
    }
   ],
   "source": [
    "p.predict_transductive(val_data.ids[0:1], return_proba=True)"
   ]
  },
  {
   "cell_type": "code",
   "execution_count": 13,
   "metadata": {},
   "outputs": [
    {
     "data": {
      "text/plain": [
       "array([0., 0., 1.])"
      ]
     },
     "execution_count": 13,
     "metadata": {},
     "output_type": "execute_result"
    }
   ],
   "source": [
    "val_data[0][1][0]"
   ]
  },
  {
   "cell_type": "markdown",
   "metadata": {},
   "source": [
    "Let's make predictions for all validation nodes and visually compare some of them with ground truth."
   ]
  },
  {
   "cell_type": "code",
   "execution_count": 14,
   "metadata": {},
   "outputs": [],
   "source": [
    "y_pred = p.predict_transductive(val_data.ids, return_proba=False)"
   ]
  },
  {
   "cell_type": "code",
   "execution_count": 15,
   "metadata": {},
   "outputs": [],
   "source": [
    "y_true = preproc.df[preproc.df.index.isin(val_data.ids)]['target'].values"
   ]
  },
  {
   "cell_type": "code",
   "execution_count": 16,
   "metadata": {},
   "outputs": [
    {
     "data": {
      "text/html": [
       "<div>\n",
       "<style scoped>\n",
       "    .dataframe tbody tr th:only-of-type {\n",
       "        vertical-align: middle;\n",
       "    }\n",
       "\n",
       "    .dataframe tbody tr th {\n",
       "        vertical-align: top;\n",
       "    }\n",
       "\n",
       "    .dataframe thead th {\n",
       "        text-align: right;\n",
       "    }\n",
       "</style>\n",
       "<table border=\"1\" class=\"dataframe\">\n",
       "  <thead>\n",
       "    <tr style=\"text-align: right;\">\n",
       "      <th></th>\n",
       "      <th>Ground Truth</th>\n",
       "      <th>Predicted</th>\n",
       "    </tr>\n",
       "  </thead>\n",
       "  <tbody>\n",
       "    <tr>\n",
       "      <th>0</th>\n",
       "      <td>Diabetes_Mellitus_Type_2</td>\n",
       "      <td>Diabetes_Mellitus_Type_2</td>\n",
       "    </tr>\n",
       "    <tr>\n",
       "      <th>1</th>\n",
       "      <td>Diabetes_Mellitus_Type_1</td>\n",
       "      <td>Diabetes_Mellitus_Type_1</td>\n",
       "    </tr>\n",
       "    <tr>\n",
       "      <th>2</th>\n",
       "      <td>Diabetes_Mellitus_Type_2</td>\n",
       "      <td>Diabetes_Mellitus_Type_2</td>\n",
       "    </tr>\n",
       "    <tr>\n",
       "      <th>3</th>\n",
       "      <td>Diabetes_Mellitus_Type_2</td>\n",
       "      <td>Diabetes_Mellitus_Type_2</td>\n",
       "    </tr>\n",
       "    <tr>\n",
       "      <th>4</th>\n",
       "      <td>Diabetes_Mellitus-Experimental</td>\n",
       "      <td>Diabetes_Mellitus-Experimental</td>\n",
       "    </tr>\n",
       "  </tbody>\n",
       "</table>\n",
       "</div>"
      ],
      "text/plain": [
       "                     Ground Truth                       Predicted\n",
       "0        Diabetes_Mellitus_Type_2        Diabetes_Mellitus_Type_2\n",
       "1        Diabetes_Mellitus_Type_1        Diabetes_Mellitus_Type_1\n",
       "2        Diabetes_Mellitus_Type_2        Diabetes_Mellitus_Type_2\n",
       "3        Diabetes_Mellitus_Type_2        Diabetes_Mellitus_Type_2\n",
       "4  Diabetes_Mellitus-Experimental  Diabetes_Mellitus-Experimental"
      ]
     },
     "execution_count": 16,
     "metadata": {},
     "output_type": "execute_result"
    }
   ],
   "source": [
    "import pandas as pd\n",
    "pd.DataFrame(zip(y_true, y_pred), columns=['Ground Truth', 'Predicted']).head()"
   ]
  },
  {
   "cell_type": "markdown",
   "metadata": {},
   "source": [
    "#### Inductive Inference:  Making Predictions for New Nodes Not in the Original Training Graph\n",
    "In inductive inference, we make predictions for entirely new nodes that were not present in the traning graph.  The features or attributes of these nodes were **not** visible during training.  We consider a graph where the heldout nodes are added back into the training graph, which yields the original graph of 19,7171 nodes. This graph, `G_complete` was returned as the last return value of `graph_nodes_from_csv`."
   ]
  },
  {
   "cell_type": "code",
   "execution_count": 17,
   "metadata": {},
   "outputs": [],
   "source": [
    "y_pred = p.predict_inductive(df_holdout, G_complete, return_proba=False)"
   ]
  },
  {
   "cell_type": "code",
   "execution_count": 18,
   "metadata": {},
   "outputs": [],
   "source": [
    "y_true = df_holdout['target'].values"
   ]
  },
  {
   "cell_type": "code",
   "execution_count": 20,
   "metadata": {},
   "outputs": [
    {
     "data": {
      "text/plain": [
       "0.8260207963479584"
      ]
     },
     "execution_count": 20,
     "metadata": {},
     "output_type": "execute_result"
    }
   ],
   "source": [
    "import numpy as np\n",
    "(y_true == np.array(y_pred)).mean()"
   ]
  },
  {
   "cell_type": "markdown",
   "metadata": {},
   "source": [
    "With an **82.26%** accuracy, we see that inductive performance is quite good and comparable to transductive performance."
   ]
  },
  {
   "cell_type": "code",
   "execution_count": null,
   "metadata": {},
   "outputs": [],
   "source": []
  }
 ],
 "metadata": {
  "kernelspec": {
   "display_name": "Python 3",
   "language": "python",
   "name": "python3"
  },
  "language_info": {
   "codemirror_mode": {
    "name": "ipython",
    "version": 3
   },
   "file_extension": ".py",
   "mimetype": "text/x-python",
   "name": "python",
   "nbconvert_exporter": "python",
   "pygments_lexer": "ipython3",
   "version": "3.6.8"
  }
 },
 "nbformat": 4,
 "nbformat_minor": 2
}
