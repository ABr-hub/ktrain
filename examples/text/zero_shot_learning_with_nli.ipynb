{
 "cells": [
  {
   "cell_type": "code",
   "execution_count": 1,
   "metadata": {},
   "outputs": [],
   "source": [
    "%reload_ext autoreload\n",
    "%autoreload 2\n",
    "%matplotlib inline\n",
    "import os\n",
    "os.environ[\"CUDA_DEVICE_ORDER\"]=\"PCI_BUS_ID\";\n",
    "os.environ[\"CUDA_VISIBLE_DEVICES\"]=\"0\" "
   ]
  },
  {
   "cell_type": "markdown",
   "metadata": {},
   "source": [
    "# Zero Shot Learning Using Natural Language Inference\n",
    "\n",
    "In this notebook, we will demonstrate **zero-shot** topic classification.  **Zero-Shot Learning (ZSL)** is being able to solve a task despite not having received any training examples of that task.  The `ZeroShotClassifier` class in *ktrain* can be used to perform topic classification with no training examples.  The technique is based on **Natural Language Inference (or NLI)** as described in [this interesting blog post](https://joeddav.github.io/blog/2020/05/29/ZSL.html) by Joe Davison.\n",
    "\n",
    "## STEP 1: Setup the Zero Shot Classifier and Describe Topics\n",
    "\n",
    "We first instantiate the zero-shot-classifier and then describe the topic labels for our classifier with strings."
   ]
  },
  {
   "cell_type": "code",
   "execution_count": 2,
   "metadata": {},
   "outputs": [],
   "source": [
    "from ktrain import text "
   ]
  },
  {
   "cell_type": "code",
   "execution_count": 3,
   "metadata": {},
   "outputs": [],
   "source": [
    "zsl = text.ZeroShotClassifier()\n",
    "topic_strings=['politics', 'elections', 'sports', 'films', 'television']"
   ]
  },
  {
   "cell_type": "markdown",
   "metadata": {},
   "source": [
    "## STEP 2: Predict\n",
    "\n",
    "There is no training involved here, as we are using **zero-shot-learning**.  We will simply supply the document that is being classified and the `topic_strings` defined earlier. The `predict` method uses Natural Language Inference (NLI) to infer the topic probabilities."
   ]
  },
  {
   "cell_type": "code",
   "execution_count": 4,
   "metadata": {},
   "outputs": [
    {
     "data": {
      "text/plain": [
       "[('politics', 0.9829113483428955),\n",
       " ('elections', 0.9880988001823425),\n",
       " ('sports', 0.00030677582253701985),\n",
       " ('films', 0.0008969294722191989),\n",
       " ('television', 0.00045271270209923387)]"
      ]
     },
     "execution_count": 4,
     "metadata": {},
     "output_type": "execute_result"
    }
   ],
   "source": [
    "doc = 'I am extremely dissatisfied with the President and will definitely vote in 2020.'\n",
    "zsl.predict(doc, topic_strings=topic_strings, include_labels=True)"
   ]
  },
  {
   "cell_type": "markdown",
   "metadata": {},
   "source": [
    "As you can see, our model correctly assigned the highest probabilities to `politics` and `elections`, as the text supplied pertains to both these topics.\n",
    "\n",
    "Let's try some other examples.\n",
    "#### document about `television`"
   ]
  },
  {
   "cell_type": "code",
   "execution_count": 5,
   "metadata": {},
   "outputs": [
    {
     "data": {
      "text/plain": [
       "[('politics', 0.0001159722960437648),\n",
       " ('elections', 0.00015142698248382658),\n",
       " ('sports', 0.00011554622324183583),\n",
       " ('films', 0.035863082855939865),\n",
       " ('television', 0.9755581617355347)]"
      ]
     },
     "execution_count": 5,
     "metadata": {},
     "output_type": "execute_result"
    }
   ],
   "source": [
    "doc = 'What is your favorite sitcom of all time?'\n",
    "zsl.predict(doc, topic_strings=topic_strings, include_labels=True)"
   ]
  },
  {
   "cell_type": "markdown",
   "metadata": {},
   "source": [
    "#### document about both `politics` and `television`"
   ]
  },
  {
   "cell_type": "code",
   "execution_count": 6,
   "metadata": {},
   "outputs": [
    {
     "data": {
      "text/plain": [
       "[('politics', 0.8382046818733215),\n",
       " ('elections', 0.009549508802592754),\n",
       " ('sports', 0.003681211732327938),\n",
       " ('films', 0.045103102922439575),\n",
       " ('television', 0.9293773174285889)]"
      ]
     },
     "execution_count": 6,
     "metadata": {},
     "output_type": "execute_result"
    }
   ],
   "source": [
    "doc = \"\"\"\n",
    "President Donald Trump's senior adviser and son-in-law, Jared Kushner, praised \n",
    "the administration's response to the coronavirus pandemic as a \\\"great success story\\\" on Wednesday -- \n",
    "less than a day after the number of confirmed coronavirus cases in the United States topped 1 million. \n",
    "Kushner painted a rosy picture for \\\"Fox and Friends\\\" Wednesday morning, \n",
    "saying that \\\"the federal government rose to the challenge and \n",
    "this is a great success story and I think that that's really what needs to be told.\\\"\n",
    "\"\"\"\n",
    "zsl.predict(doc, topic_strings=topic_strings, include_labels=True)"
   ]
  },
  {
   "cell_type": "markdown",
   "metadata": {},
   "source": [
    "#### document about `sports`, `television`, and `film`"
   ]
  },
  {
   "cell_type": "code",
   "execution_count": 7,
   "metadata": {},
   "outputs": [
    {
     "data": {
      "text/plain": [
       "[('politics', 0.0003102553600911051),\n",
       " ('elections', 0.00048395441262982786),\n",
       " ('sports', 0.9848700761795044),\n",
       " ('films', 0.9717175364494324),\n",
       " ('television', 0.9505334496498108)]"
      ]
     },
     "execution_count": 7,
     "metadata": {},
     "output_type": "execute_result"
    }
   ],
   "source": [
    "doc = \"The Last Dance is a 2020 American basketball documentary miniseries co-produced by ESPN Films and Netflix.\"\n",
    "zsl.predict(doc, topic_strings=topic_strings, include_labels=True)"
   ]
  },
  {
   "cell_type": "code",
   "execution_count": null,
   "metadata": {},
   "outputs": [],
   "source": []
  }
 ],
 "metadata": {
  "kernelspec": {
   "display_name": "Python 3",
   "language": "python",
   "name": "python3"
  },
  "language_info": {
   "codemirror_mode": {
    "name": "ipython",
    "version": 3
   },
   "file_extension": ".py",
   "mimetype": "text/x-python",
   "name": "python",
   "nbconvert_exporter": "python",
   "pygments_lexer": "ipython3",
   "version": "3.6.9"
  }
 },
 "nbformat": 4,
 "nbformat_minor": 2
}
