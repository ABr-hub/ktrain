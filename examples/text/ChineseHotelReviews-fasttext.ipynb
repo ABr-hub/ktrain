{
 "cells": [
  {
   "cell_type": "code",
   "execution_count": 1,
   "metadata": {},
   "outputs": [],
   "source": [
    "%reload_ext autoreload\n",
    "%autoreload 2\n",
    "%matplotlib inline\n",
    "import os\n",
    "os.environ[\"CUDA_DEVICE_ORDER\"]=\"PCI_BUS_ID\";\n",
    "os.environ[\"CUDA_VISIBLE_DEVICES\"]=\"0\"; "
   ]
  },
  {
   "cell_type": "code",
   "execution_count": 2,
   "metadata": {},
   "outputs": [
    {
     "name": "stderr",
     "output_type": "stream",
     "text": [
      "Using TensorFlow backend.\n"
     ]
    },
    {
     "name": "stdout",
     "output_type": "stream",
     "text": [
      "using Keras version: 2.2.4\n"
     ]
    }
   ],
   "source": [
    "import ktrain\n",
    "from ktrain import text"
   ]
  },
  {
   "cell_type": "markdown",
   "metadata": {},
   "source": [
    "# Building a Chinese-Language Sentiment Analyzer\n",
    "\n",
    "In this notebook, we will build a Chinese-language text classification model in 4 simple steps. More specifically, we will build a model that classifies Chinese hotel reviews as either positive or negative.\n",
    "\n",
    "The dataset can be downloaded from Chengwei Zhang's GitHub repository [here](https://github.com/Tony607/Chinese_sentiment_analysis/tree/master/data/ChnSentiCorp_htl_ba_6000).\n",
    "\n",
    "(**Disclaimer:** I don't speak Chinese. Please forgive mistakes.)  "
   ]
  },
  {
   "cell_type": "markdown",
   "metadata": {},
   "source": [
    "## STEP 1:  Load and Preprocess the Data\n",
    "\n",
    "First, we use the `texts_from_folder` function to load and preprocess the data.  We assume that the data is in the following form:\n",
    "```\n",
    "    ├── datadir\n",
    "    │   ├── train\n",
    "    │   │   ├── class0       # folder containing documents of class 0\n",
    "    │   │   ├── class1       # folder containing documents of class 1\n",
    "    │   │   ├── class2       # folder containing documents of class 2\n",
    "    │   │   └── classN       # folder containing documents of class N\n",
    "```\n",
    "We set `val_pct` as 0.1, which will automatically sample 10% of the data for validation.  Since we will be using a pretrained BERT model for classification, we specifiy `preprocess_mode='bert'`.  If you are using any other model (e.g., `fasttext`), you should either omit this parameter or use `preprocess_mode='standard'`).\n",
    "\n",
    "**Notice that there is nothing speical or extra we need to do here for non-English text.**  *ktrain* automatically detects the language and character encoding and prepares the data and configures the model appropriately.\n",
    "\n"
   ]
  },
  {
   "cell_type": "code",
   "execution_count": 3,
   "metadata": {},
   "outputs": [
    {
     "name": "stdout",
     "output_type": "stream",
     "text": [
      "detected encoding: GB18030\n",
      "Decoding with GB18030 failed 1st attempt - using GB18030 with skips\n",
      "skipped 112 lines (0.3%) due to character decoding errors\n",
      "skipped 6 lines (0.2%) due to character decoding errors\n"
     ]
    },
    {
     "name": "stderr",
     "output_type": "stream",
     "text": [
      "Building prefix dict from the default dictionary ...\n",
      "WARNING: Logging before flag parsing goes to stderr.\n",
      "I0930 12:27:49.133197 140175850424128 __init__.py:111] Building prefix dict from the default dictionary ...\n",
      "Loading model from cache /tmp/jieba.cache\n",
      "I0930 12:27:49.135240 140175850424128 __init__.py:131] Loading model from cache /tmp/jieba.cache\n",
      "Loading model cost 0.650 seconds.\n"
     ]
    },
    {
     "name": "stdout",
     "output_type": "stream",
     "text": [
      "language: zh-cn\n"
     ]
    },
    {
     "name": "stderr",
     "output_type": "stream",
     "text": [
      "I0930 12:27:49.785069 140175850424128 __init__.py:163] Loading model cost 0.650 seconds.\n",
      "Prefix dict has been built succesfully.\n",
      "I0930 12:27:49.787230 140175850424128 __init__.py:164] Prefix dict has been built succesfully.\n"
     ]
    },
    {
     "name": "stdout",
     "output_type": "stream",
     "text": [
      "Word Counts: 22193\n",
      "Nrows: 5324\n",
      "5324 train sequences\n",
      "Average train sequence length: 81\n",
      "x_train shape: (5324,75)\n",
      "y_train shape: (5324,2)\n",
      "592 test sequences\n",
      "Average test sequence length: 84\n",
      "x_test shape: (592,75)\n",
      "y_test shape: (592,2)\n"
     ]
    }
   ],
   "source": [
    "(x_train, y_train), (x_test, y_test), preproc = text.texts_from_folder('data/ChnSentiCorp_htl_ba_6000', \n",
    "                                                                       maxlen=75, \n",
    "                                                                       max_features=30000,\n",
    "                                                                       preprocess_mode='standard',\n",
    "                                                                       train_test_names=['train'],\n",
    "                                                                       val_pct=0.1,\n",
    "                                                                       classes=['pos', 'neg'])"
   ]
  },
  {
   "cell_type": "markdown",
   "metadata": {},
   "source": [
    "## STEP 2:  Create a Model and Wrap in Learner Object"
   ]
  },
  {
   "cell_type": "code",
   "execution_count": 4,
   "metadata": {},
   "outputs": [
    {
     "name": "stdout",
     "output_type": "stream",
     "text": [
      "Is Multi-Label? False\n",
      "compiling word ID features...\n",
      "maxlen is 75\n",
      "done.\n"
     ]
    }
   ],
   "source": [
    "model = text.text_classifier('fasttext', (x_train, y_train) , preproc=preproc)\n",
    "learner = ktrain.get_learner(model, \n",
    "                             train_data=(x_train, y_train), \n",
    "                             val_data=(x_test, y_test), \n",
    "                             batch_size=32)"
   ]
  },
  {
   "cell_type": "markdown",
   "metadata": {},
   "source": [
    "## STEP 3: Estimate the LR\n",
    "We'll use the *ktrain* learning rate finder to find a good learning rate to use with *fasttext*.\n"
   ]
  },
  {
   "cell_type": "code",
   "execution_count": 5,
   "metadata": {},
   "outputs": [
    {
     "name": "stdout",
     "output_type": "stream",
     "text": [
      "simulating training for different learning rates... this may take a few moments...\n",
      "Epoch 1/1024\n",
      "5324/5324 [==============================] - 2s 455us/step - loss: 1.0073 - acc: 0.4981\n",
      "Epoch 2/1024\n",
      "5324/5324 [==============================] - 2s 312us/step - loss: 1.0082 - acc: 0.5004\n",
      "Epoch 3/1024\n",
      "5324/5324 [==============================] - 2s 312us/step - loss: 1.0107 - acc: 0.4970\n",
      "Epoch 4/1024\n",
      "5324/5324 [==============================] - 2s 303us/step - loss: 1.0079 - acc: 0.4880\n",
      "Epoch 5/1024\n",
      "5324/5324 [==============================] - 2s 321us/step - loss: 0.8720 - acc: 0.5441\n",
      "Epoch 6/1024\n",
      "5324/5324 [==============================] - 2s 303us/step - loss: 0.6938 - acc: 0.6349\n",
      "Epoch 7/1024\n",
      "5324/5324 [==============================] - 2s 311us/step - loss: 0.5119 - acc: 0.7601\n",
      "Epoch 8/1024\n",
      "5324/5324 [==============================] - 2s 306us/step - loss: 0.4868 - acc: 0.7842\n",
      "Epoch 9/1024\n",
      "5324/5324 [==============================] - 2s 308us/step - loss: 0.6517 - acc: 0.6206\n",
      "Epoch 10/1024\n",
      "5324/5324 [==============================] - 2s 310us/step - loss: 0.7281 - acc: 0.5092\n",
      "Epoch 11/1024\n",
      "5324/5324 [==============================] - 2s 305us/step - loss: 0.8049 - acc: 0.5064\n",
      "Epoch 12/1024\n",
      " 416/5324 [=>............................] - ETA: 1s - loss: 1.6911 - acc: 0.4447\n",
      "\n",
      "done.\n"
     ]
    },
    {
     "data": {
      "image/png": "[encoded data removed]",
      "text/plain": [
       "<Figure size 432x288 with 1 Axes>"
      ]
     },
     "metadata": {
      "needs_background": "light"
     },
     "output_type": "display_data"
    }
   ],
   "source": [
    "learner.lr_find(show_plot=True)"
   ]
  },
  {
   "cell_type": "markdown",
   "metadata": {},
   "source": [
    "## STEP 3: Train the Model\n",
    "\n",
    "We will use the `autofit` method that employs a triangular learning rate policy for 10 epochs (i.e., roughly 20 seconds) and then select the weights from the epoch with the best validation performance."
   ]
  },
  {
   "cell_type": "code",
   "execution_count": 5,
   "metadata": {},
   "outputs": [
    {
     "name": "stdout",
     "output_type": "stream",
     "text": [
      "\n",
      "\n",
      "begin training using triangular learning rate policy with max lr of 0.005...\n",
      "Train on 5324 samples, validate on 592 samples\n",
      "Epoch 1/10\n",
      "5324/5324 [==============================] - 2s 469us/step - loss: 0.7082 - acc: 0.6245 - val_loss: 0.4294 - val_acc: 0.8176\n",
      "Epoch 2/10\n",
      "5324/5324 [==============================] - 2s 351us/step - loss: 0.4680 - acc: 0.7840 - val_loss: 0.3725 - val_acc: 0.8497\n",
      "Epoch 3/10\n",
      "5324/5324 [==============================] - 2s 360us/step - loss: 0.3695 - acc: 0.8411 - val_loss: 0.3284 - val_acc: 0.8632\n",
      "Epoch 4/10\n",
      "5324/5324 [==============================] - 2s 352us/step - loss: 0.3063 - acc: 0.8715 - val_loss: 0.3000 - val_acc: 0.8885\n",
      "Epoch 5/10\n",
      "5324/5324 [==============================] - 2s 362us/step - loss: 0.2699 - acc: 0.8929 - val_loss: 0.2750 - val_acc: 0.9003\n",
      "Epoch 6/10\n",
      "5324/5324 [==============================] - 2s 353us/step - loss: 0.2214 - acc: 0.9113 - val_loss: 0.2885 - val_acc: 0.9054\n",
      "Epoch 7/10\n",
      "5324/5324 [==============================] - 2s 360us/step - loss: 0.2025 - acc: 0.9239 - val_loss: 0.2690 - val_acc: 0.8970\n",
      "Epoch 8/10\n",
      "5324/5324 [==============================] - 2s 358us/step - loss: 0.1871 - acc: 0.9243 - val_loss: 0.2670 - val_acc: 0.8970\n",
      "Epoch 9/10\n",
      "5324/5324 [==============================] - 2s 354us/step - loss: 0.1711 - acc: 0.9348 - val_loss: 0.2482 - val_acc: 0.9054\n",
      "Epoch 10/10\n",
      "5324/5324 [==============================] - 2s 343us/step - loss: 0.1453 - acc: 0.9446 - val_loss: 0.2758 - val_acc: 0.8986\n"
     ]
    },
    {
     "data": {
      "text/plain": [
       "<keras.callbacks.History at 0x7f7c64d16710>"
      ]
     },
     "execution_count": 5,
     "metadata": {},
     "output_type": "execute_result"
    }
   ],
   "source": [
    "learner.autofit(5e-3, 10, checkpoint_folder='/tmp/saved_weights')"
   ]
  },
  {
   "cell_type": "markdown",
   "metadata": {},
   "source": [
    "Looks like Epoch # 9 is the best (`val_acc=90.54%`).  Let's select that one."
   ]
  },
  {
   "cell_type": "code",
   "execution_count": 6,
   "metadata": {},
   "outputs": [],
   "source": [
    "learner.model.load_weights('/tmp/saved_weights/weights-09.hdf5')"
   ]
  },
  {
   "cell_type": "code",
   "execution_count": 7,
   "metadata": {},
   "outputs": [
    {
     "name": "stdout",
     "output_type": "stream",
     "text": [
      "              precision    recall  f1-score   support\n",
      "\n",
      "         neg       0.90      0.92      0.91       304\n",
      "         pos       0.91      0.89      0.90       288\n",
      "\n",
      "    accuracy                           0.91       592\n",
      "   macro avg       0.91      0.91      0.91       592\n",
      "weighted avg       0.91      0.91      0.91       592\n",
      "\n"
     ]
    },
    {
     "data": {
      "text/plain": [
       "array([[279,  25],\n",
       "       [ 31, 257]])"
      ]
     },
     "execution_count": 7,
     "metadata": {},
     "output_type": "execute_result"
    }
   ],
   "source": [
    "learner.validate(class_names=preproc.get_classes())"
   ]
  },
  {
   "cell_type": "markdown",
   "metadata": {},
   "source": [
    "### Inspecting the Misclassifications"
   ]
  },
  {
   "cell_type": "code",
   "execution_count": 8,
   "metadata": {},
   "outputs": [
    {
     "name": "stdout",
     "output_type": "stream",
     "text": [
      "----------\n",
      "id:40 | loss:6.52 | true:pos | pred:neg)\n",
      "\n",
      "这里 的 早餐 是 我 看到 的 最差 的 一个 基本上 没什么 吃 的 就 看到 服务员 在 不 听 的 加 白粥 下次 在 来 我 是 不会 住 在 这里 的\n"
     ]
    }
   ],
   "source": [
    "learner.view_top_losses(n=1, preproc=preproc)"
   ]
  },
  {
   "cell_type": "markdown",
   "metadata": {},
   "source": [
    "Using Google Translate, the above roughly translates to:\n",
    "```\n",
    "The breakfast here is the worst one I have ever seen. Basically, I have nothing to eat. I can see that the waiter is not listening to the white porridge. I will not live here next time.\n",
    "```\n",
    "\n",
    "Mistranslations aside, this is clearly a negative review.  It is incorrectly labeled as positive."
   ]
  },
  {
   "cell_type": "markdown",
   "metadata": {},
   "source": [
    "### Making Predictions on New Data"
   ]
  },
  {
   "cell_type": "code",
   "execution_count": 9,
   "metadata": {},
   "outputs": [],
   "source": [
    "p = ktrain.get_predictor(learner.model, preproc)"
   ]
  },
  {
   "cell_type": "markdown",
   "metadata": {},
   "source": [
    "Predicting label for the text\n",
    "> \"*I despise the service of this hotel.*\""
   ]
  },
  {
   "cell_type": "code",
   "execution_count": 10,
   "metadata": {},
   "outputs": [
    {
     "data": {
      "text/plain": [
       "'neg'"
      ]
     },
     "execution_count": 10,
     "metadata": {},
     "output_type": "execute_result"
    }
   ],
   "source": [
    "p.predict(\"我鄙视这家酒店的服务。\")"
   ]
  },
  {
   "cell_type": "markdown",
   "metadata": {},
   "source": [
    "Predicting label for:\n",
    "> \"*I like the service of this hotel.*\""
   ]
  },
  {
   "cell_type": "code",
   "execution_count": 11,
   "metadata": {},
   "outputs": [
    {
     "data": {
      "text/plain": [
       "'pos'"
      ]
     },
     "execution_count": 11,
     "metadata": {},
     "output_type": "execute_result"
    }
   ],
   "source": [
    "p.predict('我喜欢这家酒店的服务')"
   ]
  },
  {
   "cell_type": "code",
   "execution_count": null,
   "metadata": {},
   "outputs": [],
   "source": []
  }
 ],
 "metadata": {
  "kernelspec": {
   "display_name": "Python 3",
   "language": "python",
   "name": "python3"
  },
  "language_info": {
   "codemirror_mode": {
    "name": "ipython",
    "version": 3
   },
   "file_extension": ".py",
   "mimetype": "text/x-python",
   "name": "python",
   "nbconvert_exporter": "python",
   "pygments_lexer": "ipython3",
   "version": "3.6.8"
  }
 },
 "nbformat": 4,
 "nbformat_minor": 2
}
